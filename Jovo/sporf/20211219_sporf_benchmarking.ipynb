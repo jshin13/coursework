{
 "cells": [
  {
   "cell_type": "markdown",
   "metadata": {},
   "source": [
    "# Benchmarking classification time-complexity of SPORF on sklearn `bench_tree.py`\n",
    "\n",
    "The purpose of the notebook is to benchmark time-complexity of S-RerF on one of the sklearn benchmarking scripts"
   ]
  },
  {
   "cell_type": "markdown",
   "metadata": {},
   "source": [
    "## Environment\n",
    "- Python 3.8\n",
    "- [Oblique_forests 0.1dev](https://github.com/NeuroDataDesign/manifold_random_forests.git)"
   ]
  },
  {
   "cell_type": "markdown",
   "metadata": {},
   "source": [
    "## Import packages"
   ]
  },
  {
   "cell_type": "code",
   "execution_count": 1,
   "metadata": {},
   "outputs": [],
   "source": [
    "from oblique_forests.sporf import ObliqueForestClassifier\n",
    "import pickle\n",
    "from datetime import datetime\n",
    "import os\n",
    "\n",
    "import numpy as np\n",
    "import matplotlib.pyplot as plt\n",
    "import gc\n",
    "from datetime import datetime\n",
    "\n",
    "# to store the results\n",
    "scikit_classifier_results = []\n",
    "\n",
    "mu_second = 0.0 + 10 ** 6  # number of microseconds in a second"
   ]
  },
  {
   "cell_type": "code",
   "execution_count": 2,
   "metadata": {},
   "outputs": [
    {
     "data": {
      "text/plain": [
       "'2021-12-19'"
      ]
     },
     "execution_count": 2,
     "metadata": {},
     "output_type": "execute_result"
    }
   ],
   "source": [
    "today = str(datetime.now().date())\n",
    "today"
   ]
  },
  {
   "cell_type": "markdown",
   "metadata": {},
   "source": [
    "## SPORF initializaiton"
   ]
  },
  {
   "cell_type": "code",
   "execution_count": 3,
   "metadata": {},
   "outputs": [],
   "source": [
    "clf_sporf = ObliqueForestClassifier()"
   ]
  },
  {
   "cell_type": "markdown",
   "metadata": {},
   "source": [
    "## Tree Benchmarking for classification adapted from sklearn `main` and modified for sporf benchmarking"
   ]
  },
  {
   "cell_type": "code",
   "execution_count": 4,
   "metadata": {},
   "outputs": [],
   "source": [
    "def bench_scikit_tree_classifier(X, Y, clf=None):\n",
    "    \"\"\"Benchmark with scikit-learn decision tree classifier\"\"\"\n",
    "\n",
    "    if not clf:\n",
    "        from sklearn.ensemble import RandomForestClassifier\n",
    "        clf = RandomForestClassifier()\n",
    "\n",
    "    gc.collect()\n",
    "\n",
    "    # start time\n",
    "    tstart = datetime.now()\n",
    "    clf.fit(X, Y).predict(X)\n",
    "    delta = datetime.now() - tstart\n",
    "    # stop time\n",
    "\n",
    "    scikit_classifier_results.append(delta.seconds + delta.microseconds / mu_second)"
   ]
  },
  {
   "cell_type": "markdown",
   "metadata": {},
   "source": [
    "### Parameterization is in reference to sklearn issue [#20819](https://github.com/scikit-learn/scikit-learn/issues/20819)"
   ]
  },
  {
   "cell_type": "code",
   "execution_count": 5,
   "metadata": {},
   "outputs": [],
   "source": [
    "def run_test(n=20, step=5000, clf=bench_scikit_tree_classifier, filename=None, train=True):\n",
    "    global scikit_classifier_results\n",
    "\n",
    "    if not train:\n",
    "        try:\n",
    "            with open(filename, 'rb') as handle:\n",
    "                scikit_classifier_results = pickle.load(handle)\n",
    "                print(f'[{filename}] loaded')\n",
    "        except Exception as e:\n",
    "            print(e)\n",
    "\n",
    "        return \n",
    "    \n",
    "    scikit_classifier_results = []\n",
    "\n",
    "    n_samples = 0\n",
    "    dim = 10\n",
    "    n_classes = 10\n",
    "    for i in range(n):\n",
    "        if i == n-1:\n",
    "            print(\"============================================\")\n",
    "            print(\"Entering iteration %s of %s\" % (i, n))\n",
    "            print(\"============================================\")\n",
    "        n_samples += step\n",
    "        X = np.random.randn(n_samples, dim)\n",
    "        Y = np.random.randint(0, n_classes, (n_samples,))\n",
    "        bench_scikit_tree_classifier(X, Y)\n",
    "        Y = np.random.randn(n_samples)\n",
    "\n",
    "    xx = range(0, n * step, step)\n",
    "    \n",
    "    if filename:\n",
    "        with open(filename, 'wb') as handle:\n",
    "            pickle.dump(scikit_classifier_results, handle, protocol=pickle.HIGHEST_PROTOCOL)\n",
    "\n",
    "    return scikit_classifier_results\n"
   ]
  },
  {
   "cell_type": "markdown",
   "metadata": {},
   "source": [
    "## Run sklearn tree benchmark"
   ]
  },
  {
   "cell_type": "markdown",
   "metadata": {},
   "source": [
    "#### benchmarking setting"
   ]
  },
  {
   "cell_type": "code",
   "execution_count": 6,
   "metadata": {},
   "outputs": [],
   "source": [
    "n = 20 # number of experiments with sample size increment of `step`\n",
    "step = 5000 #step size\n",
    "saveDir = 'dat' #pickle save directory\n",
    "np.random.RandomState(12345) #random state\n",
    "train = True #training switch\n",
    "\n",
    "if not os.path.isdir(saveDir):\n",
    "    os.mkdir(saveDir)"
   ]
  },
  {
   "cell_type": "markdown",
   "metadata": {},
   "source": [
    "#### benchmark for RF"
   ]
  },
  {
   "cell_type": "code",
   "execution_count": 7,
   "metadata": {},
   "outputs": [
    {
     "name": "stdout",
     "output_type": "stream",
     "text": [
      "============================================\n",
      "Entering iteration 19 of 20\n",
      "============================================\n"
     ]
    }
   ],
   "source": [
    "rf_result = run_test(n=n, filename=f'{saveDir}/{today}_tree_benchmark_RF_source.pickle', train=train)"
   ]
  },
  {
   "cell_type": "markdown",
   "metadata": {},
   "source": [
    "#### benchmark for S-RerF"
   ]
  },
  {
   "cell_type": "code",
   "execution_count": 8,
   "metadata": {},
   "outputs": [
    {
     "name": "stdout",
     "output_type": "stream",
     "text": [
      "============================================\n",
      "Entering iteration 19 of 20\n",
      "============================================\n"
     ]
    }
   ],
   "source": [
    "sporf_result = run_test(n=n, clf=clf_sporf, filename=f'{saveDir}/{today}_tree_benchmark_SPORF_source.pickle', train=train)"
   ]
  },
  {
   "cell_type": "markdown",
   "metadata": {},
   "source": [
    "## Generate Figure"
   ]
  },
  {
   "cell_type": "code",
   "execution_count": 9,
   "metadata": {},
   "outputs": [
    {
     "data": {
      "text/plain": [
       "Text(0.5, 1.0, 'Runtime Performance')"
      ]
     },
     "execution_count": 9,
     "metadata": {},
     "output_type": "execute_result"
    },
    {
     "data": {
      "image/png": "[encoded data removed]",
      "text/plain": [
       "<Figure size 1440x360 with 1 Axes>"
      ]
     },
     "metadata": {
      "needs_background": "light"
     },
     "output_type": "display_data"
    }
   ],
   "source": [
    "fig, ax = plt.subplots(1,1, figsize=(20,5))\n",
    "\n",
    "xx = np.arange(0,n*step, step)\n",
    "ax.plot(xx, rf_result, label='RF')\n",
    "ax.plot(xx, sporf_result, label='SPORF')\n",
    "\n",
    "ax.set_xlabel('Number of Samples', fontsize=18)\n",
    "ax.set_ylabel('Runtime for Training (secs)', fontsize=18)\n",
    "ax.set_xlim([0,n*step+1])\n",
    "ax.legend(fontsize='20')\n",
    "ax.set_title('Runtime Performance', fontsize=18)"
   ]
  },
  {
   "cell_type": "code",
   "execution_count": 10,
   "metadata": {},
   "outputs": [],
   "source": [
    "#save figure\n",
    "fig.savefig(f'{today}_runtime_performance_source_base.jpg', bbox_inches='tight')"
   ]
  }
 ],
 "metadata": {
  "interpreter": {
   "hash": "916dbcbb3f70747c44a77c7bcd40155683ae19c65e1c03b4aa3499c5328201f1"
  },
  "kernelspec": {
   "display_name": "Python 3.8.10 64-bit",
   "language": "python",
   "name": "python3"
  },
  "language_info": {
   "codemirror_mode": {
    "name": "ipython",
    "version": 3
   },
   "file_extension": ".py",
   "mimetype": "text/x-python",
   "name": "python",
   "nbconvert_exporter": "python",
   "pygments_lexer": "ipython3",
   "version": "3.8.10"
  },
  "orig_nbformat": 4
 },
 "nbformat": 4,
 "nbformat_minor": 2
}
