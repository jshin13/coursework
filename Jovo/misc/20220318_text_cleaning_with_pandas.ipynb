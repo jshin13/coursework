{
 "cells": [
  {
   "cell_type": "markdown",
   "metadata": {},
   "source": [
    "## Text cleaning with pandas\n",
    "The goal was to split author's names from our recent [publication](https://arxiv.org/abs/2201.07372) stored in a long multiline string into a clean form"
   ]
  },
  {
   "cell_type": "code",
   "execution_count": 1,
   "metadata": {},
   "outputs": [],
   "source": [
    "import string\n",
    "import pandas as pd\n",
    "import re"
   ]
  },
  {
   "cell_type": "markdown",
   "metadata": {},
   "source": [
    "seems to be semicolons are the separator. Also, each name should follow last name first followed up a comma format. Lastly, the number from the superscript needs to be removed."
   ]
  },
  {
   "cell_type": "code",
   "execution_count": 2,
   "metadata": {},
   "outputs": [],
   "source": [
    "char = '''Joshua T. Vogelstein1YB; Timothy Verstynen3YB; Konrad P. Kording2YB;\n",
    "Leyla Isik1Y; John W. Krakauer1; Ralph Etienne-Cummings1; Elizabeth L. Ogburn1; Carey E. Priebe1;\n",
    "Randal Burns1; Kwame Kutten1; James J. Knierim1; James B. Potash1; Thomas Hartung1; Lena\n",
    "Smirnova1; Alena Savonenko1; Ian Phillips1; Michael I. Miller1; Rene Vidal1; Jeremias Sulam1; Adam\n",
    "Charles1; Noah J. Cowan1; Maxim Bichuch1; Archana Venkataraman1; Chen Li1; Nitish Thakor1;\n",
    "Justus M Kebschull1; Marilyn Albert1; Jinchong Xu1; Marshall Hussain Shuler1; Brian Caffo1; Tilak\n",
    "Ratnanather1; Ali Geisa1; Seung-Eon Roh1; Eva Yezerets1; Meghana Madhyastha1; Javier J. How1;\n",
    "Tyler M. Tomita1; Jayanta Dey1; Ningyuan (Teresa) Huang1; Ashwin De Silva1; Jong M. Shin1; Kaleab\n",
    "Alemayehu Kinfu1; Soledad Villar1; Pratik Chaudhari2; Ben Baker2; Anna C. Schapiro2; Dinesh Jayaraman2;\n",
    "Eric Eaton2; Michael Platt2; Lyle Ungar2; Leila Wehbe3; Michael J. Tarr3; Adam Kepecs4; Amy Christensen4;\n",
    "Onyema Osuagwu5; Bing Brunton6; Brett Mensh7; Alysson R. Muotri8; Gabriel Silva8; Francesca\n",
    "Puppo8; Florian Engert9; Elizabeth Hillman10; Julia Brown11; Chris White12; Weiwei Yang12; Andrei \n",
    "A. Rusu13'''"
   ]
  },
  {
   "cell_type": "code",
   "execution_count": 3,
   "metadata": {},
   "outputs": [
    {
     "data": {
      "text/plain": [
       "'Joshua T. Vogelstein1YB'"
      ]
     },
     "execution_count": 3,
     "metadata": {},
     "output_type": "execute_result"
    }
   ],
   "source": [
    "tmp = char.replace('\\n', '').split(';')\n",
    "tmp[0].rfind('[0-9]')\n",
    "tmp[0]"
   ]
  },
  {
   "cell_type": "code",
   "execution_count": 4,
   "metadata": {},
   "outputs": [
    {
     "data": {
      "text/plain": [
       "['Joshua T. Vogelstein1YB',\n",
       " ' Timothy Verstynen3YB',\n",
       " ' Konrad P. Kording2YB',\n",
       " 'Leyla Isik1Y',\n",
       " ' John W. Krakauer1',\n",
       " ' Ralph Etienne-Cummings1',\n",
       " ' Elizabeth L. Ogburn1',\n",
       " ' Carey E. Priebe1',\n",
       " 'Randal Burns1',\n",
       " ' Kwame Kutten1',\n",
       " ' James J. Knierim1',\n",
       " ' James B. Potash1',\n",
       " ' Thomas Hartung1',\n",
       " ' LenaSmirnova1',\n",
       " ' Alena Savonenko1',\n",
       " ' Ian Phillips1',\n",
       " ' Michael I. Miller1',\n",
       " ' Rene Vidal1',\n",
       " ' Jeremias Sulam1',\n",
       " ' AdamCharles1',\n",
       " ' Noah J. Cowan1',\n",
       " ' Maxim Bichuch1',\n",
       " ' Archana Venkataraman1',\n",
       " ' Chen Li1',\n",
       " ' Nitish Thakor1',\n",
       " 'Justus M Kebschull1',\n",
       " ' Marilyn Albert1',\n",
       " ' Jinchong Xu1',\n",
       " ' Marshall Hussain Shuler1',\n",
       " ' Brian Caffo1',\n",
       " ' TilakRatnanather1',\n",
       " ' Ali Geisa1',\n",
       " ' Seung-Eon Roh1',\n",
       " ' Eva Yezerets1',\n",
       " ' Meghana Madhyastha1',\n",
       " ' Javier J. How1',\n",
       " 'Tyler M. Tomita1',\n",
       " ' Jayanta Dey1',\n",
       " ' Ningyuan (Teresa) Huang1',\n",
       " ' Ashwin De Silva1',\n",
       " ' Jong M. Shin1',\n",
       " ' KaleabAlemayehu Kinfu1',\n",
       " ' Soledad Villar1',\n",
       " ' Pratik Chaudhari2',\n",
       " ' Ben Baker2',\n",
       " ' Anna C. Schapiro2',\n",
       " ' Dinesh Jayaraman2',\n",
       " 'Eric Eaton2',\n",
       " ' Michael Platt2',\n",
       " ' Lyle Ungar2',\n",
       " ' Leila Wehbe3',\n",
       " ' Michael J. Tarr3',\n",
       " ' Adam Kepecs4',\n",
       " ' Amy Christensen4',\n",
       " 'Onyema Osuagwu5',\n",
       " ' Bing Brunton6',\n",
       " ' Brett Mensh7',\n",
       " ' Alysson R. Muotri8',\n",
       " ' Gabriel Silva8',\n",
       " ' FrancescaPuppo8',\n",
       " ' Florian Engert9',\n",
       " ' Elizabeth Hillman10',\n",
       " ' Julia Brown11',\n",
       " ' Chris White12',\n",
       " ' Weiwei Yang12',\n",
       " ' Andrei A. Rusu13']"
      ]
     },
     "execution_count": 4,
     "metadata": {},
     "output_type": "execute_result"
    }
   ],
   "source": [
    "tmp"
   ]
  },
  {
   "cell_type": "code",
   "execution_count": 5,
   "metadata": {},
   "outputs": [],
   "source": [
    "df = pd.DataFrame(tmp)"
   ]
  },
  {
   "cell_type": "code",
   "execution_count": 6,
   "metadata": {},
   "outputs": [],
   "source": [
    "def remove_int_beyond(xx):\n",
    "    out = []\n",
    "    for x in xx:\n",
    "        s = re.search('\\d', x).start()\n",
    "        out.append(x[:s].strip())\n",
    "    return out"
   ]
  },
  {
   "cell_type": "code",
   "execution_count": 7,
   "metadata": {},
   "outputs": [
    {
     "data": {
      "text/html": [
       "<div>\n",
       "<style scoped>\n",
       "    .dataframe tbody tr th:only-of-type {\n",
       "        vertical-align: middle;\n",
       "    }\n",
       "\n",
       "    .dataframe tbody tr th {\n",
       "        vertical-align: top;\n",
       "    }\n",
       "\n",
       "    .dataframe thead th {\n",
       "        text-align: right;\n",
       "    }\n",
       "</style>\n",
       "<table border=\"1\" class=\"dataframe\">\n",
       "  <thead>\n",
       "    <tr style=\"text-align: right;\">\n",
       "      <th></th>\n",
       "      <th>0</th>\n",
       "    </tr>\n",
       "  </thead>\n",
       "  <tbody>\n",
       "    <tr>\n",
       "      <th>0</th>\n",
       "      <td>Joshua T. Vogelstein</td>\n",
       "    </tr>\n",
       "    <tr>\n",
       "      <th>1</th>\n",
       "      <td>Timothy Verstynen</td>\n",
       "    </tr>\n",
       "    <tr>\n",
       "      <th>2</th>\n",
       "      <td>Konrad P. Kording</td>\n",
       "    </tr>\n",
       "    <tr>\n",
       "      <th>3</th>\n",
       "      <td>Leyla Isik</td>\n",
       "    </tr>\n",
       "    <tr>\n",
       "      <th>4</th>\n",
       "      <td>John W. Krakauer</td>\n",
       "    </tr>\n",
       "    <tr>\n",
       "      <th>...</th>\n",
       "      <td>...</td>\n",
       "    </tr>\n",
       "    <tr>\n",
       "      <th>61</th>\n",
       "      <td>Elizabeth Hillman</td>\n",
       "    </tr>\n",
       "    <tr>\n",
       "      <th>62</th>\n",
       "      <td>Julia Brown</td>\n",
       "    </tr>\n",
       "    <tr>\n",
       "      <th>63</th>\n",
       "      <td>Chris White</td>\n",
       "    </tr>\n",
       "    <tr>\n",
       "      <th>64</th>\n",
       "      <td>Weiwei Yang</td>\n",
       "    </tr>\n",
       "    <tr>\n",
       "      <th>65</th>\n",
       "      <td>Andrei A. Rusu</td>\n",
       "    </tr>\n",
       "  </tbody>\n",
       "</table>\n",
       "<p>66 rows × 1 columns</p>\n",
       "</div>"
      ],
      "text/plain": [
       "                       0\n",
       "0   Joshua T. Vogelstein\n",
       "1      Timothy Verstynen\n",
       "2      Konrad P. Kording\n",
       "3             Leyla Isik\n",
       "4       John W. Krakauer\n",
       "..                   ...\n",
       "61     Elizabeth Hillman\n",
       "62           Julia Brown\n",
       "63           Chris White\n",
       "64           Weiwei Yang\n",
       "65        Andrei A. Rusu\n",
       "\n",
       "[66 rows x 1 columns]"
      ]
     },
     "execution_count": 7,
     "metadata": {},
     "output_type": "execute_result"
    }
   ],
   "source": [
    "df = df.apply(lambda x: remove_int_beyond(x),axis=0)\n",
    "df"
   ]
  },
  {
   "cell_type": "code",
   "execution_count": 8,
   "metadata": {},
   "outputs": [
    {
     "data": {
      "text/html": [
       "<div>\n",
       "<style scoped>\n",
       "    .dataframe tbody tr th:only-of-type {\n",
       "        vertical-align: middle;\n",
       "    }\n",
       "\n",
       "    .dataframe tbody tr th {\n",
       "        vertical-align: top;\n",
       "    }\n",
       "\n",
       "    .dataframe thead th {\n",
       "        text-align: right;\n",
       "    }\n",
       "</style>\n",
       "<table border=\"1\" class=\"dataframe\">\n",
       "  <thead>\n",
       "    <tr style=\"text-align: right;\">\n",
       "      <th></th>\n",
       "      <th>0</th>\n",
       "      <th>1</th>\n",
       "      <th>2</th>\n",
       "    </tr>\n",
       "  </thead>\n",
       "  <tbody>\n",
       "    <tr>\n",
       "      <th>0</th>\n",
       "      <td>A:</td>\n",
       "      <td>Timothy Verstynen</td>\n",
       "      <td>Carnegie Mellon University</td>\n",
       "    </tr>\n",
       "    <tr>\n",
       "      <th>1</th>\n",
       "      <td>A:</td>\n",
       "      <td>Konrad P. Kording</td>\n",
       "      <td>University of Pennsylvania</td>\n",
       "    </tr>\n",
       "    <tr>\n",
       "      <th>2</th>\n",
       "      <td>A:</td>\n",
       "      <td>Leyla Isik</td>\n",
       "      <td>Johns Hopkins University</td>\n",
       "    </tr>\n",
       "    <tr>\n",
       "      <th>3</th>\n",
       "      <td>A:</td>\n",
       "      <td>John W. Krakauer</td>\n",
       "      <td>Johns Hopkins University</td>\n",
       "    </tr>\n",
       "    <tr>\n",
       "      <th>4</th>\n",
       "      <td>A:</td>\n",
       "      <td>Ralph Etienne-Cummings</td>\n",
       "      <td>Johns Hopkins University</td>\n",
       "    </tr>\n",
       "    <tr>\n",
       "      <th>...</th>\n",
       "      <td>...</td>\n",
       "      <td>...</td>\n",
       "      <td>...</td>\n",
       "    </tr>\n",
       "    <tr>\n",
       "      <th>57</th>\n",
       "      <td>A:</td>\n",
       "      <td>Florian Engert</td>\n",
       "      <td>Harvard University</td>\n",
       "    </tr>\n",
       "    <tr>\n",
       "      <th>58</th>\n",
       "      <td>A:</td>\n",
       "      <td>Elizabeth Hillman</td>\n",
       "      <td>Columbia University</td>\n",
       "    </tr>\n",
       "    <tr>\n",
       "      <th>59</th>\n",
       "      <td>A:</td>\n",
       "      <td>Julia Brown</td>\n",
       "      <td>MindX</td>\n",
       "    </tr>\n",
       "    <tr>\n",
       "      <th>60</th>\n",
       "      <td>A:</td>\n",
       "      <td>Chris White</td>\n",
       "      <td>Microsoft Research</td>\n",
       "    </tr>\n",
       "    <tr>\n",
       "      <th>61</th>\n",
       "      <td>A:</td>\n",
       "      <td>Weiwei Yang</td>\n",
       "      <td>Microsoft Research</td>\n",
       "    </tr>\n",
       "  </tbody>\n",
       "</table>\n",
       "<p>62 rows × 3 columns</p>\n",
       "</div>"
      ],
      "text/plain": [
       "     0                       1                           2\n",
       "0   A:       Timothy Verstynen  Carnegie Mellon University\n",
       "1   A:       Konrad P. Kording  University of Pennsylvania\n",
       "2   A:              Leyla Isik    Johns Hopkins University\n",
       "3   A:        John W. Krakauer    Johns Hopkins University\n",
       "4   A:  Ralph Etienne-Cummings    Johns Hopkins University\n",
       "..  ..                     ...                         ...\n",
       "57  A:          Florian Engert          Harvard University\n",
       "58  A:       Elizabeth Hillman         Columbia University\n",
       "59  A:             Julia Brown                       MindX\n",
       "60  A:             Chris White          Microsoft Research\n",
       "61  A:             Weiwei Yang          Microsoft Research\n",
       "\n",
       "[62 rows x 3 columns]"
      ]
     },
     "execution_count": 8,
     "metadata": {},
     "output_type": "execute_result"
    }
   ],
   "source": [
    "df_app = pd.read_excel('authors/author-list-append.xlsx', header=None)\n",
    "df_app"
   ]
  },
  {
   "cell_type": "code",
   "execution_count": 9,
   "metadata": {},
   "outputs": [
    {
     "data": {
      "text/html": [
       "<div>\n",
       "<style scoped>\n",
       "    .dataframe tbody tr th:only-of-type {\n",
       "        vertical-align: middle;\n",
       "    }\n",
       "\n",
       "    .dataframe tbody tr th {\n",
       "        vertical-align: top;\n",
       "    }\n",
       "\n",
       "    .dataframe thead th {\n",
       "        text-align: right;\n",
       "    }\n",
       "</style>\n",
       "<table border=\"1\" class=\"dataframe\">\n",
       "  <thead>\n",
       "    <tr style=\"text-align: right;\">\n",
       "      <th></th>\n",
       "      <th>0</th>\n",
       "      <th>1</th>\n",
       "      <th>2</th>\n",
       "    </tr>\n",
       "  </thead>\n",
       "  <tbody>\n",
       "    <tr>\n",
       "      <th>0</th>\n",
       "      <td>A:</td>\n",
       "      <td>Arroyo-Relión, Jesús</td>\n",
       "      <td>Johns Hopkins University</td>\n",
       "    </tr>\n",
       "    <tr>\n",
       "      <th>1</th>\n",
       "      <td>A:</td>\n",
       "      <td>Aguerrebere, Cecilia</td>\n",
       "      <td>Duke</td>\n",
       "    </tr>\n",
       "    <tr>\n",
       "      <th>2</th>\n",
       "      <td>A:</td>\n",
       "      <td>Allen, Peter J</td>\n",
       "      <td>Memorial Sloan-Kettering Cancer Center</td>\n",
       "    </tr>\n",
       "    <tr>\n",
       "      <th>3</th>\n",
       "      <td>A:</td>\n",
       "      <td>Athreya, Avanti</td>\n",
       "      <td>Johns Hopkins University</td>\n",
       "    </tr>\n",
       "    <tr>\n",
       "      <th>4</th>\n",
       "      <td>A:</td>\n",
       "      <td>Badea, Alexandra</td>\n",
       "      <td>Duke</td>\n",
       "    </tr>\n",
       "    <tr>\n",
       "      <th>...</th>\n",
       "      <td>...</td>\n",
       "      <td>...</td>\n",
       "      <td>...</td>\n",
       "    </tr>\n",
       "    <tr>\n",
       "      <th>239</th>\n",
       "      <td>C:</td>\n",
       "      <td>Vogelstein, Bert</td>\n",
       "      <td>Johns Hopkins University</td>\n",
       "    </tr>\n",
       "    <tr>\n",
       "      <th>240</th>\n",
       "      <td>C:</td>\n",
       "      <td>Vogelstein, R. Jacob</td>\n",
       "      <td>Camden Partners Nexus</td>\n",
       "    </tr>\n",
       "    <tr>\n",
       "      <th>241</th>\n",
       "      <td>C:</td>\n",
       "      <td>Yuste, Rafael</td>\n",
       "      <td>Columbia University</td>\n",
       "    </tr>\n",
       "    <tr>\n",
       "      <th>242</th>\n",
       "      <td>C:</td>\n",
       "      <td>Zheng, Da</td>\n",
       "      <td>Amazon.com</td>\n",
       "    </tr>\n",
       "    <tr>\n",
       "      <th>243</th>\n",
       "      <td>C:</td>\n",
       "      <td>Zlatic, Marta</td>\n",
       "      <td>Janelia</td>\n",
       "    </tr>\n",
       "  </tbody>\n",
       "</table>\n",
       "<p>244 rows × 3 columns</p>\n",
       "</div>"
      ],
      "text/plain": [
       "      0                     1                                       2\n",
       "0    A:  Arroyo-Relión, Jesús                Johns Hopkins University\n",
       "1    A:  Aguerrebere, Cecilia                                    Duke\n",
       "2    A:        Allen, Peter J  Memorial Sloan-Kettering Cancer Center\n",
       "3    A:       Athreya, Avanti                Johns Hopkins University\n",
       "4    A:      Badea, Alexandra                                    Duke\n",
       "..   ..                   ...                                     ...\n",
       "239  C:      Vogelstein, Bert                Johns Hopkins University\n",
       "240  C:  Vogelstein, R. Jacob                   Camden Partners Nexus\n",
       "241  C:         Yuste, Rafael                     Columbia University\n",
       "242  C:             Zheng, Da                              Amazon.com\n",
       "243  C:         Zlatic, Marta                                 Janelia\n",
       "\n",
       "[244 rows x 3 columns]"
      ]
     },
     "execution_count": 9,
     "metadata": {},
     "output_type": "execute_result"
    }
   ],
   "source": [
    "df_org = pd.read_excel('authors/author-list-original.xlsx', header=None)\n",
    "df_org"
   ]
  },
  {
   "cell_type": "code",
   "execution_count": 14,
   "metadata": {},
   "outputs": [],
   "source": [
    "#complete collaborator list for annual faculty review\n",
    "pd.DataFrame(df_org[1] + ' - ' + df_org[2]).to_excel('collaborator-list.xlsx')"
   ]
  },
  {
   "cell_type": "code",
   "execution_count": 21,
   "metadata": {},
   "outputs": [
    {
     "data": {
      "text/plain": [
       "144        Vogelstein, Bert\n",
       "145    Vogelstein, R. Jacob\n",
       "239        Vogelstein, Bert\n",
       "240    Vogelstein, R. Jacob\n",
       "Name: 1, dtype: object"
      ]
     },
     "execution_count": 21,
     "metadata": {},
     "output_type": "execute_result"
    }
   ],
   "source": [
    "df_org[1][df_org[1].str.contains('Vogelstein')]"
   ]
  },
  {
   "cell_type": "code",
   "execution_count": 22,
   "metadata": {},
   "outputs": [],
   "source": [
    "def swap(x):\n",
    "    x[0], x[len(x)-1] = x[len(x)-1], x[0]\n",
    "    return x\n",
    "\n",
    "def reformat_name(x):\n",
    "    if len(x) == 3:\n",
    "        out = f\"{x[0]}, {x[2]} {x[1].replace('.', '')}\"\n",
    "    elif len(x) == 2:\n",
    "        out = f'{x[0]}, {x[1]}'\n",
    "    else:\n",
    "        out = 'ERROR'\n",
    "\n",
    "    return out\n",
    "\n",
    "def check_name(x, y):\n",
    "    x1 = x.split()\n",
    "    y1 = y.split()\n",
    "    \n",
    "    if x1[0] == y1[0] and x1[1] == y1[1]:\n",
    "        if len(x) >= len(y):\n",
    "            return x\n",
    "        else:\n",
    "            return y\n",
    "\n",
    "def vectorize_without_middle_name(x):\n",
    "    x1 = x.split()\n",
    "    if len(x1) >= 3:\n",
    "        return x1[:2]\n",
    "    elif len(x1) == 2:\n",
    "        return x1\n",
    "    else:\n",
    "        print(f'ERROR: {x1}')\n",
    "        return 'ERROR'"
   ]
  },
  {
   "cell_type": "code",
   "execution_count": 23,
   "metadata": {},
   "outputs": [],
   "source": [
    "df_app[1] = df_app[1].apply(lambda x: x.split()).apply(lambda x: swap(x))"
   ]
  },
  {
   "cell_type": "code",
   "execution_count": 24,
   "metadata": {},
   "outputs": [],
   "source": [
    "df_app[1] = df_app[1].apply(lambda x: reformat_name(x))"
   ]
  },
  {
   "cell_type": "code",
   "execution_count": 25,
   "metadata": {},
   "outputs": [],
   "source": [
    "df_out = pd.concat([df_org, df_app]).sort_values(0).drop_duplicates().reset_index(drop=True)"
   ]
  },
  {
   "cell_type": "code",
   "execution_count": 26,
   "metadata": {},
   "outputs": [
    {
     "name": "stdout",
     "output_type": "stream",
     "text": [
      "ERROR: ['Faloutsos,Christos']\n"
     ]
    },
    {
     "data": {
      "text/plain": [
       "0      [Arroyo-Relión,, Jesús]\n",
       "1             [Wang,, Tian-Li]\n",
       "2              [Wang,, Yuxuan]\n",
       "3              [White,, Chris]\n",
       "4         [Weinberg,, Richard]\n",
       "                ...           \n",
       "297         [Patsolic,, Jesse]\n",
       "298            [Packer,, Adam]\n",
       "299          [Ryman,, Sephira]\n",
       "300       [Mishchenko,, Yuriy]\n",
       "301          [Paninski,, Liam]\n",
       "Name: 1, Length: 302, dtype: object"
      ]
     },
     "execution_count": 26,
     "metadata": {},
     "output_type": "execute_result"
    }
   ],
   "source": [
    "df_vect = df_out[1].apply(lambda x: vectorize_without_middle_name(x))\n",
    "df_vect"
   ]
  },
  {
   "cell_type": "code",
   "execution_count": 27,
   "metadata": {},
   "outputs": [],
   "source": [
    "df_out[0] = df_out[0].str.upper()"
   ]
  },
  {
   "cell_type": "code",
   "execution_count": 28,
   "metadata": {},
   "outputs": [],
   "source": [
    "df_out.sort_values([0, 1]).to_excel('authors/author-list-final-final.xlsx')"
   ]
  },
  {
   "cell_type": "code",
   "execution_count": 29,
   "metadata": {},
   "outputs": [],
   "source": [
    "auth_idx = []\n",
    "for idx, auth in enumerate(df_app[0]):\n",
    "    if auth not in df_org[0]:\n",
    "        auth_idx.append(idx)"
   ]
  },
  {
   "cell_type": "code",
   "execution_count": 30,
   "metadata": {},
   "outputs": [
    {
     "data": {
      "text/html": [
       "<div>\n",
       "<style scoped>\n",
       "    .dataframe tbody tr th:only-of-type {\n",
       "        vertical-align: middle;\n",
       "    }\n",
       "\n",
       "    .dataframe tbody tr th {\n",
       "        vertical-align: top;\n",
       "    }\n",
       "\n",
       "    .dataframe thead th {\n",
       "        text-align: right;\n",
       "    }\n",
       "</style>\n",
       "<table border=\"1\" class=\"dataframe\">\n",
       "  <thead>\n",
       "    <tr style=\"text-align: right;\">\n",
       "      <th></th>\n",
       "      <th>0</th>\n",
       "      <th>1</th>\n",
       "      <th>2</th>\n",
       "    </tr>\n",
       "  </thead>\n",
       "  <tbody>\n",
       "    <tr>\n",
       "      <th>0</th>\n",
       "      <td>A:</td>\n",
       "      <td>Verstynen, Timothy</td>\n",
       "      <td>Carnegie Mellon University</td>\n",
       "    </tr>\n",
       "    <tr>\n",
       "      <th>1</th>\n",
       "      <td>A:</td>\n",
       "      <td>Kording, Konrad P</td>\n",
       "      <td>University of Pennsylvania</td>\n",
       "    </tr>\n",
       "    <tr>\n",
       "      <th>2</th>\n",
       "      <td>A:</td>\n",
       "      <td>Isik, Leyla</td>\n",
       "      <td>Johns Hopkins University</td>\n",
       "    </tr>\n",
       "    <tr>\n",
       "      <th>3</th>\n",
       "      <td>A:</td>\n",
       "      <td>Krakauer, John W</td>\n",
       "      <td>Johns Hopkins University</td>\n",
       "    </tr>\n",
       "    <tr>\n",
       "      <th>4</th>\n",
       "      <td>A:</td>\n",
       "      <td>Etienne-Cummings, Ralph</td>\n",
       "      <td>Johns Hopkins University</td>\n",
       "    </tr>\n",
       "    <tr>\n",
       "      <th>...</th>\n",
       "      <td>...</td>\n",
       "      <td>...</td>\n",
       "      <td>...</td>\n",
       "    </tr>\n",
       "    <tr>\n",
       "      <th>57</th>\n",
       "      <td>A:</td>\n",
       "      <td>Engert, Florian</td>\n",
       "      <td>Harvard University</td>\n",
       "    </tr>\n",
       "    <tr>\n",
       "      <th>58</th>\n",
       "      <td>A:</td>\n",
       "      <td>Hillman, Elizabeth</td>\n",
       "      <td>Columbia University</td>\n",
       "    </tr>\n",
       "    <tr>\n",
       "      <th>59</th>\n",
       "      <td>A:</td>\n",
       "      <td>Brown, Julia</td>\n",
       "      <td>MindX</td>\n",
       "    </tr>\n",
       "    <tr>\n",
       "      <th>60</th>\n",
       "      <td>A:</td>\n",
       "      <td>White, Chris</td>\n",
       "      <td>Microsoft Research</td>\n",
       "    </tr>\n",
       "    <tr>\n",
       "      <th>61</th>\n",
       "      <td>A:</td>\n",
       "      <td>Yang, Weiwei</td>\n",
       "      <td>Microsoft Research</td>\n",
       "    </tr>\n",
       "  </tbody>\n",
       "</table>\n",
       "<p>62 rows × 3 columns</p>\n",
       "</div>"
      ],
      "text/plain": [
       "     0                        1                           2\n",
       "0   A:       Verstynen, Timothy  Carnegie Mellon University\n",
       "1   A:        Kording, Konrad P  University of Pennsylvania\n",
       "2   A:              Isik, Leyla    Johns Hopkins University\n",
       "3   A:         Krakauer, John W    Johns Hopkins University\n",
       "4   A:  Etienne-Cummings, Ralph    Johns Hopkins University\n",
       "..  ..                      ...                         ...\n",
       "57  A:          Engert, Florian          Harvard University\n",
       "58  A:       Hillman, Elizabeth         Columbia University\n",
       "59  A:             Brown, Julia                       MindX\n",
       "60  A:             White, Chris          Microsoft Research\n",
       "61  A:             Yang, Weiwei          Microsoft Research\n",
       "\n",
       "[62 rows x 3 columns]"
      ]
     },
     "execution_count": 30,
     "metadata": {},
     "output_type": "execute_result"
    }
   ],
   "source": [
    "df_app.loc[auth_idx]"
   ]
  },
  {
   "cell_type": "code",
   "execution_count": null,
   "metadata": {},
   "outputs": [],
   "source": []
  }
 ],
 "metadata": {
  "kernelspec": {
   "display_name": "Python 3.8.13 ('main')",
   "language": "python",
   "name": "python3"
  },
  "language_info": {
   "codemirror_mode": {
    "name": "ipython",
    "version": 3
   },
   "file_extension": ".py",
   "mimetype": "text/x-python",
   "name": "python",
   "nbconvert_exporter": "python",
   "pygments_lexer": "ipython3",
   "version": "3.8.13"
  },
  "orig_nbformat": 4,
  "vscode": {
   "interpreter": {
    "hash": "5b3e9ff110fca189b640152dbca1582818d88c9c2a9ef25df7a407523fb4d550"
   }
  }
 },
 "nbformat": 4,
 "nbformat_minor": 2
}
