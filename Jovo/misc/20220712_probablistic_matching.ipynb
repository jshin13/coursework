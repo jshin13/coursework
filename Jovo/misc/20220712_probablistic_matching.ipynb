{
 "cells": [
  {
   "cell_type": "markdown",
   "metadata": {},
   "source": [
    "# Matching two list of author's name for publication\n",
    "One list of author's name with email needs to be updated with current list of authors on our recent publication. The list needs to be cleaned and linked."
   ]
  },
  {
   "cell_type": "code",
   "execution_count": 2,
   "metadata": {},
   "outputs": [],
   "source": [
    "import pandas as pd\n",
    "import re\n",
    "\n",
    "censor = False"
   ]
  },
  {
   "cell_type": "markdown",
   "metadata": {},
   "source": [
    "#### Get current list of authors in a pandas dataframe"
   ]
  },
  {
   "cell_type": "code",
   "execution_count": 31,
   "metadata": {},
   "outputs": [],
   "source": [
    "char = '''Joshua T. Vogelstein1YB; Timothy Verstynen3YB; Konrad P. Kording2YB;\n",
    "Leyla Isik1Y; John W. Krakauer1; Ralph Etienne-Cummings1; Elizabeth L. Ogburn1; Carey E. Priebe1;\n",
    "Randal Burns1; Kwame Kutten1; James J. Knierim1; James B. Potash1; Thomas Hartung1; Lena\n",
    "Smirnova1; Alena Savonenko1; Ian Phillips1; Michael I. Miller1; Rene Vidal1; Jeremias Sulam1; Adam\n",
    "Charles1; Noah J. Cowan1; Maxim Bichuch1; Archana Venkataraman1; Chen Li1; Nitish Thakor1;\n",
    "Justus M Kebschull1; Marilyn Albert1; Jinchong Xu1; Marshall Hussain Shuler1; Brian Caffo1; Tilak\n",
    "Ratnanather1; Ali Geisa1; Seung-Eon Roh1; Eva Yezerets1; Meghana Madhyastha1; Javier J. How1;\n",
    "Tyler M. Tomita1; Jayanta Dey1; Ningyuan (Teresa) Huang1; Ashwin De Silva1; Jong M. Shin1; Kaleab\n",
    "Alemayehu Kinfu1; Soledad Villar1; Erik Peterson3 Pratik Chaudhari2; Ben Baker2; Anna C. Schapiro2;\n",
    "Dinesh Jayaraman2; Eric Eaton2; Michael Platt2; Lyle Ungar2; Leila Wehbe3; Michael J. Tarr3; Adam\n",
    "Kepecs4; Amy Christensen4; Jessica Cantlon3; Onyema Osuagwu5; Bing Brunton6; Brett Mensh7;\n",
    "Alysson R. Muotri8; Gabriel Silva8; Francesca Puppo8; Florian Engert9; Elizabeth Hillman10; Julia\n",
    "Brown11; Chris White12; Weiwei Yang12; Andrei A. Rusu13'''"
   ]
  },
  {
   "cell_type": "code",
   "execution_count": 32,
   "metadata": {},
   "outputs": [
    {
     "data": {
      "text/plain": [
       "'Joshua T. Vogelstein1YB'"
      ]
     },
     "execution_count": 32,
     "metadata": {},
     "output_type": "execute_result"
    }
   ],
   "source": [
    "tmp = char.replace('\\n', '').split(';')\n",
    "tmp[0].rfind('[0-9]')\n",
    "tmp[0]"
   ]
  },
  {
   "cell_type": "code",
   "execution_count": 33,
   "metadata": {},
   "outputs": [],
   "source": [
    "df = pd.DataFrame(tmp, columns=['Name'])"
   ]
  },
  {
   "cell_type": "code",
   "execution_count": 35,
   "metadata": {},
   "outputs": [
    {
     "data": {
      "text/plain": [
       "(67, 1)"
      ]
     },
     "execution_count": 35,
     "metadata": {},
     "output_type": "execute_result"
    }
   ],
   "source": [
    "df.shape"
   ]
  },
  {
   "cell_type": "code",
   "execution_count": 11,
   "metadata": {},
   "outputs": [],
   "source": [
    "def remove_int_beyond(xx):\n",
    "    out = []\n",
    "    for x in xx:\n",
    "        s = re.search('\\d', x).start()\n",
    "        out.append(x[:s].strip())\n",
    "    return out"
   ]
  },
  {
   "cell_type": "code",
   "execution_count": 12,
   "metadata": {},
   "outputs": [
    {
     "data": {
      "text/html": [
       "<div>\n",
       "<style scoped>\n",
       "    .dataframe tbody tr th:only-of-type {\n",
       "        vertical-align: middle;\n",
       "    }\n",
       "\n",
       "    .dataframe tbody tr th {\n",
       "        vertical-align: top;\n",
       "    }\n",
       "\n",
       "    .dataframe thead th {\n",
       "        text-align: right;\n",
       "    }\n",
       "</style>\n",
       "<table border=\"1\" class=\"dataframe\">\n",
       "  <thead>\n",
       "    <tr style=\"text-align: right;\">\n",
       "      <th></th>\n",
       "      <th>Name</th>\n",
       "    </tr>\n",
       "  </thead>\n",
       "  <tbody>\n",
       "    <tr>\n",
       "      <th>0</th>\n",
       "      <td>Joshua T. Vogelstein</td>\n",
       "    </tr>\n",
       "    <tr>\n",
       "      <th>1</th>\n",
       "      <td>Timothy Verstynen</td>\n",
       "    </tr>\n",
       "    <tr>\n",
       "      <th>2</th>\n",
       "      <td>Konrad P. Kording</td>\n",
       "    </tr>\n",
       "    <tr>\n",
       "      <th>3</th>\n",
       "      <td>Leyla Isik</td>\n",
       "    </tr>\n",
       "    <tr>\n",
       "      <th>4</th>\n",
       "      <td>John W. Krakauer</td>\n",
       "    </tr>\n",
       "    <tr>\n",
       "      <th>...</th>\n",
       "      <td>...</td>\n",
       "    </tr>\n",
       "    <tr>\n",
       "      <th>62</th>\n",
       "      <td>Elizabeth Hillman</td>\n",
       "    </tr>\n",
       "    <tr>\n",
       "      <th>63</th>\n",
       "      <td>JuliaBrown</td>\n",
       "    </tr>\n",
       "    <tr>\n",
       "      <th>64</th>\n",
       "      <td>Chris White</td>\n",
       "    </tr>\n",
       "    <tr>\n",
       "      <th>65</th>\n",
       "      <td>Weiwei Yang</td>\n",
       "    </tr>\n",
       "    <tr>\n",
       "      <th>66</th>\n",
       "      <td>Andrei A. Rusu</td>\n",
       "    </tr>\n",
       "  </tbody>\n",
       "</table>\n",
       "<p>67 rows × 1 columns</p>\n",
       "</div>"
      ],
      "text/plain": [
       "                    Name\n",
       "0   Joshua T. Vogelstein\n",
       "1      Timothy Verstynen\n",
       "2      Konrad P. Kording\n",
       "3             Leyla Isik\n",
       "4       John W. Krakauer\n",
       "..                   ...\n",
       "62     Elizabeth Hillman\n",
       "63            JuliaBrown\n",
       "64           Chris White\n",
       "65           Weiwei Yang\n",
       "66        Andrei A. Rusu\n",
       "\n",
       "[67 rows x 1 columns]"
      ]
     },
     "execution_count": 12,
     "metadata": {},
     "output_type": "execute_result"
    }
   ],
   "source": [
    "curr_df = df.apply(lambda x: remove_int_beyond(x),axis=0)\n",
    "curr_df"
   ]
  },
  {
   "cell_type": "markdown",
   "metadata": {},
   "source": [
    "#### Load previous author list which is now outdated"
   ]
  },
  {
   "cell_type": "code",
   "execution_count": 13,
   "metadata": {},
   "outputs": [],
   "source": [
    "df = pd.read_excel('authors/email-response-list.xlsx')"
   ]
  },
  {
   "cell_type": "markdown",
   "metadata": {},
   "source": [
    "#### Redact email for privacy"
   ]
  },
  {
   "cell_type": "code",
   "execution_count": 14,
   "metadata": {},
   "outputs": [],
   "source": [
    "def redact(x):\n",
    "    if isinstance(x, str):\n",
    "        s = x.find('<')\n",
    "        e = x.find('@')\n",
    "        return x.replace(x[s+1:e], 'XXX')\n",
    "    else:\n",
    "        return ''"
   ]
  },
  {
   "cell_type": "code",
   "execution_count": 15,
   "metadata": {},
   "outputs": [],
   "source": [
    "if censor:\n",
    "    df.iloc[:,0] = df.apply(lambda x: redact(x.iloc[0]), axis=1)"
   ]
  },
  {
   "cell_type": "markdown",
   "metadata": {},
   "source": [
    "#### preprocess before probablistic linking"
   ]
  },
  {
   "cell_type": "code",
   "execution_count": 16,
   "metadata": {},
   "outputs": [
    {
     "data": {
      "text/html": [
       "<div>\n",
       "<style scoped>\n",
       "    .dataframe tbody tr th:only-of-type {\n",
       "        vertical-align: middle;\n",
       "    }\n",
       "\n",
       "    .dataframe tbody tr th {\n",
       "        vertical-align: top;\n",
       "    }\n",
       "\n",
       "    .dataframe thead th {\n",
       "        text-align: right;\n",
       "    }\n",
       "</style>\n",
       "<table border=\"1\" class=\"dataframe\">\n",
       "  <thead>\n",
       "    <tr style=\"text-align: right;\">\n",
       "      <th></th>\n",
       "      <th>JOVO EMAIL LIST</th>\n",
       "      <th>WHITE PAPER AUTHOR LIST</th>\n",
       "    </tr>\n",
       "  </thead>\n",
       "  <tbody>\n",
       "    <tr>\n",
       "      <th>0</th>\n",
       "      <td>Adam Charles &lt;adamsc@jhu.edu&gt;,</td>\n",
       "      <td>Adam Charles</td>\n",
       "    </tr>\n",
       "    <tr>\n",
       "      <th>1</th>\n",
       "      <td>Adam Kepecs &lt;adam.cshl@gmail.com&gt;,</td>\n",
       "      <td>Adam Kepecs</td>\n",
       "    </tr>\n",
       "    <tr>\n",
       "      <th>2</th>\n",
       "      <td>Alena Savonenko &lt;asavone1@jhmi.edu&gt;,</td>\n",
       "      <td>Alena Savonenko</td>\n",
       "    </tr>\n",
       "    <tr>\n",
       "      <th>3</th>\n",
       "      <td>Ali Geisa &lt;realaligeisa@gmail.com&gt;,</td>\n",
       "      <td>Ali Geisa</td>\n",
       "    </tr>\n",
       "    <tr>\n",
       "      <th>4</th>\n",
       "      <td>Amy Christensen &lt;chandra.christensen@gmail.com&gt;,</td>\n",
       "      <td>Amy Christensen</td>\n",
       "    </tr>\n",
       "  </tbody>\n",
       "</table>\n",
       "</div>"
      ],
      "text/plain": [
       "                                    JOVO EMAIL LIST WHITE PAPER AUTHOR LIST\n",
       "0                    Adam Charles <adamsc@jhu.edu>,            Adam Charles\n",
       "1                Adam Kepecs <adam.cshl@gmail.com>,             Adam Kepecs\n",
       "2              Alena Savonenko <asavone1@jhmi.edu>,         Alena Savonenko\n",
       "3               Ali Geisa <realaligeisa@gmail.com>,               Ali Geisa\n",
       "4  Amy Christensen <chandra.christensen@gmail.com>,         Amy Christensen"
      ]
     },
     "execution_count": 16,
     "metadata": {},
     "output_type": "execute_result"
    }
   ],
   "source": [
    "newdf = df.iloc[:,:2].dropna()\n",
    "newdf.head()"
   ]
  },
  {
   "cell_type": "code",
   "execution_count": 17,
   "metadata": {},
   "outputs": [],
   "source": [
    "newlist = df.iloc[:,0].tolist()\n",
    "newlist2 = []\n",
    "\n",
    "for i in newlist:\n",
    "    if isinstance(i, str):\n",
    "        tmp = i.split(' <')\n",
    "        if len(tmp) == 1:\n",
    "            continue\n",
    "\n",
    "        tmp[1] = tmp[1].replace('>,','')\n",
    "        newlist2.append(tmp)"
   ]
  },
  {
   "cell_type": "code",
   "execution_count": 18,
   "metadata": {},
   "outputs": [
    {
     "data": {
      "text/plain": [
       "((57, 2),\n",
       "               Name                          Email\n",
       " 0     Adam Charles                 adamsc@jhu.edu\n",
       " 1      Adam Kepecs            adam.cshl@gmail.com\n",
       " 2  Alena Savonenko              asavone1@jhmi.edu\n",
       " 3        Ali Geisa         realaligeisa@gmail.com\n",
       " 4  Amy Christensen  chandra.christensen@gmail.com)"
      ]
     },
     "execution_count": 18,
     "metadata": {},
     "output_type": "execute_result"
    }
   ],
   "source": [
    "df_out = pd.DataFrame(newlist2, columns=['Name', 'Email'])\n",
    "df_out.shape, df_out.head()"
   ]
  },
  {
   "cell_type": "code",
   "execution_count": 19,
   "metadata": {},
   "outputs": [],
   "source": [
    "df_out.to_excel('current_author_list.xlsx', index=False)"
   ]
  },
  {
   "cell_type": "code",
   "execution_count": 20,
   "metadata": {},
   "outputs": [],
   "source": [
    "if not censor:\n",
    "    df_out = pd.read_excel('authors/current_author_list.xlsx')"
   ]
  },
  {
   "cell_type": "markdown",
   "metadata": {},
   "source": [
    "#### Join old author list with new author list\n",
    "Old author list has a column for email whereas the new author list only has the name of authors"
   ]
  },
  {
   "cell_type": "code",
   "execution_count": 21,
   "metadata": {},
   "outputs": [],
   "source": [
    "import fuzzymatcher"
   ]
  },
  {
   "cell_type": "code",
   "execution_count": 22,
   "metadata": {},
   "outputs": [
    {
     "data": {
      "text/plain": [
       "(                   Name\n",
       " 0  Joshua T. Vogelstein\n",
       " 1     Timothy Verstynen\n",
       " 2     Konrad P. Kording\n",
       " 3            Leyla Isik\n",
       " 4      John W. Krakauer,\n",
       "                    Name                    Email\n",
       " 0  Joshua T. Vogelstein            jovo@progl.ai\n",
       " 1     Timothy Verstynen       timothyv@gmail.com\n",
       " 2     Konrad P. Kording       koerding@gmail.com\n",
       " 3            Leyla Isik            lisik@jhu.edu\n",
       " 4      John W. Krakauer  john.krakauer@gmail.com)"
      ]
     },
     "execution_count": 22,
     "metadata": {},
     "output_type": "execute_result"
    }
   ],
   "source": [
    "curr_df.head(5), df_out.head(5)"
   ]
  },
  {
   "cell_type": "code",
   "execution_count": 23,
   "metadata": {},
   "outputs": [
    {
     "data": {
      "text/plain": [
       "(67, 6)"
      ]
     },
     "execution_count": 23,
     "metadata": {},
     "output_type": "execute_result"
    }
   ],
   "source": [
    "match_result = fuzzymatcher.fuzzy_left_join(\n",
    "    df_left=curr_df, df_right=df_out, \n",
    "    left_on='Name', right_on='Name', \n",
    "    left_id_col='Name', right_id_col='Name')\n",
    "\n",
    "match_result.shape"
   ]
  },
  {
   "cell_type": "code",
   "execution_count": 24,
   "metadata": {},
   "outputs": [
    {
     "data": {
      "text/html": [
       "<div>\n",
       "<style scoped>\n",
       "    .dataframe tbody tr th:only-of-type {\n",
       "        vertical-align: middle;\n",
       "    }\n",
       "\n",
       "    .dataframe tbody tr th {\n",
       "        vertical-align: top;\n",
       "    }\n",
       "\n",
       "    .dataframe thead th {\n",
       "        text-align: right;\n",
       "    }\n",
       "</style>\n",
       "<table border=\"1\" class=\"dataframe\">\n",
       "  <thead>\n",
       "    <tr style=\"text-align: right;\">\n",
       "      <th></th>\n",
       "      <th>best_match_score</th>\n",
       "      <th>__id_left</th>\n",
       "      <th>__id_right</th>\n",
       "      <th>Name_left</th>\n",
       "      <th>Name_right</th>\n",
       "      <th>Email</th>\n",
       "    </tr>\n",
       "  </thead>\n",
       "  <tbody>\n",
       "    <tr>\n",
       "      <th>0</th>\n",
       "      <td>0.581172</td>\n",
       "      <td>Joshua T. Vogelstein</td>\n",
       "      <td>Joshua T. Vogelstein</td>\n",
       "      <td>Joshua T. Vogelstein</td>\n",
       "      <td>Joshua T. Vogelstein</td>\n",
       "      <td>jovo@progl.ai</td>\n",
       "    </tr>\n",
       "    <tr>\n",
       "      <th>1</th>\n",
       "      <td>0.359099</td>\n",
       "      <td>Timothy Verstynen</td>\n",
       "      <td>Timothy Verstynen</td>\n",
       "      <td>Timothy Verstynen</td>\n",
       "      <td>Timothy Verstynen</td>\n",
       "      <td>timothyv@gmail.com</td>\n",
       "    </tr>\n",
       "    <tr>\n",
       "      <th>2</th>\n",
       "      <td>0.431144</td>\n",
       "      <td>Konrad P. Kording</td>\n",
       "      <td>Konrad P. Kording</td>\n",
       "      <td>Konrad P. Kording</td>\n",
       "      <td>Konrad P. Kording</td>\n",
       "      <td>koerding@gmail.com</td>\n",
       "    </tr>\n",
       "    <tr>\n",
       "      <th>3</th>\n",
       "      <td>0.268181</td>\n",
       "      <td>Leyla Isik</td>\n",
       "      <td>Leyla Isik</td>\n",
       "      <td>Leyla Isik</td>\n",
       "      <td>Leyla Isik</td>\n",
       "      <td>lisik@jhu.edu</td>\n",
       "    </tr>\n",
       "    <tr>\n",
       "      <th>4</th>\n",
       "      <td>0.421110</td>\n",
       "      <td>John W. Krakauer</td>\n",
       "      <td>John W. Krakauer</td>\n",
       "      <td>John W. Krakauer</td>\n",
       "      <td>John W. Krakauer</td>\n",
       "      <td>john.krakauer@gmail.com</td>\n",
       "    </tr>\n",
       "  </tbody>\n",
       "</table>\n",
       "</div>"
      ],
      "text/plain": [
       "   best_match_score             __id_left            __id_right  \\\n",
       "0          0.581172  Joshua T. Vogelstein  Joshua T. Vogelstein   \n",
       "1          0.359099     Timothy Verstynen     Timothy Verstynen   \n",
       "2          0.431144     Konrad P. Kording     Konrad P. Kording   \n",
       "3          0.268181            Leyla Isik            Leyla Isik   \n",
       "4          0.421110      John W. Krakauer      John W. Krakauer   \n",
       "\n",
       "              Name_left            Name_right                    Email  \n",
       "0  Joshua T. Vogelstein  Joshua T. Vogelstein            jovo@progl.ai  \n",
       "1     Timothy Verstynen     Timothy Verstynen       timothyv@gmail.com  \n",
       "2     Konrad P. Kording     Konrad P. Kording       koerding@gmail.com  \n",
       "3            Leyla Isik            Leyla Isik            lisik@jhu.edu  \n",
       "4      John W. Krakauer      John W. Krakauer  john.krakauer@gmail.com  "
      ]
     },
     "execution_count": 24,
     "metadata": {},
     "output_type": "execute_result"
    }
   ],
   "source": [
    "match_result.head()"
   ]
  },
  {
   "cell_type": "code",
   "execution_count": 25,
   "metadata": {},
   "outputs": [
    {
     "data": {
      "text/html": [
       "<div>\n",
       "<style scoped>\n",
       "    .dataframe tbody tr th:only-of-type {\n",
       "        vertical-align: middle;\n",
       "    }\n",
       "\n",
       "    .dataframe tbody tr th {\n",
       "        vertical-align: top;\n",
       "    }\n",
       "\n",
       "    .dataframe thead th {\n",
       "        text-align: right;\n",
       "    }\n",
       "</style>\n",
       "<table border=\"1\" class=\"dataframe\">\n",
       "  <thead>\n",
       "    <tr style=\"text-align: right;\">\n",
       "      <th></th>\n",
       "      <th>Name</th>\n",
       "      <th>Email</th>\n",
       "    </tr>\n",
       "  </thead>\n",
       "  <tbody>\n",
       "    <tr>\n",
       "      <th>0</th>\n",
       "      <td>Joshua T. Vogelstein</td>\n",
       "      <td>jovo@progl.ai</td>\n",
       "    </tr>\n",
       "    <tr>\n",
       "      <th>1</th>\n",
       "      <td>Timothy Verstynen</td>\n",
       "      <td>timothyv@gmail.com</td>\n",
       "    </tr>\n",
       "    <tr>\n",
       "      <th>2</th>\n",
       "      <td>Konrad P. Kording</td>\n",
       "      <td>koerding@gmail.com</td>\n",
       "    </tr>\n",
       "    <tr>\n",
       "      <th>3</th>\n",
       "      <td>Leyla Isik</td>\n",
       "      <td>lisik@jhu.edu</td>\n",
       "    </tr>\n",
       "    <tr>\n",
       "      <th>4</th>\n",
       "      <td>John W. Krakauer</td>\n",
       "      <td>john.krakauer@gmail.com</td>\n",
       "    </tr>\n",
       "  </tbody>\n",
       "</table>\n",
       "</div>"
      ],
      "text/plain": [
       "                   Name                    Email\n",
       "0  Joshua T. Vogelstein            jovo@progl.ai\n",
       "1     Timothy Verstynen       timothyv@gmail.com\n",
       "2     Konrad P. Kording       koerding@gmail.com\n",
       "3            Leyla Isik            lisik@jhu.edu\n",
       "4      John W. Krakauer  john.krakauer@gmail.com"
      ]
     },
     "execution_count": 25,
     "metadata": {},
     "output_type": "execute_result"
    }
   ],
   "source": [
    "df_out = match_result[['Name_left', 'Email']]\n",
    "df_out.columns=['Name','Email']\n",
    "df_out.head()"
   ]
  },
  {
   "cell_type": "code",
   "execution_count": 26,
   "metadata": {},
   "outputs": [],
   "source": [
    "if not censor:\n",
    "    df_out.to_excel('authors/final_output_email_list.xlsx', index=False)"
   ]
  },
  {
   "cell_type": "markdown",
   "metadata": {},
   "source": [
    "#### Manual entry of missing emails"
   ]
  },
  {
   "cell_type": "code",
   "execution_count": 27,
   "metadata": {},
   "outputs": [],
   "source": [
    "df_linear = pd.read_excel('authors/final_output_email_list_modified.xlsx')"
   ]
  },
  {
   "cell_type": "markdown",
   "metadata": {},
   "source": [
    "#### Linearize email for convenience"
   ]
  },
  {
   "cell_type": "code",
   "execution_count": 28,
   "metadata": {},
   "outputs": [],
   "source": [
    "linear_txt = '; '.join(df_linear['Email'])"
   ]
  },
  {
   "cell_type": "code",
   "execution_count": 29,
   "metadata": {},
   "outputs": [],
   "source": [
    "# output hidden for privacy\n",
    "if not censor:\n",
    "    linear_txt"
   ]
  },
  {
   "cell_type": "code",
   "execution_count": 30,
   "metadata": {},
   "outputs": [],
   "source": [
    "with open('for_email.txt', 'w', encoding='utf-8') as f:\n",
    "    f.write(linear_txt)"
   ]
  },
  {
   "cell_type": "markdown",
   "metadata": {},
   "source": [
    "#### End of Notebook"
   ]
  }
 ],
 "metadata": {
  "kernelspec": {
   "display_name": "Python 3.8.13 ('main')",
   "language": "python",
   "name": "python3"
  },
  "language_info": {
   "codemirror_mode": {
    "name": "ipython",
    "version": 3
   },
   "file_extension": ".py",
   "mimetype": "text/x-python",
   "name": "python",
   "nbconvert_exporter": "python",
   "pygments_lexer": "ipython3",
   "version": "3.8.13"
  },
  "orig_nbformat": 4,
  "vscode": {
   "interpreter": {
    "hash": "5b3e9ff110fca189b640152dbca1582818d88c9c2a9ef25df7a407523fb4d550"
   }
  }
 },
 "nbformat": 4,
 "nbformat_minor": 2
}
