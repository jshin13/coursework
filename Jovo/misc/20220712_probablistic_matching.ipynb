{
 "cells": [
  {
   "cell_type": "markdown",
   "metadata": {},
   "source": [
    "# Matching two list of author's name for publication\n",
    "One list of author's name with email needs to be updated with current list of authors on our recent publication. The list needs to be cleaned and linked."
   ]
  },
  {
   "cell_type": "code",
   "execution_count": 123,
   "metadata": {},
   "outputs": [],
   "source": [
    "import pandas as pd\n",
    "import re\n",
    "\n",
    "censor = True"
   ]
  },
  {
   "cell_type": "markdown",
   "metadata": {},
   "source": [
    "#### Get current list of authors in a pandas dataframe"
   ]
  },
  {
   "cell_type": "code",
   "execution_count": 124,
   "metadata": {},
   "outputs": [],
   "source": [
    "char = '''Joshua T. Vogelstein1YB; Timothy Verstynen3YB; Konrad P. Kording2YB;\n",
    "Leyla Isik1Y; John W. Krakauer1; Ralph Etienne-Cummings1; Elizabeth L. Ogburn1; Carey E. Priebe1;\n",
    "Randal Burns1; Kwame Kutten1; James J. Knierim1; James B. Potash1; Thomas Hartung1; Lena \n",
    "Smirnova1; Alena Savonenko1; Ian Phillips1; Michael I. Miller1; Rene Vidal1; Jeremias Sulam1; Adam \n",
    "Charles1; Noah J. Cowan1; Maxim Bichuch1; Archana Venkataraman1; Chen Li1; Nitish Thakor1;\n",
    "Justus M Kebschull1; Marilyn Albert1; Jinchong Xu1; Marshall Hussain Shuler1; Brian Caffo1; Tilak \n",
    "Ratnanather1; Ali Geisa1; Seung-Eon Roh1; Eva Yezerets1; Meghana Madhyastha1; Javier J. How1;\n",
    "Tyler M. Tomita1; Jayanta Dey1; Ningyuan (Teresa) Huang1; Ashwin De Silva1; Jong M. Shin1; Kaleab \n",
    "Alemayehu Kinfu1; Soledad Villar1; Pratik Chaudhari2; Ben Baker2; Anna C. Schapiro2; Dinesh Jayaraman2;\n",
    "Eric Eaton2; Michael Platt2; Lyle Ungar2; Leila Wehbe3; Michael J. Tarr3; Adam Kepecs4; Amy Christensen4;\n",
    "Onyema Osuagwu5; Bing Brunton6; Brett Mensh7; Alysson R. Muotri8; Gabriel Silva8; Francesca \n",
    "Puppo8; Florian Engert9; Elizabeth Hillman10; Julia Brown11; Chris White12; Weiwei Yang12; Andrei \n",
    "A. Rusu13'''"
   ]
  },
  {
   "cell_type": "code",
   "execution_count": 125,
   "metadata": {},
   "outputs": [
    {
     "data": {
      "text/plain": [
       "'Joshua T. Vogelstein1YB'"
      ]
     },
     "execution_count": 125,
     "metadata": {},
     "output_type": "execute_result"
    }
   ],
   "source": [
    "tmp = char.replace('\\n', '').split(';')\n",
    "tmp[0].rfind('[0-9]')\n",
    "tmp[0]"
   ]
  },
  {
   "cell_type": "code",
   "execution_count": 126,
   "metadata": {},
   "outputs": [],
   "source": [
    "df = pd.DataFrame(tmp, columns=['Name'])"
   ]
  },
  {
   "cell_type": "code",
   "execution_count": 127,
   "metadata": {},
   "outputs": [],
   "source": [
    "def remove_int_beyond(xx):\n",
    "    out = []\n",
    "    for x in xx:\n",
    "        s = re.search('\\d', x).start()\n",
    "        out.append(x[:s].strip())\n",
    "    return out"
   ]
  },
  {
   "cell_type": "code",
   "execution_count": 128,
   "metadata": {},
   "outputs": [
    {
     "data": {
      "text/html": [
       "<div>\n",
       "<style scoped>\n",
       "    .dataframe tbody tr th:only-of-type {\n",
       "        vertical-align: middle;\n",
       "    }\n",
       "\n",
       "    .dataframe tbody tr th {\n",
       "        vertical-align: top;\n",
       "    }\n",
       "\n",
       "    .dataframe thead th {\n",
       "        text-align: right;\n",
       "    }\n",
       "</style>\n",
       "<table border=\"1\" class=\"dataframe\">\n",
       "  <thead>\n",
       "    <tr style=\"text-align: right;\">\n",
       "      <th></th>\n",
       "      <th>Name</th>\n",
       "    </tr>\n",
       "  </thead>\n",
       "  <tbody>\n",
       "    <tr>\n",
       "      <th>0</th>\n",
       "      <td>Joshua T. Vogelstein</td>\n",
       "    </tr>\n",
       "    <tr>\n",
       "      <th>1</th>\n",
       "      <td>Timothy Verstynen</td>\n",
       "    </tr>\n",
       "    <tr>\n",
       "      <th>2</th>\n",
       "      <td>Konrad P. Kording</td>\n",
       "    </tr>\n",
       "    <tr>\n",
       "      <th>3</th>\n",
       "      <td>Leyla Isik</td>\n",
       "    </tr>\n",
       "    <tr>\n",
       "      <th>4</th>\n",
       "      <td>John W. Krakauer</td>\n",
       "    </tr>\n",
       "    <tr>\n",
       "      <th>...</th>\n",
       "      <td>...</td>\n",
       "    </tr>\n",
       "    <tr>\n",
       "      <th>61</th>\n",
       "      <td>Elizabeth Hillman</td>\n",
       "    </tr>\n",
       "    <tr>\n",
       "      <th>62</th>\n",
       "      <td>Julia Brown</td>\n",
       "    </tr>\n",
       "    <tr>\n",
       "      <th>63</th>\n",
       "      <td>Chris White</td>\n",
       "    </tr>\n",
       "    <tr>\n",
       "      <th>64</th>\n",
       "      <td>Weiwei Yang</td>\n",
       "    </tr>\n",
       "    <tr>\n",
       "      <th>65</th>\n",
       "      <td>Andrei A. Rusu</td>\n",
       "    </tr>\n",
       "  </tbody>\n",
       "</table>\n",
       "<p>66 rows × 1 columns</p>\n",
       "</div>"
      ],
      "text/plain": [
       "                    Name\n",
       "0   Joshua T. Vogelstein\n",
       "1      Timothy Verstynen\n",
       "2      Konrad P. Kording\n",
       "3             Leyla Isik\n",
       "4       John W. Krakauer\n",
       "..                   ...\n",
       "61     Elizabeth Hillman\n",
       "62           Julia Brown\n",
       "63           Chris White\n",
       "64           Weiwei Yang\n",
       "65        Andrei A. Rusu\n",
       "\n",
       "[66 rows x 1 columns]"
      ]
     },
     "execution_count": 128,
     "metadata": {},
     "output_type": "execute_result"
    }
   ],
   "source": [
    "curr_df = df.apply(lambda x: remove_int_beyond(x),axis=0)\n",
    "curr_df"
   ]
  },
  {
   "cell_type": "markdown",
   "metadata": {},
   "source": [
    "#### Load previous author list which is now outdated"
   ]
  },
  {
   "cell_type": "code",
   "execution_count": 129,
   "metadata": {},
   "outputs": [],
   "source": [
    "df = pd.read_excel('authors/email-response-list.xlsx')"
   ]
  },
  {
   "cell_type": "markdown",
   "metadata": {},
   "source": [
    "#### Redact email for privacy"
   ]
  },
  {
   "cell_type": "code",
   "execution_count": 130,
   "metadata": {},
   "outputs": [],
   "source": [
    "def redact(x):\n",
    "    if isinstance(x, str):\n",
    "        s = x.find('<')\n",
    "        e = x.find('@')\n",
    "        return x.replace(x[s+1:e], 'XXX')\n",
    "    else:\n",
    "        return ''"
   ]
  },
  {
   "cell_type": "code",
   "execution_count": 131,
   "metadata": {},
   "outputs": [],
   "source": [
    "if censor:\n",
    "    df.iloc[:,0] = df.apply(lambda x: redact(x.iloc[0]), axis=1)"
   ]
  },
  {
   "cell_type": "markdown",
   "metadata": {},
   "source": [
    "#### preprocess before probablistic linking"
   ]
  },
  {
   "cell_type": "code",
   "execution_count": 132,
   "metadata": {},
   "outputs": [
    {
     "data": {
      "text/html": [
       "<div>\n",
       "<style scoped>\n",
       "    .dataframe tbody tr th:only-of-type {\n",
       "        vertical-align: middle;\n",
       "    }\n",
       "\n",
       "    .dataframe tbody tr th {\n",
       "        vertical-align: top;\n",
       "    }\n",
       "\n",
       "    .dataframe thead th {\n",
       "        text-align: right;\n",
       "    }\n",
       "</style>\n",
       "<table border=\"1\" class=\"dataframe\">\n",
       "  <thead>\n",
       "    <tr style=\"text-align: right;\">\n",
       "      <th></th>\n",
       "      <th>JOVO EMAIL LIST</th>\n",
       "      <th>WHITE PAPER AUTHOR LIST</th>\n",
       "    </tr>\n",
       "  </thead>\n",
       "  <tbody>\n",
       "    <tr>\n",
       "      <th>0</th>\n",
       "      <td>Adam Charles &lt;XXX@jhu.edu&gt;,</td>\n",
       "      <td>Adam Charles</td>\n",
       "    </tr>\n",
       "    <tr>\n",
       "      <th>1</th>\n",
       "      <td>Adam Kepecs &lt;XXX@gmail.com&gt;,</td>\n",
       "      <td>Adam Kepecs</td>\n",
       "    </tr>\n",
       "    <tr>\n",
       "      <th>2</th>\n",
       "      <td>Alena Savonenko &lt;XXX@jhmi.edu&gt;,</td>\n",
       "      <td>Alena Savonenko</td>\n",
       "    </tr>\n",
       "    <tr>\n",
       "      <th>3</th>\n",
       "      <td>Ali Geisa &lt;XXX@gmail.com&gt;,</td>\n",
       "      <td>Ali Geisa</td>\n",
       "    </tr>\n",
       "    <tr>\n",
       "      <th>4</th>\n",
       "      <td>Amy Christensen &lt;XXX@gmail.com&gt;,</td>\n",
       "      <td>Amy Christensen</td>\n",
       "    </tr>\n",
       "  </tbody>\n",
       "</table>\n",
       "</div>"
      ],
      "text/plain": [
       "                    JOVO EMAIL LIST WHITE PAPER AUTHOR LIST\n",
       "0       Adam Charles <XXX@jhu.edu>,            Adam Charles\n",
       "1      Adam Kepecs <XXX@gmail.com>,             Adam Kepecs\n",
       "2   Alena Savonenko <XXX@jhmi.edu>,         Alena Savonenko\n",
       "3        Ali Geisa <XXX@gmail.com>,               Ali Geisa\n",
       "4  Amy Christensen <XXX@gmail.com>,         Amy Christensen"
      ]
     },
     "execution_count": 132,
     "metadata": {},
     "output_type": "execute_result"
    }
   ],
   "source": [
    "newdf = df.iloc[:,:2].dropna()\n",
    "newdf.head()"
   ]
  },
  {
   "cell_type": "code",
   "execution_count": 133,
   "metadata": {},
   "outputs": [],
   "source": [
    "newlist = df.iloc[:,0].tolist()\n",
    "newlist2 = []\n",
    "\n",
    "for i in newlist:\n",
    "    if isinstance(i, str):\n",
    "        tmp = i.split(' <')\n",
    "        if len(tmp) == 1:\n",
    "            continue\n",
    "\n",
    "        tmp[1] = tmp[1].replace('>,','')\n",
    "        newlist2.append(tmp)"
   ]
  },
  {
   "cell_type": "code",
   "execution_count": 134,
   "metadata": {},
   "outputs": [
    {
     "data": {
      "text/plain": [
       "((56, 2),\n",
       "               Name          Email\n",
       " 0     Adam Charles    XXX@jhu.edu\n",
       " 1      Adam Kepecs  XXX@gmail.com\n",
       " 2  Alena Savonenko   XXX@jhmi.edu\n",
       " 3        Ali Geisa  XXX@gmail.com\n",
       " 4  Amy Christensen  XXX@gmail.com)"
      ]
     },
     "execution_count": 134,
     "metadata": {},
     "output_type": "execute_result"
    }
   ],
   "source": [
    "df_out = pd.DataFrame(newlist2, columns=['Name', 'Email'])\n",
    "df_out.shape, df_out.head()"
   ]
  },
  {
   "cell_type": "code",
   "execution_count": 135,
   "metadata": {},
   "outputs": [],
   "source": [
    "# df_out.to_excel('current_author_list.xlsx', index=False)"
   ]
  },
  {
   "cell_type": "code",
   "execution_count": 136,
   "metadata": {},
   "outputs": [],
   "source": [
    "if not censor:\n",
    "    df_out = pd.read_excel('authors/current_author_list.xlsx')"
   ]
  },
  {
   "cell_type": "markdown",
   "metadata": {},
   "source": [
    "#### Join old author list with new author list\n",
    "Old author list has a column for email whereas the new author list only has the name of authors"
   ]
  },
  {
   "cell_type": "code",
   "execution_count": 137,
   "metadata": {},
   "outputs": [],
   "source": [
    "import fuzzymatcher"
   ]
  },
  {
   "cell_type": "code",
   "execution_count": 138,
   "metadata": {},
   "outputs": [
    {
     "data": {
      "text/plain": [
       "(                   Name\n",
       " 0  Joshua T. Vogelstein\n",
       " 1     Timothy Verstynen\n",
       " 2     Konrad P. Kording\n",
       " 3            Leyla Isik\n",
       " 4      John W. Krakauer,\n",
       "               Name          Email\n",
       " 0     Adam Charles    XXX@jhu.edu\n",
       " 1      Adam Kepecs  XXX@gmail.com\n",
       " 2  Alena Savonenko   XXX@jhmi.edu\n",
       " 3        Ali Geisa  XXX@gmail.com\n",
       " 4  Amy Christensen  XXX@gmail.com)"
      ]
     },
     "execution_count": 138,
     "metadata": {},
     "output_type": "execute_result"
    }
   ],
   "source": [
    "curr_df.head(5), df_out.head(5)"
   ]
  },
  {
   "cell_type": "code",
   "execution_count": 139,
   "metadata": {},
   "outputs": [
    {
     "data": {
      "text/plain": [
       "(66, 6)"
      ]
     },
     "execution_count": 139,
     "metadata": {},
     "output_type": "execute_result"
    }
   ],
   "source": [
    "match_result = fuzzymatcher.fuzzy_left_join(\n",
    "    df_left=curr_df, df_right=df_out, \n",
    "    left_on='Name', right_on='Name', \n",
    "    left_id_col='Name', right_id_col='Name')\n",
    "\n",
    "match_result.shape"
   ]
  },
  {
   "cell_type": "code",
   "execution_count": 140,
   "metadata": {},
   "outputs": [
    {
     "data": {
      "text/html": [
       "<div>\n",
       "<style scoped>\n",
       "    .dataframe tbody tr th:only-of-type {\n",
       "        vertical-align: middle;\n",
       "    }\n",
       "\n",
       "    .dataframe tbody tr th {\n",
       "        vertical-align: top;\n",
       "    }\n",
       "\n",
       "    .dataframe thead th {\n",
       "        text-align: right;\n",
       "    }\n",
       "</style>\n",
       "<table border=\"1\" class=\"dataframe\">\n",
       "  <thead>\n",
       "    <tr style=\"text-align: right;\">\n",
       "      <th></th>\n",
       "      <th>best_match_score</th>\n",
       "      <th>__id_left</th>\n",
       "      <th>__id_right</th>\n",
       "      <th>Name_left</th>\n",
       "      <th>Name_right</th>\n",
       "      <th>Email</th>\n",
       "    </tr>\n",
       "  </thead>\n",
       "  <tbody>\n",
       "    <tr>\n",
       "      <th>0</th>\n",
       "      <td>NaN</td>\n",
       "      <td>Joshua T. Vogelstein</td>\n",
       "      <td>None</td>\n",
       "      <td>Joshua T. Vogelstein</td>\n",
       "      <td>NaN</td>\n",
       "      <td>NaN</td>\n",
       "    </tr>\n",
       "    <tr>\n",
       "      <th>1</th>\n",
       "      <td>0.341898</td>\n",
       "      <td>Timothy Verstynen</td>\n",
       "      <td>Timothy Verstynen</td>\n",
       "      <td>Timothy Verstynen</td>\n",
       "      <td>Timothy Verstynen</td>\n",
       "      <td>XXX@gmail.com</td>\n",
       "    </tr>\n",
       "    <tr>\n",
       "      <th>2</th>\n",
       "      <td>0.138672</td>\n",
       "      <td>Konrad P. Kording</td>\n",
       "      <td>Konrad Koerding</td>\n",
       "      <td>Konrad P. Kording</td>\n",
       "      <td>Konrad Koerding</td>\n",
       "      <td>XXX@gmail.com</td>\n",
       "    </tr>\n",
       "    <tr>\n",
       "      <th>3</th>\n",
       "      <td>0.270464</td>\n",
       "      <td>Leyla Isik</td>\n",
       "      <td>Leyla Isik</td>\n",
       "      <td>Leyla Isik</td>\n",
       "      <td>Leyla Isik</td>\n",
       "      <td>XXX@jhu.edu</td>\n",
       "    </tr>\n",
       "    <tr>\n",
       "      <th>4</th>\n",
       "      <td>0.263017</td>\n",
       "      <td>John W. Krakauer</td>\n",
       "      <td>John Krakauer</td>\n",
       "      <td>John W. Krakauer</td>\n",
       "      <td>John Krakauer</td>\n",
       "      <td>XXX@gmail.com</td>\n",
       "    </tr>\n",
       "  </tbody>\n",
       "</table>\n",
       "</div>"
      ],
      "text/plain": [
       "   best_match_score             __id_left         __id_right  \\\n",
       "0               NaN  Joshua T. Vogelstein               None   \n",
       "1          0.341898     Timothy Verstynen  Timothy Verstynen   \n",
       "2          0.138672     Konrad P. Kording    Konrad Koerding   \n",
       "3          0.270464            Leyla Isik         Leyla Isik   \n",
       "4          0.263017      John W. Krakauer      John Krakauer   \n",
       "\n",
       "              Name_left         Name_right          Email  \n",
       "0  Joshua T. Vogelstein                NaN            NaN  \n",
       "1     Timothy Verstynen  Timothy Verstynen  XXX@gmail.com  \n",
       "2     Konrad P. Kording    Konrad Koerding  XXX@gmail.com  \n",
       "3            Leyla Isik         Leyla Isik    XXX@jhu.edu  \n",
       "4      John W. Krakauer      John Krakauer  XXX@gmail.com  "
      ]
     },
     "execution_count": 140,
     "metadata": {},
     "output_type": "execute_result"
    }
   ],
   "source": [
    "match_result.head()"
   ]
  },
  {
   "cell_type": "code",
   "execution_count": 141,
   "metadata": {},
   "outputs": [
    {
     "data": {
      "text/html": [
       "<div>\n",
       "<style scoped>\n",
       "    .dataframe tbody tr th:only-of-type {\n",
       "        vertical-align: middle;\n",
       "    }\n",
       "\n",
       "    .dataframe tbody tr th {\n",
       "        vertical-align: top;\n",
       "    }\n",
       "\n",
       "    .dataframe thead th {\n",
       "        text-align: right;\n",
       "    }\n",
       "</style>\n",
       "<table border=\"1\" class=\"dataframe\">\n",
       "  <thead>\n",
       "    <tr style=\"text-align: right;\">\n",
       "      <th></th>\n",
       "      <th>Name</th>\n",
       "      <th>Email</th>\n",
       "    </tr>\n",
       "  </thead>\n",
       "  <tbody>\n",
       "    <tr>\n",
       "      <th>0</th>\n",
       "      <td>Joshua T. Vogelstein</td>\n",
       "      <td>NaN</td>\n",
       "    </tr>\n",
       "    <tr>\n",
       "      <th>1</th>\n",
       "      <td>Timothy Verstynen</td>\n",
       "      <td>XXX@gmail.com</td>\n",
       "    </tr>\n",
       "    <tr>\n",
       "      <th>2</th>\n",
       "      <td>Konrad P. Kording</td>\n",
       "      <td>XXX@gmail.com</td>\n",
       "    </tr>\n",
       "    <tr>\n",
       "      <th>3</th>\n",
       "      <td>Leyla Isik</td>\n",
       "      <td>XXX@jhu.edu</td>\n",
       "    </tr>\n",
       "    <tr>\n",
       "      <th>4</th>\n",
       "      <td>John W. Krakauer</td>\n",
       "      <td>XXX@gmail.com</td>\n",
       "    </tr>\n",
       "  </tbody>\n",
       "</table>\n",
       "</div>"
      ],
      "text/plain": [
       "                   Name          Email\n",
       "0  Joshua T. Vogelstein            NaN\n",
       "1     Timothy Verstynen  XXX@gmail.com\n",
       "2     Konrad P. Kording  XXX@gmail.com\n",
       "3            Leyla Isik    XXX@jhu.edu\n",
       "4      John W. Krakauer  XXX@gmail.com"
      ]
     },
     "execution_count": 141,
     "metadata": {},
     "output_type": "execute_result"
    }
   ],
   "source": [
    "df_out = match_result[['Name_left', 'Email']]\n",
    "df_out.columns=['Name','Email']\n",
    "df_out.head()"
   ]
  },
  {
   "cell_type": "code",
   "execution_count": 142,
   "metadata": {},
   "outputs": [],
   "source": [
    "if not censor:\n",
    "    df_out.to_excel('authors/final_output_email_list.xlsx', index=False)"
   ]
  },
  {
   "cell_type": "markdown",
   "metadata": {},
   "source": [
    "#### Manual entry of missing emails"
   ]
  },
  {
   "cell_type": "code",
   "execution_count": 143,
   "metadata": {},
   "outputs": [],
   "source": [
    "df_linear = pd.read_excel('authors/final_output_email_list_modified.xlsx')"
   ]
  },
  {
   "cell_type": "markdown",
   "metadata": {},
   "source": [
    "#### Linearize email for convenience"
   ]
  },
  {
   "cell_type": "code",
   "execution_count": 144,
   "metadata": {},
   "outputs": [],
   "source": [
    "linear_txt = '; '.join(df_linear['Email'])"
   ]
  },
  {
   "cell_type": "code",
   "execution_count": 145,
   "metadata": {},
   "outputs": [],
   "source": [
    "# output hidden for privacy\n",
    "if not censor:\n",
    "    linear_txt"
   ]
  },
  {
   "cell_type": "code",
   "execution_count": 146,
   "metadata": {},
   "outputs": [],
   "source": [
    "# with open('for_email.txt', 'w', encoding='utf-8') as f:\n",
    "#     f.write(linear_txt)"
   ]
  },
  {
   "cell_type": "markdown",
   "metadata": {},
   "source": [
    "#### End of Notebook"
   ]
  }
 ],
 "metadata": {
  "kernelspec": {
   "display_name": "Python 3.8.13 ('main')",
   "language": "python",
   "name": "python3"
  },
  "language_info": {
   "codemirror_mode": {
    "name": "ipython",
    "version": 3
   },
   "file_extension": ".py",
   "mimetype": "text/x-python",
   "name": "python",
   "nbconvert_exporter": "python",
   "pygments_lexer": "ipython3",
   "version": "3.8.13"
  },
  "orig_nbformat": 4,
  "vscode": {
   "interpreter": {
    "hash": "5b3e9ff110fca189b640152dbca1582818d88c9c2a9ef25df7a407523fb4d550"
   }
  }
 },
 "nbformat": 4,
 "nbformat_minor": 2
}
