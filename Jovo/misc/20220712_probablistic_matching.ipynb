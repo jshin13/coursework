{
 "cells": [
  {
   "cell_type": "markdown",
   "metadata": {},
   "source": [
    "# Matching two list of author's name for publication\n",
    "One list of author's name with email needs to be updated with current list of authors on our recent publication. The list needs to be cleaned and linked."
   ]
  },
  {
   "cell_type": "code",
   "execution_count": 1,
   "metadata": {},
   "outputs": [],
   "source": [
    "import pandas as pd"
   ]
  },
  {
   "cell_type": "code",
   "execution_count": 2,
   "metadata": {},
   "outputs": [],
   "source": [
    "curr_authors = 'Joshua T. Vogelstein, Timothy Verstynen, Konrad P. Kording, Leyla Isik, John W. Krakauer, Ralph Etienne-Cummings, Elizabeth L. Ogburn, Carey E. Priebe, Randal Burns, Kwame Kutten, James J. Knierim, James B. Potash, Thomas Hartung, Lena Smirnova, Paul Worley, Alena Savonenko, Ian Phillips, Michael I. Miller, Rene Vidal, Jeremias Sulam, Adam Charles, Noah J. Cowan, Maxim Bichuch, Archana Venkataraman, Chen Li, Nitish Thakor, Justus M Kebschull, Marilyn Albert, Jinchong Xu, Marshall Hussain Shuler, Brian Caffo, Tilak Ratnanather, Ali Geisa, Seung-Eon Roh, Eva Yezerets, Meghana Madhyastha, Javier J. How, Tyler M. Tomita, Jayanta Dey, Ningyuan (Teresa)Huang, Jong M. Shin, Kaleab Alemayehu Kinfu, Pratik Chaudhari, Ben Baker, Anna Schapiro, Dinesh Jayaraman, Eric Eaton, Michael Platt, Lyle Ungar, Leila Wehbe, Adam Kepecs, Amy Christensen, Onyema Osuagwu, Bing Brunton, Brett Mensh, Alysson R. Muotri, Gabriel Silva, Francesca Puppo, Florian Engert, Elizabeth Hillman, Julia Brown, Chris White, Weiwei Yang'"
   ]
  },
  {
   "cell_type": "markdown",
   "metadata": {},
   "source": [
    "#### Load previous author list which is now outdated"
   ]
  },
  {
   "cell_type": "code",
   "execution_count": 3,
   "metadata": {},
   "outputs": [],
   "source": [
    "df = pd.read_excel('email-response-list.xlsx')"
   ]
  },
  {
   "cell_type": "markdown",
   "metadata": {},
   "source": [
    "#### Redact email for privacy"
   ]
  },
  {
   "cell_type": "code",
   "execution_count": 4,
   "metadata": {},
   "outputs": [],
   "source": [
    "def redact(x):\n",
    "    if isinstance(x, str):\n",
    "        s = x.find('<')\n",
    "        e = x.find('@')\n",
    "        return x.replace(x[s+1:e], 'XXX')\n",
    "    else:\n",
    "        return ''"
   ]
  },
  {
   "cell_type": "code",
   "execution_count": 5,
   "metadata": {},
   "outputs": [],
   "source": [
    "df.iloc[:,0] = df.apply(lambda x: redact(x.iloc[0]), axis=1)"
   ]
  },
  {
   "cell_type": "markdown",
   "metadata": {},
   "source": [
    "#### preprocess before probablistic linking"
   ]
  },
  {
   "cell_type": "code",
   "execution_count": 6,
   "metadata": {},
   "outputs": [
    {
     "data": {
      "text/html": [
       "<div>\n",
       "<style scoped>\n",
       "    .dataframe tbody tr th:only-of-type {\n",
       "        vertical-align: middle;\n",
       "    }\n",
       "\n",
       "    .dataframe tbody tr th {\n",
       "        vertical-align: top;\n",
       "    }\n",
       "\n",
       "    .dataframe thead th {\n",
       "        text-align: right;\n",
       "    }\n",
       "</style>\n",
       "<table border=\"1\" class=\"dataframe\">\n",
       "  <thead>\n",
       "    <tr style=\"text-align: right;\">\n",
       "      <th></th>\n",
       "      <th>JOVO EMAIL LIST</th>\n",
       "      <th>WHITE PAPER AUTHOR LIST</th>\n",
       "    </tr>\n",
       "  </thead>\n",
       "  <tbody>\n",
       "    <tr>\n",
       "      <th>0</th>\n",
       "      <td>Adam Charles &lt;XXX@jhu.edu&gt;,</td>\n",
       "      <td>Adam Charles</td>\n",
       "    </tr>\n",
       "    <tr>\n",
       "      <th>1</th>\n",
       "      <td>Adam Kepecs &lt;XXX@gmail.com&gt;,</td>\n",
       "      <td>Adam Kepecs</td>\n",
       "    </tr>\n",
       "    <tr>\n",
       "      <th>2</th>\n",
       "      <td>Alena Savonenko &lt;XXX@jhmi.edu&gt;,</td>\n",
       "      <td>Alena Savonenko</td>\n",
       "    </tr>\n",
       "    <tr>\n",
       "      <th>3</th>\n",
       "      <td>Ali Geisa &lt;XXX@gmail.com&gt;,</td>\n",
       "      <td>Ali Geisa</td>\n",
       "    </tr>\n",
       "    <tr>\n",
       "      <th>4</th>\n",
       "      <td>Amy Christensen &lt;XXX@gmail.com&gt;,</td>\n",
       "      <td>Amy Christensen</td>\n",
       "    </tr>\n",
       "  </tbody>\n",
       "</table>\n",
       "</div>"
      ],
      "text/plain": [
       "                    JOVO EMAIL LIST WHITE PAPER AUTHOR LIST\n",
       "0       Adam Charles <XXX@jhu.edu>,            Adam Charles\n",
       "1      Adam Kepecs <XXX@gmail.com>,             Adam Kepecs\n",
       "2   Alena Savonenko <XXX@jhmi.edu>,         Alena Savonenko\n",
       "3        Ali Geisa <XXX@gmail.com>,               Ali Geisa\n",
       "4  Amy Christensen <XXX@gmail.com>,         Amy Christensen"
      ]
     },
     "execution_count": 6,
     "metadata": {},
     "output_type": "execute_result"
    }
   ],
   "source": [
    "newdf = df.iloc[:,:2].dropna()\n",
    "newdf.head()"
   ]
  },
  {
   "cell_type": "code",
   "execution_count": 7,
   "metadata": {},
   "outputs": [],
   "source": [
    "newlist = df.iloc[:,0].tolist()\n",
    "newlist2 = []\n",
    "\n",
    "for i in newlist:\n",
    "    if isinstance(i, str):\n",
    "        tmp = i.split(' <')\n",
    "        if len(tmp) == 1:\n",
    "            continue\n",
    "\n",
    "        tmp[1] = tmp[1].replace('>,','')\n",
    "        newlist2.append(tmp)"
   ]
  },
  {
   "cell_type": "code",
   "execution_count": 8,
   "metadata": {},
   "outputs": [
    {
     "data": {
      "text/plain": [
       "((56, 2),\n",
       "               Name          Email\n",
       " 0     Adam Charles    XXX@jhu.edu\n",
       " 1      Adam Kepecs  XXX@gmail.com\n",
       " 2  Alena Savonenko   XXX@jhmi.edu\n",
       " 3        Ali Geisa  XXX@gmail.com\n",
       " 4  Amy Christensen  XXX@gmail.com)"
      ]
     },
     "execution_count": 8,
     "metadata": {},
     "output_type": "execute_result"
    }
   ],
   "source": [
    "df_out = pd.DataFrame(newlist2, columns=['Name', 'Email'])\n",
    "df_out.shape, df_out.head()"
   ]
  },
  {
   "cell_type": "code",
   "execution_count": 9,
   "metadata": {},
   "outputs": [],
   "source": [
    "# df_out.to_excel('current_author_list.xlsx', index=False)"
   ]
  },
  {
   "cell_type": "markdown",
   "metadata": {},
   "source": [
    "#### Get current list of authors in a pandas dataframe"
   ]
  },
  {
   "cell_type": "code",
   "execution_count": 10,
   "metadata": {},
   "outputs": [
    {
     "data": {
      "text/plain": [
       "(['Joshua T. Vogelstein',\n",
       "  'Timothy Verstynen',\n",
       "  'Konrad P. Kording',\n",
       "  'Leyla Isik',\n",
       "  'John W. Krakauer',\n",
       "  'Ralph Etienne-Cummings',\n",
       "  'Elizabeth L. Ogburn',\n",
       "  'Carey E. Priebe',\n",
       "  'Randal Burns',\n",
       "  'Kwame Kutten'],\n",
       " 63)"
      ]
     },
     "execution_count": 10,
     "metadata": {},
     "output_type": "execute_result"
    }
   ],
   "source": [
    "curr_authors_list = [i.strip() for i in curr_authors.split(',')]\n",
    "curr_authors_list[:10], len(curr_authors_list)"
   ]
  },
  {
   "cell_type": "code",
   "execution_count": 11,
   "metadata": {},
   "outputs": [
    {
     "data": {
      "text/plain": [
       "(63,\n",
       " ['Joshua T. Vogelstein',\n",
       "  'Timothy Verstynen',\n",
       "  'Konrad P. Kording',\n",
       "  'Leyla Isik',\n",
       "  'John W. Krakauer',\n",
       "  'Ralph Etienne-Cummings',\n",
       "  'Elizabeth L. Ogburn',\n",
       "  'Carey E. Priebe',\n",
       "  'Randal Burns',\n",
       "  'Kwame Kutten'])"
      ]
     },
     "execution_count": 11,
     "metadata": {},
     "output_type": "execute_result"
    }
   ],
   "source": [
    "len(curr_authors_list), curr_authors_list[:10]"
   ]
  },
  {
   "cell_type": "code",
   "execution_count": 12,
   "metadata": {},
   "outputs": [
    {
     "data": {
      "text/html": [
       "<div>\n",
       "<style scoped>\n",
       "    .dataframe tbody tr th:only-of-type {\n",
       "        vertical-align: middle;\n",
       "    }\n",
       "\n",
       "    .dataframe tbody tr th {\n",
       "        vertical-align: top;\n",
       "    }\n",
       "\n",
       "    .dataframe thead th {\n",
       "        text-align: right;\n",
       "    }\n",
       "</style>\n",
       "<table border=\"1\" class=\"dataframe\">\n",
       "  <thead>\n",
       "    <tr style=\"text-align: right;\">\n",
       "      <th></th>\n",
       "      <th>Name</th>\n",
       "    </tr>\n",
       "  </thead>\n",
       "  <tbody>\n",
       "    <tr>\n",
       "      <th>0</th>\n",
       "      <td>Joshua T. Vogelstein</td>\n",
       "    </tr>\n",
       "    <tr>\n",
       "      <th>1</th>\n",
       "      <td>Timothy Verstynen</td>\n",
       "    </tr>\n",
       "    <tr>\n",
       "      <th>2</th>\n",
       "      <td>Konrad P. Kording</td>\n",
       "    </tr>\n",
       "    <tr>\n",
       "      <th>3</th>\n",
       "      <td>Leyla Isik</td>\n",
       "    </tr>\n",
       "    <tr>\n",
       "      <th>4</th>\n",
       "      <td>John W. Krakauer</td>\n",
       "    </tr>\n",
       "  </tbody>\n",
       "</table>\n",
       "</div>"
      ],
      "text/plain": [
       "                   Name\n",
       "0  Joshua T. Vogelstein\n",
       "1     Timothy Verstynen\n",
       "2     Konrad P. Kording\n",
       "3            Leyla Isik\n",
       "4      John W. Krakauer"
      ]
     },
     "execution_count": 12,
     "metadata": {},
     "output_type": "execute_result"
    }
   ],
   "source": [
    "curr_df = pd.DataFrame(curr_authors_list,columns=['Name'])\n",
    "curr_df.head()"
   ]
  },
  {
   "cell_type": "markdown",
   "metadata": {},
   "source": [
    "#### Join old author list with new author list\n",
    "Old author list has a column for email whereas the new author list only has the name of authors"
   ]
  },
  {
   "cell_type": "code",
   "execution_count": 13,
   "metadata": {},
   "outputs": [],
   "source": [
    "import fuzzymatcher"
   ]
  },
  {
   "cell_type": "code",
   "execution_count": 14,
   "metadata": {},
   "outputs": [
    {
     "data": {
      "text/plain": [
       "(                   Name\n",
       " 0  Joshua T. Vogelstein\n",
       " 1     Timothy Verstynen\n",
       " 2     Konrad P. Kording\n",
       " 3            Leyla Isik\n",
       " 4      John W. Krakauer,\n",
       "               Name          Email\n",
       " 0     Adam Charles    XXX@jhu.edu\n",
       " 1      Adam Kepecs  XXX@gmail.com\n",
       " 2  Alena Savonenko   XXX@jhmi.edu\n",
       " 3        Ali Geisa  XXX@gmail.com\n",
       " 4  Amy Christensen  XXX@gmail.com)"
      ]
     },
     "execution_count": 14,
     "metadata": {},
     "output_type": "execute_result"
    }
   ],
   "source": [
    "curr_df.head(5), df_out.head(5)"
   ]
  },
  {
   "cell_type": "code",
   "execution_count": 15,
   "metadata": {},
   "outputs": [
    {
     "data": {
      "text/plain": [
       "(63, 6)"
      ]
     },
     "execution_count": 15,
     "metadata": {},
     "output_type": "execute_result"
    }
   ],
   "source": [
    "match_result = fuzzymatcher.fuzzy_left_join(\n",
    "    df_left=curr_df, df_right=df_out, \n",
    "    left_on='Name', right_on='Name', \n",
    "    left_id_col='Name', right_id_col='Name')\n",
    "\n",
    "match_result.shape"
   ]
  },
  {
   "cell_type": "code",
   "execution_count": 16,
   "metadata": {},
   "outputs": [
    {
     "data": {
      "text/html": [
       "<div>\n",
       "<style scoped>\n",
       "    .dataframe tbody tr th:only-of-type {\n",
       "        vertical-align: middle;\n",
       "    }\n",
       "\n",
       "    .dataframe tbody tr th {\n",
       "        vertical-align: top;\n",
       "    }\n",
       "\n",
       "    .dataframe thead th {\n",
       "        text-align: right;\n",
       "    }\n",
       "</style>\n",
       "<table border=\"1\" class=\"dataframe\">\n",
       "  <thead>\n",
       "    <tr style=\"text-align: right;\">\n",
       "      <th></th>\n",
       "      <th>best_match_score</th>\n",
       "      <th>__id_left</th>\n",
       "      <th>__id_right</th>\n",
       "      <th>Name_left</th>\n",
       "      <th>Name_right</th>\n",
       "      <th>Email</th>\n",
       "    </tr>\n",
       "  </thead>\n",
       "  <tbody>\n",
       "    <tr>\n",
       "      <th>0</th>\n",
       "      <td>NaN</td>\n",
       "      <td>Joshua T. Vogelstein</td>\n",
       "      <td>None</td>\n",
       "      <td>Joshua T. Vogelstein</td>\n",
       "      <td>NaN</td>\n",
       "      <td>NaN</td>\n",
       "    </tr>\n",
       "    <tr>\n",
       "      <th>1</th>\n",
       "      <td>0.341898</td>\n",
       "      <td>Timothy Verstynen</td>\n",
       "      <td>Timothy Verstynen</td>\n",
       "      <td>Timothy Verstynen</td>\n",
       "      <td>Timothy Verstynen</td>\n",
       "      <td>XXX@gmail.com</td>\n",
       "    </tr>\n",
       "    <tr>\n",
       "      <th>2</th>\n",
       "      <td>0.139637</td>\n",
       "      <td>Konrad P. Kording</td>\n",
       "      <td>Konrad Koerding</td>\n",
       "      <td>Konrad P. Kording</td>\n",
       "      <td>Konrad Koerding</td>\n",
       "      <td>XXX@gmail.com</td>\n",
       "    </tr>\n",
       "    <tr>\n",
       "      <th>3</th>\n",
       "      <td>0.270464</td>\n",
       "      <td>Leyla Isik</td>\n",
       "      <td>Leyla Isik</td>\n",
       "      <td>Leyla Isik</td>\n",
       "      <td>Leyla Isik</td>\n",
       "      <td>XXX@jhu.edu</td>\n",
       "    </tr>\n",
       "    <tr>\n",
       "      <th>4</th>\n",
       "      <td>0.263982</td>\n",
       "      <td>John W. Krakauer</td>\n",
       "      <td>John Krakauer</td>\n",
       "      <td>John W. Krakauer</td>\n",
       "      <td>John Krakauer</td>\n",
       "      <td>XXX@gmail.com</td>\n",
       "    </tr>\n",
       "  </tbody>\n",
       "</table>\n",
       "</div>"
      ],
      "text/plain": [
       "   best_match_score             __id_left         __id_right  \\\n",
       "0               NaN  Joshua T. Vogelstein               None   \n",
       "1          0.341898     Timothy Verstynen  Timothy Verstynen   \n",
       "2          0.139637     Konrad P. Kording    Konrad Koerding   \n",
       "3          0.270464            Leyla Isik         Leyla Isik   \n",
       "4          0.263982      John W. Krakauer      John Krakauer   \n",
       "\n",
       "              Name_left         Name_right          Email  \n",
       "0  Joshua T. Vogelstein                NaN            NaN  \n",
       "1     Timothy Verstynen  Timothy Verstynen  XXX@gmail.com  \n",
       "2     Konrad P. Kording    Konrad Koerding  XXX@gmail.com  \n",
       "3            Leyla Isik         Leyla Isik    XXX@jhu.edu  \n",
       "4      John W. Krakauer      John Krakauer  XXX@gmail.com  "
      ]
     },
     "execution_count": 16,
     "metadata": {},
     "output_type": "execute_result"
    }
   ],
   "source": [
    "match_result.head()"
   ]
  },
  {
   "cell_type": "code",
   "execution_count": 17,
   "metadata": {},
   "outputs": [
    {
     "data": {
      "text/html": [
       "<div>\n",
       "<style scoped>\n",
       "    .dataframe tbody tr th:only-of-type {\n",
       "        vertical-align: middle;\n",
       "    }\n",
       "\n",
       "    .dataframe tbody tr th {\n",
       "        vertical-align: top;\n",
       "    }\n",
       "\n",
       "    .dataframe thead th {\n",
       "        text-align: right;\n",
       "    }\n",
       "</style>\n",
       "<table border=\"1\" class=\"dataframe\">\n",
       "  <thead>\n",
       "    <tr style=\"text-align: right;\">\n",
       "      <th></th>\n",
       "      <th>Name</th>\n",
       "      <th>Email</th>\n",
       "    </tr>\n",
       "  </thead>\n",
       "  <tbody>\n",
       "    <tr>\n",
       "      <th>0</th>\n",
       "      <td>Joshua T. Vogelstein</td>\n",
       "      <td>NaN</td>\n",
       "    </tr>\n",
       "    <tr>\n",
       "      <th>1</th>\n",
       "      <td>Timothy Verstynen</td>\n",
       "      <td>XXX@gmail.com</td>\n",
       "    </tr>\n",
       "    <tr>\n",
       "      <th>2</th>\n",
       "      <td>Konrad P. Kording</td>\n",
       "      <td>XXX@gmail.com</td>\n",
       "    </tr>\n",
       "    <tr>\n",
       "      <th>3</th>\n",
       "      <td>Leyla Isik</td>\n",
       "      <td>XXX@jhu.edu</td>\n",
       "    </tr>\n",
       "    <tr>\n",
       "      <th>4</th>\n",
       "      <td>John W. Krakauer</td>\n",
       "      <td>XXX@gmail.com</td>\n",
       "    </tr>\n",
       "  </tbody>\n",
       "</table>\n",
       "</div>"
      ],
      "text/plain": [
       "                   Name          Email\n",
       "0  Joshua T. Vogelstein            NaN\n",
       "1     Timothy Verstynen  XXX@gmail.com\n",
       "2     Konrad P. Kording  XXX@gmail.com\n",
       "3            Leyla Isik    XXX@jhu.edu\n",
       "4      John W. Krakauer  XXX@gmail.com"
      ]
     },
     "execution_count": 17,
     "metadata": {},
     "output_type": "execute_result"
    }
   ],
   "source": [
    "df_out = match_result[['Name_left', 'Email']]\n",
    "df_out.columns=['Name','Email']\n",
    "df_out.head()"
   ]
  },
  {
   "cell_type": "code",
   "execution_count": 18,
   "metadata": {},
   "outputs": [],
   "source": [
    "# df_out.to_excel('final_output_email_list.xlsx', index=False)"
   ]
  },
  {
   "cell_type": "markdown",
   "metadata": {},
   "source": [
    "#### Manual entry of missing emails"
   ]
  },
  {
   "cell_type": "code",
   "execution_count": 19,
   "metadata": {},
   "outputs": [],
   "source": [
    "df_linear = pd.read_excel('final_output_email_list_post_process.xlsx')"
   ]
  },
  {
   "cell_type": "markdown",
   "metadata": {},
   "source": [
    "#### Linearize email for convenience"
   ]
  },
  {
   "cell_type": "code",
   "execution_count": 20,
   "metadata": {},
   "outputs": [],
   "source": [
    "linear_txt = '; '.join(df_linear['Email'])"
   ]
  },
  {
   "cell_type": "code",
   "execution_count": 21,
   "metadata": {},
   "outputs": [],
   "source": [
    "# output hidden for privacy\n",
    "# linear_txt"
   ]
  },
  {
   "cell_type": "code",
   "execution_count": 22,
   "metadata": {},
   "outputs": [],
   "source": [
    "# with open('for_email.txt', 'w', encoding='utf-8') as f:\n",
    "#     f.write(linear_txt)"
   ]
  },
  {
   "cell_type": "markdown",
   "metadata": {},
   "source": [
    "#### End of Notebook"
   ]
  }
 ],
 "metadata": {
  "kernelspec": {
   "display_name": "Python 3.8.13 ('main')",
   "language": "python",
   "name": "python3"
  },
  "language_info": {
   "codemirror_mode": {
    "name": "ipython",
    "version": 3
   },
   "file_extension": ".py",
   "mimetype": "text/x-python",
   "name": "python",
   "nbconvert_exporter": "python",
   "pygments_lexer": "ipython3",
   "version": "3.8.13"
  },
  "orig_nbformat": 4,
  "vscode": {
   "interpreter": {
    "hash": "5b3e9ff110fca189b640152dbca1582818d88c9c2a9ef25df7a407523fb4d550"
   }
  }
 },
 "nbformat": 4,
 "nbformat_minor": 2
}
