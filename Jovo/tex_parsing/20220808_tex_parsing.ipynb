{
 "cells": [
  {
   "cell_type": "code",
   "execution_count": 10,
   "metadata": {},
   "outputs": [],
   "source": [
    "import pandas as pd\n",
    "import os\n",
    "import re\n",
    "from pandarize.frame import Pandarizer"
   ]
  },
  {
   "cell_type": "markdown",
   "metadata": {},
   "source": [
    "#### Tex file parsing"
   ]
  },
  {
   "cell_type": "code",
   "execution_count": 2,
   "metadata": {},
   "outputs": [
    {
     "name": "stdout",
     "output_type": "stream",
     "text": [
      "section2\\0_abstract.tex\n",
      "section2\\1_intro.tex\n",
      "section2\\2_NI.tex\n",
      "section2\\3_AI.tex\n",
      "section2\\4_disc.tex\n",
      "section2\\diversity.tex\n"
     ]
    }
   ],
   "source": [
    "dirpath = 'section2'\n",
    "lst = []\n",
    "\n",
    "for _, _, files in os.walk(dirpath):\n",
    "    for fn in files:\n",
    "        if os.path.splitext(fn)[1] == '.tex':\n",
    "            filepath = os.path.join(dirpath, fn)\n",
    "            print(filepath)\n",
    "            with open(filepath, 'r') as f:\n",
    "                for l in f.readlines():\n",
    "                    if l[0] != '%':\n",
    "                        lst.append(l.strip())"
   ]
  },
  {
   "cell_type": "code",
   "execution_count": 4,
   "metadata": {},
   "outputs": [
    {
     "name": "stdout",
     "output_type": "stream",
     "text": [
      "Length of the raw list: 104\n",
      "Length after removing duplicates: 92\n"
     ]
    }
   ],
   "source": [
    "output = []\n",
    "\n",
    "for line in lst:\n",
    "    tmp = re.findall('cit(e|et)\\{(.*?)\\}', line)\n",
    "    if tmp:\n",
    "        for t in tmp:\n",
    "            output += t[1].split(',')\n",
    "\n",
    "final = []\n",
    "for i in output:\n",
    "    final += [i.strip()]\n",
    "\n",
    "print(f'Length of the raw list: {len(final)}')\n",
    "\n",
    "df = pd.DataFrame(final, columns=['text']).drop_duplicates('text')\n",
    "\n",
    "print(f'Length after removing duplicates: {df.shape[0]}')"
   ]
  },
  {
   "cell_type": "code",
   "execution_count": 5,
   "metadata": {},
   "outputs": [],
   "source": [
    "df.to_excel('output.xlsx', index=False)"
   ]
  },
  {
   "cell_type": "markdown",
   "metadata": {},
   "source": [
    "#### Bib file parsing"
   ]
  },
  {
   "cell_type": "code",
   "execution_count": 34,
   "metadata": {},
   "outputs": [],
   "source": [
    "bibpath = 'section2/references.bib'\n",
    "bib_out = []\n",
    "keep = False\n",
    "\n",
    "with open(bibpath, 'r') as f:\n",
    "    lines = f.readlines()\n",
    "    for line in lines:\n",
    "        if line[0] == '@':\n",
    "            tmp = line\n",
    "            keep = True\n",
    "            continue\n",
    "        elif line[0] == '}':\n",
    "            tmp += line\n",
    "            keep = False\n",
    "            bib_out.append(tmp)\n",
    "        \n",
    "        if keep:\n",
    "            tmp += line"
   ]
  },
  {
   "cell_type": "code",
   "execution_count": 36,
   "metadata": {},
   "outputs": [
    {
     "data": {
      "text/plain": [
       "'@article{Madry2018-gy,\\n  title={Towards deep learning models resistant to adversarial attacks},\\n  author={Madry, Aleksander and Makelov, Aleksandar and Schmidt, Ludwig and Tsipras, Dimitris and Vladu, Adrian},\\n  journal={arXiv preprint arXiv:1706.06083},\\n  year={2017}\\n}\\n'"
      ]
     },
     "execution_count": 36,
     "metadata": {},
     "output_type": "execute_result"
    }
   ],
   "source": [
    "bib_out[0]"
   ]
  },
  {
   "cell_type": "code",
   "execution_count": 37,
   "metadata": {},
   "outputs": [
    {
     "data": {
      "text/plain": [
       "92"
      ]
     },
     "execution_count": 37,
     "metadata": {},
     "output_type": "execute_result"
    }
   ],
   "source": [
    "authors = df['text'].tolist()\n",
    "bib_final = []\n",
    "\n",
    "for author in authors:\n",
    "    for bib in bib_out:\n",
    "        if author in bib:\n",
    "            bib_final.append(bib)\n",
    "\n",
    "len(bib_final)"
   ]
  },
  {
   "cell_type": "markdown",
   "metadata": {},
   "source": [
    "#### Reconstruct bib files"
   ]
  },
  {
   "cell_type": "code",
   "execution_count": 40,
   "metadata": {},
   "outputs": [],
   "source": [
    "with open('output.bib', 'w') as f:\n",
    "    for line in bib_final:\n",
    "        f.writelines(line)\n",
    "        f.writelines('\\n')"
   ]
  },
  {
   "cell_type": "code",
   "execution_count": 38,
   "metadata": {},
   "outputs": [
    {
     "data": {
      "text/plain": [
       "'@book{kandel2000principles,\\n  title={Principles of neural science},\\n  author={Kandel, Eric R and Schwartz, James H and Jessell, Thomas M and Siegelbaum, Steven and Hudspeth, A James and Mack, Sarah and others},\\n  volume={4},\\n  year={2000},\\n  publisher={McGraw-hill New York}\\n}\\n'"
      ]
     },
     "execution_count": 38,
     "metadata": {},
     "output_type": "execute_result"
    }
   ],
   "source": [
    "bib_final[0]"
   ]
  }
 ],
 "metadata": {
  "kernelspec": {
   "display_name": "Python 3.8.13 ('main')",
   "language": "python",
   "name": "python3"
  },
  "language_info": {
   "codemirror_mode": {
    "name": "ipython",
    "version": 3
   },
   "file_extension": ".py",
   "mimetype": "text/x-python",
   "name": "python",
   "nbconvert_exporter": "python",
   "pygments_lexer": "ipython3",
   "version": "3.8.13"
  },
  "orig_nbformat": 4,
  "vscode": {
   "interpreter": {
    "hash": "5b3e9ff110fca189b640152dbca1582818d88c9c2a9ef25df7a407523fb4d550"
   }
  }
 },
 "nbformat": 4,
 "nbformat_minor": 2
}
