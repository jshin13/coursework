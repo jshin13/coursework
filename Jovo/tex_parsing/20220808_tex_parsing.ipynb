{
 "cells": [
  {
   "cell_type": "code",
   "execution_count": 33,
   "metadata": {},
   "outputs": [],
   "source": [
    "import pandas as pd\n",
    "import os\n",
    "import re"
   ]
  },
  {
   "cell_type": "code",
   "execution_count": 179,
   "metadata": {},
   "outputs": [
    {
     "name": "stdout",
     "output_type": "stream",
     "text": [
      "section2\\0_abstract.tex\n",
      "section2\\1_intro.tex\n",
      "section2\\2_NI.tex\n",
      "section2\\3_AI.tex\n",
      "section2\\4_disc.tex\n",
      "section2\\diversity.tex\n"
     ]
    }
   ],
   "source": [
    "dirpath = 'section2'\n",
    "lst = []\n",
    "\n",
    "for _, _, files in os.walk(dirpath):\n",
    "    for fn in files:\n",
    "        if os.path.splitext(fn)[1] == '.tex':\n",
    "            filepath = os.path.join(dirpath, fn)\n",
    "            print(filepath)\n",
    "            with open(filepath, 'r') as f:\n",
    "                for l in f.readlines():\n",
    "                    if l[0] != '%':\n",
    "                        lst.append(l.strip())"
   ]
  },
  {
   "cell_type": "code",
   "execution_count": 228,
   "metadata": {},
   "outputs": [
    {
     "data": {
      "text/plain": [
       "('e', 'kandel2000principles, bermudez2000cognitive')"
      ]
     },
     "execution_count": 228,
     "metadata": {},
     "output_type": "execute_result"
    }
   ],
   "source": [
    "tmp[0]"
   ]
  },
  {
   "cell_type": "code",
   "execution_count": 232,
   "metadata": {},
   "outputs": [
    {
     "name": "stdout",
     "output_type": "stream",
     "text": [
      "Length of the raw list: 104\n",
      "Length after removing duplicates: 92\n"
     ]
    }
   ],
   "source": [
    "output = []\n",
    "\n",
    "for line in lst:\n",
    "    tmp = re.findall('cit(e|et)\\{(.*?)\\}', line)\n",
    "    if tmp:\n",
    "        for t in tmp:\n",
    "            output += t[1].split(',')\n",
    "\n",
    "final = []\n",
    "for i in output:\n",
    "    final += [i.strip()]\n",
    "\n",
    "print(f'Length of the raw list: {len(final)}')\n",
    "\n",
    "df = pd.DataFrame(final, columns=['text']).drop_duplicates('text')\n",
    "\n",
    "print(f'Length after removing duplicates: {df.shape[0]}')"
   ]
  },
  {
   "cell_type": "code",
   "execution_count": 230,
   "metadata": {},
   "outputs": [],
   "source": [
    "df.to_excel('output.xlsx', index=False)"
   ]
  }
 ],
 "metadata": {
  "kernelspec": {
   "display_name": "Python 3.8.13 ('main')",
   "language": "python",
   "name": "python3"
  },
  "language_info": {
   "codemirror_mode": {
    "name": "ipython",
    "version": 3
   },
   "file_extension": ".py",
   "mimetype": "text/x-python",
   "name": "python",
   "nbconvert_exporter": "python",
   "pygments_lexer": "ipython3",
   "version": "3.8.13"
  },
  "orig_nbformat": 4,
  "vscode": {
   "interpreter": {
    "hash": "5b3e9ff110fca189b640152dbca1582818d88c9c2a9ef25df7a407523fb4d550"
   }
  }
 },
 "nbformat": 4,
 "nbformat_minor": 2
}
