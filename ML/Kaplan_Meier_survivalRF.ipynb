{
  "nbformat": 4,
  "nbformat_minor": 0,
  "metadata": {
    "colab": {
      "name": "Kaplan-Meier_survivalRF.ipynb",
      "provenance": [],
      "collapsed_sections": [],
      "toc_visible": true,
      "include_colab_link": true
    },
    "kernelspec": {
      "name": "python3",
      "display_name": "Python 3"
    },
    "widgets": {
      "application/vnd.jupyter.widget-state+json": {
        "a4c5fe056a764fd59199fae687bc473b": {
          "model_module": "@jupyter-widgets/controls",
          "model_name": "HBoxModel",
          "state": {
            "_view_name": "HBoxView",
            "_dom_classes": [],
            "_model_name": "HBoxModel",
            "_view_module": "@jupyter-widgets/controls",
            "_model_module_version": "1.5.0",
            "_view_count": null,
            "_view_module_version": "1.5.0",
            "box_style": "",
            "layout": "IPY_MODEL_d5314c5183fc43f5937fd866c9522c8a",
            "_model_module": "@jupyter-widgets/controls",
            "children": [
              "IPY_MODEL_ebc0f17608c247f7a73e7bf2d217e745",
              "IPY_MODEL_27a5b24f892348ec9a884d754a4bf529"
            ]
          }
        },
        "d5314c5183fc43f5937fd866c9522c8a": {
          "model_module": "@jupyter-widgets/base",
          "model_name": "LayoutModel",
          "state": {
            "_view_name": "LayoutView",
            "grid_template_rows": null,
            "right": null,
            "justify_content": null,
            "_view_module": "@jupyter-widgets/base",
            "overflow": null,
            "_model_module_version": "1.2.0",
            "_view_count": null,
            "flex_flow": null,
            "width": null,
            "min_width": null,
            "border": null,
            "align_items": null,
            "bottom": null,
            "_model_module": "@jupyter-widgets/base",
            "top": null,
            "grid_column": null,
            "overflow_y": null,
            "overflow_x": null,
            "grid_auto_flow": null,
            "grid_area": null,
            "grid_template_columns": null,
            "flex": null,
            "_model_name": "LayoutModel",
            "justify_items": null,
            "grid_row": null,
            "max_height": null,
            "align_content": null,
            "visibility": null,
            "align_self": null,
            "height": null,
            "min_height": null,
            "padding": null,
            "grid_auto_rows": null,
            "grid_gap": null,
            "max_width": null,
            "order": null,
            "_view_module_version": "1.2.0",
            "grid_template_areas": null,
            "object_position": null,
            "object_fit": null,
            "grid_auto_columns": null,
            "margin": null,
            "display": null,
            "left": null
          }
        },
        "ebc0f17608c247f7a73e7bf2d217e745": {
          "model_module": "@jupyter-widgets/controls",
          "model_name": "FloatProgressModel",
          "state": {
            "_view_name": "ProgressView",
            "style": "IPY_MODEL_d0713f052fee4ab58124ff5317856898",
            "_dom_classes": [],
            "description": "100%",
            "_model_name": "FloatProgressModel",
            "bar_style": "success",
            "max": 148,
            "_view_module": "@jupyter-widgets/controls",
            "_model_module_version": "1.5.0",
            "value": 148,
            "_view_count": null,
            "_view_module_version": "1.5.0",
            "orientation": "horizontal",
            "min": 0,
            "description_tooltip": null,
            "_model_module": "@jupyter-widgets/controls",
            "layout": "IPY_MODEL_3180e19188aa40808ec1eedf20b3d843"
          }
        },
        "27a5b24f892348ec9a884d754a4bf529": {
          "model_module": "@jupyter-widgets/controls",
          "model_name": "HTMLModel",
          "state": {
            "_view_name": "HTMLView",
            "style": "IPY_MODEL_6b2ea6cdfac2445bbfa901ad2f35210c",
            "_dom_classes": [],
            "description": "",
            "_model_name": "HTMLModel",
            "placeholder": "​",
            "_view_module": "@jupyter-widgets/controls",
            "_model_module_version": "1.5.0",
            "value": " 148/148 [02:48&lt;00:00,  1.14s/it]",
            "_view_count": null,
            "_view_module_version": "1.5.0",
            "description_tooltip": null,
            "_model_module": "@jupyter-widgets/controls",
            "layout": "IPY_MODEL_7a1137d817da4ce2a6f99fdb542116a3"
          }
        },
        "d0713f052fee4ab58124ff5317856898": {
          "model_module": "@jupyter-widgets/controls",
          "model_name": "ProgressStyleModel",
          "state": {
            "_view_name": "StyleView",
            "_model_name": "ProgressStyleModel",
            "description_width": "initial",
            "_view_module": "@jupyter-widgets/base",
            "_model_module_version": "1.5.0",
            "_view_count": null,
            "_view_module_version": "1.2.0",
            "bar_color": null,
            "_model_module": "@jupyter-widgets/controls"
          }
        },
        "3180e19188aa40808ec1eedf20b3d843": {
          "model_module": "@jupyter-widgets/base",
          "model_name": "LayoutModel",
          "state": {
            "_view_name": "LayoutView",
            "grid_template_rows": null,
            "right": null,
            "justify_content": null,
            "_view_module": "@jupyter-widgets/base",
            "overflow": null,
            "_model_module_version": "1.2.0",
            "_view_count": null,
            "flex_flow": null,
            "width": null,
            "min_width": null,
            "border": null,
            "align_items": null,
            "bottom": null,
            "_model_module": "@jupyter-widgets/base",
            "top": null,
            "grid_column": null,
            "overflow_y": null,
            "overflow_x": null,
            "grid_auto_flow": null,
            "grid_area": null,
            "grid_template_columns": null,
            "flex": null,
            "_model_name": "LayoutModel",
            "justify_items": null,
            "grid_row": null,
            "max_height": null,
            "align_content": null,
            "visibility": null,
            "align_self": null,
            "height": null,
            "min_height": null,
            "padding": null,
            "grid_auto_rows": null,
            "grid_gap": null,
            "max_width": null,
            "order": null,
            "_view_module_version": "1.2.0",
            "grid_template_areas": null,
            "object_position": null,
            "object_fit": null,
            "grid_auto_columns": null,
            "margin": null,
            "display": null,
            "left": null
          }
        },
        "6b2ea6cdfac2445bbfa901ad2f35210c": {
          "model_module": "@jupyter-widgets/controls",
          "model_name": "DescriptionStyleModel",
          "state": {
            "_view_name": "StyleView",
            "_model_name": "DescriptionStyleModel",
            "description_width": "",
            "_view_module": "@jupyter-widgets/base",
            "_model_module_version": "1.5.0",
            "_view_count": null,
            "_view_module_version": "1.2.0",
            "_model_module": "@jupyter-widgets/controls"
          }
        },
        "7a1137d817da4ce2a6f99fdb542116a3": {
          "model_module": "@jupyter-widgets/base",
          "model_name": "LayoutModel",
          "state": {
            "_view_name": "LayoutView",
            "grid_template_rows": null,
            "right": null,
            "justify_content": null,
            "_view_module": "@jupyter-widgets/base",
            "overflow": null,
            "_model_module_version": "1.2.0",
            "_view_count": null,
            "flex_flow": null,
            "width": null,
            "min_width": null,
            "border": null,
            "align_items": null,
            "bottom": null,
            "_model_module": "@jupyter-widgets/base",
            "top": null,
            "grid_column": null,
            "overflow_y": null,
            "overflow_x": null,
            "grid_auto_flow": null,
            "grid_area": null,
            "grid_template_columns": null,
            "flex": null,
            "_model_name": "LayoutModel",
            "justify_items": null,
            "grid_row": null,
            "max_height": null,
            "align_content": null,
            "visibility": null,
            "align_self": null,
            "height": null,
            "min_height": null,
            "padding": null,
            "grid_auto_rows": null,
            "grid_gap": null,
            "max_width": null,
            "order": null,
            "_view_module_version": "1.2.0",
            "grid_template_areas": null,
            "object_position": null,
            "object_fit": null,
            "grid_auto_columns": null,
            "margin": null,
            "display": null,
            "left": null
          }
        },
        "85e56463d03c4ff8aff4d6c3c5b8f67f": {
          "model_module": "@jupyter-widgets/controls",
          "model_name": "HBoxModel",
          "state": {
            "_view_name": "HBoxView",
            "_dom_classes": [],
            "_model_name": "HBoxModel",
            "_view_module": "@jupyter-widgets/controls",
            "_model_module_version": "1.5.0",
            "_view_count": null,
            "_view_module_version": "1.5.0",
            "box_style": "",
            "layout": "IPY_MODEL_0446490c24d842ee844fc138caac8660",
            "_model_module": "@jupyter-widgets/controls",
            "children": [
              "IPY_MODEL_d1c63114b0e14071b18b276353845788",
              "IPY_MODEL_ae76c1d3eb6f460ca707cebcdcb73620"
            ]
          }
        },
        "0446490c24d842ee844fc138caac8660": {
          "model_module": "@jupyter-widgets/base",
          "model_name": "LayoutModel",
          "state": {
            "_view_name": "LayoutView",
            "grid_template_rows": null,
            "right": null,
            "justify_content": null,
            "_view_module": "@jupyter-widgets/base",
            "overflow": null,
            "_model_module_version": "1.2.0",
            "_view_count": null,
            "flex_flow": null,
            "width": null,
            "min_width": null,
            "border": null,
            "align_items": null,
            "bottom": null,
            "_model_module": "@jupyter-widgets/base",
            "top": null,
            "grid_column": null,
            "overflow_y": null,
            "overflow_x": null,
            "grid_auto_flow": null,
            "grid_area": null,
            "grid_template_columns": null,
            "flex": null,
            "_model_name": "LayoutModel",
            "justify_items": null,
            "grid_row": null,
            "max_height": null,
            "align_content": null,
            "visibility": null,
            "align_self": null,
            "height": null,
            "min_height": null,
            "padding": null,
            "grid_auto_rows": null,
            "grid_gap": null,
            "max_width": null,
            "order": null,
            "_view_module_version": "1.2.0",
            "grid_template_areas": null,
            "object_position": null,
            "object_fit": null,
            "grid_auto_columns": null,
            "margin": null,
            "display": null,
            "left": null
          }
        },
        "d1c63114b0e14071b18b276353845788": {
          "model_module": "@jupyter-widgets/controls",
          "model_name": "FloatProgressModel",
          "state": {
            "_view_name": "ProgressView",
            "style": "IPY_MODEL_4a0f4c8e0efd4379b3599c25cc6d81d6",
            "_dom_classes": [],
            "description": "100%",
            "_model_name": "FloatProgressModel",
            "bar_style": "success",
            "max": 112,
            "_view_module": "@jupyter-widgets/controls",
            "_model_module_version": "1.5.0",
            "value": 112,
            "_view_count": null,
            "_view_module_version": "1.5.0",
            "orientation": "horizontal",
            "min": 0,
            "description_tooltip": null,
            "_model_module": "@jupyter-widgets/controls",
            "layout": "IPY_MODEL_6bec273fdc8d43aa92ff191c98e40097"
          }
        },
        "ae76c1d3eb6f460ca707cebcdcb73620": {
          "model_module": "@jupyter-widgets/controls",
          "model_name": "HTMLModel",
          "state": {
            "_view_name": "HTMLView",
            "style": "IPY_MODEL_d8fb14216dcb4f1e880f959244de659f",
            "_dom_classes": [],
            "description": "",
            "_model_name": "HTMLModel",
            "placeholder": "​",
            "_view_module": "@jupyter-widgets/controls",
            "_model_module_version": "1.5.0",
            "value": " 112/112 [01:48&lt;00:00,  1.04it/s]",
            "_view_count": null,
            "_view_module_version": "1.5.0",
            "description_tooltip": null,
            "_model_module": "@jupyter-widgets/controls",
            "layout": "IPY_MODEL_f72b09ca164042658a6115ff7c2961ee"
          }
        },
        "4a0f4c8e0efd4379b3599c25cc6d81d6": {
          "model_module": "@jupyter-widgets/controls",
          "model_name": "ProgressStyleModel",
          "state": {
            "_view_name": "StyleView",
            "_model_name": "ProgressStyleModel",
            "description_width": "initial",
            "_view_module": "@jupyter-widgets/base",
            "_model_module_version": "1.5.0",
            "_view_count": null,
            "_view_module_version": "1.2.0",
            "bar_color": null,
            "_model_module": "@jupyter-widgets/controls"
          }
        },
        "6bec273fdc8d43aa92ff191c98e40097": {
          "model_module": "@jupyter-widgets/base",
          "model_name": "LayoutModel",
          "state": {
            "_view_name": "LayoutView",
            "grid_template_rows": null,
            "right": null,
            "justify_content": null,
            "_view_module": "@jupyter-widgets/base",
            "overflow": null,
            "_model_module_version": "1.2.0",
            "_view_count": null,
            "flex_flow": null,
            "width": null,
            "min_width": null,
            "border": null,
            "align_items": null,
            "bottom": null,
            "_model_module": "@jupyter-widgets/base",
            "top": null,
            "grid_column": null,
            "overflow_y": null,
            "overflow_x": null,
            "grid_auto_flow": null,
            "grid_area": null,
            "grid_template_columns": null,
            "flex": null,
            "_model_name": "LayoutModel",
            "justify_items": null,
            "grid_row": null,
            "max_height": null,
            "align_content": null,
            "visibility": null,
            "align_self": null,
            "height": null,
            "min_height": null,
            "padding": null,
            "grid_auto_rows": null,
            "grid_gap": null,
            "max_width": null,
            "order": null,
            "_view_module_version": "1.2.0",
            "grid_template_areas": null,
            "object_position": null,
            "object_fit": null,
            "grid_auto_columns": null,
            "margin": null,
            "display": null,
            "left": null
          }
        },
        "d8fb14216dcb4f1e880f959244de659f": {
          "model_module": "@jupyter-widgets/controls",
          "model_name": "DescriptionStyleModel",
          "state": {
            "_view_name": "StyleView",
            "_model_name": "DescriptionStyleModel",
            "description_width": "",
            "_view_module": "@jupyter-widgets/base",
            "_model_module_version": "1.5.0",
            "_view_count": null,
            "_view_module_version": "1.2.0",
            "_model_module": "@jupyter-widgets/controls"
          }
        },
        "f72b09ca164042658a6115ff7c2961ee": {
          "model_module": "@jupyter-widgets/base",
          "model_name": "LayoutModel",
          "state": {
            "_view_name": "LayoutView",
            "grid_template_rows": null,
            "right": null,
            "justify_content": null,
            "_view_module": "@jupyter-widgets/base",
            "overflow": null,
            "_model_module_version": "1.2.0",
            "_view_count": null,
            "flex_flow": null,
            "width": null,
            "min_width": null,
            "border": null,
            "align_items": null,
            "bottom": null,
            "_model_module": "@jupyter-widgets/base",
            "top": null,
            "grid_column": null,
            "overflow_y": null,
            "overflow_x": null,
            "grid_auto_flow": null,
            "grid_area": null,
            "grid_template_columns": null,
            "flex": null,
            "_model_name": "LayoutModel",
            "justify_items": null,
            "grid_row": null,
            "max_height": null,
            "align_content": null,
            "visibility": null,
            "align_self": null,
            "height": null,
            "min_height": null,
            "padding": null,
            "grid_auto_rows": null,
            "grid_gap": null,
            "max_width": null,
            "order": null,
            "_view_module_version": "1.2.0",
            "grid_template_areas": null,
            "object_position": null,
            "object_fit": null,
            "grid_auto_columns": null,
            "margin": null,
            "display": null,
            "left": null
          }
        },
        "960ce947857c418d86f4c2786b53bfd3": {
          "model_module": "@jupyter-widgets/controls",
          "model_name": "HBoxModel",
          "state": {
            "_view_name": "HBoxView",
            "_dom_classes": [],
            "_model_name": "HBoxModel",
            "_view_module": "@jupyter-widgets/controls",
            "_model_module_version": "1.5.0",
            "_view_count": null,
            "_view_module_version": "1.5.0",
            "box_style": "",
            "layout": "IPY_MODEL_5b0673ea67c649279a68b306253bbaac",
            "_model_module": "@jupyter-widgets/controls",
            "children": [
              "IPY_MODEL_e72901ffb9314501b11e5a3dea22f3e4",
              "IPY_MODEL_c47346999e374dd58ae14e97d985153c"
            ]
          }
        },
        "5b0673ea67c649279a68b306253bbaac": {
          "model_module": "@jupyter-widgets/base",
          "model_name": "LayoutModel",
          "state": {
            "_view_name": "LayoutView",
            "grid_template_rows": null,
            "right": null,
            "justify_content": null,
            "_view_module": "@jupyter-widgets/base",
            "overflow": null,
            "_model_module_version": "1.2.0",
            "_view_count": null,
            "flex_flow": null,
            "width": null,
            "min_width": null,
            "border": null,
            "align_items": null,
            "bottom": null,
            "_model_module": "@jupyter-widgets/base",
            "top": null,
            "grid_column": null,
            "overflow_y": null,
            "overflow_x": null,
            "grid_auto_flow": null,
            "grid_area": null,
            "grid_template_columns": null,
            "flex": null,
            "_model_name": "LayoutModel",
            "justify_items": null,
            "grid_row": null,
            "max_height": null,
            "align_content": null,
            "visibility": null,
            "align_self": null,
            "height": null,
            "min_height": null,
            "padding": null,
            "grid_auto_rows": null,
            "grid_gap": null,
            "max_width": null,
            "order": null,
            "_view_module_version": "1.2.0",
            "grid_template_areas": null,
            "object_position": null,
            "object_fit": null,
            "grid_auto_columns": null,
            "margin": null,
            "display": null,
            "left": null
          }
        },
        "e72901ffb9314501b11e5a3dea22f3e4": {
          "model_module": "@jupyter-widgets/controls",
          "model_name": "FloatProgressModel",
          "state": {
            "_view_name": "ProgressView",
            "style": "IPY_MODEL_70f8b0425aa94d5085d595d3a3e6c950",
            "_dom_classes": [],
            "description": "100%",
            "_model_name": "FloatProgressModel",
            "bar_style": "success",
            "max": 70,
            "_view_module": "@jupyter-widgets/controls",
            "_model_module_version": "1.5.0",
            "value": 70,
            "_view_count": null,
            "_view_module_version": "1.5.0",
            "orientation": "horizontal",
            "min": 0,
            "description_tooltip": null,
            "_model_module": "@jupyter-widgets/controls",
            "layout": "IPY_MODEL_8bc0b4056a754e70be9ad8b0592fd778"
          }
        },
        "c47346999e374dd58ae14e97d985153c": {
          "model_module": "@jupyter-widgets/controls",
          "model_name": "HTMLModel",
          "state": {
            "_view_name": "HTMLView",
            "style": "IPY_MODEL_ec90d43dcd154844b23bf400556b0ba8",
            "_dom_classes": [],
            "description": "",
            "_model_name": "HTMLModel",
            "placeholder": "​",
            "_view_module": "@jupyter-widgets/controls",
            "_model_module_version": "1.5.0",
            "value": " 70/70 [01:13&lt;00:00,  1.06s/it]",
            "_view_count": null,
            "_view_module_version": "1.5.0",
            "description_tooltip": null,
            "_model_module": "@jupyter-widgets/controls",
            "layout": "IPY_MODEL_512ee778c5ae40468b8405c796b4a3b2"
          }
        },
        "70f8b0425aa94d5085d595d3a3e6c950": {
          "model_module": "@jupyter-widgets/controls",
          "model_name": "ProgressStyleModel",
          "state": {
            "_view_name": "StyleView",
            "_model_name": "ProgressStyleModel",
            "description_width": "initial",
            "_view_module": "@jupyter-widgets/base",
            "_model_module_version": "1.5.0",
            "_view_count": null,
            "_view_module_version": "1.2.0",
            "bar_color": null,
            "_model_module": "@jupyter-widgets/controls"
          }
        },
        "8bc0b4056a754e70be9ad8b0592fd778": {
          "model_module": "@jupyter-widgets/base",
          "model_name": "LayoutModel",
          "state": {
            "_view_name": "LayoutView",
            "grid_template_rows": null,
            "right": null,
            "justify_content": null,
            "_view_module": "@jupyter-widgets/base",
            "overflow": null,
            "_model_module_version": "1.2.0",
            "_view_count": null,
            "flex_flow": null,
            "width": null,
            "min_width": null,
            "border": null,
            "align_items": null,
            "bottom": null,
            "_model_module": "@jupyter-widgets/base",
            "top": null,
            "grid_column": null,
            "overflow_y": null,
            "overflow_x": null,
            "grid_auto_flow": null,
            "grid_area": null,
            "grid_template_columns": null,
            "flex": null,
            "_model_name": "LayoutModel",
            "justify_items": null,
            "grid_row": null,
            "max_height": null,
            "align_content": null,
            "visibility": null,
            "align_self": null,
            "height": null,
            "min_height": null,
            "padding": null,
            "grid_auto_rows": null,
            "grid_gap": null,
            "max_width": null,
            "order": null,
            "_view_module_version": "1.2.0",
            "grid_template_areas": null,
            "object_position": null,
            "object_fit": null,
            "grid_auto_columns": null,
            "margin": null,
            "display": null,
            "left": null
          }
        },
        "ec90d43dcd154844b23bf400556b0ba8": {
          "model_module": "@jupyter-widgets/controls",
          "model_name": "DescriptionStyleModel",
          "state": {
            "_view_name": "StyleView",
            "_model_name": "DescriptionStyleModel",
            "description_width": "",
            "_view_module": "@jupyter-widgets/base",
            "_model_module_version": "1.5.0",
            "_view_count": null,
            "_view_module_version": "1.2.0",
            "_model_module": "@jupyter-widgets/controls"
          }
        },
        "512ee778c5ae40468b8405c796b4a3b2": {
          "model_module": "@jupyter-widgets/base",
          "model_name": "LayoutModel",
          "state": {
            "_view_name": "LayoutView",
            "grid_template_rows": null,
            "right": null,
            "justify_content": null,
            "_view_module": "@jupyter-widgets/base",
            "overflow": null,
            "_model_module_version": "1.2.0",
            "_view_count": null,
            "flex_flow": null,
            "width": null,
            "min_width": null,
            "border": null,
            "align_items": null,
            "bottom": null,
            "_model_module": "@jupyter-widgets/base",
            "top": null,
            "grid_column": null,
            "overflow_y": null,
            "overflow_x": null,
            "grid_auto_flow": null,
            "grid_area": null,
            "grid_template_columns": null,
            "flex": null,
            "_model_name": "LayoutModel",
            "justify_items": null,
            "grid_row": null,
            "max_height": null,
            "align_content": null,
            "visibility": null,
            "align_self": null,
            "height": null,
            "min_height": null,
            "padding": null,
            "grid_auto_rows": null,
            "grid_gap": null,
            "max_width": null,
            "order": null,
            "_view_module_version": "1.2.0",
            "grid_template_areas": null,
            "object_position": null,
            "object_fit": null,
            "grid_auto_columns": null,
            "margin": null,
            "display": null,
            "left": null
          }
        },
        "016da6da4ca04099b284814a0d18fc07": {
          "model_module": "@jupyter-widgets/controls",
          "model_name": "HBoxModel",
          "state": {
            "_view_name": "HBoxView",
            "_dom_classes": [],
            "_model_name": "HBoxModel",
            "_view_module": "@jupyter-widgets/controls",
            "_model_module_version": "1.5.0",
            "_view_count": null,
            "_view_module_version": "1.5.0",
            "box_style": "",
            "layout": "IPY_MODEL_cc533e3f7dae499d9d0913231d8d5295",
            "_model_module": "@jupyter-widgets/controls",
            "children": [
              "IPY_MODEL_ba9fcb912768417cbca2f0256a74ff28",
              "IPY_MODEL_4e82c05a08974a57a8d024e1cdbb2d01"
            ]
          }
        },
        "cc533e3f7dae499d9d0913231d8d5295": {
          "model_module": "@jupyter-widgets/base",
          "model_name": "LayoutModel",
          "state": {
            "_view_name": "LayoutView",
            "grid_template_rows": null,
            "right": null,
            "justify_content": null,
            "_view_module": "@jupyter-widgets/base",
            "overflow": null,
            "_model_module_version": "1.2.0",
            "_view_count": null,
            "flex_flow": null,
            "width": null,
            "min_width": null,
            "border": null,
            "align_items": null,
            "bottom": null,
            "_model_module": "@jupyter-widgets/base",
            "top": null,
            "grid_column": null,
            "overflow_y": null,
            "overflow_x": null,
            "grid_auto_flow": null,
            "grid_area": null,
            "grid_template_columns": null,
            "flex": null,
            "_model_name": "LayoutModel",
            "justify_items": null,
            "grid_row": null,
            "max_height": null,
            "align_content": null,
            "visibility": null,
            "align_self": null,
            "height": null,
            "min_height": null,
            "padding": null,
            "grid_auto_rows": null,
            "grid_gap": null,
            "max_width": null,
            "order": null,
            "_view_module_version": "1.2.0",
            "grid_template_areas": null,
            "object_position": null,
            "object_fit": null,
            "grid_auto_columns": null,
            "margin": null,
            "display": null,
            "left": null
          }
        },
        "ba9fcb912768417cbca2f0256a74ff28": {
          "model_module": "@jupyter-widgets/controls",
          "model_name": "FloatProgressModel",
          "state": {
            "_view_name": "ProgressView",
            "style": "IPY_MODEL_ecb625d2dffb4f158c75b25e74ee607e",
            "_dom_classes": [],
            "description": "100%",
            "_model_name": "FloatProgressModel",
            "bar_style": "success",
            "max": 75,
            "_view_module": "@jupyter-widgets/controls",
            "_model_module_version": "1.5.0",
            "value": 75,
            "_view_count": null,
            "_view_module_version": "1.5.0",
            "orientation": "horizontal",
            "min": 0,
            "description_tooltip": null,
            "_model_module": "@jupyter-widgets/controls",
            "layout": "IPY_MODEL_b6b820e84b134db6bdbab6c20d3967bb"
          }
        },
        "4e82c05a08974a57a8d024e1cdbb2d01": {
          "model_module": "@jupyter-widgets/controls",
          "model_name": "HTMLModel",
          "state": {
            "_view_name": "HTMLView",
            "style": "IPY_MODEL_4a574e3849eb49a6b2a87a90b20915ce",
            "_dom_classes": [],
            "description": "",
            "_model_name": "HTMLModel",
            "placeholder": "​",
            "_view_module": "@jupyter-widgets/controls",
            "_model_module_version": "1.5.0",
            "value": " 75/75 [01:00&lt;00:00,  1.24it/s]",
            "_view_count": null,
            "_view_module_version": "1.5.0",
            "description_tooltip": null,
            "_model_module": "@jupyter-widgets/controls",
            "layout": "IPY_MODEL_224471ab0a384112a73b70d9c0792833"
          }
        },
        "ecb625d2dffb4f158c75b25e74ee607e": {
          "model_module": "@jupyter-widgets/controls",
          "model_name": "ProgressStyleModel",
          "state": {
            "_view_name": "StyleView",
            "_model_name": "ProgressStyleModel",
            "description_width": "initial",
            "_view_module": "@jupyter-widgets/base",
            "_model_module_version": "1.5.0",
            "_view_count": null,
            "_view_module_version": "1.2.0",
            "bar_color": null,
            "_model_module": "@jupyter-widgets/controls"
          }
        },
        "b6b820e84b134db6bdbab6c20d3967bb": {
          "model_module": "@jupyter-widgets/base",
          "model_name": "LayoutModel",
          "state": {
            "_view_name": "LayoutView",
            "grid_template_rows": null,
            "right": null,
            "justify_content": null,
            "_view_module": "@jupyter-widgets/base",
            "overflow": null,
            "_model_module_version": "1.2.0",
            "_view_count": null,
            "flex_flow": null,
            "width": null,
            "min_width": null,
            "border": null,
            "align_items": null,
            "bottom": null,
            "_model_module": "@jupyter-widgets/base",
            "top": null,
            "grid_column": null,
            "overflow_y": null,
            "overflow_x": null,
            "grid_auto_flow": null,
            "grid_area": null,
            "grid_template_columns": null,
            "flex": null,
            "_model_name": "LayoutModel",
            "justify_items": null,
            "grid_row": null,
            "max_height": null,
            "align_content": null,
            "visibility": null,
            "align_self": null,
            "height": null,
            "min_height": null,
            "padding": null,
            "grid_auto_rows": null,
            "grid_gap": null,
            "max_width": null,
            "order": null,
            "_view_module_version": "1.2.0",
            "grid_template_areas": null,
            "object_position": null,
            "object_fit": null,
            "grid_auto_columns": null,
            "margin": null,
            "display": null,
            "left": null
          }
        },
        "4a574e3849eb49a6b2a87a90b20915ce": {
          "model_module": "@jupyter-widgets/controls",
          "model_name": "DescriptionStyleModel",
          "state": {
            "_view_name": "StyleView",
            "_model_name": "DescriptionStyleModel",
            "description_width": "",
            "_view_module": "@jupyter-widgets/base",
            "_model_module_version": "1.5.0",
            "_view_count": null,
            "_view_module_version": "1.2.0",
            "_model_module": "@jupyter-widgets/controls"
          }
        },
        "224471ab0a384112a73b70d9c0792833": {
          "model_module": "@jupyter-widgets/base",
          "model_name": "LayoutModel",
          "state": {
            "_view_name": "LayoutView",
            "grid_template_rows": null,
            "right": null,
            "justify_content": null,
            "_view_module": "@jupyter-widgets/base",
            "overflow": null,
            "_model_module_version": "1.2.0",
            "_view_count": null,
            "flex_flow": null,
            "width": null,
            "min_width": null,
            "border": null,
            "align_items": null,
            "bottom": null,
            "_model_module": "@jupyter-widgets/base",
            "top": null,
            "grid_column": null,
            "overflow_y": null,
            "overflow_x": null,
            "grid_auto_flow": null,
            "grid_area": null,
            "grid_template_columns": null,
            "flex": null,
            "_model_name": "LayoutModel",
            "justify_items": null,
            "grid_row": null,
            "max_height": null,
            "align_content": null,
            "visibility": null,
            "align_self": null,
            "height": null,
            "min_height": null,
            "padding": null,
            "grid_auto_rows": null,
            "grid_gap": null,
            "max_width": null,
            "order": null,
            "_view_module_version": "1.2.0",
            "grid_template_areas": null,
            "object_position": null,
            "object_fit": null,
            "grid_auto_columns": null,
            "margin": null,
            "display": null,
            "left": null
          }
        },
        "6a0140ea7d204bd1bbff8f135b7b39b1": {
          "model_module": "@jupyter-widgets/controls",
          "model_name": "HBoxModel",
          "state": {
            "_view_name": "HBoxView",
            "_dom_classes": [],
            "_model_name": "HBoxModel",
            "_view_module": "@jupyter-widgets/controls",
            "_model_module_version": "1.5.0",
            "_view_count": null,
            "_view_module_version": "1.5.0",
            "box_style": "",
            "layout": "IPY_MODEL_e855efa08cbc4f2ca549bf64caf0f8fe",
            "_model_module": "@jupyter-widgets/controls",
            "children": [
              "IPY_MODEL_c1c88e93c52943c586163c9a4fe35f4d",
              "IPY_MODEL_2f2d769f32f34e788e13bd047c4580ca"
            ]
          }
        },
        "e855efa08cbc4f2ca549bf64caf0f8fe": {
          "model_module": "@jupyter-widgets/base",
          "model_name": "LayoutModel",
          "state": {
            "_view_name": "LayoutView",
            "grid_template_rows": null,
            "right": null,
            "justify_content": null,
            "_view_module": "@jupyter-widgets/base",
            "overflow": null,
            "_model_module_version": "1.2.0",
            "_view_count": null,
            "flex_flow": null,
            "width": null,
            "min_width": null,
            "border": null,
            "align_items": null,
            "bottom": null,
            "_model_module": "@jupyter-widgets/base",
            "top": null,
            "grid_column": null,
            "overflow_y": null,
            "overflow_x": null,
            "grid_auto_flow": null,
            "grid_area": null,
            "grid_template_columns": null,
            "flex": null,
            "_model_name": "LayoutModel",
            "justify_items": null,
            "grid_row": null,
            "max_height": null,
            "align_content": null,
            "visibility": null,
            "align_self": null,
            "height": null,
            "min_height": null,
            "padding": null,
            "grid_auto_rows": null,
            "grid_gap": null,
            "max_width": null,
            "order": null,
            "_view_module_version": "1.2.0",
            "grid_template_areas": null,
            "object_position": null,
            "object_fit": null,
            "grid_auto_columns": null,
            "margin": null,
            "display": null,
            "left": null
          }
        },
        "c1c88e93c52943c586163c9a4fe35f4d": {
          "model_module": "@jupyter-widgets/controls",
          "model_name": "FloatProgressModel",
          "state": {
            "_view_name": "ProgressView",
            "style": "IPY_MODEL_865c3832eaab462fb5aad349c3e3aa01",
            "_dom_classes": [],
            "description": "100%",
            "_model_name": "FloatProgressModel",
            "bar_style": "success",
            "max": 117,
            "_view_module": "@jupyter-widgets/controls",
            "_model_module_version": "1.5.0",
            "value": 117,
            "_view_count": null,
            "_view_module_version": "1.5.0",
            "orientation": "horizontal",
            "min": 0,
            "description_tooltip": null,
            "_model_module": "@jupyter-widgets/controls",
            "layout": "IPY_MODEL_5f372f9252e04ce4b44d6549e2297f91"
          }
        },
        "2f2d769f32f34e788e13bd047c4580ca": {
          "model_module": "@jupyter-widgets/controls",
          "model_name": "HTMLModel",
          "state": {
            "_view_name": "HTMLView",
            "style": "IPY_MODEL_85142d57e06b444f85ffd27f683ed2fc",
            "_dom_classes": [],
            "description": "",
            "_model_name": "HTMLModel",
            "placeholder": "​",
            "_view_module": "@jupyter-widgets/controls",
            "_model_module_version": "1.5.0",
            "value": " 117/117 [00:45&lt;00:00,  2.59it/s]",
            "_view_count": null,
            "_view_module_version": "1.5.0",
            "description_tooltip": null,
            "_model_module": "@jupyter-widgets/controls",
            "layout": "IPY_MODEL_8b91f5635155415db88197f7be870929"
          }
        },
        "865c3832eaab462fb5aad349c3e3aa01": {
          "model_module": "@jupyter-widgets/controls",
          "model_name": "ProgressStyleModel",
          "state": {
            "_view_name": "StyleView",
            "_model_name": "ProgressStyleModel",
            "description_width": "initial",
            "_view_module": "@jupyter-widgets/base",
            "_model_module_version": "1.5.0",
            "_view_count": null,
            "_view_module_version": "1.2.0",
            "bar_color": null,
            "_model_module": "@jupyter-widgets/controls"
          }
        },
        "5f372f9252e04ce4b44d6549e2297f91": {
          "model_module": "@jupyter-widgets/base",
          "model_name": "LayoutModel",
          "state": {
            "_view_name": "LayoutView",
            "grid_template_rows": null,
            "right": null,
            "justify_content": null,
            "_view_module": "@jupyter-widgets/base",
            "overflow": null,
            "_model_module_version": "1.2.0",
            "_view_count": null,
            "flex_flow": null,
            "width": null,
            "min_width": null,
            "border": null,
            "align_items": null,
            "bottom": null,
            "_model_module": "@jupyter-widgets/base",
            "top": null,
            "grid_column": null,
            "overflow_y": null,
            "overflow_x": null,
            "grid_auto_flow": null,
            "grid_area": null,
            "grid_template_columns": null,
            "flex": null,
            "_model_name": "LayoutModel",
            "justify_items": null,
            "grid_row": null,
            "max_height": null,
            "align_content": null,
            "visibility": null,
            "align_self": null,
            "height": null,
            "min_height": null,
            "padding": null,
            "grid_auto_rows": null,
            "grid_gap": null,
            "max_width": null,
            "order": null,
            "_view_module_version": "1.2.0",
            "grid_template_areas": null,
            "object_position": null,
            "object_fit": null,
            "grid_auto_columns": null,
            "margin": null,
            "display": null,
            "left": null
          }
        },
        "85142d57e06b444f85ffd27f683ed2fc": {
          "model_module": "@jupyter-widgets/controls",
          "model_name": "DescriptionStyleModel",
          "state": {
            "_view_name": "StyleView",
            "_model_name": "DescriptionStyleModel",
            "description_width": "",
            "_view_module": "@jupyter-widgets/base",
            "_model_module_version": "1.5.0",
            "_view_count": null,
            "_view_module_version": "1.2.0",
            "_model_module": "@jupyter-widgets/controls"
          }
        },
        "8b91f5635155415db88197f7be870929": {
          "model_module": "@jupyter-widgets/base",
          "model_name": "LayoutModel",
          "state": {
            "_view_name": "LayoutView",
            "grid_template_rows": null,
            "right": null,
            "justify_content": null,
            "_view_module": "@jupyter-widgets/base",
            "overflow": null,
            "_model_module_version": "1.2.0",
            "_view_count": null,
            "flex_flow": null,
            "width": null,
            "min_width": null,
            "border": null,
            "align_items": null,
            "bottom": null,
            "_model_module": "@jupyter-widgets/base",
            "top": null,
            "grid_column": null,
            "overflow_y": null,
            "overflow_x": null,
            "grid_auto_flow": null,
            "grid_area": null,
            "grid_template_columns": null,
            "flex": null,
            "_model_name": "LayoutModel",
            "justify_items": null,
            "grid_row": null,
            "max_height": null,
            "align_content": null,
            "visibility": null,
            "align_self": null,
            "height": null,
            "min_height": null,
            "padding": null,
            "grid_auto_rows": null,
            "grid_gap": null,
            "max_width": null,
            "order": null,
            "_view_module_version": "1.2.0",
            "grid_template_areas": null,
            "object_position": null,
            "object_fit": null,
            "grid_auto_columns": null,
            "margin": null,
            "display": null,
            "left": null
          }
        },
        "bab48e93b83043bb883f766d7602749a": {
          "model_module": "@jupyter-widgets/controls",
          "model_name": "HBoxModel",
          "state": {
            "_view_name": "HBoxView",
            "_dom_classes": [],
            "_model_name": "HBoxModel",
            "_view_module": "@jupyter-widgets/controls",
            "_model_module_version": "1.5.0",
            "_view_count": null,
            "_view_module_version": "1.5.0",
            "box_style": "",
            "layout": "IPY_MODEL_b9b6a4fa7682447396ef887308a6cd7f",
            "_model_module": "@jupyter-widgets/controls",
            "children": [
              "IPY_MODEL_500dd5b444e54642afd00d4890c601f6",
              "IPY_MODEL_133d3b79d6f84daeac0a54871b879612"
            ]
          }
        },
        "b9b6a4fa7682447396ef887308a6cd7f": {
          "model_module": "@jupyter-widgets/base",
          "model_name": "LayoutModel",
          "state": {
            "_view_name": "LayoutView",
            "grid_template_rows": null,
            "right": null,
            "justify_content": null,
            "_view_module": "@jupyter-widgets/base",
            "overflow": null,
            "_model_module_version": "1.2.0",
            "_view_count": null,
            "flex_flow": null,
            "width": null,
            "min_width": null,
            "border": null,
            "align_items": null,
            "bottom": null,
            "_model_module": "@jupyter-widgets/base",
            "top": null,
            "grid_column": null,
            "overflow_y": null,
            "overflow_x": null,
            "grid_auto_flow": null,
            "grid_area": null,
            "grid_template_columns": null,
            "flex": null,
            "_model_name": "LayoutModel",
            "justify_items": null,
            "grid_row": null,
            "max_height": null,
            "align_content": null,
            "visibility": null,
            "align_self": null,
            "height": null,
            "min_height": null,
            "padding": null,
            "grid_auto_rows": null,
            "grid_gap": null,
            "max_width": null,
            "order": null,
            "_view_module_version": "1.2.0",
            "grid_template_areas": null,
            "object_position": null,
            "object_fit": null,
            "grid_auto_columns": null,
            "margin": null,
            "display": null,
            "left": null
          }
        },
        "500dd5b444e54642afd00d4890c601f6": {
          "model_module": "@jupyter-widgets/controls",
          "model_name": "FloatProgressModel",
          "state": {
            "_view_name": "ProgressView",
            "style": "IPY_MODEL_ce636eac49984a67ace80dc29ee29517",
            "_dom_classes": [],
            "description": "100%",
            "_model_name": "FloatProgressModel",
            "bar_style": "success",
            "max": 108,
            "_view_module": "@jupyter-widgets/controls",
            "_model_module_version": "1.5.0",
            "value": 108,
            "_view_count": null,
            "_view_module_version": "1.5.0",
            "orientation": "horizontal",
            "min": 0,
            "description_tooltip": null,
            "_model_module": "@jupyter-widgets/controls",
            "layout": "IPY_MODEL_f8237b36dde5470aa451a2cd8de44d75"
          }
        },
        "133d3b79d6f84daeac0a54871b879612": {
          "model_module": "@jupyter-widgets/controls",
          "model_name": "HTMLModel",
          "state": {
            "_view_name": "HTMLView",
            "style": "IPY_MODEL_fac205d8e66946f9a8b4290c850e5a1f",
            "_dom_classes": [],
            "description": "",
            "_model_name": "HTMLModel",
            "placeholder": "​",
            "_view_module": "@jupyter-widgets/controls",
            "_model_module_version": "1.5.0",
            "value": " 108/108 [25:56&lt;00:00, 14.41s/it]",
            "_view_count": null,
            "_view_module_version": "1.5.0",
            "description_tooltip": null,
            "_model_module": "@jupyter-widgets/controls",
            "layout": "IPY_MODEL_b4f855003ad348c2b31f1c05ef34a38f"
          }
        },
        "ce636eac49984a67ace80dc29ee29517": {
          "model_module": "@jupyter-widgets/controls",
          "model_name": "ProgressStyleModel",
          "state": {
            "_view_name": "StyleView",
            "_model_name": "ProgressStyleModel",
            "description_width": "initial",
            "_view_module": "@jupyter-widgets/base",
            "_model_module_version": "1.5.0",
            "_view_count": null,
            "_view_module_version": "1.2.0",
            "bar_color": null,
            "_model_module": "@jupyter-widgets/controls"
          }
        },
        "f8237b36dde5470aa451a2cd8de44d75": {
          "model_module": "@jupyter-widgets/base",
          "model_name": "LayoutModel",
          "state": {
            "_view_name": "LayoutView",
            "grid_template_rows": null,
            "right": null,
            "justify_content": null,
            "_view_module": "@jupyter-widgets/base",
            "overflow": null,
            "_model_module_version": "1.2.0",
            "_view_count": null,
            "flex_flow": null,
            "width": null,
            "min_width": null,
            "border": null,
            "align_items": null,
            "bottom": null,
            "_model_module": "@jupyter-widgets/base",
            "top": null,
            "grid_column": null,
            "overflow_y": null,
            "overflow_x": null,
            "grid_auto_flow": null,
            "grid_area": null,
            "grid_template_columns": null,
            "flex": null,
            "_model_name": "LayoutModel",
            "justify_items": null,
            "grid_row": null,
            "max_height": null,
            "align_content": null,
            "visibility": null,
            "align_self": null,
            "height": null,
            "min_height": null,
            "padding": null,
            "grid_auto_rows": null,
            "grid_gap": null,
            "max_width": null,
            "order": null,
            "_view_module_version": "1.2.0",
            "grid_template_areas": null,
            "object_position": null,
            "object_fit": null,
            "grid_auto_columns": null,
            "margin": null,
            "display": null,
            "left": null
          }
        },
        "fac205d8e66946f9a8b4290c850e5a1f": {
          "model_module": "@jupyter-widgets/controls",
          "model_name": "DescriptionStyleModel",
          "state": {
            "_view_name": "StyleView",
            "_model_name": "DescriptionStyleModel",
            "description_width": "",
            "_view_module": "@jupyter-widgets/base",
            "_model_module_version": "1.5.0",
            "_view_count": null,
            "_view_module_version": "1.2.0",
            "_model_module": "@jupyter-widgets/controls"
          }
        },
        "b4f855003ad348c2b31f1c05ef34a38f": {
          "model_module": "@jupyter-widgets/base",
          "model_name": "LayoutModel",
          "state": {
            "_view_name": "LayoutView",
            "grid_template_rows": null,
            "right": null,
            "justify_content": null,
            "_view_module": "@jupyter-widgets/base",
            "overflow": null,
            "_model_module_version": "1.2.0",
            "_view_count": null,
            "flex_flow": null,
            "width": null,
            "min_width": null,
            "border": null,
            "align_items": null,
            "bottom": null,
            "_model_module": "@jupyter-widgets/base",
            "top": null,
            "grid_column": null,
            "overflow_y": null,
            "overflow_x": null,
            "grid_auto_flow": null,
            "grid_area": null,
            "grid_template_columns": null,
            "flex": null,
            "_model_name": "LayoutModel",
            "justify_items": null,
            "grid_row": null,
            "max_height": null,
            "align_content": null,
            "visibility": null,
            "align_self": null,
            "height": null,
            "min_height": null,
            "padding": null,
            "grid_auto_rows": null,
            "grid_gap": null,
            "max_width": null,
            "order": null,
            "_view_module_version": "1.2.0",
            "grid_template_areas": null,
            "object_position": null,
            "object_fit": null,
            "grid_auto_columns": null,
            "margin": null,
            "display": null,
            "left": null
          }
        },
        "2e3ba190b9cd4a3989037f9fa2bd287e": {
          "model_module": "@jupyter-widgets/controls",
          "model_name": "HBoxModel",
          "state": {
            "_view_name": "HBoxView",
            "_dom_classes": [],
            "_model_name": "HBoxModel",
            "_view_module": "@jupyter-widgets/controls",
            "_model_module_version": "1.5.0",
            "_view_count": null,
            "_view_module_version": "1.5.0",
            "box_style": "",
            "layout": "IPY_MODEL_78a8283761fb4efc9c12d79877e882b1",
            "_model_module": "@jupyter-widgets/controls",
            "children": [
              "IPY_MODEL_d3f14517875f4926b7ce8ef419079da8",
              "IPY_MODEL_a348927ccc7248248e737ce2d4d1a4fa"
            ]
          }
        },
        "78a8283761fb4efc9c12d79877e882b1": {
          "model_module": "@jupyter-widgets/base",
          "model_name": "LayoutModel",
          "state": {
            "_view_name": "LayoutView",
            "grid_template_rows": null,
            "right": null,
            "justify_content": null,
            "_view_module": "@jupyter-widgets/base",
            "overflow": null,
            "_model_module_version": "1.2.0",
            "_view_count": null,
            "flex_flow": null,
            "width": null,
            "min_width": null,
            "border": null,
            "align_items": null,
            "bottom": null,
            "_model_module": "@jupyter-widgets/base",
            "top": null,
            "grid_column": null,
            "overflow_y": null,
            "overflow_x": null,
            "grid_auto_flow": null,
            "grid_area": null,
            "grid_template_columns": null,
            "flex": null,
            "_model_name": "LayoutModel",
            "justify_items": null,
            "grid_row": null,
            "max_height": null,
            "align_content": null,
            "visibility": null,
            "align_self": null,
            "height": null,
            "min_height": null,
            "padding": null,
            "grid_auto_rows": null,
            "grid_gap": null,
            "max_width": null,
            "order": null,
            "_view_module_version": "1.2.0",
            "grid_template_areas": null,
            "object_position": null,
            "object_fit": null,
            "grid_auto_columns": null,
            "margin": null,
            "display": null,
            "left": null
          }
        },
        "d3f14517875f4926b7ce8ef419079da8": {
          "model_module": "@jupyter-widgets/controls",
          "model_name": "FloatProgressModel",
          "state": {
            "_view_name": "ProgressView",
            "style": "IPY_MODEL_e7b9d08cca3c48faa618543f7041baf0",
            "_dom_classes": [],
            "description": "100%",
            "_model_name": "FloatProgressModel",
            "bar_style": "success",
            "max": 89,
            "_view_module": "@jupyter-widgets/controls",
            "_model_module_version": "1.5.0",
            "value": 89,
            "_view_count": null,
            "_view_module_version": "1.5.0",
            "orientation": "horizontal",
            "min": 0,
            "description_tooltip": null,
            "_model_module": "@jupyter-widgets/controls",
            "layout": "IPY_MODEL_3e4111ef91b84000973f521c729b2588"
          }
        },
        "a348927ccc7248248e737ce2d4d1a4fa": {
          "model_module": "@jupyter-widgets/controls",
          "model_name": "HTMLModel",
          "state": {
            "_view_name": "HTMLView",
            "style": "IPY_MODEL_cd02f7fc097f40a69b55d5602b4abc6c",
            "_dom_classes": [],
            "description": "",
            "_model_name": "HTMLModel",
            "placeholder": "​",
            "_view_module": "@jupyter-widgets/controls",
            "_model_module_version": "1.5.0",
            "value": " 89/89 [25:23&lt;00:00, 17.12s/it]",
            "_view_count": null,
            "_view_module_version": "1.5.0",
            "description_tooltip": null,
            "_model_module": "@jupyter-widgets/controls",
            "layout": "IPY_MODEL_20a68afbfdab4b959c2fb0cd1aeac331"
          }
        },
        "e7b9d08cca3c48faa618543f7041baf0": {
          "model_module": "@jupyter-widgets/controls",
          "model_name": "ProgressStyleModel",
          "state": {
            "_view_name": "StyleView",
            "_model_name": "ProgressStyleModel",
            "description_width": "initial",
            "_view_module": "@jupyter-widgets/base",
            "_model_module_version": "1.5.0",
            "_view_count": null,
            "_view_module_version": "1.2.0",
            "bar_color": null,
            "_model_module": "@jupyter-widgets/controls"
          }
        },
        "3e4111ef91b84000973f521c729b2588": {
          "model_module": "@jupyter-widgets/base",
          "model_name": "LayoutModel",
          "state": {
            "_view_name": "LayoutView",
            "grid_template_rows": null,
            "right": null,
            "justify_content": null,
            "_view_module": "@jupyter-widgets/base",
            "overflow": null,
            "_model_module_version": "1.2.0",
            "_view_count": null,
            "flex_flow": null,
            "width": null,
            "min_width": null,
            "border": null,
            "align_items": null,
            "bottom": null,
            "_model_module": "@jupyter-widgets/base",
            "top": null,
            "grid_column": null,
            "overflow_y": null,
            "overflow_x": null,
            "grid_auto_flow": null,
            "grid_area": null,
            "grid_template_columns": null,
            "flex": null,
            "_model_name": "LayoutModel",
            "justify_items": null,
            "grid_row": null,
            "max_height": null,
            "align_content": null,
            "visibility": null,
            "align_self": null,
            "height": null,
            "min_height": null,
            "padding": null,
            "grid_auto_rows": null,
            "grid_gap": null,
            "max_width": null,
            "order": null,
            "_view_module_version": "1.2.0",
            "grid_template_areas": null,
            "object_position": null,
            "object_fit": null,
            "grid_auto_columns": null,
            "margin": null,
            "display": null,
            "left": null
          }
        },
        "cd02f7fc097f40a69b55d5602b4abc6c": {
          "model_module": "@jupyter-widgets/controls",
          "model_name": "DescriptionStyleModel",
          "state": {
            "_view_name": "StyleView",
            "_model_name": "DescriptionStyleModel",
            "description_width": "",
            "_view_module": "@jupyter-widgets/base",
            "_model_module_version": "1.5.0",
            "_view_count": null,
            "_view_module_version": "1.2.0",
            "_model_module": "@jupyter-widgets/controls"
          }
        },
        "20a68afbfdab4b959c2fb0cd1aeac331": {
          "model_module": "@jupyter-widgets/base",
          "model_name": "LayoutModel",
          "state": {
            "_view_name": "LayoutView",
            "grid_template_rows": null,
            "right": null,
            "justify_content": null,
            "_view_module": "@jupyter-widgets/base",
            "overflow": null,
            "_model_module_version": "1.2.0",
            "_view_count": null,
            "flex_flow": null,
            "width": null,
            "min_width": null,
            "border": null,
            "align_items": null,
            "bottom": null,
            "_model_module": "@jupyter-widgets/base",
            "top": null,
            "grid_column": null,
            "overflow_y": null,
            "overflow_x": null,
            "grid_auto_flow": null,
            "grid_area": null,
            "grid_template_columns": null,
            "flex": null,
            "_model_name": "LayoutModel",
            "justify_items": null,
            "grid_row": null,
            "max_height": null,
            "align_content": null,
            "visibility": null,
            "align_self": null,
            "height": null,
            "min_height": null,
            "padding": null,
            "grid_auto_rows": null,
            "grid_gap": null,
            "max_width": null,
            "order": null,
            "_view_module_version": "1.2.0",
            "grid_template_areas": null,
            "object_position": null,
            "object_fit": null,
            "grid_auto_columns": null,
            "margin": null,
            "display": null,
            "left": null
          }
        },
        "279ba71eed794689a23c7af7b92e62e0": {
          "model_module": "@jupyter-widgets/controls",
          "model_name": "HBoxModel",
          "state": {
            "_view_name": "HBoxView",
            "_dom_classes": [],
            "_model_name": "HBoxModel",
            "_view_module": "@jupyter-widgets/controls",
            "_model_module_version": "1.5.0",
            "_view_count": null,
            "_view_module_version": "1.5.0",
            "box_style": "",
            "layout": "IPY_MODEL_2a052cbddbd8484fa8bba3928f629dbb",
            "_model_module": "@jupyter-widgets/controls",
            "children": [
              "IPY_MODEL_65104482ec6a431eaa455cb82fb919c5",
              "IPY_MODEL_40bee992f50d4cf7b959036d7de746e5"
            ]
          }
        },
        "2a052cbddbd8484fa8bba3928f629dbb": {
          "model_module": "@jupyter-widgets/base",
          "model_name": "LayoutModel",
          "state": {
            "_view_name": "LayoutView",
            "grid_template_rows": null,
            "right": null,
            "justify_content": null,
            "_view_module": "@jupyter-widgets/base",
            "overflow": null,
            "_model_module_version": "1.2.0",
            "_view_count": null,
            "flex_flow": null,
            "width": null,
            "min_width": null,
            "border": null,
            "align_items": null,
            "bottom": null,
            "_model_module": "@jupyter-widgets/base",
            "top": null,
            "grid_column": null,
            "overflow_y": null,
            "overflow_x": null,
            "grid_auto_flow": null,
            "grid_area": null,
            "grid_template_columns": null,
            "flex": null,
            "_model_name": "LayoutModel",
            "justify_items": null,
            "grid_row": null,
            "max_height": null,
            "align_content": null,
            "visibility": null,
            "align_self": null,
            "height": null,
            "min_height": null,
            "padding": null,
            "grid_auto_rows": null,
            "grid_gap": null,
            "max_width": null,
            "order": null,
            "_view_module_version": "1.2.0",
            "grid_template_areas": null,
            "object_position": null,
            "object_fit": null,
            "grid_auto_columns": null,
            "margin": null,
            "display": null,
            "left": null
          }
        },
        "65104482ec6a431eaa455cb82fb919c5": {
          "model_module": "@jupyter-widgets/controls",
          "model_name": "FloatProgressModel",
          "state": {
            "_view_name": "ProgressView",
            "style": "IPY_MODEL_e1f619f2cb374c21a33113811d01d31b",
            "_dom_classes": [],
            "description": "100%",
            "_model_name": "FloatProgressModel",
            "bar_style": "success",
            "max": 148,
            "_view_module": "@jupyter-widgets/controls",
            "_model_module_version": "1.5.0",
            "value": 148,
            "_view_count": null,
            "_view_module_version": "1.5.0",
            "orientation": "horizontal",
            "min": 0,
            "description_tooltip": null,
            "_model_module": "@jupyter-widgets/controls",
            "layout": "IPY_MODEL_c46e6da206dc46078f89f0f17cb2f47c"
          }
        },
        "40bee992f50d4cf7b959036d7de746e5": {
          "model_module": "@jupyter-widgets/controls",
          "model_name": "HTMLModel",
          "state": {
            "_view_name": "HTMLView",
            "style": "IPY_MODEL_d42fb736f5d0422c96391877bd69e9de",
            "_dom_classes": [],
            "description": "",
            "_model_name": "HTMLModel",
            "placeholder": "​",
            "_view_module": "@jupyter-widgets/controls",
            "_model_module_version": "1.5.0",
            "value": " 148/148 [25:01&lt;00:00, 10.15s/it]",
            "_view_count": null,
            "_view_module_version": "1.5.0",
            "description_tooltip": null,
            "_model_module": "@jupyter-widgets/controls",
            "layout": "IPY_MODEL_1123e1cbbc5d468096cd065c10ecb35c"
          }
        },
        "e1f619f2cb374c21a33113811d01d31b": {
          "model_module": "@jupyter-widgets/controls",
          "model_name": "ProgressStyleModel",
          "state": {
            "_view_name": "StyleView",
            "_model_name": "ProgressStyleModel",
            "description_width": "initial",
            "_view_module": "@jupyter-widgets/base",
            "_model_module_version": "1.5.0",
            "_view_count": null,
            "_view_module_version": "1.2.0",
            "bar_color": null,
            "_model_module": "@jupyter-widgets/controls"
          }
        },
        "c46e6da206dc46078f89f0f17cb2f47c": {
          "model_module": "@jupyter-widgets/base",
          "model_name": "LayoutModel",
          "state": {
            "_view_name": "LayoutView",
            "grid_template_rows": null,
            "right": null,
            "justify_content": null,
            "_view_module": "@jupyter-widgets/base",
            "overflow": null,
            "_model_module_version": "1.2.0",
            "_view_count": null,
            "flex_flow": null,
            "width": null,
            "min_width": null,
            "border": null,
            "align_items": null,
            "bottom": null,
            "_model_module": "@jupyter-widgets/base",
            "top": null,
            "grid_column": null,
            "overflow_y": null,
            "overflow_x": null,
            "grid_auto_flow": null,
            "grid_area": null,
            "grid_template_columns": null,
            "flex": null,
            "_model_name": "LayoutModel",
            "justify_items": null,
            "grid_row": null,
            "max_height": null,
            "align_content": null,
            "visibility": null,
            "align_self": null,
            "height": null,
            "min_height": null,
            "padding": null,
            "grid_auto_rows": null,
            "grid_gap": null,
            "max_width": null,
            "order": null,
            "_view_module_version": "1.2.0",
            "grid_template_areas": null,
            "object_position": null,
            "object_fit": null,
            "grid_auto_columns": null,
            "margin": null,
            "display": null,
            "left": null
          }
        },
        "d42fb736f5d0422c96391877bd69e9de": {
          "model_module": "@jupyter-widgets/controls",
          "model_name": "DescriptionStyleModel",
          "state": {
            "_view_name": "StyleView",
            "_model_name": "DescriptionStyleModel",
            "description_width": "",
            "_view_module": "@jupyter-widgets/base",
            "_model_module_version": "1.5.0",
            "_view_count": null,
            "_view_module_version": "1.2.0",
            "_model_module": "@jupyter-widgets/controls"
          }
        },
        "1123e1cbbc5d468096cd065c10ecb35c": {
          "model_module": "@jupyter-widgets/base",
          "model_name": "LayoutModel",
          "state": {
            "_view_name": "LayoutView",
            "grid_template_rows": null,
            "right": null,
            "justify_content": null,
            "_view_module": "@jupyter-widgets/base",
            "overflow": null,
            "_model_module_version": "1.2.0",
            "_view_count": null,
            "flex_flow": null,
            "width": null,
            "min_width": null,
            "border": null,
            "align_items": null,
            "bottom": null,
            "_model_module": "@jupyter-widgets/base",
            "top": null,
            "grid_column": null,
            "overflow_y": null,
            "overflow_x": null,
            "grid_auto_flow": null,
            "grid_area": null,
            "grid_template_columns": null,
            "flex": null,
            "_model_name": "LayoutModel",
            "justify_items": null,
            "grid_row": null,
            "max_height": null,
            "align_content": null,
            "visibility": null,
            "align_self": null,
            "height": null,
            "min_height": null,
            "padding": null,
            "grid_auto_rows": null,
            "grid_gap": null,
            "max_width": null,
            "order": null,
            "_view_module_version": "1.2.0",
            "grid_template_areas": null,
            "object_position": null,
            "object_fit": null,
            "grid_auto_columns": null,
            "margin": null,
            "display": null,
            "left": null
          }
        },
        "efe1cff1ca064b61b8d5146c89b3f813": {
          "model_module": "@jupyter-widgets/controls",
          "model_name": "HBoxModel",
          "state": {
            "_view_name": "HBoxView",
            "_dom_classes": [],
            "_model_name": "HBoxModel",
            "_view_module": "@jupyter-widgets/controls",
            "_model_module_version": "1.5.0",
            "_view_count": null,
            "_view_module_version": "1.5.0",
            "box_style": "",
            "layout": "IPY_MODEL_4da9a23a3350423e913514953fa6d716",
            "_model_module": "@jupyter-widgets/controls",
            "children": [
              "IPY_MODEL_8177f08d4b30437aa880f996bdaf9d35",
              "IPY_MODEL_e4001cca02004eaa91f5e74e856f1780"
            ]
          }
        },
        "4da9a23a3350423e913514953fa6d716": {
          "model_module": "@jupyter-widgets/base",
          "model_name": "LayoutModel",
          "state": {
            "_view_name": "LayoutView",
            "grid_template_rows": null,
            "right": null,
            "justify_content": null,
            "_view_module": "@jupyter-widgets/base",
            "overflow": null,
            "_model_module_version": "1.2.0",
            "_view_count": null,
            "flex_flow": null,
            "width": null,
            "min_width": null,
            "border": null,
            "align_items": null,
            "bottom": null,
            "_model_module": "@jupyter-widgets/base",
            "top": null,
            "grid_column": null,
            "overflow_y": null,
            "overflow_x": null,
            "grid_auto_flow": null,
            "grid_area": null,
            "grid_template_columns": null,
            "flex": null,
            "_model_name": "LayoutModel",
            "justify_items": null,
            "grid_row": null,
            "max_height": null,
            "align_content": null,
            "visibility": null,
            "align_self": null,
            "height": null,
            "min_height": null,
            "padding": null,
            "grid_auto_rows": null,
            "grid_gap": null,
            "max_width": null,
            "order": null,
            "_view_module_version": "1.2.0",
            "grid_template_areas": null,
            "object_position": null,
            "object_fit": null,
            "grid_auto_columns": null,
            "margin": null,
            "display": null,
            "left": null
          }
        },
        "8177f08d4b30437aa880f996bdaf9d35": {
          "model_module": "@jupyter-widgets/controls",
          "model_name": "FloatProgressModel",
          "state": {
            "_view_name": "ProgressView",
            "style": "IPY_MODEL_395397268a524b7c9a6f41a3f8fa623e",
            "_dom_classes": [],
            "description": "100%",
            "_model_name": "FloatProgressModel",
            "bar_style": "success",
            "max": 239,
            "_view_module": "@jupyter-widgets/controls",
            "_model_module_version": "1.5.0",
            "value": 239,
            "_view_count": null,
            "_view_module_version": "1.5.0",
            "orientation": "horizontal",
            "min": 0,
            "description_tooltip": null,
            "_model_module": "@jupyter-widgets/controls",
            "layout": "IPY_MODEL_26c71108e85448129ba1b761746c2d25"
          }
        },
        "e4001cca02004eaa91f5e74e856f1780": {
          "model_module": "@jupyter-widgets/controls",
          "model_name": "HTMLModel",
          "state": {
            "_view_name": "HTMLView",
            "style": "IPY_MODEL_bec8a4876ec44c4e9e529a20abba2294",
            "_dom_classes": [],
            "description": "",
            "_model_name": "HTMLModel",
            "placeholder": "​",
            "_view_module": "@jupyter-widgets/controls",
            "_model_module_version": "1.5.0",
            "value": " 239/239 [07:45&lt;00:00,  1.95s/it]",
            "_view_count": null,
            "_view_module_version": "1.5.0",
            "description_tooltip": null,
            "_model_module": "@jupyter-widgets/controls",
            "layout": "IPY_MODEL_1527ce88d68f47368da5e00972b48ef6"
          }
        },
        "395397268a524b7c9a6f41a3f8fa623e": {
          "model_module": "@jupyter-widgets/controls",
          "model_name": "ProgressStyleModel",
          "state": {
            "_view_name": "StyleView",
            "_model_name": "ProgressStyleModel",
            "description_width": "initial",
            "_view_module": "@jupyter-widgets/base",
            "_model_module_version": "1.5.0",
            "_view_count": null,
            "_view_module_version": "1.2.0",
            "bar_color": null,
            "_model_module": "@jupyter-widgets/controls"
          }
        },
        "26c71108e85448129ba1b761746c2d25": {
          "model_module": "@jupyter-widgets/base",
          "model_name": "LayoutModel",
          "state": {
            "_view_name": "LayoutView",
            "grid_template_rows": null,
            "right": null,
            "justify_content": null,
            "_view_module": "@jupyter-widgets/base",
            "overflow": null,
            "_model_module_version": "1.2.0",
            "_view_count": null,
            "flex_flow": null,
            "width": null,
            "min_width": null,
            "border": null,
            "align_items": null,
            "bottom": null,
            "_model_module": "@jupyter-widgets/base",
            "top": null,
            "grid_column": null,
            "overflow_y": null,
            "overflow_x": null,
            "grid_auto_flow": null,
            "grid_area": null,
            "grid_template_columns": null,
            "flex": null,
            "_model_name": "LayoutModel",
            "justify_items": null,
            "grid_row": null,
            "max_height": null,
            "align_content": null,
            "visibility": null,
            "align_self": null,
            "height": null,
            "min_height": null,
            "padding": null,
            "grid_auto_rows": null,
            "grid_gap": null,
            "max_width": null,
            "order": null,
            "_view_module_version": "1.2.0",
            "grid_template_areas": null,
            "object_position": null,
            "object_fit": null,
            "grid_auto_columns": null,
            "margin": null,
            "display": null,
            "left": null
          }
        },
        "bec8a4876ec44c4e9e529a20abba2294": {
          "model_module": "@jupyter-widgets/controls",
          "model_name": "DescriptionStyleModel",
          "state": {
            "_view_name": "StyleView",
            "_model_name": "DescriptionStyleModel",
            "description_width": "",
            "_view_module": "@jupyter-widgets/base",
            "_model_module_version": "1.5.0",
            "_view_count": null,
            "_view_module_version": "1.2.0",
            "_model_module": "@jupyter-widgets/controls"
          }
        },
        "1527ce88d68f47368da5e00972b48ef6": {
          "model_module": "@jupyter-widgets/base",
          "model_name": "LayoutModel",
          "state": {
            "_view_name": "LayoutView",
            "grid_template_rows": null,
            "right": null,
            "justify_content": null,
            "_view_module": "@jupyter-widgets/base",
            "overflow": null,
            "_model_module_version": "1.2.0",
            "_view_count": null,
            "flex_flow": null,
            "width": null,
            "min_width": null,
            "border": null,
            "align_items": null,
            "bottom": null,
            "_model_module": "@jupyter-widgets/base",
            "top": null,
            "grid_column": null,
            "overflow_y": null,
            "overflow_x": null,
            "grid_auto_flow": null,
            "grid_area": null,
            "grid_template_columns": null,
            "flex": null,
            "_model_name": "LayoutModel",
            "justify_items": null,
            "grid_row": null,
            "max_height": null,
            "align_content": null,
            "visibility": null,
            "align_self": null,
            "height": null,
            "min_height": null,
            "padding": null,
            "grid_auto_rows": null,
            "grid_gap": null,
            "max_width": null,
            "order": null,
            "_view_module_version": "1.2.0",
            "grid_template_areas": null,
            "object_position": null,
            "object_fit": null,
            "grid_auto_columns": null,
            "margin": null,
            "display": null,
            "left": null
          }
        },
        "ac9d662cce25429eb81be8c5e6c5ff20": {
          "model_module": "@jupyter-widgets/controls",
          "model_name": "HBoxModel",
          "state": {
            "_view_name": "HBoxView",
            "_dom_classes": [],
            "_model_name": "HBoxModel",
            "_view_module": "@jupyter-widgets/controls",
            "_model_module_version": "1.5.0",
            "_view_count": null,
            "_view_module_version": "1.5.0",
            "box_style": "",
            "layout": "IPY_MODEL_0c5984381f9f408a9f7719a936fb0273",
            "_model_module": "@jupyter-widgets/controls",
            "children": [
              "IPY_MODEL_ca328c73922a42ffb53223c799e57e42",
              "IPY_MODEL_290516eed8884b7ca4d0bc6fdb46c9f5"
            ]
          }
        },
        "0c5984381f9f408a9f7719a936fb0273": {
          "model_module": "@jupyter-widgets/base",
          "model_name": "LayoutModel",
          "state": {
            "_view_name": "LayoutView",
            "grid_template_rows": null,
            "right": null,
            "justify_content": null,
            "_view_module": "@jupyter-widgets/base",
            "overflow": null,
            "_model_module_version": "1.2.0",
            "_view_count": null,
            "flex_flow": null,
            "width": null,
            "min_width": null,
            "border": null,
            "align_items": null,
            "bottom": null,
            "_model_module": "@jupyter-widgets/base",
            "top": null,
            "grid_column": null,
            "overflow_y": null,
            "overflow_x": null,
            "grid_auto_flow": null,
            "grid_area": null,
            "grid_template_columns": null,
            "flex": null,
            "_model_name": "LayoutModel",
            "justify_items": null,
            "grid_row": null,
            "max_height": null,
            "align_content": null,
            "visibility": null,
            "align_self": null,
            "height": null,
            "min_height": null,
            "padding": null,
            "grid_auto_rows": null,
            "grid_gap": null,
            "max_width": null,
            "order": null,
            "_view_module_version": "1.2.0",
            "grid_template_areas": null,
            "object_position": null,
            "object_fit": null,
            "grid_auto_columns": null,
            "margin": null,
            "display": null,
            "left": null
          }
        },
        "ca328c73922a42ffb53223c799e57e42": {
          "model_module": "@jupyter-widgets/controls",
          "model_name": "FloatProgressModel",
          "state": {
            "_view_name": "ProgressView",
            "style": "IPY_MODEL_2d6d5e857ad844deba851505b5a89b0b",
            "_dom_classes": [],
            "description": "100%",
            "_model_name": "FloatProgressModel",
            "bar_style": "success",
            "max": 60,
            "_view_module": "@jupyter-widgets/controls",
            "_model_module_version": "1.5.0",
            "value": 60,
            "_view_count": null,
            "_view_module_version": "1.5.0",
            "orientation": "horizontal",
            "min": 0,
            "description_tooltip": null,
            "_model_module": "@jupyter-widgets/controls",
            "layout": "IPY_MODEL_cc4069a7612c4bdca93290e5e1702b6b"
          }
        },
        "290516eed8884b7ca4d0bc6fdb46c9f5": {
          "model_module": "@jupyter-widgets/controls",
          "model_name": "HTMLModel",
          "state": {
            "_view_name": "HTMLView",
            "style": "IPY_MODEL_19dd155200884aa1ba52caa03d59d877",
            "_dom_classes": [],
            "description": "",
            "_model_name": "HTMLModel",
            "placeholder": "​",
            "_view_module": "@jupyter-widgets/controls",
            "_model_module_version": "1.5.0",
            "value": " 60/60 [00:29&lt;00:00,  2.03it/s]",
            "_view_count": null,
            "_view_module_version": "1.5.0",
            "description_tooltip": null,
            "_model_module": "@jupyter-widgets/controls",
            "layout": "IPY_MODEL_9af5f63c578e48a69e44cd199d3d96bd"
          }
        },
        "2d6d5e857ad844deba851505b5a89b0b": {
          "model_module": "@jupyter-widgets/controls",
          "model_name": "ProgressStyleModel",
          "state": {
            "_view_name": "StyleView",
            "_model_name": "ProgressStyleModel",
            "description_width": "initial",
            "_view_module": "@jupyter-widgets/base",
            "_model_module_version": "1.5.0",
            "_view_count": null,
            "_view_module_version": "1.2.0",
            "bar_color": null,
            "_model_module": "@jupyter-widgets/controls"
          }
        },
        "cc4069a7612c4bdca93290e5e1702b6b": {
          "model_module": "@jupyter-widgets/base",
          "model_name": "LayoutModel",
          "state": {
            "_view_name": "LayoutView",
            "grid_template_rows": null,
            "right": null,
            "justify_content": null,
            "_view_module": "@jupyter-widgets/base",
            "overflow": null,
            "_model_module_version": "1.2.0",
            "_view_count": null,
            "flex_flow": null,
            "width": null,
            "min_width": null,
            "border": null,
            "align_items": null,
            "bottom": null,
            "_model_module": "@jupyter-widgets/base",
            "top": null,
            "grid_column": null,
            "overflow_y": null,
            "overflow_x": null,
            "grid_auto_flow": null,
            "grid_area": null,
            "grid_template_columns": null,
            "flex": null,
            "_model_name": "LayoutModel",
            "justify_items": null,
            "grid_row": null,
            "max_height": null,
            "align_content": null,
            "visibility": null,
            "align_self": null,
            "height": null,
            "min_height": null,
            "padding": null,
            "grid_auto_rows": null,
            "grid_gap": null,
            "max_width": null,
            "order": null,
            "_view_module_version": "1.2.0",
            "grid_template_areas": null,
            "object_position": null,
            "object_fit": null,
            "grid_auto_columns": null,
            "margin": null,
            "display": null,
            "left": null
          }
        },
        "19dd155200884aa1ba52caa03d59d877": {
          "model_module": "@jupyter-widgets/controls",
          "model_name": "DescriptionStyleModel",
          "state": {
            "_view_name": "StyleView",
            "_model_name": "DescriptionStyleModel",
            "description_width": "",
            "_view_module": "@jupyter-widgets/base",
            "_model_module_version": "1.5.0",
            "_view_count": null,
            "_view_module_version": "1.2.0",
            "_model_module": "@jupyter-widgets/controls"
          }
        },
        "9af5f63c578e48a69e44cd199d3d96bd": {
          "model_module": "@jupyter-widgets/base",
          "model_name": "LayoutModel",
          "state": {
            "_view_name": "LayoutView",
            "grid_template_rows": null,
            "right": null,
            "justify_content": null,
            "_view_module": "@jupyter-widgets/base",
            "overflow": null,
            "_model_module_version": "1.2.0",
            "_view_count": null,
            "flex_flow": null,
            "width": null,
            "min_width": null,
            "border": null,
            "align_items": null,
            "bottom": null,
            "_model_module": "@jupyter-widgets/base",
            "top": null,
            "grid_column": null,
            "overflow_y": null,
            "overflow_x": null,
            "grid_auto_flow": null,
            "grid_area": null,
            "grid_template_columns": null,
            "flex": null,
            "_model_name": "LayoutModel",
            "justify_items": null,
            "grid_row": null,
            "max_height": null,
            "align_content": null,
            "visibility": null,
            "align_self": null,
            "height": null,
            "min_height": null,
            "padding": null,
            "grid_auto_rows": null,
            "grid_gap": null,
            "max_width": null,
            "order": null,
            "_view_module_version": "1.2.0",
            "grid_template_areas": null,
            "object_position": null,
            "object_fit": null,
            "grid_auto_columns": null,
            "margin": null,
            "display": null,
            "left": null
          }
        }
      }
    }
  },
  "cells": [
    {
      "cell_type": "markdown",
      "metadata": {
        "id": "view-in-github",
        "colab_type": "text"
      },
      "source": [
        "<a href=\"https://colab.research.google.com/github/jshin13/code_bucket/blob/temp/Kaplan_Meier_survivalRF.ipynb\" target=\"_parent\"><img src=\"https://colab.research.google.com/assets/colab-badge.svg\" alt=\"Open In Colab\"/></a>"
      ]
    },
    {
      "cell_type": "markdown",
      "metadata": {
        "id": "gddebLNJiV-e"
      },
      "source": [
        "# LAB 3: Prognosis and survival functions\n",
        "\n",
        "In this lab, we will analyze observations from different patients who suffered a heart attack and we will create different survival functions employing univariate (Kaplan-Meier estimate) and multivariate (Cox proportional hazards and survival forests) analysis.\n",
        "\n",
        "Remember to copy this notebook into your personal folder and suffix your JHID:\n",
        "\n",
        "\n",
        "*   eg: Lab3_Prognosis_myjhID12\n",
        "\n",
        "Also, remember to use the MLMA [coding rubric](https://blackboard.jhu.edu/bbcswebdav/pid-9529029-dt-content-rid-99808293_2/courses/EN.520.439.01.SP21/Coding%20rubric_MLMA.pdf).\n",
        "\n"
      ]
    },
    {
      "cell_type": "code",
      "metadata": {
        "id": "Ik4vfXLg6V3B",
        "colab": {
          "base_uri": "https://localhost:8080/"
        },
        "outputId": "1d4cefab-94be-413a-9c9f-71ea68544d35"
      },
      "source": [
        "# Libraries to be used in this lab. Feel free to add more libraries if you need them\n",
        "import urllib.request\n",
        "import numpy as np\n",
        "import pandas as pd\n",
        "import matplotlib.pyplot as plt\n",
        "!pip install lifelines\n",
        "from lifelines import CoxPHFitter\n",
        "from sklearn.model_selection import train_test_split\n",
        "!pip install scikit-survival\n",
        "from sksurv.ensemble import RandomSurvivalForest\n",
        "from sksurv.preprocessing import OneHotEncoder\n",
        "\n",
        "from tqdm.notebook import tqdm\n",
        "import seaborn as sns"
      ],
      "execution_count": 89,
      "outputs": [
        {
          "output_type": "stream",
          "text": [
            "Requirement already satisfied: lifelines in /usr/local/lib/python3.6/dist-packages (0.25.9)\n",
            "Requirement already satisfied: numpy>=1.14.0 in /usr/local/lib/python3.6/dist-packages (from lifelines) (1.19.5)\n",
            "Requirement already satisfied: matplotlib>=3.0 in /usr/local/lib/python3.6/dist-packages (from lifelines) (3.2.2)\n",
            "Requirement already satisfied: autograd-gamma>=0.3 in /usr/local/lib/python3.6/dist-packages (from lifelines) (0.5.0)\n",
            "Requirement already satisfied: scipy>=1.2.0 in /usr/local/lib/python3.6/dist-packages (from lifelines) (1.4.1)\n",
            "Requirement already satisfied: pandas>=0.23.0 in /usr/local/lib/python3.6/dist-packages (from lifelines) (1.1.5)\n",
            "Requirement already satisfied: autograd>=1.3 in /usr/local/lib/python3.6/dist-packages (from lifelines) (1.3)\n",
            "Requirement already satisfied: formulaic<0.3,>=0.2.2 in /usr/local/lib/python3.6/dist-packages (from lifelines) (0.2.3)\n",
            "Requirement already satisfied: kiwisolver>=1.0.1 in /usr/local/lib/python3.6/dist-packages (from matplotlib>=3.0->lifelines) (1.3.1)\n",
            "Requirement already satisfied: pyparsing!=2.0.4,!=2.1.2,!=2.1.6,>=2.0.1 in /usr/local/lib/python3.6/dist-packages (from matplotlib>=3.0->lifelines) (2.4.7)\n",
            "Requirement already satisfied: python-dateutil>=2.1 in /usr/local/lib/python3.6/dist-packages (from matplotlib>=3.0->lifelines) (2.8.1)\n",
            "Requirement already satisfied: cycler>=0.10 in /usr/local/lib/python3.6/dist-packages (from matplotlib>=3.0->lifelines) (0.10.0)\n",
            "Requirement already satisfied: pytz>=2017.2 in /usr/local/lib/python3.6/dist-packages (from pandas>=0.23.0->lifelines) (2018.9)\n",
            "Requirement already satisfied: future>=0.15.2 in /usr/local/lib/python3.6/dist-packages (from autograd>=1.3->lifelines) (0.16.0)\n",
            "Requirement already satisfied: astor in /usr/local/lib/python3.6/dist-packages (from formulaic<0.3,>=0.2.2->lifelines) (0.8.1)\n",
            "Requirement already satisfied: interface-meta>=1.2 in /usr/local/lib/python3.6/dist-packages (from formulaic<0.3,>=0.2.2->lifelines) (1.2.2)\n",
            "Requirement already satisfied: wrapt in /usr/local/lib/python3.6/dist-packages (from formulaic<0.3,>=0.2.2->lifelines) (1.12.1)\n",
            "Requirement already satisfied: six>=1.5 in /usr/local/lib/python3.6/dist-packages (from python-dateutil>=2.1->matplotlib>=3.0->lifelines) (1.15.0)\n",
            "Requirement already satisfied: scikit-survival in /usr/local/lib/python3.6/dist-packages (0.14.0)\n",
            "Requirement already satisfied: numpy in /usr/local/lib/python3.6/dist-packages (from scikit-survival) (1.19.5)\n",
            "Requirement already satisfied: scikit-learn<0.24,>=0.22.0 in /usr/local/lib/python3.6/dist-packages (from scikit-survival) (0.22.2.post1)\n",
            "Requirement already satisfied: joblib in /usr/local/lib/python3.6/dist-packages (from scikit-survival) (1.0.0)\n",
            "Requirement already satisfied: osqp!=0.6.0,!=0.6.1 in /usr/local/lib/python3.6/dist-packages (from scikit-survival) (0.6.2.post0)\n",
            "Requirement already satisfied: pandas>=0.21 in /usr/local/lib/python3.6/dist-packages (from scikit-survival) (1.1.5)\n",
            "Requirement already satisfied: numexpr in /usr/local/lib/python3.6/dist-packages (from scikit-survival) (2.7.2)\n",
            "Requirement already satisfied: cvxopt in /usr/local/lib/python3.6/dist-packages (from scikit-survival) (1.2.5)\n",
            "Requirement already satisfied: scipy!=1.3.0,>=1.0 in /usr/local/lib/python3.6/dist-packages (from scikit-survival) (1.4.1)\n",
            "Requirement already satisfied: cvxpy>=1.0 in /usr/local/lib/python3.6/dist-packages (from scikit-survival) (1.0.31)\n",
            "Requirement already satisfied: qdldl in /usr/local/lib/python3.6/dist-packages (from osqp!=0.6.0,!=0.6.1->scikit-survival) (0.1.5.post0)\n",
            "Requirement already satisfied: pytz>=2017.2 in /usr/local/lib/python3.6/dist-packages (from pandas>=0.21->scikit-survival) (2018.9)\n",
            "Requirement already satisfied: python-dateutil>=2.7.3 in /usr/local/lib/python3.6/dist-packages (from pandas>=0.21->scikit-survival) (2.8.1)\n",
            "Requirement already satisfied: ecos>=2 in /usr/local/lib/python3.6/dist-packages (from cvxpy>=1.0->scikit-survival) (2.0.7.post1)\n",
            "Requirement already satisfied: scs>=1.1.3 in /usr/local/lib/python3.6/dist-packages (from cvxpy>=1.0->scikit-survival) (2.1.2)\n",
            "Requirement already satisfied: multiprocess in /usr/local/lib/python3.6/dist-packages (from cvxpy>=1.0->scikit-survival) (0.70.11.1)\n",
            "Requirement already satisfied: six>=1.5 in /usr/local/lib/python3.6/dist-packages (from python-dateutil>=2.7.3->pandas>=0.21->scikit-survival) (1.15.0)\n",
            "Requirement already satisfied: dill>=0.3.3 in /usr/local/lib/python3.6/dist-packages (from multiprocess->cvxpy>=1.0->scikit-survival) (0.3.3)\n"
          ],
          "name": "stdout"
        }
      ]
    },
    {
      "cell_type": "markdown",
      "metadata": {
        "id": "jQCeiNDSe6Dy"
      },
      "source": [
        "**DATA**\n",
        "\n",
        "The data that we are going to use in this lab is described in the paper [\"Survival analysis of heart failure patients: A case study\"](https://journals.plos.org/plosone/article?id=10.1371/journal.pone.0181001). According to the authors: \n",
        "\n",
        "*Current study is based on 299 patients of heart failure comprising of 105 women and 194 men. All the patients were more than 40 years old, having left ventricular systolic dysfunction and falling in NYHA class III and IV. Follow up time was 4–285 days with an average of 130 days. Disease was diagnosed by cardiac echo report or notes written by physician. Age, serum sodium, serum creatinine, gender, smoking, Blood Pressure (BP), Ejection Fraction (EF), anemia, platelets, Creatinine Phosphokinase (CPK) and diabetes were considered as potential variables explaining mortality caused by CHD [...]. The information related to risk factors were taken from blood reports while smoking status and blood pressure were taken from physician’s notes.*\n",
        "\n",
        "\n",
        "\n",
        "\n"
      ]
    },
    {
      "cell_type": "code",
      "metadata": {
        "id": "Uidy9E8L-KON"
      },
      "source": [
        "#Load  the data\n",
        "sData='https://plos.figshare.com/ndownloader/files/8937223'\n",
        "urllib.request.urlretrieve(sData,'./HeartFailure.csv')\n",
        "df=pd.read_csv('./HeartFailure.csv')"
      ],
      "execution_count": 90,
      "outputs": []
    },
    {
      "cell_type": "code",
      "metadata": {
        "id": "YF9-JECf_j14",
        "colab": {
          "base_uri": "https://localhost:8080/",
          "height": 238
        },
        "outputId": "7e2d41af-24d6-49a2-d256-356e215a9e18"
      },
      "source": [
        "# Visualize the data and obtain statistics (number of observations and predictor variables)\n",
        "print('Number of observations: ', len(df))\n",
        "print('Number of predictor variables: ', len(df.columns)-2)\n",
        "df.tail()\n"
      ],
      "execution_count": 91,
      "outputs": [
        {
          "output_type": "stream",
          "text": [
            "Number of observations:  299\n",
            "Number of predictor variables:  11\n"
          ],
          "name": "stdout"
        },
        {
          "output_type": "execute_result",
          "data": {
            "text/html": [
              "<div>\n",
              "<style scoped>\n",
              "    .dataframe tbody tr th:only-of-type {\n",
              "        vertical-align: middle;\n",
              "    }\n",
              "\n",
              "    .dataframe tbody tr th {\n",
              "        vertical-align: top;\n",
              "    }\n",
              "\n",
              "    .dataframe thead th {\n",
              "        text-align: right;\n",
              "    }\n",
              "</style>\n",
              "<table border=\"1\" class=\"dataframe\">\n",
              "  <thead>\n",
              "    <tr style=\"text-align: right;\">\n",
              "      <th></th>\n",
              "      <th>TIME</th>\n",
              "      <th>Event</th>\n",
              "      <th>Gender</th>\n",
              "      <th>Smoking</th>\n",
              "      <th>Diabetes</th>\n",
              "      <th>BP</th>\n",
              "      <th>Anaemia</th>\n",
              "      <th>Age</th>\n",
              "      <th>Ejection.Fraction</th>\n",
              "      <th>Sodium</th>\n",
              "      <th>Creatinine</th>\n",
              "      <th>Pletelets</th>\n",
              "      <th>CPK</th>\n",
              "    </tr>\n",
              "  </thead>\n",
              "  <tbody>\n",
              "    <tr>\n",
              "      <th>294</th>\n",
              "      <td>250</td>\n",
              "      <td>0</td>\n",
              "      <td>0</td>\n",
              "      <td>0</td>\n",
              "      <td>1</td>\n",
              "      <td>0</td>\n",
              "      <td>0</td>\n",
              "      <td>45.0</td>\n",
              "      <td>55</td>\n",
              "      <td>132</td>\n",
              "      <td>1.0</td>\n",
              "      <td>543000.0</td>\n",
              "      <td>582</td>\n",
              "    </tr>\n",
              "    <tr>\n",
              "      <th>295</th>\n",
              "      <td>244</td>\n",
              "      <td>0</td>\n",
              "      <td>0</td>\n",
              "      <td>0</td>\n",
              "      <td>1</td>\n",
              "      <td>0</td>\n",
              "      <td>0</td>\n",
              "      <td>51.0</td>\n",
              "      <td>40</td>\n",
              "      <td>134</td>\n",
              "      <td>0.9</td>\n",
              "      <td>221000.0</td>\n",
              "      <td>582</td>\n",
              "    </tr>\n",
              "    <tr>\n",
              "      <th>296</th>\n",
              "      <td>14</td>\n",
              "      <td>1</td>\n",
              "      <td>1</td>\n",
              "      <td>0</td>\n",
              "      <td>0</td>\n",
              "      <td>0</td>\n",
              "      <td>0</td>\n",
              "      <td>45.0</td>\n",
              "      <td>14</td>\n",
              "      <td>127</td>\n",
              "      <td>0.8</td>\n",
              "      <td>166000.0</td>\n",
              "      <td>582</td>\n",
              "    </tr>\n",
              "    <tr>\n",
              "      <th>297</th>\n",
              "      <td>80</td>\n",
              "      <td>0</td>\n",
              "      <td>1</td>\n",
              "      <td>0</td>\n",
              "      <td>1</td>\n",
              "      <td>0</td>\n",
              "      <td>0</td>\n",
              "      <td>60.0</td>\n",
              "      <td>45</td>\n",
              "      <td>133</td>\n",
              "      <td>1.0</td>\n",
              "      <td>297000.0</td>\n",
              "      <td>897</td>\n",
              "    </tr>\n",
              "    <tr>\n",
              "      <th>298</th>\n",
              "      <td>16</td>\n",
              "      <td>0</td>\n",
              "      <td>0</td>\n",
              "      <td>0</td>\n",
              "      <td>0</td>\n",
              "      <td>1</td>\n",
              "      <td>1</td>\n",
              "      <td>65.0</td>\n",
              "      <td>25</td>\n",
              "      <td>137</td>\n",
              "      <td>1.3</td>\n",
              "      <td>276000.0</td>\n",
              "      <td>52</td>\n",
              "    </tr>\n",
              "  </tbody>\n",
              "</table>\n",
              "</div>"
            ],
            "text/plain": [
              "     TIME  Event  Gender  Smoking  ...  Sodium  Creatinine  Pletelets  CPK\n",
              "294   250      0       0        0  ...     132         1.0   543000.0  582\n",
              "295   244      0       0        0  ...     134         0.9   221000.0  582\n",
              "296    14      1       1        0  ...     127         0.8   166000.0  582\n",
              "297    80      0       1        0  ...     133         1.0   297000.0  897\n",
              "298    16      0       0        0  ...     137         1.3   276000.0   52\n",
              "\n",
              "[5 rows x 13 columns]"
            ]
          },
          "metadata": {
            "tags": []
          },
          "execution_count": 91
        }
      ]
    },
    {
      "cell_type": "markdown",
      "metadata": {
        "id": "wbVoSInouDRw"
      },
      "source": [
        "# 1. Univariate analysis: Univariate survival functions and cumulative hazard"
      ]
    },
    {
      "cell_type": "markdown",
      "metadata": {
        "id": "CBH9zPd_nKXX"
      },
      "source": [
        "**TASK 1:** Calculate and plot the survival function employing the Kaplan-Meier estimate  (15 POINTS)"
      ]
    },
    {
      "cell_type": "code",
      "metadata": {
        "id": "YAUNRO7ls86o"
      },
      "source": [
        "# Calculate and plot the survival function employing the Kaplan-Meier estimate\n",
        "def calculate_survival_KM(df, TimeColumn, EventColumn):\n",
        "    \"\"\"\n",
        "    Generates a dataframe containing the survival function (time vs probability of survival)\n",
        "    employing the Kaplan-Meier estimate.\n",
        "    Inputs: \n",
        "        df: input dataframe\n",
        "        TimeColumn: name of the colum containing the event time\n",
        "        EventColumn: name of the column indicating if the event happened (1) or not (0)\n",
        "    Outputs:\n",
        "        dfSurv: dataframe containing the time and probability of survival\n",
        "    \"\"\"\n",
        "  \n",
        "    # YOUR CODE GOES HERE\n",
        "    P = []\n",
        "    T = np.array(df[TimeColumn].unique())\n",
        "\n",
        "    for i, t in enumerate(tqdm(T)):\n",
        "        temp = 1\n",
        "        P.append([])\n",
        "        for t_i in T[t >= T]: #Kaplan-Meier multiplication    \n",
        "            n_i = df.query(f'{EventColumn} == 1 & {TimeColumn} == {t_i}').shape[0]\n",
        "            N_i = df.query(f'{EventColumn} == 0 & {TimeColumn} >= {t_i}').shape[0]\n",
        "            temp *= 1-n_i/N_i\n",
        "        P[i].append(temp)        \n",
        "    dfSurv = pd.DataFrame(P, columns=['P'])\n",
        "    dfSurv.index = T\n",
        "\n",
        "    return dfSurv\n",
        "\n",
        "def plot_survival(df, TimeColumn, EventColumn, Name):\n",
        "    \"\"\"\n",
        "    This function plots the survival function of the whole df. This function calls\n",
        "    calculate_survival_KM.\n",
        "    Inputs: \n",
        "        df: input dataframe\n",
        "        TimeColumn: name of the colum containing the event time\n",
        "        EventColumn: name of the column indicating if the event happened (1) or not (0)\n",
        "        Name: legend to be displayed, associated to the survival function\n",
        "    \"\"\"\n",
        "\n",
        "    # YOUR CODE GOES HERE\n",
        "    P = calculate_survival_KM(df, TimeColumn, EventColumn)\n",
        "    sns.lineplot(x=P.index, y=P['P'], label=Name)"
      ],
      "execution_count": 4,
      "outputs": []
    },
    {
      "cell_type": "code",
      "metadata": {
        "colab": {
          "base_uri": "https://localhost:8080/",
          "height": 314,
          "referenced_widgets": [
            "a4c5fe056a764fd59199fae687bc473b",
            "d5314c5183fc43f5937fd866c9522c8a",
            "ebc0f17608c247f7a73e7bf2d217e745",
            "27a5b24f892348ec9a884d754a4bf529",
            "d0713f052fee4ab58124ff5317856898",
            "3180e19188aa40808ec1eedf20b3d843",
            "6b2ea6cdfac2445bbfa901ad2f35210c",
            "7a1137d817da4ce2a6f99fdb542116a3"
          ]
        },
        "id": "tzCu2Ggc-HAQ",
        "outputId": "394bcaea-ab64-4222-d868-6fdfe00b16ba"
      },
      "source": [
        "# Plot the survival function obtained with the whole dataframe\r\n",
        "TimeColumn='TIME'\r\n",
        "EventColumn='Event'\r\n",
        "plot_survival(df, TimeColumn, EventColumn, 'All')"
      ],
      "execution_count": 5,
      "outputs": [
        {
          "output_type": "display_data",
          "data": {
            "application/vnd.jupyter.widget-view+json": {
              "model_id": "a4c5fe056a764fd59199fae687bc473b",
              "version_minor": 0,
              "version_major": 2
            },
            "text/plain": [
              "HBox(children=(FloatProgress(value=0.0, max=148.0), HTML(value='')))"
            ]
          },
          "metadata": {
            "tags": []
          }
        },
        {
          "output_type": "stream",
          "text": [
            "\n"
          ],
          "name": "stdout"
        },
        {
          "output_type": "display_data",
          "data": {
            "image/png": "[encoded data removed]",
            "text/plain": [
              "<Figure size 432x288 with 1 Axes>"
            ]
          },
          "metadata": {
            "tags": [],
            "needs_background": "light"
          }
        }
      ]
    },
    {
      "cell_type": "markdown",
      "metadata": {
        "id": "dvSpNkVZoYZ2"
      },
      "source": [
        "**TASK 2:** Code a function that displays the survival function of two categories of a certain predictor (eg. smoker and non-smoker or male, female) in the same plot (10 POINTS)."
      ]
    },
    {
      "cell_type": "code",
      "metadata": {
        "id": "4AGJvziCn7CY"
      },
      "source": [
        "# function to print two categories \n",
        "def plot_survival_twocat(df, predictor, cat1, cat0):\n",
        "    \"\"\"\n",
        "    Displays the survival function of two categories of a certain predictor \n",
        "    (eg. smoker and non-smoker or male, female) in the same plot. This function\n",
        "    only considers binary categories: 0 and 1.\n",
        "    Inputs:\n",
        "            df: input dataframe\n",
        "            predictor: column containing the predictor variable that we want to study\n",
        "            cat1: Label of the category associated to 1 (eg. Smoker)\n",
        "            cat0: Label of the category associated to 0 (eg. Non-smoker)\n",
        "    \"\"\"\n",
        "    # YOUR CODE GOES HERE    \n",
        "    for j, cat in enumerate([cat0, cat1]):\n",
        "        P = []        \n",
        "        df_cat = df.query(f'{predictor} == {j}')\n",
        "        T = np.array(df_cat[TimeColumn].unique())\n",
        "        for i, t in enumerate(tqdm(T)):\n",
        "            temp = 1\n",
        "            P.append([])\n",
        "            for t_i in T[t >= T]: #Kaplan-Meier multiplication    \n",
        "                n_i = df_cat.query(f'{EventColumn} == 1 & {TimeColumn} == {t_i}').shape[0]\n",
        "                N_i = df_cat.query(f'{EventColumn} == 0 & {TimeColumn} >= {t_i}').shape[0]\n",
        "                temp *= 1-n_i/N_i\n",
        "            P[i].append(temp)        \n",
        "        dfSurv = pd.DataFrame(P, columns=['P'])\n",
        "        dfSurv.index = T\n",
        "\n",
        "        sns.lineplot(x=dfSurv.index, y=dfSurv['P'], label=cat)"
      ],
      "execution_count": 6,
      "outputs": []
    },
    {
      "cell_type": "code",
      "metadata": {
        "id": "AERRfip4jp3N",
        "colab": {
          "base_uri": "https://localhost:8080/",
          "height": 363,
          "referenced_widgets": [
            "85e56463d03c4ff8aff4d6c3c5b8f67f",
            "0446490c24d842ee844fc138caac8660",
            "d1c63114b0e14071b18b276353845788",
            "ae76c1d3eb6f460ca707cebcdcb73620",
            "4a0f4c8e0efd4379b3599c25cc6d81d6",
            "6bec273fdc8d43aa92ff191c98e40097",
            "d8fb14216dcb4f1e880f959244de659f",
            "f72b09ca164042658a6115ff7c2961ee",
            "960ce947857c418d86f4c2786b53bfd3",
            "5b0673ea67c649279a68b306253bbaac",
            "e72901ffb9314501b11e5a3dea22f3e4",
            "c47346999e374dd58ae14e97d985153c",
            "70f8b0425aa94d5085d595d3a3e6c950",
            "8bc0b4056a754e70be9ad8b0592fd778",
            "ec90d43dcd154844b23bf400556b0ba8",
            "512ee778c5ae40468b8405c796b4a3b2"
          ]
        },
        "outputId": "8a771d0f-2a76-4bad-ea93-2971c9e9ca17"
      },
      "source": [
        "# Plot survival for smokers vs nonsmokers\n",
        "predictor='Smoking'\n",
        "cat1='Smoker'\n",
        "cat0='Non-Smoker'\n",
        "plot_survival_twocat(df, predictor, cat1, cat0)"
      ],
      "execution_count": 7,
      "outputs": [
        {
          "output_type": "display_data",
          "data": {
            "application/vnd.jupyter.widget-view+json": {
              "model_id": "85e56463d03c4ff8aff4d6c3c5b8f67f",
              "version_minor": 0,
              "version_major": 2
            },
            "text/plain": [
              "HBox(children=(FloatProgress(value=0.0, max=112.0), HTML(value='')))"
            ]
          },
          "metadata": {
            "tags": []
          }
        },
        {
          "output_type": "stream",
          "text": [
            "\n"
          ],
          "name": "stdout"
        },
        {
          "output_type": "display_data",
          "data": {
            "application/vnd.jupyter.widget-view+json": {
              "model_id": "960ce947857c418d86f4c2786b53bfd3",
              "version_minor": 0,
              "version_major": 2
            },
            "text/plain": [
              "HBox(children=(FloatProgress(value=0.0, max=70.0), HTML(value='')))"
            ]
          },
          "metadata": {
            "tags": []
          }
        },
        {
          "output_type": "stream",
          "text": [
            "\n"
          ],
          "name": "stdout"
        },
        {
          "output_type": "display_data",
          "data": {
            "image/png": "[encoded data removed]",
            "text/plain": [
              "<Figure size 432x288 with 1 Axes>"
            ]
          },
          "metadata": {
            "tags": [],
            "needs_background": "light"
          }
        }
      ]
    },
    {
      "cell_type": "code",
      "metadata": {
        "id": "N9M4_A9UoO_A",
        "colab": {
          "base_uri": "https://localhost:8080/",
          "height": 363,
          "referenced_widgets": [
            "016da6da4ca04099b284814a0d18fc07",
            "cc533e3f7dae499d9d0913231d8d5295",
            "ba9fcb912768417cbca2f0256a74ff28",
            "4e82c05a08974a57a8d024e1cdbb2d01",
            "ecb625d2dffb4f158c75b25e74ee607e",
            "b6b820e84b134db6bdbab6c20d3967bb",
            "4a574e3849eb49a6b2a87a90b20915ce",
            "224471ab0a384112a73b70d9c0792833",
            "6a0140ea7d204bd1bbff8f135b7b39b1",
            "e855efa08cbc4f2ca549bf64caf0f8fe",
            "c1c88e93c52943c586163c9a4fe35f4d",
            "2f2d769f32f34e788e13bd047c4580ca",
            "865c3832eaab462fb5aad349c3e3aa01",
            "5f372f9252e04ce4b44d6549e2297f91",
            "85142d57e06b444f85ffd27f683ed2fc",
            "8b91f5635155415db88197f7be870929"
          ]
        },
        "outputId": "67dbaba9-6ab9-4d4c-b338-b41df3b53a85"
      },
      "source": [
        "# Plot survival for male vs female (hint: compare your figure with the survival functions\n",
        "# provided in the original paper; both should be almost identical)\n",
        "predictor='Gender'\n",
        "cat1='Male'\n",
        "cat0='Female'\n",
        "plot_survival_twocat(df, predictor, cat1, cat0)"
      ],
      "execution_count": 8,
      "outputs": [
        {
          "output_type": "display_data",
          "data": {
            "application/vnd.jupyter.widget-view+json": {
              "model_id": "016da6da4ca04099b284814a0d18fc07",
              "version_minor": 0,
              "version_major": 2
            },
            "text/plain": [
              "HBox(children=(FloatProgress(value=0.0, max=75.0), HTML(value='')))"
            ]
          },
          "metadata": {
            "tags": []
          }
        },
        {
          "output_type": "stream",
          "text": [
            "\n"
          ],
          "name": "stdout"
        },
        {
          "output_type": "display_data",
          "data": {
            "application/vnd.jupyter.widget-view+json": {
              "model_id": "6a0140ea7d204bd1bbff8f135b7b39b1",
              "version_minor": 0,
              "version_major": 2
            },
            "text/plain": [
              "HBox(children=(FloatProgress(value=0.0, max=117.0), HTML(value='')))"
            ]
          },
          "metadata": {
            "tags": []
          }
        },
        {
          "output_type": "stream",
          "text": [
            "\n"
          ],
          "name": "stdout"
        },
        {
          "output_type": "display_data",
          "data": {
            "image/png": "[encoded data removed]",
            "text/plain": [
              "<Figure size 432x288 with 1 Axes>"
            ]
          },
          "metadata": {
            "tags": [],
            "needs_background": "light"
          }
        }
      ]
    },
    {
      "cell_type": "code",
      "metadata": {
        "id": "LyHybRBeorqF",
        "colab": {
          "base_uri": "https://localhost:8080/",
          "height": 363,
          "referenced_widgets": [
            "bab48e93b83043bb883f766d7602749a",
            "b9b6a4fa7682447396ef887308a6cd7f",
            "500dd5b444e54642afd00d4890c601f6",
            "133d3b79d6f84daeac0a54871b879612",
            "ce636eac49984a67ace80dc29ee29517",
            "f8237b36dde5470aa451a2cd8de44d75",
            "fac205d8e66946f9a8b4290c850e5a1f",
            "b4f855003ad348c2b31f1c05ef34a38f",
            "2e3ba190b9cd4a3989037f9fa2bd287e",
            "78a8283761fb4efc9c12d79877e882b1",
            "d3f14517875f4926b7ce8ef419079da8",
            "a348927ccc7248248e737ce2d4d1a4fa",
            "e7b9d08cca3c48faa618543f7041baf0",
            "3e4111ef91b84000973f521c729b2588",
            "cd02f7fc097f40a69b55d5602b4abc6c",
            "20a68afbfdab4b959c2fb0cd1aeac331"
          ]
        },
        "outputId": "0d6ca383-7e49-4c6e-af98-5dcc0cba25e8"
      },
      "source": [
        "# Plot survival for anaemia vs non-anaemia\n",
        "predictor='Anaemia'\n",
        "cat1='Anaemia'\n",
        "cat0='Non-anaemia'\n",
        "plot_survival_twocat(df, predictor, cat1, cat0)"
      ],
      "execution_count": 9,
      "outputs": [
        {
          "output_type": "display_data",
          "data": {
            "application/vnd.jupyter.widget-view+json": {
              "model_id": "bab48e93b83043bb883f766d7602749a",
              "version_minor": 0,
              "version_major": 2
            },
            "text/plain": [
              "HBox(children=(FloatProgress(value=0.0, max=108.0), HTML(value='')))"
            ]
          },
          "metadata": {
            "tags": []
          }
        },
        {
          "output_type": "stream",
          "text": [
            "\n"
          ],
          "name": "stdout"
        },
        {
          "output_type": "display_data",
          "data": {
            "application/vnd.jupyter.widget-view+json": {
              "model_id": "2e3ba190b9cd4a3989037f9fa2bd287e",
              "version_minor": 0,
              "version_major": 2
            },
            "text/plain": [
              "HBox(children=(FloatProgress(value=0.0, max=89.0), HTML(value='')))"
            ]
          },
          "metadata": {
            "tags": []
          }
        },
        {
          "output_type": "stream",
          "text": [
            "\n"
          ],
          "name": "stdout"
        },
        {
          "output_type": "display_data",
          "data": {
            "image/png": "[encoded data removed]",
            "text/plain": [
              "<Figure size 432x288 with 1 Axes>"
            ]
          },
          "metadata": {
            "tags": [],
            "needs_background": "light"
          }
        }
      ]
    },
    {
      "cell_type": "markdown",
      "metadata": {
        "id": "XEIRIkbbqk4a"
      },
      "source": [
        "Which predictor variable from the previous ones seems to influence the survival probability more?"
      ]
    },
    {
      "cell_type": "markdown",
      "metadata": {
        "id": "WWMfc_qprvaE"
      },
      "source": [
        "**TASK 3:** Plot the cumulative Hazard using the Nelson-Aalen estimator (15 Points)"
      ]
    },
    {
      "cell_type": "code",
      "metadata": {
        "id": "KPpg-7Ph7vsM"
      },
      "source": [
        "# Plot the cumulative Hazard using the Nelson-Aalen estimator\n",
        "def cumulative_hazard_NA(df, TimeColumn, EventColumn):\n",
        "    \"\"\"\n",
        "    Generates a dataframe containing the cumulative hazard (H(t)) employing the \n",
        "    Nelson-Aalen estimator.\n",
        "    Inputs: \n",
        "            df: input dataframe\n",
        "            TimeColumn: name of the colum containing the event time\n",
        "            EventColumn: name of the column indicating if the event happened (1) or not (0)\n",
        "    Outputs:\n",
        "            dfH: dataframe containing the time and Cumulative Hazard (H(t))\n",
        "    \"\"\"\n",
        "\n",
        "    # YOUR CODE GOES HERE\n",
        "    P = []\n",
        "    T = np.array(df[TimeColumn].unique())\n",
        "\n",
        "    for i, t in enumerate(tqdm(T)):\n",
        "        temp = 0\n",
        "        P.append([])\n",
        "        for t_i in T[t >= T]: #Kaplan-Meier multiplication    \n",
        "            n_i = df.query(f'{EventColumn} == 1 & {TimeColumn} == {t_i}').shape[0]\n",
        "            N_i = df.query(f'{EventColumn} == 0 & {TimeColumn} >= {t_i}').shape[0]\n",
        "            temp += n_i/N_i\n",
        "        P[i].append(temp)        \n",
        "    dfH = pd.DataFrame(P, columns=['P'])\n",
        "    dfH.index = T\n",
        "\n",
        "    return dfH\n",
        "\n",
        "def plot_cumH(df, TimeColumn, EventColumn, Name):\n",
        "    \"\"\"\n",
        "    This function plots the cumulative hazard of the whole df. This function calls\n",
        "    calculate_hazard_NA.\n",
        "    Inputs: \n",
        "        df: input dataframe\n",
        "        TimeColumn: name of the colum containing the event time\n",
        "        EventColumn: name of the column indicating if the event happened (1) or not (0)\n",
        "        Name: legend to be displayed, associated to the CH\n",
        "    \"\"\"\n",
        "\n",
        "    # YOUR CODE GOES HERE\n",
        "    P = cumulative_hazard_NA(df, TimeColumn, EventColumn)\n",
        "    g = sns.lineplot(x=P.index, y=P['P'], label=Name)\n",
        "    g.set(ylim=(0,1))"
      ],
      "execution_count": 10,
      "outputs": []
    },
    {
      "cell_type": "code",
      "metadata": {
        "id": "YHJHKhSdrA16",
        "colab": {
          "base_uri": "https://localhost:8080/",
          "height": 318,
          "referenced_widgets": [
            "279ba71eed794689a23c7af7b92e62e0",
            "2a052cbddbd8484fa8bba3928f629dbb",
            "65104482ec6a431eaa455cb82fb919c5",
            "40bee992f50d4cf7b959036d7de746e5",
            "e1f619f2cb374c21a33113811d01d31b",
            "c46e6da206dc46078f89f0f17cb2f47c",
            "d42fb736f5d0422c96391877bd69e9de",
            "1123e1cbbc5d468096cd065c10ecb35c"
          ]
        },
        "outputId": "7c501e7f-20fa-45ea-a327-1318b490f561"
      },
      "source": [
        "# Plot the cumulative hazard of df\n",
        "TimeColumn='TIME'\n",
        "EventColumn='Event'\n",
        "plot_cumH(df, TimeColumn, EventColumn, 'All')"
      ],
      "execution_count": 11,
      "outputs": [
        {
          "output_type": "display_data",
          "data": {
            "application/vnd.jupyter.widget-view+json": {
              "model_id": "279ba71eed794689a23c7af7b92e62e0",
              "version_minor": 0,
              "version_major": 2
            },
            "text/plain": [
              "HBox(children=(FloatProgress(value=0.0, max=148.0), HTML(value='')))"
            ]
          },
          "metadata": {
            "tags": []
          }
        },
        {
          "output_type": "stream",
          "text": [
            "\n"
          ],
          "name": "stdout"
        },
        {
          "output_type": "display_data",
          "data": {
            "image/png": "[encoded data removed]",
            "text/plain": [
              "<Figure size 432x288 with 1 Axes>"
            ]
          },
          "metadata": {
            "tags": [],
            "needs_background": "light"
          }
        }
      ]
    },
    {
      "cell_type": "markdown",
      "metadata": {
        "id": "0yA0q5GJtJNN"
      },
      "source": [
        "# 2. Multivariate analysis\n",
        "**Cox Proportional Hazards**\n",
        "\n",
        "Now, we are going to employ multivariate analysis using CPH to determine the survival funtions and the hazard ratio of different patients. \n",
        "We will employ [lifelines](https://lifelines.readthedocs.io/en/latest/index.html), a python survival analysis library."
      ]
    },
    {
      "cell_type": "markdown",
      "metadata": {
        "id": "7X3sm6NhvBI8"
      },
      "source": [
        "**TASK 4:** divide the dataframe into training and testing subsets (5 POINTS)."
      ]
    },
    {
      "cell_type": "code",
      "metadata": {
        "id": "4bVy_tUG4iXa"
      },
      "source": [
        "#Divide the data into training -dfTrain- (80%), and testing -dfTest- (20%):\n",
        "# YOUR CODE GOES HERE\n",
        "dfTrain, dfTest = train_test_split(df, train_size=0.8, test_size=0.2)"
      ],
      "execution_count": 555,
      "outputs": []
    },
    {
      "cell_type": "code",
      "metadata": {
        "colab": {
          "base_uri": "https://localhost:8080/"
        },
        "id": "zjAB4abIZkdw",
        "outputId": "7f3ad69b-1381-4cf7-cfe4-cea5cbf3f19d"
      },
      "source": [
        "dfTrain.shape, dfTest.shape"
      ],
      "execution_count": 556,
      "outputs": [
        {
          "output_type": "execute_result",
          "data": {
            "text/plain": [
              "((239, 13), (60, 13))"
            ]
          },
          "metadata": {
            "tags": []
          },
          "execution_count": 556
        }
      ]
    },
    {
      "cell_type": "markdown",
      "metadata": {
        "id": "eHKPnK7IvSyq"
      },
      "source": [
        "**TASK 5:** Calculate and print the Cox proportional hazards coefficients of the training subset (dfTrain) (10 POINTS)."
      ]
    },
    {
      "cell_type": "code",
      "metadata": {
        "id": "vVBiQaqHvR_p",
        "colab": {
          "base_uri": "https://localhost:8080/"
        },
        "outputId": "85683fef-84ba-469d-c183-ee00d4f5297e"
      },
      "source": [
        "# Calculate and print the Cox proportional hazards coefficients\n",
        "\n",
        "# YOUR CODE GOES HERE\n",
        "cph = CoxPHFitter()\n",
        "cph.fit(dfTrain, TimeColumn, EventColumn)\n",
        "coef = cph.summary['coef']\n",
        "coef"
      ],
      "execution_count": 557,
      "outputs": [
        {
          "output_type": "execute_result",
          "data": {
            "text/plain": [
              "covariate\n",
              "Gender              -2.879703e-01\n",
              "Smoking              1.902460e-01\n",
              "Diabetes             1.050792e-02\n",
              "BP                   4.696713e-01\n",
              "Anaemia              5.315447e-01\n",
              "Age                  5.059580e-02\n",
              "Ejection.Fraction   -4.833182e-02\n",
              "Sodium              -5.845568e-02\n",
              "Creatinine           2.719814e-01\n",
              "Pletelets           -6.808820e-07\n",
              "CPK                  2.215916e-04\n",
              "Name: coef, dtype: float64"
            ]
          },
          "metadata": {
            "tags": []
          },
          "execution_count": 557
        }
      ]
    },
    {
      "cell_type": "markdown",
      "metadata": {
        "id": "s3HsaNTzxstw"
      },
      "source": [
        "**TASK 6:** Plot the survival function of the three first participants in the test subset (10 POINTS)."
      ]
    },
    {
      "cell_type": "code",
      "metadata": {
        "id": "lhItIS2Z0GpB",
        "colab": {
          "base_uri": "https://localhost:8080/",
          "height": 265
        },
        "outputId": "47508b05-a204-444f-9913-9690ca96036c"
      },
      "source": [
        "# Plot the survival function of the three first participants in the test subset\n",
        "participant1=0 # Participant's index in the testing dataframe\n",
        "participant2=1\n",
        "participant3=2\n",
        "\n",
        "# YOUR CODE GOES HERE\n",
        "for i in range(3):\n",
        "    y = cph.predict_survival_function(dfTest.iloc[i,2:])\n",
        "    y.index = y.index.astype(int)\n",
        "\n",
        "    g = sns.lineplot(x=y.index, y=y.iloc[:,0], label=f'participant{i+1}')\n",
        "    g.set(ylabel='')"
      ],
      "execution_count": 558,
      "outputs": [
        {
          "output_type": "display_data",
          "data": {
            "image/png": "[encoded data removed]",
            "text/plain": [
              "<Figure size 432x288 with 1 Axes>"
            ]
          },
          "metadata": {
            "tags": [],
            "needs_background": "light"
          }
        }
      ]
    },
    {
      "cell_type": "markdown",
      "metadata": {
        "id": "qrDycAjL3hGX"
      },
      "source": [
        "As you can observe, the survival functions are proportional"
      ]
    },
    {
      "cell_type": "markdown",
      "metadata": {
        "id": "FRMrOrLMx709"
      },
      "source": [
        "**TASK 7:** Create a function that calculates the hazard ratio between two patients. This will tell us which of the two patients is at a higher risk (10 POINTS)."
      ]
    },
    {
      "cell_type": "code",
      "metadata": {
        "id": "zP348CZWeIG7"
      },
      "source": [
        "# Create a function that calculates the hazard ratio between two patients. This will tell us which patient is at a higher risk.\n",
        "def hazard_ratio(df, participant1, participant2, cph):\n",
        "    '''\n",
        "    Calculates the hazard ratio of participant1 vs participant 2 using\n",
        "    the coefficients of the CPH model.\n",
        "    \n",
        "    Inputs:\n",
        "        df: dataframe containing all the participants of the study subset\n",
        "        participant1: index of the first participant in the df.\n",
        "        participant2: index of the second participant in the df.\n",
        "        cph: CPH model obtained with lifelines\n",
        "    Outputs:\n",
        "        HR: hazard ratio of participant 1 vs participant 2\n",
        "    '''\n",
        "    # YOUR CODE GOES HERE\n",
        "    coef = np.array(cph.summary['coef'].tolist())\n",
        "    p1   = np.array(df.iloc[participant1][2:].tolist()) #exclude time and label\n",
        "    p2   = np.array(df.iloc[participant2][2:].tolist()) #exclude time and label\n",
        "\n",
        "    theta1 = np.exp(np.sum(coef * p1))\n",
        "    theta2 = np.exp(np.sum(coef * p2))\n",
        "\n",
        "    HR = theta1 / theta2\n",
        "\n",
        "    return HR"
      ],
      "execution_count": 559,
      "outputs": []
    },
    {
      "cell_type": "code",
      "metadata": {
        "id": "X_uiybo2e2NW",
        "colab": {
          "base_uri": "https://localhost:8080/"
        },
        "outputId": "c9dce4fe-88b1-4e62-a4d7-35fa7a94bc87"
      },
      "source": [
        "print('Participant 1 vs participant 2 Hazard Ratio: ' + str(hazard_ratio(df, 2, 33, cph)))"
      ],
      "execution_count": 560,
      "outputs": [
        {
          "output_type": "stream",
          "text": [
            "Participant 1 vs participant 2 Hazard Ratio: 4.73717448836902\n"
          ],
          "name": "stdout"
        }
      ]
    },
    {
      "cell_type": "markdown",
      "metadata": {
        "id": "Wk5SM6V1zE6Q"
      },
      "source": [
        "**TASK 8:** Create a function to calculate the concordance index of the CPH model already trained, employing the testing data (20 POINTS)."
      ]
    },
    {
      "cell_type": "code",
      "metadata": {
        "id": "j5VoeJJ7n9Gg"
      },
      "source": [
        "# concordance index function\n",
        "def c_index_mlma(df, TimeColumn, EventColumn, cph):\n",
        "    '''\n",
        "    Computes the C-Index employing the testing data and trained models.\n",
        "    \n",
        "    Inputs: \n",
        "      df: input dataframe\n",
        "      TimeColumn: name of the colum containing the event time\n",
        "      EventColumn: name of the column indicating if the event happened (1) or not (0)\n",
        "      cph: CPH model obtained with lifelines\n",
        "    Outputs:\n",
        "      CI: Concordance Index\n",
        "    '''\n",
        "    \n",
        "    # YOUR CODE GOES HERE\n",
        "\n",
        "    N = df.shape[0] #total sample size\n",
        "    cd = 0 #concordance\n",
        "    dc = 0 #concordance + disconcordance\n",
        "    tie = 0 #ties\n",
        "\n",
        "    for i in tqdm(range(N)):\n",
        "        for j in range(i+1, N):\n",
        "            hz = hazard_ratio(df, i, j, cph) #compute hazard between i and j\n",
        "            t  = df.iloc[i][TimeColumn] >= df.iloc[j][TimeColumn] #conditional on time\n",
        "            dj = (df.iloc[j][EventColumn] == 1)*1 #cencored\n",
        "\n",
        "            cd += 1*(t)*(hz < 1)*dj #concordance is 1 if h(j) is higher and j is not censored\n",
        "            dc += 1*(t)*dj #denominator\n",
        "            tie += 0.5*(hz == 1) #tie\n",
        "\n",
        "    CI = (cd + tie) / dc #CI equation\n",
        "\n",
        "    return CI   "
      ],
      "execution_count": 561,
      "outputs": []
    },
    {
      "cell_type": "code",
      "metadata": {
        "id": "xrqoV6ayrHuE",
        "colab": {
          "base_uri": "https://localhost:8080/",
          "height": 83,
          "referenced_widgets": [
            "efe1cff1ca064b61b8d5146c89b3f813",
            "4da9a23a3350423e913514953fa6d716",
            "8177f08d4b30437aa880f996bdaf9d35",
            "e4001cca02004eaa91f5e74e856f1780",
            "395397268a524b7c9a6f41a3f8fa623e",
            "26c71108e85448129ba1b761746c2d25",
            "bec8a4876ec44c4e9e529a20abba2294",
            "1527ce88d68f47368da5e00972b48ef6"
          ]
        },
        "outputId": "bf49271f-5342-4507-ec79-93853713a87d"
      },
      "source": [
        "# Concordance Index of the training data\n",
        "TimeColumn='TIME'\n",
        "EventColumn='Event'\n",
        "CI=c_index_mlma(dfTrain, TimeColumn, EventColumn, cph)\n",
        "print(CI)"
      ],
      "execution_count": 564,
      "outputs": [
        {
          "output_type": "display_data",
          "data": {
            "application/vnd.jupyter.widget-view+json": {
              "model_id": "efe1cff1ca064b61b8d5146c89b3f813",
              "version_minor": 0,
              "version_major": 2
            },
            "text/plain": [
              "HBox(children=(FloatProgress(value=0.0, max=239.0), HTML(value='')))"
            ]
          },
          "metadata": {
            "tags": []
          }
        },
        {
          "output_type": "stream",
          "text": [
            "\n",
            "0.7401640483803698\n"
          ],
          "name": "stdout"
        }
      ]
    },
    {
      "cell_type": "code",
      "metadata": {
        "id": "tlD4IDrZhxF6",
        "colab": {
          "base_uri": "https://localhost:8080/"
        },
        "outputId": "10fe33a8-62bd-4942-f30d-b12dc4258740"
      },
      "source": [
        "# The result sholud be similar to the CI calculated by the lifelines library (+/- 0.015)\n",
        "print(cph.concordance_index_)"
      ],
      "execution_count": 563,
      "outputs": [
        {
          "output_type": "stream",
          "text": [
            "0.7579953609334364\n"
          ],
          "name": "stdout"
        }
      ]
    },
    {
      "cell_type": "code",
      "metadata": {
        "id": "_okvL81FsLZV",
        "colab": {
          "base_uri": "https://localhost:8080/",
          "height": 83,
          "referenced_widgets": [
            "ac9d662cce25429eb81be8c5e6c5ff20",
            "0c5984381f9f408a9f7719a936fb0273",
            "ca328c73922a42ffb53223c799e57e42",
            "290516eed8884b7ca4d0bc6fdb46c9f5",
            "2d6d5e857ad844deba851505b5a89b0b",
            "cc4069a7612c4bdca93290e5e1702b6b",
            "19dd155200884aa1ba52caa03d59d877",
            "9af5f63c578e48a69e44cd199d3d96bd"
          ]
        },
        "outputId": "6b9aa4a7-e55c-4065-e435-94fe9f77418e"
      },
      "source": [
        "# Concordance Index of the testing data\n",
        "TimeColumn='TIME'\n",
        "EventColumn='Event'\n",
        "CI=c_index_mlma(dfTest, TimeColumn, EventColumn, cph)\n",
        "print(CI)"
      ],
      "execution_count": 565,
      "outputs": [
        {
          "output_type": "display_data",
          "data": {
            "application/vnd.jupyter.widget-view+json": {
              "model_id": "ac9d662cce25429eb81be8c5e6c5ff20",
              "version_minor": 0,
              "version_major": 2
            },
            "text/plain": [
              "HBox(children=(FloatProgress(value=0.0, max=60.0), HTML(value='')))"
            ]
          },
          "metadata": {
            "tags": []
          }
        },
        {
          "output_type": "stream",
          "text": [
            "\n",
            "0.5368421052631579\n"
          ],
          "name": "stdout"
        }
      ]
    },
    {
      "cell_type": "markdown",
      "metadata": {
        "id": "xCxPloGu1Otd"
      },
      "source": [
        "**Survival forests**\n",
        "\n",
        "Now, we are going to use a different type of multivariate analysis to calculate survival functions: Random Survival Forests. To perform this type of analysis, we will employ the [scikit-survival library](https://scikit-survival.readthedocs.io/en/stable/index.html). \n"
      ]
    },
    {
      "cell_type": "markdown",
      "metadata": {
        "id": "dNNOxZDV4osW"
      },
      "source": [
        "**TASK 9:** Train a random survival forest using the training subset (15 POINTS)."
      ]
    },
    {
      "cell_type": "code",
      "metadata": {
        "id": "2tIaOilspOoM",
        "colab": {
          "base_uri": "https://localhost:8080/"
        },
        "outputId": "1daf92f3-388a-4fdb-8209-26f2ad362c5d"
      },
      "source": [
        "# YOUR CODE GOES HERE\r\n",
        "rsf = RandomSurvivalForest()#n_estimators=200)\r\n",
        "X = dfTrain.iloc[:,2:].to_numpy()\r\n",
        "y = sksurv.util.Surv.from_dataframe(event='Event', time='TIME', data=dfTrain.iloc[:,:2])\r\n",
        "\r\n",
        "rsf.fit(X,y)"
      ],
      "execution_count": 566,
      "outputs": [
        {
          "output_type": "execute_result",
          "data": {
            "text/plain": [
              "RandomSurvivalForest(bootstrap=True, max_depth=None, max_features='auto',\n",
              "                     max_leaf_nodes=None, max_samples=None, min_samples_leaf=3,\n",
              "                     min_samples_split=6, min_weight_fraction_leaf=0.0,\n",
              "                     n_estimators=100, n_jobs=None, oob_score=False,\n",
              "                     random_state=None, verbose=0, warm_start=False)"
            ]
          },
          "metadata": {
            "tags": []
          },
          "execution_count": 566
        }
      ]
    },
    {
      "cell_type": "markdown",
      "metadata": {
        "id": "b5zjvAlP41r4"
      },
      "source": [
        "**TASK 10:** Calculate the C-I of the model when applied to the testing subset. Use the scikit-survival scoring functions to obtain the index. Compare this result with the C-I obtained with the CPH models (5 POINTS)."
      ]
    },
    {
      "cell_type": "code",
      "metadata": {
        "id": "OuiBxBkX93oK",
        "colab": {
          "base_uri": "https://localhost:8080/"
        },
        "outputId": "20ca7f35-b567-45f1-bc80-1f7c2a70a410"
      },
      "source": [
        "# YOUR CODE GOES HERE\r\n",
        "X = dfTest.iloc[:,2:].to_numpy()\r\n",
        "y = sksurv.util.Surv.from_dataframe(event='Event', time='TIME', data=dfTest.iloc[:,:2])\r\n",
        "rsf.score(X, y)"
      ],
      "execution_count": 567,
      "outputs": [
        {
          "output_type": "execute_result",
          "data": {
            "text/plain": [
              "0.5869191049913941"
            ]
          },
          "metadata": {
            "tags": []
          },
          "execution_count": 567
        }
      ]
    },
    {
      "cell_type": "markdown",
      "metadata": {
        "id": "MreLuxgV5Wp4"
      },
      "source": [
        "**TASK 11:** Plot the survival function of the three first patients in the testing subset. Compare these survival functions with those obtained with the CPH models (15 POINTS)."
      ]
    },
    {
      "cell_type": "code",
      "metadata": {
        "id": "pt7AfxLbnCl7",
        "colab": {
          "base_uri": "https://localhost:8080/",
          "height": 281
        },
        "outputId": "9a43fb2c-cfde-4184-d5a6-c67bee0f5388"
      },
      "source": [
        "# YOUR CODE GOES HERE\r\n",
        "X = dfTest.iloc[:3,2:].to_numpy() #first 3 patients, excluding labels\r\n",
        "plot = rsf.predict_survival_function(X, return_array=False) #getting survival functions for each patient\r\n",
        "for i in range(3):\r\n",
        "    g = sns.lineplot(x=plot[i].x, y=plot[i].y, label=f'participant{i+1}') #line plot\r\n",
        "    g.set(title='RF Model')"
      ],
      "execution_count": 568,
      "outputs": [
        {
          "output_type": "display_data",
          "data": {
            "image/png": "[encoded data removed]",
            "text/plain": [
              "<Figure size 432x288 with 1 Axes>"
            ]
          },
          "metadata": {
            "tags": [],
            "needs_background": "light"
          }
        }
      ]
    },
    {
      "cell_type": "code",
      "metadata": {
        "colab": {
          "base_uri": "https://localhost:8080/",
          "height": 281
        },
        "id": "AvwpSRQ3fLcy",
        "outputId": "a2bf54f5-f853-4f65-eb16-d56129601b40"
      },
      "source": [
        "for i in range(3):\r\n",
        "    y = cph.predict_survival_function(dfTest.iloc[i,2:])\r\n",
        "    y.index = y.index.astype(int)\r\n",
        "\r\n",
        "    g = sns.lineplot(x=y.index, y=y.iloc[:,0], label=f'participant{i+1}')\r\n",
        "    g.set(ylabel='', title='CPH Model')"
      ],
      "execution_count": 569,
      "outputs": [
        {
          "output_type": "display_data",
          "data": {
            "image/png": "[encoded data removed]",
            "text/plain": [
              "<Figure size 432x288 with 1 Axes>"
            ]
          },
          "metadata": {
            "tags": [],
            "needs_background": "light"
          }
        }
      ]
    },
    {
      "cell_type": "markdown",
      "metadata": {
        "id": "yQVVEb0k3nFQ"
      },
      "source": [
        "As you can observe, these functions are not proportional. Their shape depends on the predictor variables of each patient."
      ]
    },
    {
      "cell_type": "markdown",
      "metadata": {
        "id": "vt7Rxi4_EnUP"
      },
      "source": [
        "**TASK 12:** Execute the following cell to finish the lab (1 POINT)"
      ]
    },
    {
      "cell_type": "code",
      "metadata": {
        "id": "OQvfmtJlD2lo",
        "colab": {
          "base_uri": "https://localhost:8080/",
          "height": 336
        },
        "outputId": "31ed283e-eafa-48cd-e026-32655948c464"
      },
      "source": [
        "from IPython.display import HTML\n",
        "\n",
        "HTML('<iframe width=\"560\" height=\"315\" src=\"https://www.youtube.com/embed/CNjggrxUQ78\" frameborder=\"0\" allow=\"accelerometer; autoplay; encrypted-media; gyroscope; picture-in-picture\" allowfullscreen></iframe>')\n"
      ],
      "execution_count": 331,
      "outputs": [
        {
          "output_type": "execute_result",
          "data": {
            "text/html": [
              "<iframe width=\"560\" height=\"315\" src=\"https://www.youtube.com/embed/CNjggrxUQ78\" frameborder=\"0\" allow=\"accelerometer; autoplay; encrypted-media; gyroscope; picture-in-picture\" allowfullscreen></iframe>"
            ],
            "text/plain": [
              "<IPython.core.display.HTML object>"
            ]
          },
          "metadata": {
            "tags": []
          },
          "execution_count": 331
        }
      ]
    },
    {
      "cell_type": "markdown",
      "metadata": {
        "id": "6333fzbSDj0n"
      },
      "source": [
        "**Congratulations!! You have finished Lab 3!!**"
      ]
    }
  ]
}