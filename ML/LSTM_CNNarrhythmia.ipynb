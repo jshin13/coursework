{
  "nbformat": 4,
  "nbformat_minor": 0,
  "metadata": {
    "colab": {
      "name": "LSTM_CNNarrhythmia.ipynb",
      "provenance": [],
      "collapsed_sections": [],
      "include_colab_link": true
    },
    "kernelspec": {
      "name": "python3",
      "display_name": "Python 3"
    },
    "accelerator": "GPU",
    "widgets": {
      "application/vnd.jupyter.widget-state+json": {
        "8bf4dbfb4f7b4893a6b3a0066551b0bc": {
          "model_module": "@jupyter-widgets/controls",
          "model_name": "HBoxModel",
          "state": {
            "_view_name": "HBoxView",
            "_dom_classes": [],
            "_model_name": "HBoxModel",
            "_view_module": "@jupyter-widgets/controls",
            "_model_module_version": "1.5.0",
            "_view_count": null,
            "_view_module_version": "1.5.0",
            "box_style": "",
            "layout": "IPY_MODEL_3134aba8a8ab4e9883c1d05498955727",
            "_model_module": "@jupyter-widgets/controls",
            "children": [
              "IPY_MODEL_f6a17ab3c42348eaa021d16b82f01e1f",
              "IPY_MODEL_aeff1c6310a24b0e85b08f6381e29ea5"
            ]
          }
        },
        "3134aba8a8ab4e9883c1d05498955727": {
          "model_module": "@jupyter-widgets/base",
          "model_name": "LayoutModel",
          "state": {
            "_view_name": "LayoutView",
            "grid_template_rows": null,
            "right": null,
            "justify_content": null,
            "_view_module": "@jupyter-widgets/base",
            "overflow": null,
            "_model_module_version": "1.2.0",
            "_view_count": null,
            "flex_flow": null,
            "width": null,
            "min_width": null,
            "border": null,
            "align_items": null,
            "bottom": null,
            "_model_module": "@jupyter-widgets/base",
            "top": null,
            "grid_column": null,
            "overflow_y": null,
            "overflow_x": null,
            "grid_auto_flow": null,
            "grid_area": null,
            "grid_template_columns": null,
            "flex": null,
            "_model_name": "LayoutModel",
            "justify_items": null,
            "grid_row": null,
            "max_height": null,
            "align_content": null,
            "visibility": null,
            "align_self": null,
            "height": null,
            "min_height": null,
            "padding": null,
            "grid_auto_rows": null,
            "grid_gap": null,
            "max_width": null,
            "order": null,
            "_view_module_version": "1.2.0",
            "grid_template_areas": null,
            "object_position": null,
            "object_fit": null,
            "grid_auto_columns": null,
            "margin": null,
            "display": null,
            "left": null
          }
        },
        "f6a17ab3c42348eaa021d16b82f01e1f": {
          "model_module": "@jupyter-widgets/controls",
          "model_name": "FloatProgressModel",
          "state": {
            "_view_name": "ProgressView",
            "style": "IPY_MODEL_10fe7d5a97af4f2588e13f7cfda58855",
            "_dom_classes": [],
            "description": "100%",
            "_model_name": "FloatProgressModel",
            "bar_style": "success",
            "max": 32,
            "_view_module": "@jupyter-widgets/controls",
            "_model_module_version": "1.5.0",
            "value": 32,
            "_view_count": null,
            "_view_module_version": "1.5.0",
            "orientation": "horizontal",
            "min": 0,
            "description_tooltip": null,
            "_model_module": "@jupyter-widgets/controls",
            "layout": "IPY_MODEL_e8e6e2bfeaf44db0aefd68992794a1a3"
          }
        },
        "aeff1c6310a24b0e85b08f6381e29ea5": {
          "model_module": "@jupyter-widgets/controls",
          "model_name": "HTMLModel",
          "state": {
            "_view_name": "HTMLView",
            "style": "IPY_MODEL_d41dfa220807481dafaf7c91736dd303",
            "_dom_classes": [],
            "description": "",
            "_model_name": "HTMLModel",
            "placeholder": "​",
            "_view_module": "@jupyter-widgets/controls",
            "_model_module_version": "1.5.0",
            "value": " 32/32 [01:31&lt;00:00,  2.85s/it]",
            "_view_count": null,
            "_view_module_version": "1.5.0",
            "description_tooltip": null,
            "_model_module": "@jupyter-widgets/controls",
            "layout": "IPY_MODEL_47ae0d6e5db14426b3785ce52456c9d4"
          }
        },
        "10fe7d5a97af4f2588e13f7cfda58855": {
          "model_module": "@jupyter-widgets/controls",
          "model_name": "ProgressStyleModel",
          "state": {
            "_view_name": "StyleView",
            "_model_name": "ProgressStyleModel",
            "description_width": "initial",
            "_view_module": "@jupyter-widgets/base",
            "_model_module_version": "1.5.0",
            "_view_count": null,
            "_view_module_version": "1.2.0",
            "bar_color": null,
            "_model_module": "@jupyter-widgets/controls"
          }
        },
        "e8e6e2bfeaf44db0aefd68992794a1a3": {
          "model_module": "@jupyter-widgets/base",
          "model_name": "LayoutModel",
          "state": {
            "_view_name": "LayoutView",
            "grid_template_rows": null,
            "right": null,
            "justify_content": null,
            "_view_module": "@jupyter-widgets/base",
            "overflow": null,
            "_model_module_version": "1.2.0",
            "_view_count": null,
            "flex_flow": null,
            "width": null,
            "min_width": null,
            "border": null,
            "align_items": null,
            "bottom": null,
            "_model_module": "@jupyter-widgets/base",
            "top": null,
            "grid_column": null,
            "overflow_y": null,
            "overflow_x": null,
            "grid_auto_flow": null,
            "grid_area": null,
            "grid_template_columns": null,
            "flex": null,
            "_model_name": "LayoutModel",
            "justify_items": null,
            "grid_row": null,
            "max_height": null,
            "align_content": null,
            "visibility": null,
            "align_self": null,
            "height": null,
            "min_height": null,
            "padding": null,
            "grid_auto_rows": null,
            "grid_gap": null,
            "max_width": null,
            "order": null,
            "_view_module_version": "1.2.0",
            "grid_template_areas": null,
            "object_position": null,
            "object_fit": null,
            "grid_auto_columns": null,
            "margin": null,
            "display": null,
            "left": null
          }
        },
        "d41dfa220807481dafaf7c91736dd303": {
          "model_module": "@jupyter-widgets/controls",
          "model_name": "DescriptionStyleModel",
          "state": {
            "_view_name": "StyleView",
            "_model_name": "DescriptionStyleModel",
            "description_width": "",
            "_view_module": "@jupyter-widgets/base",
            "_model_module_version": "1.5.0",
            "_view_count": null,
            "_view_module_version": "1.2.0",
            "_model_module": "@jupyter-widgets/controls"
          }
        },
        "47ae0d6e5db14426b3785ce52456c9d4": {
          "model_module": "@jupyter-widgets/base",
          "model_name": "LayoutModel",
          "state": {
            "_view_name": "LayoutView",
            "grid_template_rows": null,
            "right": null,
            "justify_content": null,
            "_view_module": "@jupyter-widgets/base",
            "overflow": null,
            "_model_module_version": "1.2.0",
            "_view_count": null,
            "flex_flow": null,
            "width": null,
            "min_width": null,
            "border": null,
            "align_items": null,
            "bottom": null,
            "_model_module": "@jupyter-widgets/base",
            "top": null,
            "grid_column": null,
            "overflow_y": null,
            "overflow_x": null,
            "grid_auto_flow": null,
            "grid_area": null,
            "grid_template_columns": null,
            "flex": null,
            "_model_name": "LayoutModel",
            "justify_items": null,
            "grid_row": null,
            "max_height": null,
            "align_content": null,
            "visibility": null,
            "align_self": null,
            "height": null,
            "min_height": null,
            "padding": null,
            "grid_auto_rows": null,
            "grid_gap": null,
            "max_width": null,
            "order": null,
            "_view_module_version": "1.2.0",
            "grid_template_areas": null,
            "object_position": null,
            "object_fit": null,
            "grid_auto_columns": null,
            "margin": null,
            "display": null,
            "left": null
          }
        },
        "2b033862530e4005bae81965196c4b20": {
          "model_module": "@jupyter-widgets/controls",
          "model_name": "HBoxModel",
          "state": {
            "_view_name": "HBoxView",
            "_dom_classes": [],
            "_model_name": "HBoxModel",
            "_view_module": "@jupyter-widgets/controls",
            "_model_module_version": "1.5.0",
            "_view_count": null,
            "_view_module_version": "1.5.0",
            "box_style": "",
            "layout": "IPY_MODEL_59a5c47c372248e7b83903deb5999c06",
            "_model_module": "@jupyter-widgets/controls",
            "children": [
              "IPY_MODEL_b30e62e0643d49a997b082e17ddac821",
              "IPY_MODEL_9e7989b546d2425cb4d8b605961e31e1"
            ]
          }
        },
        "59a5c47c372248e7b83903deb5999c06": {
          "model_module": "@jupyter-widgets/base",
          "model_name": "LayoutModel",
          "state": {
            "_view_name": "LayoutView",
            "grid_template_rows": null,
            "right": null,
            "justify_content": null,
            "_view_module": "@jupyter-widgets/base",
            "overflow": null,
            "_model_module_version": "1.2.0",
            "_view_count": null,
            "flex_flow": null,
            "width": null,
            "min_width": null,
            "border": null,
            "align_items": null,
            "bottom": null,
            "_model_module": "@jupyter-widgets/base",
            "top": null,
            "grid_column": null,
            "overflow_y": null,
            "overflow_x": null,
            "grid_auto_flow": null,
            "grid_area": null,
            "grid_template_columns": null,
            "flex": null,
            "_model_name": "LayoutModel",
            "justify_items": null,
            "grid_row": null,
            "max_height": null,
            "align_content": null,
            "visibility": null,
            "align_self": null,
            "height": null,
            "min_height": null,
            "padding": null,
            "grid_auto_rows": null,
            "grid_gap": null,
            "max_width": null,
            "order": null,
            "_view_module_version": "1.2.0",
            "grid_template_areas": null,
            "object_position": null,
            "object_fit": null,
            "grid_auto_columns": null,
            "margin": null,
            "display": null,
            "left": null
          }
        },
        "b30e62e0643d49a997b082e17ddac821": {
          "model_module": "@jupyter-widgets/controls",
          "model_name": "FloatProgressModel",
          "state": {
            "_view_name": "ProgressView",
            "style": "IPY_MODEL_cf5b1c2aee6343a1b9eed8e95a886b34",
            "_dom_classes": [],
            "description": "100%",
            "_model_name": "FloatProgressModel",
            "bar_style": "success",
            "max": 16,
            "_view_module": "@jupyter-widgets/controls",
            "_model_module_version": "1.5.0",
            "value": 16,
            "_view_count": null,
            "_view_module_version": "1.5.0",
            "orientation": "horizontal",
            "min": 0,
            "description_tooltip": null,
            "_model_module": "@jupyter-widgets/controls",
            "layout": "IPY_MODEL_854b24c66953429ebb3582791cca0391"
          }
        },
        "9e7989b546d2425cb4d8b605961e31e1": {
          "model_module": "@jupyter-widgets/controls",
          "model_name": "HTMLModel",
          "state": {
            "_view_name": "HTMLView",
            "style": "IPY_MODEL_1dc9affc5f3b4e7b9ac1a85f918d53bf",
            "_dom_classes": [],
            "description": "",
            "_model_name": "HTMLModel",
            "placeholder": "​",
            "_view_module": "@jupyter-widgets/controls",
            "_model_module_version": "1.5.0",
            "value": " 16/16 [00:01&lt;00:00,  9.00it/s]",
            "_view_count": null,
            "_view_module_version": "1.5.0",
            "description_tooltip": null,
            "_model_module": "@jupyter-widgets/controls",
            "layout": "IPY_MODEL_360373e7021140fcbf563592c5828f72"
          }
        },
        "cf5b1c2aee6343a1b9eed8e95a886b34": {
          "model_module": "@jupyter-widgets/controls",
          "model_name": "ProgressStyleModel",
          "state": {
            "_view_name": "StyleView",
            "_model_name": "ProgressStyleModel",
            "description_width": "initial",
            "_view_module": "@jupyter-widgets/base",
            "_model_module_version": "1.5.0",
            "_view_count": null,
            "_view_module_version": "1.2.0",
            "bar_color": null,
            "_model_module": "@jupyter-widgets/controls"
          }
        },
        "854b24c66953429ebb3582791cca0391": {
          "model_module": "@jupyter-widgets/base",
          "model_name": "LayoutModel",
          "state": {
            "_view_name": "LayoutView",
            "grid_template_rows": null,
            "right": null,
            "justify_content": null,
            "_view_module": "@jupyter-widgets/base",
            "overflow": null,
            "_model_module_version": "1.2.0",
            "_view_count": null,
            "flex_flow": null,
            "width": null,
            "min_width": null,
            "border": null,
            "align_items": null,
            "bottom": null,
            "_model_module": "@jupyter-widgets/base",
            "top": null,
            "grid_column": null,
            "overflow_y": null,
            "overflow_x": null,
            "grid_auto_flow": null,
            "grid_area": null,
            "grid_template_columns": null,
            "flex": null,
            "_model_name": "LayoutModel",
            "justify_items": null,
            "grid_row": null,
            "max_height": null,
            "align_content": null,
            "visibility": null,
            "align_self": null,
            "height": null,
            "min_height": null,
            "padding": null,
            "grid_auto_rows": null,
            "grid_gap": null,
            "max_width": null,
            "order": null,
            "_view_module_version": "1.2.0",
            "grid_template_areas": null,
            "object_position": null,
            "object_fit": null,
            "grid_auto_columns": null,
            "margin": null,
            "display": null,
            "left": null
          }
        },
        "1dc9affc5f3b4e7b9ac1a85f918d53bf": {
          "model_module": "@jupyter-widgets/controls",
          "model_name": "DescriptionStyleModel",
          "state": {
            "_view_name": "StyleView",
            "_model_name": "DescriptionStyleModel",
            "description_width": "",
            "_view_module": "@jupyter-widgets/base",
            "_model_module_version": "1.5.0",
            "_view_count": null,
            "_view_module_version": "1.2.0",
            "_model_module": "@jupyter-widgets/controls"
          }
        },
        "360373e7021140fcbf563592c5828f72": {
          "model_module": "@jupyter-widgets/base",
          "model_name": "LayoutModel",
          "state": {
            "_view_name": "LayoutView",
            "grid_template_rows": null,
            "right": null,
            "justify_content": null,
            "_view_module": "@jupyter-widgets/base",
            "overflow": null,
            "_model_module_version": "1.2.0",
            "_view_count": null,
            "flex_flow": null,
            "width": null,
            "min_width": null,
            "border": null,
            "align_items": null,
            "bottom": null,
            "_model_module": "@jupyter-widgets/base",
            "top": null,
            "grid_column": null,
            "overflow_y": null,
            "overflow_x": null,
            "grid_auto_flow": null,
            "grid_area": null,
            "grid_template_columns": null,
            "flex": null,
            "_model_name": "LayoutModel",
            "justify_items": null,
            "grid_row": null,
            "max_height": null,
            "align_content": null,
            "visibility": null,
            "align_self": null,
            "height": null,
            "min_height": null,
            "padding": null,
            "grid_auto_rows": null,
            "grid_gap": null,
            "max_width": null,
            "order": null,
            "_view_module_version": "1.2.0",
            "grid_template_areas": null,
            "object_position": null,
            "object_fit": null,
            "grid_auto_columns": null,
            "margin": null,
            "display": null,
            "left": null
          }
        },
        "1a8bbb5c5a154c27ba85393d4ba08bcb": {
          "model_module": "@jupyter-widgets/controls",
          "model_name": "HBoxModel",
          "state": {
            "_view_name": "HBoxView",
            "_dom_classes": [],
            "_model_name": "HBoxModel",
            "_view_module": "@jupyter-widgets/controls",
            "_model_module_version": "1.5.0",
            "_view_count": null,
            "_view_module_version": "1.5.0",
            "box_style": "",
            "layout": "IPY_MODEL_8e1b8f57478548faae6872c9419eb752",
            "_model_module": "@jupyter-widgets/controls",
            "children": [
              "IPY_MODEL_936b261083484d38881d46fd519aad48",
              "IPY_MODEL_6050ab0913fa4ed0ae7a00161aed695d"
            ]
          }
        },
        "8e1b8f57478548faae6872c9419eb752": {
          "model_module": "@jupyter-widgets/base",
          "model_name": "LayoutModel",
          "state": {
            "_view_name": "LayoutView",
            "grid_template_rows": null,
            "right": null,
            "justify_content": null,
            "_view_module": "@jupyter-widgets/base",
            "overflow": null,
            "_model_module_version": "1.2.0",
            "_view_count": null,
            "flex_flow": null,
            "width": null,
            "min_width": null,
            "border": null,
            "align_items": null,
            "bottom": null,
            "_model_module": "@jupyter-widgets/base",
            "top": null,
            "grid_column": null,
            "overflow_y": null,
            "overflow_x": null,
            "grid_auto_flow": null,
            "grid_area": null,
            "grid_template_columns": null,
            "flex": null,
            "_model_name": "LayoutModel",
            "justify_items": null,
            "grid_row": null,
            "max_height": null,
            "align_content": null,
            "visibility": null,
            "align_self": null,
            "height": null,
            "min_height": null,
            "padding": null,
            "grid_auto_rows": null,
            "grid_gap": null,
            "max_width": null,
            "order": null,
            "_view_module_version": "1.2.0",
            "grid_template_areas": null,
            "object_position": null,
            "object_fit": null,
            "grid_auto_columns": null,
            "margin": null,
            "display": null,
            "left": null
          }
        },
        "936b261083484d38881d46fd519aad48": {
          "model_module": "@jupyter-widgets/controls",
          "model_name": "FloatProgressModel",
          "state": {
            "_view_name": "ProgressView",
            "style": "IPY_MODEL_2f9f84be3dfe47c79cf4bf485812f06d",
            "_dom_classes": [],
            "description": "100%",
            "_model_name": "FloatProgressModel",
            "bar_style": "success",
            "max": 70187,
            "_view_module": "@jupyter-widgets/controls",
            "_model_module_version": "1.5.0",
            "value": 70187,
            "_view_count": null,
            "_view_module_version": "1.5.0",
            "orientation": "horizontal",
            "min": 0,
            "description_tooltip": null,
            "_model_module": "@jupyter-widgets/controls",
            "layout": "IPY_MODEL_aafba814c6fc40feb8e40baf4ae9ba50"
          }
        },
        "6050ab0913fa4ed0ae7a00161aed695d": {
          "model_module": "@jupyter-widgets/controls",
          "model_name": "HTMLModel",
          "state": {
            "_view_name": "HTMLView",
            "style": "IPY_MODEL_1a74edae58144cda8c150619e7f926bc",
            "_dom_classes": [],
            "description": "",
            "_model_name": "HTMLModel",
            "placeholder": "​",
            "_view_module": "@jupyter-widgets/controls",
            "_model_module_version": "1.5.0",
            "value": " 70187/70187 [01:17&lt;00:00, 906.81it/s]",
            "_view_count": null,
            "_view_module_version": "1.5.0",
            "description_tooltip": null,
            "_model_module": "@jupyter-widgets/controls",
            "layout": "IPY_MODEL_a87ed5352e2b4027a9281e664c7913dd"
          }
        },
        "2f9f84be3dfe47c79cf4bf485812f06d": {
          "model_module": "@jupyter-widgets/controls",
          "model_name": "ProgressStyleModel",
          "state": {
            "_view_name": "StyleView",
            "_model_name": "ProgressStyleModel",
            "description_width": "initial",
            "_view_module": "@jupyter-widgets/base",
            "_model_module_version": "1.5.0",
            "_view_count": null,
            "_view_module_version": "1.2.0",
            "bar_color": null,
            "_model_module": "@jupyter-widgets/controls"
          }
        },
        "aafba814c6fc40feb8e40baf4ae9ba50": {
          "model_module": "@jupyter-widgets/base",
          "model_name": "LayoutModel",
          "state": {
            "_view_name": "LayoutView",
            "grid_template_rows": null,
            "right": null,
            "justify_content": null,
            "_view_module": "@jupyter-widgets/base",
            "overflow": null,
            "_model_module_version": "1.2.0",
            "_view_count": null,
            "flex_flow": null,
            "width": null,
            "min_width": null,
            "border": null,
            "align_items": null,
            "bottom": null,
            "_model_module": "@jupyter-widgets/base",
            "top": null,
            "grid_column": null,
            "overflow_y": null,
            "overflow_x": null,
            "grid_auto_flow": null,
            "grid_area": null,
            "grid_template_columns": null,
            "flex": null,
            "_model_name": "LayoutModel",
            "justify_items": null,
            "grid_row": null,
            "max_height": null,
            "align_content": null,
            "visibility": null,
            "align_self": null,
            "height": null,
            "min_height": null,
            "padding": null,
            "grid_auto_rows": null,
            "grid_gap": null,
            "max_width": null,
            "order": null,
            "_view_module_version": "1.2.0",
            "grid_template_areas": null,
            "object_position": null,
            "object_fit": null,
            "grid_auto_columns": null,
            "margin": null,
            "display": null,
            "left": null
          }
        },
        "1a74edae58144cda8c150619e7f926bc": {
          "model_module": "@jupyter-widgets/controls",
          "model_name": "DescriptionStyleModel",
          "state": {
            "_view_name": "StyleView",
            "_model_name": "DescriptionStyleModel",
            "description_width": "",
            "_view_module": "@jupyter-widgets/base",
            "_model_module_version": "1.5.0",
            "_view_count": null,
            "_view_module_version": "1.2.0",
            "_model_module": "@jupyter-widgets/controls"
          }
        },
        "a87ed5352e2b4027a9281e664c7913dd": {
          "model_module": "@jupyter-widgets/base",
          "model_name": "LayoutModel",
          "state": {
            "_view_name": "LayoutView",
            "grid_template_rows": null,
            "right": null,
            "justify_content": null,
            "_view_module": "@jupyter-widgets/base",
            "overflow": null,
            "_model_module_version": "1.2.0",
            "_view_count": null,
            "flex_flow": null,
            "width": null,
            "min_width": null,
            "border": null,
            "align_items": null,
            "bottom": null,
            "_model_module": "@jupyter-widgets/base",
            "top": null,
            "grid_column": null,
            "overflow_y": null,
            "overflow_x": null,
            "grid_auto_flow": null,
            "grid_area": null,
            "grid_template_columns": null,
            "flex": null,
            "_model_name": "LayoutModel",
            "justify_items": null,
            "grid_row": null,
            "max_height": null,
            "align_content": null,
            "visibility": null,
            "align_self": null,
            "height": null,
            "min_height": null,
            "padding": null,
            "grid_auto_rows": null,
            "grid_gap": null,
            "max_width": null,
            "order": null,
            "_view_module_version": "1.2.0",
            "grid_template_areas": null,
            "object_position": null,
            "object_fit": null,
            "grid_auto_columns": null,
            "margin": null,
            "display": null,
            "left": null
          }
        },
        "da1363f53b644e07a07e246ff5e9a049": {
          "model_module": "@jupyter-widgets/controls",
          "model_name": "HBoxModel",
          "state": {
            "_view_name": "HBoxView",
            "_dom_classes": [],
            "_model_name": "HBoxModel",
            "_view_module": "@jupyter-widgets/controls",
            "_model_module_version": "1.5.0",
            "_view_count": null,
            "_view_module_version": "1.5.0",
            "box_style": "",
            "layout": "IPY_MODEL_f451090ecbc749df98e13a48b717adfe",
            "_model_module": "@jupyter-widgets/controls",
            "children": [
              "IPY_MODEL_f34937ba3a1049508a8cbe3e71d11873",
              "IPY_MODEL_950e9fdf3c0d4671a2f906a5bf2d9b43"
            ]
          }
        },
        "f451090ecbc749df98e13a48b717adfe": {
          "model_module": "@jupyter-widgets/base",
          "model_name": "LayoutModel",
          "state": {
            "_view_name": "LayoutView",
            "grid_template_rows": null,
            "right": null,
            "justify_content": null,
            "_view_module": "@jupyter-widgets/base",
            "overflow": null,
            "_model_module_version": "1.2.0",
            "_view_count": null,
            "flex_flow": null,
            "width": null,
            "min_width": null,
            "border": null,
            "align_items": null,
            "bottom": null,
            "_model_module": "@jupyter-widgets/base",
            "top": null,
            "grid_column": null,
            "overflow_y": null,
            "overflow_x": null,
            "grid_auto_flow": null,
            "grid_area": null,
            "grid_template_columns": null,
            "flex": null,
            "_model_name": "LayoutModel",
            "justify_items": null,
            "grid_row": null,
            "max_height": null,
            "align_content": null,
            "visibility": null,
            "align_self": null,
            "height": null,
            "min_height": null,
            "padding": null,
            "grid_auto_rows": null,
            "grid_gap": null,
            "max_width": null,
            "order": null,
            "_view_module_version": "1.2.0",
            "grid_template_areas": null,
            "object_position": null,
            "object_fit": null,
            "grid_auto_columns": null,
            "margin": null,
            "display": null,
            "left": null
          }
        },
        "f34937ba3a1049508a8cbe3e71d11873": {
          "model_module": "@jupyter-widgets/controls",
          "model_name": "FloatProgressModel",
          "state": {
            "_view_name": "ProgressView",
            "style": "IPY_MODEL_e48f56b04c544fbcbdb0c792448f7cdc",
            "_dom_classes": [],
            "description": "100%",
            "_model_name": "FloatProgressModel",
            "bar_style": "success",
            "max": 38912,
            "_view_module": "@jupyter-widgets/controls",
            "_model_module_version": "1.5.0",
            "value": 38912,
            "_view_count": null,
            "_view_module_version": "1.5.0",
            "orientation": "horizontal",
            "min": 0,
            "description_tooltip": null,
            "_model_module": "@jupyter-widgets/controls",
            "layout": "IPY_MODEL_6140a96fc8f74a02b20a999e7ff2305d"
          }
        },
        "950e9fdf3c0d4671a2f906a5bf2d9b43": {
          "model_module": "@jupyter-widgets/controls",
          "model_name": "HTMLModel",
          "state": {
            "_view_name": "HTMLView",
            "style": "IPY_MODEL_664d6a9cdf1d4eb69c82b0f365a1ca33",
            "_dom_classes": [],
            "description": "",
            "_model_name": "HTMLModel",
            "placeholder": "​",
            "_view_module": "@jupyter-widgets/controls",
            "_model_module_version": "1.5.0",
            "value": " 38912/38912 [00:26&lt;00:00, 1474.95it/s]",
            "_view_count": null,
            "_view_module_version": "1.5.0",
            "description_tooltip": null,
            "_model_module": "@jupyter-widgets/controls",
            "layout": "IPY_MODEL_4030bb9459944814a68ee7b01da14713"
          }
        },
        "e48f56b04c544fbcbdb0c792448f7cdc": {
          "model_module": "@jupyter-widgets/controls",
          "model_name": "ProgressStyleModel",
          "state": {
            "_view_name": "StyleView",
            "_model_name": "ProgressStyleModel",
            "description_width": "initial",
            "_view_module": "@jupyter-widgets/base",
            "_model_module_version": "1.5.0",
            "_view_count": null,
            "_view_module_version": "1.2.0",
            "bar_color": null,
            "_model_module": "@jupyter-widgets/controls"
          }
        },
        "6140a96fc8f74a02b20a999e7ff2305d": {
          "model_module": "@jupyter-widgets/base",
          "model_name": "LayoutModel",
          "state": {
            "_view_name": "LayoutView",
            "grid_template_rows": null,
            "right": null,
            "justify_content": null,
            "_view_module": "@jupyter-widgets/base",
            "overflow": null,
            "_model_module_version": "1.2.0",
            "_view_count": null,
            "flex_flow": null,
            "width": null,
            "min_width": null,
            "border": null,
            "align_items": null,
            "bottom": null,
            "_model_module": "@jupyter-widgets/base",
            "top": null,
            "grid_column": null,
            "overflow_y": null,
            "overflow_x": null,
            "grid_auto_flow": null,
            "grid_area": null,
            "grid_template_columns": null,
            "flex": null,
            "_model_name": "LayoutModel",
            "justify_items": null,
            "grid_row": null,
            "max_height": null,
            "align_content": null,
            "visibility": null,
            "align_self": null,
            "height": null,
            "min_height": null,
            "padding": null,
            "grid_auto_rows": null,
            "grid_gap": null,
            "max_width": null,
            "order": null,
            "_view_module_version": "1.2.0",
            "grid_template_areas": null,
            "object_position": null,
            "object_fit": null,
            "grid_auto_columns": null,
            "margin": null,
            "display": null,
            "left": null
          }
        },
        "664d6a9cdf1d4eb69c82b0f365a1ca33": {
          "model_module": "@jupyter-widgets/controls",
          "model_name": "DescriptionStyleModel",
          "state": {
            "_view_name": "StyleView",
            "_model_name": "DescriptionStyleModel",
            "description_width": "",
            "_view_module": "@jupyter-widgets/base",
            "_model_module_version": "1.5.0",
            "_view_count": null,
            "_view_module_version": "1.2.0",
            "_model_module": "@jupyter-widgets/controls"
          }
        },
        "4030bb9459944814a68ee7b01da14713": {
          "model_module": "@jupyter-widgets/base",
          "model_name": "LayoutModel",
          "state": {
            "_view_name": "LayoutView",
            "grid_template_rows": null,
            "right": null,
            "justify_content": null,
            "_view_module": "@jupyter-widgets/base",
            "overflow": null,
            "_model_module_version": "1.2.0",
            "_view_count": null,
            "flex_flow": null,
            "width": null,
            "min_width": null,
            "border": null,
            "align_items": null,
            "bottom": null,
            "_model_module": "@jupyter-widgets/base",
            "top": null,
            "grid_column": null,
            "overflow_y": null,
            "overflow_x": null,
            "grid_auto_flow": null,
            "grid_area": null,
            "grid_template_columns": null,
            "flex": null,
            "_model_name": "LayoutModel",
            "justify_items": null,
            "grid_row": null,
            "max_height": null,
            "align_content": null,
            "visibility": null,
            "align_self": null,
            "height": null,
            "min_height": null,
            "padding": null,
            "grid_auto_rows": null,
            "grid_gap": null,
            "max_width": null,
            "order": null,
            "_view_module_version": "1.2.0",
            "grid_template_areas": null,
            "object_position": null,
            "object_fit": null,
            "grid_auto_columns": null,
            "margin": null,
            "display": null,
            "left": null
          }
        }
      }
    }
  },
  "cells": [
    {
      "cell_type": "markdown",
      "metadata": {
        "id": "view-in-github",
        "colab_type": "text"
      },
      "source": [
        "<a href=\"https://colab.research.google.com/github/jshin13/code_bucket/blob/main/LSTM_CNNarrhythmia.ipynb\" target=\"_parent\"><img src=\"https://colab.research.google.com/assets/colab-badge.svg\" alt=\"Open In Colab\"/></a>"
      ]
    },
    {
      "cell_type": "markdown",
      "metadata": {
        "id": "w_lw7__56vqB"
      },
      "source": [
        "<h2> Lab 4 : Abnormal heartbeat detection with LSTMs and CNNs </h2>"
      ]
    },
    {
      "cell_type": "markdown",
      "metadata": {
        "id": "gmmg6mcVhrMJ"
      },
      "source": [
        "Today, detecting abnormal heartbeat patterns is important in smartwatches.\n",
        "In this lab, we will try to predict heart arrhythmia with LSTMs and 1-D CNNs.\n",
        "\n",
        "We will use MIT-BIH Arrythmia dataset (https://www.physionet.org/content/mitdb/1.0.0/).\n",
        "It consists of ECG recordings of several patients (patient IDs being 100, 101, etc.) with sampling frequency of 360 (samples/sec). Experts annotated/classified specific points in the signals as normal, abnormal, or non beat.\n",
        "\n",
        "**NOTE1:** GPU is required for this lab.\n",
        "You must change \"Runtime type\" to GPU from the \"Runtime\" tab (\"Change Runtime type\").\n",
        "\n",
        "NOTE2: If you face RAM/memory overflow issue in this lab, ensure that you train only one model in single COLAB session. Feel free to implement your own memory optimization tricks too."
      ]
    },
    {
      "cell_type": "code",
      "metadata": {
        "id": "V0U5N_sekiK6",
        "colab": {
          "base_uri": "https://localhost:8080/"
        },
        "outputId": "ef883419-14b5-48ab-a00d-7212a7f4a2d5"
      },
      "source": [
        "# load libraries (feel free to add more) and get dataset\n",
        "import os\n",
        "%pip install wfdb\n",
        "import wfdb\n",
        "import numpy as np\n",
        "import pandas as pd\n",
        "import urllib.request\n",
        "import numpy as np\n",
        "from tqdm.notebook import tqdm\n",
        "import matplotlib.pyplot as plt\n",
        "import scipy.signal\n",
        "\n",
        "from keras.layers import Bidirectional, LSTM\n",
        "from keras.models import Sequential\n",
        "from keras.layers import Dense, Flatten, Dropout, Conv1D  # https://keras.io/api/layers/convolution_layers/convolution1d/\n",
        "from keras.layers import LeakyReLU\n",
        "\n",
        "from pywt import wavedec, dwt   # https://pywavelets.readthedocs.io/\n",
        "\n",
        "from sklearn.metrics import accuracy_score\n",
        "from sklearn.preprocessing import StandardScaler\n",
        "from sklearn.model_selection import train_test_split\n",
        "\n",
        "if os.path.exists('./mba_dataset'): pass\n",
        "else:\n",
        "    urllib.request.urlretrieve('https://storage.googleapis.com/mitdb-1.0.0.physionet.org/mit-bih-arrhythmia-database-1.0.0.zip', './mba_dataset.zip')\n",
        "    !unzip mba_dataset.zip -d mba_dataset\n",
        "path_dataset='mba_dataset/mit-bih-arrhythmia-database-1.0.0/'"
      ],
      "execution_count": 1,
      "outputs": [
        {
          "output_type": "stream",
          "text": [
            "Requirement already satisfied: wfdb in /usr/local/lib/python3.7/dist-packages (3.3.0)\n",
            "Requirement already satisfied: numpy>=1.10.1 in /usr/local/lib/python3.7/dist-packages (from wfdb) (1.19.5)\n",
            "Requirement already satisfied: kiwisolver>=1.1.0 in /usr/local/lib/python3.7/dist-packages (from wfdb) (1.3.1)\n",
            "Requirement already satisfied: chardet>=3.0.0 in /usr/local/lib/python3.7/dist-packages (from wfdb) (3.0.4)\n",
            "Requirement already satisfied: matplotlib>=2.0.0 in /usr/local/lib/python3.7/dist-packages (from wfdb) (3.2.2)\n",
            "Requirement already satisfied: pyparsing>=2.0.4 in /usr/local/lib/python3.7/dist-packages (from wfdb) (2.4.7)\n",
            "Requirement already satisfied: scipy>=0.17.0 in /usr/local/lib/python3.7/dist-packages (from wfdb) (1.4.1)\n",
            "Requirement already satisfied: pandas>=0.17.0 in /usr/local/lib/python3.7/dist-packages (from wfdb) (1.1.5)\n",
            "Requirement already satisfied: urllib3>=1.22 in /usr/local/lib/python3.7/dist-packages (from wfdb) (1.24.3)\n",
            "Requirement already satisfied: threadpoolctl>=1.0.0 in /usr/local/lib/python3.7/dist-packages (from wfdb) (2.1.0)\n",
            "Requirement already satisfied: joblib>=0.11 in /usr/local/lib/python3.7/dist-packages (from wfdb) (1.0.1)\n",
            "Requirement already satisfied: requests>=2.8.1 in /usr/local/lib/python3.7/dist-packages (from wfdb) (2.23.0)\n",
            "Requirement already satisfied: pytz>=2017.2 in /usr/local/lib/python3.7/dist-packages (from wfdb) (2018.9)\n",
            "Requirement already satisfied: python-dateutil>=2.4.2 in /usr/local/lib/python3.7/dist-packages (from wfdb) (2.8.1)\n",
            "Requirement already satisfied: cycler>=0.10.0 in /usr/local/lib/python3.7/dist-packages (from wfdb) (0.10.0)\n",
            "Requirement already satisfied: certifi>=2016.8.2 in /usr/local/lib/python3.7/dist-packages (from wfdb) (2020.12.5)\n",
            "Requirement already satisfied: scikit-learn>=0.18 in /usr/local/lib/python3.7/dist-packages (from wfdb) (0.22.2.post1)\n",
            "Requirement already satisfied: idna>=2.2 in /usr/local/lib/python3.7/dist-packages (from wfdb) (2.10)\n",
            "Requirement already satisfied: six>=1.5 in /usr/local/lib/python3.7/dist-packages (from python-dateutil>=2.4.2->wfdb) (1.15.0)\n"
          ],
          "name": "stdout"
        }
      ]
    },
    {
      "cell_type": "markdown",
      "metadata": {
        "id": "LgDiY09qzK5w"
      },
      "source": [
        "**Exploring the data**\n",
        "\n",
        "Do `!ls mba_dataset/mit-bih-arrhythmia-database-1.0.0` to see the files present in dataset. We will primarily use \\<patientID>.atr files. There are 48 patients with a 30 minutes of recording for each.\n",
        "For '100' patient, let us check what all annotations are present in his/her signal. Run the code below."
      ]
    },
    {
      "cell_type": "code",
      "metadata": {
        "id": "HH394t2wq1ki",
        "colab": {
          "base_uri": "https://localhost:8080/"
        },
        "outputId": "cbe07acf-e23e-42dd-9ecf-006d7fc76761"
      },
      "source": [
        "!ls mba_dataset/mit-bih-arrhythmia-database-1.0.0\n",
        "annotation = wfdb.rdann(os.path.join(path_dataset, '100'), 'atr')\n",
        "print(annotation.symbol)  # symbols present in the data for patient 100"
      ],
      "execution_count": 2,
      "outputs": [
        {
          "output_type": "stream",
          "text": [
            "100.atr    106.dat  113.hea  119.hea  202.atr  209.xws\t217.xws  230.atr\n",
            "100.dat    106.hea  113.xws  119.xws  202.dat  210.atr\t219.atr  230.dat\n",
            "100.hea    106.xws  114.atr  121.atr  202.hea  210.dat\t219.dat  230.hea\n",
            "100.xws    107.atr  114.dat  121.dat  202.xws  210.hea\t219.hea  230.xws\n",
            "101.atr    107.dat  114.hea  121.hea  203.at_  210.xws\t219.xws  231.atr\n",
            "101.dat    107.hea  114.xws  121.xws  203.at-  212.atr\t220.atr  231.dat\n",
            "101.hea    107.xws  115.atr  122.atr  203.atr  212.dat\t220.dat  231.hea\n",
            "101.xws    108.at_  115.dat  122.dat  203.dat  212.hea\t220.hea  231.xws\n",
            "102-0.atr  108.atr  115.hea  122.hea  203.hea  212.xws\t220.xws  232.atr\n",
            "102.atr    108.dat  115.xws  122.xws  203.xws  213.atr\t221.atr  232.dat\n",
            "102.dat    108.hea  116.atr  123.atr  205.atr  213.dat\t221.dat  232.hea\n",
            "102.hea    108.xws  116.dat  123.dat  205.dat  213.hea\t221.hea  232.xws\n",
            "102.xws    109.atr  116.hea  123.hea  205.hea  213.xws\t221.xws  233.atr\n",
            "103.atr    109.dat  116.xws  123.xws  205.xws  214.at_\t222.at_  233.dat\n",
            "103.dat    109.hea  117.at_  124.atr  207.atr  214.atr\t222.atr  233.hea\n",
            "103.hea    109.xws  117.atr  124.dat  207.dat  214.dat\t222.dat  233.xws\n",
            "103.xws    111.atr  117.dat  124.hea  207.hea  214.hea\t222.hea  234.atr\n",
            "104.atr    111.dat  117.hea  124.xws  207.xws  214.xws\t222.xws  234.dat\n",
            "104.dat    111.hea  117.xws  200.atr  208.atr  215.at_\t223.atr  234.hea\n",
            "104.hea    111.xws  118.atr  200.dat  208.dat  215.atr\t223.dat  234.xws\n",
            "104.xws    112.atr  118.dat  200.hea  208.hea  215.dat\t223.hea  ANNOTATORS\n",
            "105.atr    112.dat  118.hea  200.xws  208.xws  215.hea\t223.xws  mitdbdir\n",
            "105.dat    112.hea  118.xws  201.atr  209.at_  215.xws\t228.atr  RECORDS\n",
            "105.hea    112.xws  119.at_  201.dat  209.atr  217.atr\t228.dat  SHA256SUMS.txt\n",
            "105.xws    113.atr  119.atr  201.hea  209.dat  217.dat\t228.hea  x_mitdb\n",
            "106.atr    113.dat  119.dat  201.xws  209.hea  217.hea\t228.xws\n",
            "['+', 'N', 'N', 'N', 'N', 'N', 'N', 'N', 'A', 'N', 'N', 'N', 'N', 'N', 'N', 'N', 'N', 'N', 'N', 'N', 'N', 'N', 'N', 'N', 'N', 'N', 'N', 'N', 'N', 'N', 'N', 'N', 'N', 'N', 'N', 'N', 'N', 'N', 'N', 'N', 'N', 'N', 'N', 'N', 'N', 'N', 'N', 'N', 'N', 'N', 'N', 'N', 'N', 'N', 'N', 'N', 'N', 'N', 'N', 'N', 'N', 'N', 'N', 'N', 'N', 'N', 'N', 'N', 'N', 'N', 'N', 'N', 'N', 'N', 'N', 'N', 'N', 'N', 'N', 'N', 'N', 'N', 'N', 'N', 'N', 'N', 'N', 'N', 'N', 'N', 'N', 'N', 'N', 'N', 'N', 'N', 'N', 'N', 'N', 'N', 'N', 'N', 'N', 'N', 'N', 'N', 'N', 'N', 'N', 'N', 'N', 'N', 'N', 'N', 'N', 'N', 'N', 'N', 'N', 'N', 'N', 'N', 'N', 'N', 'N', 'N', 'N', 'N', 'N', 'N', 'N', 'N', 'N', 'N', 'N', 'N', 'N', 'N', 'N', 'N', 'N', 'N', 'N', 'N', 'N', 'N', 'N', 'N', 'N', 'N', 'N', 'N', 'N', 'N', 'N', 'N', 'N', 'N', 'N', 'N', 'N', 'N', 'N', 'N', 'N', 'N', 'N', 'N', 'N', 'N', 'N', 'N', 'N', 'N', 'N', 'N', 'N', 'N', 'N', 'N', 'N', 'N', 'N', 'N', 'N', 'N', 'N', 'N', 'N', 'N', 'N', 'N', 'N', 'N', 'N', 'N', 'N', 'N', 'N', 'N', 'N', 'N', 'N', 'N', 'N', 'N', 'N', 'N', 'N', 'N', 'N', 'N', 'N', 'N', 'N', 'N', 'N', 'N', 'N', 'N', 'N', 'N', 'N', 'N', 'N', 'N', 'N', 'N', 'N', 'N', 'N', 'A', 'N', 'N', 'N', 'N', 'N', 'N', 'N', 'N', 'N', 'N', 'N', 'N', 'N', 'N', 'N', 'N', 'N', 'N', 'N', 'N', 'N', 'N', 'N', 'N', 'N', 'N', 'N', 'A', 'N', 'N', 'N', 'N', 'N', 'N', 'N', 'N', 'N', 'N', 'N', 'N', 'N', 'N', 'N', 'N', 'N', 'N', 'N', 'N', 'N', 'N', 'N', 'N', 'N', 'N', 'N', 'N', 'N', 'N', 'N', 'N', 'N', 'N', 'N', 'N', 'N', 'N', 'N', 'N', 'N', 'N', 'N', 'N', 'N', 'N', 'N', 'N', 'N', 'N', 'N', 'N', 'N', 'N', 'N', 'N', 'N', 'N', 'N', 'N', 'N', 'N', 'N', 'N', 'N', 'N', 'N', 'N', 'N', 'N', 'N', 'N', 'N', 'N', 'N', 'N', 'N', 'N', 'N', 'N', 'N', 'N', 'N', 'A', 'N', 'N', 'N', 'N', 'N', 'N', 'N', 'N', 'N', 'N', 'N', 'N', 'N', 'N', 'N', 'N', 'N', 'N', 'N', 'N', 'N', 'N', 'N', 'N', 'N', 'N', 'N', 'N', 'N', 'N', 'N', 'N', 'N', 'N', 'N', 'N', 'N', 'N', 'N', 'N', 'N', 'N', 'N', 'N', 'N', 'N', 'N', 'N', 'N', 'N', 'N', 'N', 'N', 'N', 'N', 'N', 'N', 'N', 'N', 'N', 'N', 'N', 'N', 'N', 'N', 'N', 'N', 'N', 'N', 'N', 'N', 'N', 'N', 'N', 'N', 'N', 'N', 'N', 'N', 'N', 'N', 'N', 'N', 'N', 'N', 'N', 'N', 'N', 'N', 'N', 'N', 'N', 'N', 'N', 'N', 'N', 'N', 'N', 'A', 'N', 'N', 'N', 'N', 'N', 'N', 'N', 'N', 'N', 'N', 'N', 'N', 'N', 'N', 'N', 'N', 'N', 'N', 'N', 'N', 'N', 'N', 'N', 'N', 'N', 'N', 'N', 'N', 'N', 'N', 'N', 'N', 'N', 'N', 'N', 'N', 'N', 'N', 'N', 'N', 'N', 'N', 'N', 'N', 'N', 'N', 'N', 'N', 'N', 'N', 'N', 'N', 'N', 'N', 'N', 'N', 'N', 'N', 'N', 'N', 'N', 'N', 'N', 'N', 'N', 'N', 'N', 'N', 'N', 'N', 'N', 'N', 'N', 'N', 'N', 'N', 'N', 'N', 'N', 'N', 'N', 'N', 'N', 'N', 'N', 'N', 'N', 'N', 'N', 'N', 'N', 'N', 'N', 'N', 'N', 'N', 'N', 'N', 'N', 'N', 'N', 'N', 'N', 'N', 'N', 'N', 'N', 'N', 'N', 'N', 'N', 'N', 'N', 'N', 'N', 'N', 'N', 'N', 'N', 'N', 'N', 'N', 'N', 'N', 'N', 'N', 'N', 'N', 'N', 'N', 'N', 'N', 'N', 'N', 'N', 'N', 'N', 'N', 'N', 'N', 'N', 'N', 'N', 'N', 'N', 'N', 'N', 'N', 'N', 'N', 'N', 'N', 'N', 'N', 'N', 'N', 'N', 'A', 'N', 'N', 'N', 'N', 'N', 'N', 'N', 'N', 'N', 'N', 'N', 'N', 'N', 'N', 'N', 'N', 'N', 'N', 'N', 'N', 'N', 'N', 'N', 'N', 'N', 'N', 'N', 'N', 'N', 'N', 'N', 'N', 'N', 'N', 'N', 'N', 'N', 'N', 'N', 'N', 'N', 'N', 'N', 'N', 'N', 'N', 'N', 'N', 'N', 'N', 'N', 'N', 'N', 'N', 'N', 'N', 'N', 'N', 'N', 'N', 'N', 'N', 'N', 'N', 'N', 'N', 'N', 'N', 'N', 'N', 'N', 'N', 'N', 'N', 'N', 'N', 'N', 'N', 'N', 'N', 'N', 'N', 'N', 'N', 'N', 'N', 'N', 'N', 'N', 'N', 'N', 'N', 'N', 'N', 'N', 'N', 'N', 'N', 'N', 'N', 'N', 'N', 'N', 'N', 'N', 'N', 'N', 'N', 'N', 'N', 'N', 'N', 'N', 'N', 'N', 'N', 'N', 'N', 'N', 'N', 'N', 'N', 'N', 'N', 'N', 'N', 'N', 'N', 'N', 'N', 'N', 'N', 'N', 'N', 'N', 'N', 'N', 'N', 'N', 'N', 'N', 'N', 'N', 'N', 'N', 'N', 'N', 'N', 'N', 'N', 'N', 'N', 'N', 'N', 'N', 'N', 'N', 'N', 'N', 'N', 'N', 'N', 'N', 'N', 'N', 'N', 'N', 'N', 'N', 'N', 'N', 'N', 'N', 'N', 'N', 'N', 'N', 'N', 'N', 'N', 'N', 'N', 'N', 'N', 'N', 'N', 'N', 'N', 'N', 'N', 'N', 'N', 'N', 'N', 'N', 'N', 'N', 'N', 'N', 'N', 'N', 'N', 'N', 'N', 'N', 'N', 'N', 'N', 'N', 'N', 'N', 'N', 'N', 'N', 'N', 'N', 'N', 'N', 'N', 'N', 'N', 'N', 'N', 'N', 'N', 'N', 'N', 'N', 'N', 'N', 'N', 'N', 'N', 'N', 'N', 'N', 'N', 'N', 'N', 'N', 'N', 'N', 'N', 'N', 'N', 'N', 'N', 'N', 'N', 'N', 'N', 'N', 'N', 'N', 'N', 'N', 'N', 'N', 'N', 'N', 'N', 'N', 'N', 'N', 'N', 'N', 'N', 'N', 'N', 'N', 'N', 'N', 'N', 'N', 'N', 'N', 'N', 'N', 'N', 'N', 'N', 'N', 'N', 'N', 'N', 'N', 'N', 'N', 'N', 'N', 'N', 'N', 'N', 'N', 'N', 'N', 'N', 'N', 'N', 'N', 'N', 'N', 'N', 'N', 'N', 'N', 'N', 'N', 'N', 'N', 'N', 'N', 'N', 'N', 'N', 'N', 'N', 'N', 'N', 'N', 'N', 'N', 'N', 'N', 'N', 'N', 'N', 'N', 'N', 'N', 'N', 'N', 'N', 'N', 'N', 'N', 'N', 'N', 'N', 'N', 'N', 'N', 'N', 'N', 'N', 'N', 'N', 'N', 'N', 'N', 'N', 'N', 'N', 'N', 'N', 'N', 'N', 'N', 'N', 'N', 'N', 'N', 'N', 'N', 'N', 'N', 'N', 'N', 'N', 'N', 'N', 'N', 'N', 'N', 'N', 'N', 'N', 'N', 'N', 'N', 'N', 'N', 'N', 'N', 'N', 'N', 'N', 'A', 'N', 'N', 'N', 'N', 'N', 'N', 'N', 'N', 'N', 'N', 'N', 'N', 'N', 'N', 'N', 'N', 'N', 'N', 'N', 'N', 'N', 'N', 'N', 'N', 'N', 'N', 'N', 'N', 'N', 'N', 'N', 'N', 'N', 'N', 'N', 'N', 'N', 'N', 'N', 'N', 'N', 'N', 'N', 'N', 'N', 'N', 'N', 'N', 'N', 'N', 'N', 'N', 'N', 'N', 'N', 'N', 'N', 'N', 'N', 'N', 'N', 'N', 'N', 'N', 'N', 'N', 'N', 'N', 'N', 'N', 'N', 'N', 'N', 'N', 'N', 'N', 'N', 'N', 'N', 'N', 'N', 'N', 'N', 'N', 'N', 'N', 'N', 'N', 'N', 'N', 'A', 'N', 'N', 'N', 'N', 'N', 'N', 'A', 'N', 'N', 'N', 'N', 'N', 'N', 'N', 'N', 'N', 'N', 'N', 'N', 'N', 'N', 'N', 'N', 'N', 'A', 'N', 'N', 'N', 'N', 'N', 'N', 'N', 'N', 'N', 'N', 'N', 'N', 'N', 'N', 'N', 'N', 'A', 'N', 'N', 'N', 'N', 'A', 'N', 'N', 'N', 'N', 'N', 'N', 'N', 'N', 'N', 'N', 'N', 'N', 'N', 'N', 'N', 'N', 'N', 'N', 'N', 'N', 'N', 'N', 'N', 'N', 'N', 'N', 'N', 'N', 'N', 'N', 'N', 'N', 'N', 'N', 'N', 'N', 'N', 'N', 'N', 'N', 'N', 'N', 'N', 'N', 'N', 'N', 'N', 'N', 'N', 'N', 'N', 'N', 'N', 'N', 'N', 'N', 'N', 'N', 'N', 'N', 'N', 'N', 'N', 'N', 'N', 'N', 'N', 'N', 'N', 'N', 'N', 'N', 'N', 'N', 'N', 'N', 'N', 'N', 'N', 'N', 'N', 'N', 'N', 'N', 'N', 'N', 'N', 'N', 'N', 'N', 'N', 'N', 'N', 'A', 'N', 'N', 'N', 'N', 'N', 'N', 'N', 'N', 'N', 'N', 'N', 'N', 'N', 'N', 'N', 'A', 'N', 'N', 'N', 'N', 'N', 'N', 'N', 'N', 'N', 'N', 'N', 'N', 'N', 'N', 'N', 'N', 'N', 'N', 'N', 'N', 'N', 'N', 'N', 'N', 'N', 'N', 'N', 'N', 'N', 'N', 'N', 'N', 'N', 'N', 'N', 'N', 'N', 'N', 'N', 'N', 'N', 'N', 'N', 'N', 'N', 'N', 'N', 'N', 'N', 'N', 'N', 'N', 'N', 'N', 'N', 'N', 'N', 'N', 'N', 'N', 'N', 'N', 'N', 'N', 'N', 'N', 'N', 'N', 'N', 'N', 'N', 'N', 'N', 'N', 'N', 'N', 'N', 'N', 'N', 'N', 'N', 'N', 'N', 'N', 'N', 'N', 'N', 'N', 'A', 'N', 'N', 'N', 'N', 'N', 'N', 'N', 'N', 'N', 'N', 'N', 'N', 'N', 'N', 'N', 'N', 'N', 'N', 'N', 'N', 'N', 'N', 'N', 'N', 'N', 'N', 'N', 'N', 'N', 'N', 'N', 'N', 'N', 'N', 'N', 'N', 'N', 'N', 'N', 'N', 'N', 'N', 'N', 'N', 'N', 'N', 'N', 'N', 'N', 'N', 'N', 'N', 'N', 'N', 'N', 'N', 'N', 'N', 'N', 'N', 'N', 'N', 'N', 'N', 'N', 'N', 'N', 'N', 'N', 'A', 'N', 'N', 'N', 'N', 'N', 'N', 'N', 'N', 'N', 'N', 'N', 'N', 'N', 'N', 'N', 'N', 'N', 'N', 'N', 'N', 'N', 'N', 'N', 'N', 'N', 'N', 'N', 'N', 'N', 'N', 'N', 'N', 'N', 'N', 'N', 'N', 'N', 'N', 'N', 'N', 'N', 'N', 'N', 'N', 'N', 'N', 'N', 'N', 'N', 'N', 'N', 'N', 'N', 'N', 'N', 'N', 'N', 'N', 'N', 'N', 'N', 'N', 'N', 'N', 'N', 'N', 'N', 'N', 'N', 'N', 'N', 'N', 'N', 'N', 'N', 'N', 'N', 'N', 'N', 'N', 'N', 'N', 'N', 'N', 'A', 'N', 'N', 'A', 'N', 'N', 'N', 'N', 'N', 'N', 'N', 'N', 'N', 'N', 'N', 'N', 'N', 'N', 'N', 'N', 'N', 'N', 'N', 'N', 'N', 'N', 'N', 'N', 'N', 'N', 'N', 'N', 'N', 'N', 'N', 'N', 'N', 'N', 'N', 'N', 'N', 'A', 'N', 'N', 'N', 'N', 'N', 'N', 'N', 'A', 'N', 'N', 'N', 'N', 'N', 'N', 'N', 'N', 'N', 'N', 'N', 'N', 'N', 'N', 'N', 'N', 'N', 'N', 'N', 'N', 'N', 'A', 'N', 'N', 'N', 'N', 'N', 'N', 'A', 'N', 'N', 'N', 'N', 'N', 'N', 'N', 'N', 'N', 'N', 'N', 'N', 'N', 'N', 'N', 'N', 'N', 'N', 'N', 'N', 'N', 'N', 'N', 'N', 'N', 'N', 'N', 'N', 'N', 'N', 'N', 'N', 'N', 'A', 'N', 'N', 'N', 'N', 'N', 'N', 'N', 'N', 'N', 'N', 'N', 'A', 'N', 'N', 'N', 'N', 'N', 'N', 'N', 'N', 'N', 'N', 'N', 'N', 'N', 'N', 'N', 'N', 'N', 'N', 'N', 'N', 'N', 'N', 'N', 'N', 'N', 'N', 'N', 'N', 'N', 'N', 'N', 'N', 'N', 'N', 'N', 'N', 'N', 'N', 'N', 'N', 'N', 'N', 'N', 'N', 'N', 'N', 'N', 'N', 'N', 'N', 'N', 'N', 'N', 'N', 'N', 'N', 'N', 'N', 'N', 'N', 'N', 'N', 'N', 'N', 'N', 'N', 'N', 'N', 'N', 'N', 'N', 'N', 'N', 'N', 'N', 'N', 'N', 'N', 'N', 'N', 'N', 'N', 'N', 'N', 'N', 'N', 'N', 'N', 'N', 'N', 'N', 'N', 'N', 'N', 'N', 'N', 'N', 'N', 'N', 'N', 'N', 'N', 'N', 'N', 'N', 'N', 'N', 'N', 'N', 'N', 'N', 'N', 'N', 'N', 'N', 'N', 'N', 'N', 'N', 'N', 'N', 'N', 'N', 'N', 'N', 'N', 'N', 'N', 'N', 'N', 'N', 'A', 'N', 'N', 'N', 'N', 'N', 'N', 'N', 'N', 'N', 'N', 'N', 'N', 'N', 'N', 'N', 'N', 'N', 'N', 'N', 'N', 'N', 'N', 'N', 'N', 'N', 'N', 'N', 'N', 'N', 'N', 'N', 'N', 'N', 'N', 'N', 'N', 'N', 'N', 'N', 'N', 'N', 'N', 'N', 'N', 'N', 'N', 'N', 'N', 'N', 'N', 'N', 'N', 'N', 'N', 'N', 'N', 'N', 'N', 'N', 'N', 'N', 'N', 'N', 'N', 'N', 'N', 'N', 'N', 'N', 'N', 'N', 'N', 'N', 'N', 'N', 'N', 'N', 'N', 'N', 'N', 'N', 'N', 'A', 'N', 'N', 'N', 'N', 'N', 'N', 'N', 'N', 'N', 'N', 'N', 'N', 'N', 'N', 'N', 'N', 'N', 'N', 'N', 'N', 'N', 'N', 'N', 'N', 'N', 'N', 'N', 'N', 'N', 'N', 'N', 'N', 'N', 'N', 'N', 'N', 'N', 'N', 'N', 'N', 'N', 'N', 'N', 'N', 'N', 'N', 'N', 'N', 'N', 'N', 'N', 'N', 'N', 'N', 'N', 'N', 'N', 'N', 'N', 'N', 'N', 'N', 'N', 'N', 'N', 'N', 'N', 'N', 'N', 'N', 'N', 'N', 'N', 'N', 'N', 'N', 'N', 'N', 'N', 'N', 'N', 'N', 'N', 'N', 'N', 'N', 'N', 'V', 'N', 'N', 'N', 'N', 'N', 'N', 'N', 'N', 'N', 'N', 'N', 'N', 'N', 'N', 'N', 'N', 'N', 'N', 'N', 'N', 'N', 'N', 'N', 'N', 'N', 'N', 'N', 'N', 'N', 'N', 'N', 'N', 'N', 'N', 'N', 'N', 'N', 'N', 'N', 'N', 'N', 'N', 'N', 'N', 'N', 'N', 'N', 'N', 'N', 'N', 'N', 'N', 'N', 'N', 'A', 'N', 'N', 'N', 'N', 'N', 'N', 'N', 'N', 'N', 'N', 'N', 'A', 'N', 'N', 'N', 'A', 'N', 'N', 'N', 'N', 'N', 'N', 'N', 'N', 'N', 'N', 'N', 'N', 'N', 'N', 'N', 'N', 'N', 'N', 'N', 'N', 'N', 'N', 'N', 'A', 'N', 'N', 'N', 'N', 'N', 'N', 'N', 'N', 'N', 'N', 'N', 'N', 'N', 'N', 'N', 'N', 'A', 'N', 'N', 'N', 'N', 'N', 'N', 'N', 'N', 'N', 'N', 'N', 'N', 'N', 'N', 'N', 'N', 'N', 'N', 'N', 'N', 'N', 'N', 'N', 'N', 'N', 'N', 'N', 'N', 'N', 'N', 'N', 'N', 'N', 'N', 'N', 'N', 'N', 'N', 'N', 'N', 'N', 'N', 'N', 'N', 'N', 'N', 'N', 'N', 'A', 'N', 'N', 'N', 'N', 'N', 'N', 'N', 'N', 'N', 'N', 'N', 'N', 'N', 'N', 'N', 'N', 'N', 'N', 'N', 'N', 'N', 'N', 'N', 'N', 'N', 'N', 'N', 'N', 'N', 'N', 'N', 'N', 'N', 'N', 'N', 'N', 'N', 'N', 'N', 'N', 'N', 'N', 'N', 'N', 'N', 'N', 'N', 'N', 'N', 'N', 'N', 'N', 'N', 'N', 'N', 'N', 'N', 'N', 'N', 'N', 'N', 'N', 'N', 'N', 'N', 'N', 'N', 'N', 'N', 'N', 'N', 'N', 'N', 'N', 'N', 'N', 'N', 'N', 'N', 'N', 'N', 'N', 'N', 'N', 'N', 'N', 'N', 'N', 'N', 'N', 'N', 'N', 'N', 'N', 'N', 'N', 'N', 'N', 'N', 'N', 'N', 'N', 'N', 'N', 'N', 'N', 'N', 'N', 'N', 'N', 'N', 'N', 'N', 'N', 'N', 'N', 'N', 'N', 'N', 'N', 'N', 'N', 'N', 'N', 'N', 'N', 'N', 'N', 'A', 'N', 'N', 'N', 'N', 'N', 'N', 'N', 'N', 'N', 'N', 'N', 'N', 'N', 'N', 'N', 'N', 'N', 'N', 'N', 'N', 'N', 'N', 'N', 'N', 'N', 'N', 'N', 'N', 'N', 'N', 'N', 'N', 'N', 'N', 'N', 'N', 'N', 'N', 'N', 'N', 'N', 'N', 'N', 'N', 'N', 'N', 'N', 'N', 'N', 'N', 'N', 'N', 'N', 'N', 'N', 'N', 'N', 'N', 'N', 'N', 'N', 'N', 'N', 'N', 'N', 'N', 'N', 'N', 'N', 'N', 'N', 'N', 'N', 'N', 'N', 'N']\n"
          ],
          "name": "stdout"
        }
      ]
    },
    {
      "cell_type": "markdown",
      "metadata": {
        "id": "5t78TdcB5_YH"
      },
      "source": [
        "We can see a lot of 'N' symbols. It refers to \"normal\" heartbeat.\n",
        "We provide below the list of symbols which we will consider as \"abnormal\" beats in this lab.\n",
        "Any other symbol encountered in the dataset refer to \"non-beat\" and you **must** skip them in data preparation.\n",
        "For detailed explanation about symbols, refer to https://archive.physionet.org/physiobank/annotations.shtml"
      ]
    },
    {
      "cell_type": "code",
      "metadata": {
        "id": "G20qgl3lvq4U"
      },
      "source": [
        "# list of symbols for abnormal beats\n",
        "abnormal = ['L','R','V','/','A','f','F','j','a','E','J','e','S']"
      ],
      "execution_count": 3,
      "outputs": []
    },
    {
      "cell_type": "code",
      "metadata": {
        "id": "15NeyhKGyNUl",
        "colab": {
          "base_uri": "https://localhost:8080/"
        },
        "outputId": "3577ed3d-3af3-4c0f-bea1-ef911484e6ef"
      },
      "source": [
        "# We provide function for loading an ECG file\n",
        "def load_ECG_file(path):\n",
        "    '''\n",
        "    Input: path for patient files (excluding extension)\n",
        "    Output: ECG signal, symbols (labels), indices for such symbols\n",
        "    '''\n",
        "    record = wfdb.rdrecord(path)\n",
        "    annotation = wfdb.rdann(path, 'atr')\n",
        "    signal = record.p_signal[:,0]    # ECG signal\n",
        "    symbol = annotation.symbol  # symbols\n",
        "    index = annotation.sample  # annotation index\n",
        "    return signal, symbol, index\n",
        "signal, symbol, index = load_ECG_file(os.path.join(path_dataset, '100'))  # check for yourself \"signal\" is ~30 min duration\n",
        "print(f'Length of signal: {len(signal)}')  # ECG signal length (in terms of samples and NOT seconds); think why this corresponds to ~30 minutes of signal\n",
        "print(f'Annotation symbols: {symbol}')  # annotation symbold\n",
        "print(f'Annotation indices: {index}')  # annotion indices for patient 100 \n",
        "print(f'Sample# {index[8]} has symbol marked as {symbol[8]} which refers to abnormal beat')  # sample 2044 is abnormal"
      ],
      "execution_count": 4,
      "outputs": [
        {
          "output_type": "stream",
          "text": [
            "Length of signal: 650000\n",
            "Annotation symbols: ['+', 'N', 'N', 'N', 'N', 'N', 'N', 'N', 'A', 'N', 'N', 'N', 'N', 'N', 'N', 'N', 'N', 'N', 'N', 'N', 'N', 'N', 'N', 'N', 'N', 'N', 'N', 'N', 'N', 'N', 'N', 'N', 'N', 'N', 'N', 'N', 'N', 'N', 'N', 'N', 'N', 'N', 'N', 'N', 'N', 'N', 'N', 'N', 'N', 'N', 'N', 'N', 'N', 'N', 'N', 'N', 'N', 'N', 'N', 'N', 'N', 'N', 'N', 'N', 'N', 'N', 'N', 'N', 'N', 'N', 'N', 'N', 'N', 'N', 'N', 'N', 'N', 'N', 'N', 'N', 'N', 'N', 'N', 'N', 'N', 'N', 'N', 'N', 'N', 'N', 'N', 'N', 'N', 'N', 'N', 'N', 'N', 'N', 'N', 'N', 'N', 'N', 'N', 'N', 'N', 'N', 'N', 'N', 'N', 'N', 'N', 'N', 'N', 'N', 'N', 'N', 'N', 'N', 'N', 'N', 'N', 'N', 'N', 'N', 'N', 'N', 'N', 'N', 'N', 'N', 'N', 'N', 'N', 'N', 'N', 'N', 'N', 'N', 'N', 'N', 'N', 'N', 'N', 'N', 'N', 'N', 'N', 'N', 'N', 'N', 'N', 'N', 'N', 'N', 'N', 'N', 'N', 'N', 'N', 'N', 'N', 'N', 'N', 'N', 'N', 'N', 'N', 'N', 'N', 'N', 'N', 'N', 'N', 'N', 'N', 'N', 'N', 'N', 'N', 'N', 'N', 'N', 'N', 'N', 'N', 'N', 'N', 'N', 'N', 'N', 'N', 'N', 'N', 'N', 'N', 'N', 'N', 'N', 'N', 'N', 'N', 'N', 'N', 'N', 'N', 'N', 'N', 'N', 'N', 'N', 'N', 'N', 'N', 'N', 'N', 'N', 'N', 'N', 'N', 'N', 'N', 'N', 'N', 'N', 'N', 'N', 'N', 'N', 'N', 'N', 'N', 'A', 'N', 'N', 'N', 'N', 'N', 'N', 'N', 'N', 'N', 'N', 'N', 'N', 'N', 'N', 'N', 'N', 'N', 'N', 'N', 'N', 'N', 'N', 'N', 'N', 'N', 'N', 'N', 'A', 'N', 'N', 'N', 'N', 'N', 'N', 'N', 'N', 'N', 'N', 'N', 'N', 'N', 'N', 'N', 'N', 'N', 'N', 'N', 'N', 'N', 'N', 'N', 'N', 'N', 'N', 'N', 'N', 'N', 'N', 'N', 'N', 'N', 'N', 'N', 'N', 'N', 'N', 'N', 'N', 'N', 'N', 'N', 'N', 'N', 'N', 'N', 'N', 'N', 'N', 'N', 'N', 'N', 'N', 'N', 'N', 'N', 'N', 'N', 'N', 'N', 'N', 'N', 'N', 'N', 'N', 'N', 'N', 'N', 'N', 'N', 'N', 'N', 'N', 'N', 'N', 'N', 'N', 'N', 'N', 'N', 'N', 'N', 'A', 'N', 'N', 'N', 'N', 'N', 'N', 'N', 'N', 'N', 'N', 'N', 'N', 'N', 'N', 'N', 'N', 'N', 'N', 'N', 'N', 'N', 'N', 'N', 'N', 'N', 'N', 'N', 'N', 'N', 'N', 'N', 'N', 'N', 'N', 'N', 'N', 'N', 'N', 'N', 'N', 'N', 'N', 'N', 'N', 'N', 'N', 'N', 'N', 'N', 'N', 'N', 'N', 'N', 'N', 'N', 'N', 'N', 'N', 'N', 'N', 'N', 'N', 'N', 'N', 'N', 'N', 'N', 'N', 'N', 'N', 'N', 'N', 'N', 'N', 'N', 'N', 'N', 'N', 'N', 'N', 'N', 'N', 'N', 'N', 'N', 'N', 'N', 'N', 'N', 'N', 'N', 'N', 'N', 'N', 'N', 'N', 'N', 'N', 'A', 'N', 'N', 'N', 'N', 'N', 'N', 'N', 'N', 'N', 'N', 'N', 'N', 'N', 'N', 'N', 'N', 'N', 'N', 'N', 'N', 'N', 'N', 'N', 'N', 'N', 'N', 'N', 'N', 'N', 'N', 'N', 'N', 'N', 'N', 'N', 'N', 'N', 'N', 'N', 'N', 'N', 'N', 'N', 'N', 'N', 'N', 'N', 'N', 'N', 'N', 'N', 'N', 'N', 'N', 'N', 'N', 'N', 'N', 'N', 'N', 'N', 'N', 'N', 'N', 'N', 'N', 'N', 'N', 'N', 'N', 'N', 'N', 'N', 'N', 'N', 'N', 'N', 'N', 'N', 'N', 'N', 'N', 'N', 'N', 'N', 'N', 'N', 'N', 'N', 'N', 'N', 'N', 'N', 'N', 'N', 'N', 'N', 'N', 'N', 'N', 'N', 'N', 'N', 'N', 'N', 'N', 'N', 'N', 'N', 'N', 'N', 'N', 'N', 'N', 'N', 'N', 'N', 'N', 'N', 'N', 'N', 'N', 'N', 'N', 'N', 'N', 'N', 'N', 'N', 'N', 'N', 'N', 'N', 'N', 'N', 'N', 'N', 'N', 'N', 'N', 'N', 'N', 'N', 'N', 'N', 'N', 'N', 'N', 'N', 'N', 'N', 'N', 'N', 'N', 'N', 'N', 'N', 'A', 'N', 'N', 'N', 'N', 'N', 'N', 'N', 'N', 'N', 'N', 'N', 'N', 'N', 'N', 'N', 'N', 'N', 'N', 'N', 'N', 'N', 'N', 'N', 'N', 'N', 'N', 'N', 'N', 'N', 'N', 'N', 'N', 'N', 'N', 'N', 'N', 'N', 'N', 'N', 'N', 'N', 'N', 'N', 'N', 'N', 'N', 'N', 'N', 'N', 'N', 'N', 'N', 'N', 'N', 'N', 'N', 'N', 'N', 'N', 'N', 'N', 'N', 'N', 'N', 'N', 'N', 'N', 'N', 'N', 'N', 'N', 'N', 'N', 'N', 'N', 'N', 'N', 'N', 'N', 'N', 'N', 'N', 'N', 'N', 'N', 'N', 'N', 'N', 'N', 'N', 'N', 'N', 'N', 'N', 'N', 'N', 'N', 'N', 'N', 'N', 'N', 'N', 'N', 'N', 'N', 'N', 'N', 'N', 'N', 'N', 'N', 'N', 'N', 'N', 'N', 'N', 'N', 'N', 'N', 'N', 'N', 'N', 'N', 'N', 'N', 'N', 'N', 'N', 'N', 'N', 'N', 'N', 'N', 'N', 'N', 'N', 'N', 'N', 'N', 'N', 'N', 'N', 'N', 'N', 'N', 'N', 'N', 'N', 'N', 'N', 'N', 'N', 'N', 'N', 'N', 'N', 'N', 'N', 'N', 'N', 'N', 'N', 'N', 'N', 'N', 'N', 'N', 'N', 'N', 'N', 'N', 'N', 'N', 'N', 'N', 'N', 'N', 'N', 'N', 'N', 'N', 'N', 'N', 'N', 'N', 'N', 'N', 'N', 'N', 'N', 'N', 'N', 'N', 'N', 'N', 'N', 'N', 'N', 'N', 'N', 'N', 'N', 'N', 'N', 'N', 'N', 'N', 'N', 'N', 'N', 'N', 'N', 'N', 'N', 'N', 'N', 'N', 'N', 'N', 'N', 'N', 'N', 'N', 'N', 'N', 'N', 'N', 'N', 'N', 'N', 'N', 'N', 'N', 'N', 'N', 'N', 'N', 'N', 'N', 'N', 'N', 'N', 'N', 'N', 'N', 'N', 'N', 'N', 'N', 'N', 'N', 'N', 'N', 'N', 'N', 'N', 'N', 'N', 'N', 'N', 'N', 'N', 'N', 'N', 'N', 'N', 'N', 'N', 'N', 'N', 'N', 'N', 'N', 'N', 'N', 'N', 'N', 'N', 'N', 'N', 'N', 'N', 'N', 'N', 'N', 'N', 'N', 'N', 'N', 'N', 'N', 'N', 'N', 'N', 'N', 'N', 'N', 'N', 'N', 'N', 'N', 'N', 'N', 'N', 'N', 'N', 'N', 'N', 'N', 'N', 'N', 'N', 'N', 'N', 'N', 'N', 'N', 'N', 'N', 'N', 'N', 'N', 'N', 'N', 'N', 'N', 'N', 'N', 'N', 'N', 'N', 'N', 'N', 'N', 'N', 'N', 'N', 'N', 'N', 'N', 'N', 'N', 'N', 'N', 'N', 'N', 'N', 'N', 'N', 'N', 'N', 'N', 'N', 'N', 'N', 'N', 'N', 'N', 'N', 'N', 'N', 'N', 'N', 'N', 'N', 'N', 'N', 'N', 'N', 'N', 'N', 'N', 'N', 'N', 'N', 'N', 'N', 'N', 'N', 'N', 'N', 'N', 'N', 'N', 'N', 'N', 'N', 'A', 'N', 'N', 'N', 'N', 'N', 'N', 'N', 'N', 'N', 'N', 'N', 'N', 'N', 'N', 'N', 'N', 'N', 'N', 'N', 'N', 'N', 'N', 'N', 'N', 'N', 'N', 'N', 'N', 'N', 'N', 'N', 'N', 'N', 'N', 'N', 'N', 'N', 'N', 'N', 'N', 'N', 'N', 'N', 'N', 'N', 'N', 'N', 'N', 'N', 'N', 'N', 'N', 'N', 'N', 'N', 'N', 'N', 'N', 'N', 'N', 'N', 'N', 'N', 'N', 'N', 'N', 'N', 'N', 'N', 'N', 'N', 'N', 'N', 'N', 'N', 'N', 'N', 'N', 'N', 'N', 'N', 'N', 'N', 'N', 'N', 'N', 'N', 'N', 'N', 'N', 'A', 'N', 'N', 'N', 'N', 'N', 'N', 'A', 'N', 'N', 'N', 'N', 'N', 'N', 'N', 'N', 'N', 'N', 'N', 'N', 'N', 'N', 'N', 'N', 'N', 'A', 'N', 'N', 'N', 'N', 'N', 'N', 'N', 'N', 'N', 'N', 'N', 'N', 'N', 'N', 'N', 'N', 'A', 'N', 'N', 'N', 'N', 'A', 'N', 'N', 'N', 'N', 'N', 'N', 'N', 'N', 'N', 'N', 'N', 'N', 'N', 'N', 'N', 'N', 'N', 'N', 'N', 'N', 'N', 'N', 'N', 'N', 'N', 'N', 'N', 'N', 'N', 'N', 'N', 'N', 'N', 'N', 'N', 'N', 'N', 'N', 'N', 'N', 'N', 'N', 'N', 'N', 'N', 'N', 'N', 'N', 'N', 'N', 'N', 'N', 'N', 'N', 'N', 'N', 'N', 'N', 'N', 'N', 'N', 'N', 'N', 'N', 'N', 'N', 'N', 'N', 'N', 'N', 'N', 'N', 'N', 'N', 'N', 'N', 'N', 'N', 'N', 'N', 'N', 'N', 'N', 'N', 'N', 'N', 'N', 'N', 'N', 'N', 'N', 'N', 'N', 'A', 'N', 'N', 'N', 'N', 'N', 'N', 'N', 'N', 'N', 'N', 'N', 'N', 'N', 'N', 'N', 'A', 'N', 'N', 'N', 'N', 'N', 'N', 'N', 'N', 'N', 'N', 'N', 'N', 'N', 'N', 'N', 'N', 'N', 'N', 'N', 'N', 'N', 'N', 'N', 'N', 'N', 'N', 'N', 'N', 'N', 'N', 'N', 'N', 'N', 'N', 'N', 'N', 'N', 'N', 'N', 'N', 'N', 'N', 'N', 'N', 'N', 'N', 'N', 'N', 'N', 'N', 'N', 'N', 'N', 'N', 'N', 'N', 'N', 'N', 'N', 'N', 'N', 'N', 'N', 'N', 'N', 'N', 'N', 'N', 'N', 'N', 'N', 'N', 'N', 'N', 'N', 'N', 'N', 'N', 'N', 'N', 'N', 'N', 'N', 'N', 'N', 'N', 'N', 'N', 'A', 'N', 'N', 'N', 'N', 'N', 'N', 'N', 'N', 'N', 'N', 'N', 'N', 'N', 'N', 'N', 'N', 'N', 'N', 'N', 'N', 'N', 'N', 'N', 'N', 'N', 'N', 'N', 'N', 'N', 'N', 'N', 'N', 'N', 'N', 'N', 'N', 'N', 'N', 'N', 'N', 'N', 'N', 'N', 'N', 'N', 'N', 'N', 'N', 'N', 'N', 'N', 'N', 'N', 'N', 'N', 'N', 'N', 'N', 'N', 'N', 'N', 'N', 'N', 'N', 'N', 'N', 'N', 'N', 'N', 'A', 'N', 'N', 'N', 'N', 'N', 'N', 'N', 'N', 'N', 'N', 'N', 'N', 'N', 'N', 'N', 'N', 'N', 'N', 'N', 'N', 'N', 'N', 'N', 'N', 'N', 'N', 'N', 'N', 'N', 'N', 'N', 'N', 'N', 'N', 'N', 'N', 'N', 'N', 'N', 'N', 'N', 'N', 'N', 'N', 'N', 'N', 'N', 'N', 'N', 'N', 'N', 'N', 'N', 'N', 'N', 'N', 'N', 'N', 'N', 'N', 'N', 'N', 'N', 'N', 'N', 'N', 'N', 'N', 'N', 'N', 'N', 'N', 'N', 'N', 'N', 'N', 'N', 'N', 'N', 'N', 'N', 'N', 'N', 'N', 'A', 'N', 'N', 'A', 'N', 'N', 'N', 'N', 'N', 'N', 'N', 'N', 'N', 'N', 'N', 'N', 'N', 'N', 'N', 'N', 'N', 'N', 'N', 'N', 'N', 'N', 'N', 'N', 'N', 'N', 'N', 'N', 'N', 'N', 'N', 'N', 'N', 'N', 'N', 'N', 'N', 'A', 'N', 'N', 'N', 'N', 'N', 'N', 'N', 'A', 'N', 'N', 'N', 'N', 'N', 'N', 'N', 'N', 'N', 'N', 'N', 'N', 'N', 'N', 'N', 'N', 'N', 'N', 'N', 'N', 'N', 'A', 'N', 'N', 'N', 'N', 'N', 'N', 'A', 'N', 'N', 'N', 'N', 'N', 'N', 'N', 'N', 'N', 'N', 'N', 'N', 'N', 'N', 'N', 'N', 'N', 'N', 'N', 'N', 'N', 'N', 'N', 'N', 'N', 'N', 'N', 'N', 'N', 'N', 'N', 'N', 'N', 'A', 'N', 'N', 'N', 'N', 'N', 'N', 'N', 'N', 'N', 'N', 'N', 'A', 'N', 'N', 'N', 'N', 'N', 'N', 'N', 'N', 'N', 'N', 'N', 'N', 'N', 'N', 'N', 'N', 'N', 'N', 'N', 'N', 'N', 'N', 'N', 'N', 'N', 'N', 'N', 'N', 'N', 'N', 'N', 'N', 'N', 'N', 'N', 'N', 'N', 'N', 'N', 'N', 'N', 'N', 'N', 'N', 'N', 'N', 'N', 'N', 'N', 'N', 'N', 'N', 'N', 'N', 'N', 'N', 'N', 'N', 'N', 'N', 'N', 'N', 'N', 'N', 'N', 'N', 'N', 'N', 'N', 'N', 'N', 'N', 'N', 'N', 'N', 'N', 'N', 'N', 'N', 'N', 'N', 'N', 'N', 'N', 'N', 'N', 'N', 'N', 'N', 'N', 'N', 'N', 'N', 'N', 'N', 'N', 'N', 'N', 'N', 'N', 'N', 'N', 'N', 'N', 'N', 'N', 'N', 'N', 'N', 'N', 'N', 'N', 'N', 'N', 'N', 'N', 'N', 'N', 'N', 'N', 'N', 'N', 'N', 'N', 'N', 'N', 'N', 'N', 'N', 'N', 'N', 'A', 'N', 'N', 'N', 'N', 'N', 'N', 'N', 'N', 'N', 'N', 'N', 'N', 'N', 'N', 'N', 'N', 'N', 'N', 'N', 'N', 'N', 'N', 'N', 'N', 'N', 'N', 'N', 'N', 'N', 'N', 'N', 'N', 'N', 'N', 'N', 'N', 'N', 'N', 'N', 'N', 'N', 'N', 'N', 'N', 'N', 'N', 'N', 'N', 'N', 'N', 'N', 'N', 'N', 'N', 'N', 'N', 'N', 'N', 'N', 'N', 'N', 'N', 'N', 'N', 'N', 'N', 'N', 'N', 'N', 'N', 'N', 'N', 'N', 'N', 'N', 'N', 'N', 'N', 'N', 'N', 'N', 'N', 'A', 'N', 'N', 'N', 'N', 'N', 'N', 'N', 'N', 'N', 'N', 'N', 'N', 'N', 'N', 'N', 'N', 'N', 'N', 'N', 'N', 'N', 'N', 'N', 'N', 'N', 'N', 'N', 'N', 'N', 'N', 'N', 'N', 'N', 'N', 'N', 'N', 'N', 'N', 'N', 'N', 'N', 'N', 'N', 'N', 'N', 'N', 'N', 'N', 'N', 'N', 'N', 'N', 'N', 'N', 'N', 'N', 'N', 'N', 'N', 'N', 'N', 'N', 'N', 'N', 'N', 'N', 'N', 'N', 'N', 'N', 'N', 'N', 'N', 'N', 'N', 'N', 'N', 'N', 'N', 'N', 'N', 'N', 'N', 'N', 'N', 'N', 'N', 'V', 'N', 'N', 'N', 'N', 'N', 'N', 'N', 'N', 'N', 'N', 'N', 'N', 'N', 'N', 'N', 'N', 'N', 'N', 'N', 'N', 'N', 'N', 'N', 'N', 'N', 'N', 'N', 'N', 'N', 'N', 'N', 'N', 'N', 'N', 'N', 'N', 'N', 'N', 'N', 'N', 'N', 'N', 'N', 'N', 'N', 'N', 'N', 'N', 'N', 'N', 'N', 'N', 'N', 'N', 'A', 'N', 'N', 'N', 'N', 'N', 'N', 'N', 'N', 'N', 'N', 'N', 'A', 'N', 'N', 'N', 'A', 'N', 'N', 'N', 'N', 'N', 'N', 'N', 'N', 'N', 'N', 'N', 'N', 'N', 'N', 'N', 'N', 'N', 'N', 'N', 'N', 'N', 'N', 'N', 'A', 'N', 'N', 'N', 'N', 'N', 'N', 'N', 'N', 'N', 'N', 'N', 'N', 'N', 'N', 'N', 'N', 'A', 'N', 'N', 'N', 'N', 'N', 'N', 'N', 'N', 'N', 'N', 'N', 'N', 'N', 'N', 'N', 'N', 'N', 'N', 'N', 'N', 'N', 'N', 'N', 'N', 'N', 'N', 'N', 'N', 'N', 'N', 'N', 'N', 'N', 'N', 'N', 'N', 'N', 'N', 'N', 'N', 'N', 'N', 'N', 'N', 'N', 'N', 'N', 'N', 'A', 'N', 'N', 'N', 'N', 'N', 'N', 'N', 'N', 'N', 'N', 'N', 'N', 'N', 'N', 'N', 'N', 'N', 'N', 'N', 'N', 'N', 'N', 'N', 'N', 'N', 'N', 'N', 'N', 'N', 'N', 'N', 'N', 'N', 'N', 'N', 'N', 'N', 'N', 'N', 'N', 'N', 'N', 'N', 'N', 'N', 'N', 'N', 'N', 'N', 'N', 'N', 'N', 'N', 'N', 'N', 'N', 'N', 'N', 'N', 'N', 'N', 'N', 'N', 'N', 'N', 'N', 'N', 'N', 'N', 'N', 'N', 'N', 'N', 'N', 'N', 'N', 'N', 'N', 'N', 'N', 'N', 'N', 'N', 'N', 'N', 'N', 'N', 'N', 'N', 'N', 'N', 'N', 'N', 'N', 'N', 'N', 'N', 'N', 'N', 'N', 'N', 'N', 'N', 'N', 'N', 'N', 'N', 'N', 'N', 'N', 'N', 'N', 'N', 'N', 'N', 'N', 'N', 'N', 'N', 'N', 'N', 'N', 'N', 'N', 'N', 'N', 'N', 'N', 'A', 'N', 'N', 'N', 'N', 'N', 'N', 'N', 'N', 'N', 'N', 'N', 'N', 'N', 'N', 'N', 'N', 'N', 'N', 'N', 'N', 'N', 'N', 'N', 'N', 'N', 'N', 'N', 'N', 'N', 'N', 'N', 'N', 'N', 'N', 'N', 'N', 'N', 'N', 'N', 'N', 'N', 'N', 'N', 'N', 'N', 'N', 'N', 'N', 'N', 'N', 'N', 'N', 'N', 'N', 'N', 'N', 'N', 'N', 'N', 'N', 'N', 'N', 'N', 'N', 'N', 'N', 'N', 'N', 'N', 'N', 'N', 'N', 'N', 'N', 'N', 'N']\n",
            "Annotation indices: [    18     77    370 ... 649484 649734 649991]\n",
            "Sample# 2044 has symbol marked as A which refers to abnormal beat\n"
          ],
          "name": "stdout"
        }
      ]
    },
    {
      "cell_type": "markdown",
      "metadata": {
        "id": "ir3ncCZ6KOO3"
      },
      "source": [
        "Index contains the time in which we have a heart beat. In our case, we will use those indices as values obtained from a heartbeat detector for simplicity. For more information about heartbeat detection, you can visit https://archive.physionet.org/physiobank/database/html/mitdbdir/mitdbdir.htm"
      ]
    },
    {
      "cell_type": "markdown",
      "metadata": {
        "id": "Cl6W-egG2pBd"
      },
      "source": [
        "**TASK 1 (10 points)**: Plot any random 10-second long portion of this ECG file. Then plot any 1-second portion which has an abnormality approximately in the middle of the signal."
      ]
    },
    {
      "cell_type": "code",
      "metadata": {
        "id": "neRiCHq14o05",
        "colab": {
          "base_uri": "https://localhost:8080/",
          "height": 351
        },
        "outputId": "e4627ecc-2e83-473f-e5f3-87776d0298fb"
      },
      "source": [
        "# CODE HERE\r\n",
        "len(signal) / 360 / 60\r\n",
        "\r\n",
        "FREQ = 360 #360 samples per sec\r\n",
        "\r\n",
        "#360 samples per sec => 3600 per 10 secs\r\n",
        "x = np.random.randint(0,len(signal)-FREQ*10,1)\r\n",
        "x = np.arange(x,x+FREQ*10)\r\n",
        "\r\n",
        "symidx = np.column_stack([symbol, index])\r\n",
        "onesec_idx = int(np.random.choice(symidx[symidx[:,0] == 'A'][:,1]))\r\n",
        "x1 = np.arange(onesec_idx-179, onesec_idx+179)\r\n",
        "\r\n",
        "fig, (ax1, ax2) = plt.subplots(1,2, figsize=(5*2,5))\r\n",
        "\r\n",
        "ax1.plot(x, signal[x])\r\n",
        "ax1.set_xticklabels(ax1.get_xticks(), rotation=45);\r\n",
        "\r\n",
        "ax2.plot(x1, signal[x1])\r\n",
        "ax2.set_xticklabels(ax2.get_xticks(), rotation=45);"
      ],
      "execution_count": 5,
      "outputs": [
        {
          "output_type": "display_data",
          "data": {
            "image/png": "[encoded data removed]",
            "text/plain": [
              "<Figure size 720x360 with 2 Axes>"
            ]
          },
          "metadata": {
            "tags": [],
            "needs_background": "light"
          }
        }
      ]
    },
    {
      "cell_type": "markdown",
      "metadata": {
        "id": "Pdzm1spN3n9N"
      },
      "source": [
        "**TASK 2 (20 points)**: (Data Preparation) Training data is usually represented by a matrix $X \\in \\mathbb{R}^{N\\times D}$. N is the number of training points. D is the data dimension. We will consider one data point as +/- 3 seconds sequence of samples centered around a normal or abnormal symbol. Therefore, $D=6f$, where $f$ is the sampling frequency. Your goal is to construct such data matrix $X$. Your function should also output the corresponding label vector $y \\in \\mathbb{R}^{N\\times 1}$. Labels should be 0 for Normal and 1 for abnormal. You should get close to a total of 100k data points. Do not forget to ignore non-beat symbols.\n",
        "\n",
        "The patients for training set should be different from the ones in test set. Roughly divide the patients into 70:30 ratio or you may simply use the patient IDs already divided into train/test below."
      ]
    },
    {
      "cell_type": "code",
      "metadata": {
        "id": "FrYsLdfPxBws"
      },
      "source": [
        "# CODE HERE\n",
        "# training patient IDs\n",
        "pts_train = ['100','101','102','103','104','105','106','107',\n",
        "       '108','109','111','112','113','114','115','116',\n",
        "       '117','118','119','121','122','123','124','200',\n",
        "       '201','202','203','205','207','208','209','210']\n",
        "\n",
        "# testing patient IDs\n",
        "pts_test = ['212','213','214','215','217','219','220','221',\n",
        "       '222','223','228','230','231','232','233','234']\n",
        "\n",
        "def make_dataset():\n",
        "    '''\n",
        "    Output: X_train, y_train, X_test y_test\n",
        "    '''\n",
        "    X_train, y_train = [], []\n",
        "    X_test, y_test = [], []\n",
        "    t = FREQ*3 #3 seconds\n",
        "\n",
        "    for id in tqdm(pts_train):\n",
        "        signal, symbol, index = load_ECG_file(os.path.join(path_dataset, id))\n",
        "        for i, idx in enumerate(index):\n",
        "            idx0 = idx-t\n",
        "            idx1 = idx+t\n",
        "\n",
        "            if idx0 < 0 or idx1 > len(signal): pass\n",
        "            else: \n",
        "                if symbol[i] == 'N':\n",
        "                    X_train.append(signal[idx0:idx1])\n",
        "                    y_train.append(0)\n",
        "                elif symbol[i] in abnormal:\n",
        "                    X_train.append(signal[idx0:idx1])\n",
        "                    y_train.append(1)\n",
        "\n",
        "    for id in tqdm(pts_test):\n",
        "        signal, symbol, index = load_ECG_file(os.path.join(path_dataset, id))\n",
        "        for i, idx in enumerate(index):\n",
        "            idx0 = idx-t\n",
        "            idx1 = idx+t\n",
        "\n",
        "            if idx0 < 0 or idx1 > len(signal): pass\n",
        "            else: \n",
        "                if symbol[i] == 'N':\n",
        "                    X_test.append(signal[idx0:idx1])\n",
        "                    y_test.append(0)\n",
        "                elif symbol[i] in abnormal:\n",
        "                    X_test.append(signal[idx0:idx1])\n",
        "                    y_test.append(1)\n",
        "\n",
        "    return X_train, y_train, X_test, y_test  "
      ],
      "execution_count": 6,
      "outputs": []
    },
    {
      "cell_type": "code",
      "metadata": {
        "colab": {
          "base_uri": "https://localhost:8080/",
          "height": 115,
          "referenced_widgets": [
            "8bf4dbfb4f7b4893a6b3a0066551b0bc",
            "3134aba8a8ab4e9883c1d05498955727",
            "f6a17ab3c42348eaa021d16b82f01e1f",
            "aeff1c6310a24b0e85b08f6381e29ea5",
            "10fe7d5a97af4f2588e13f7cfda58855",
            "e8e6e2bfeaf44db0aefd68992794a1a3",
            "d41dfa220807481dafaf7c91736dd303",
            "47ae0d6e5db14426b3785ce52456c9d4",
            "2b033862530e4005bae81965196c4b20",
            "59a5c47c372248e7b83903deb5999c06",
            "b30e62e0643d49a997b082e17ddac821",
            "9e7989b546d2425cb4d8b605961e31e1",
            "cf5b1c2aee6343a1b9eed8e95a886b34",
            "854b24c66953429ebb3582791cca0391",
            "1dc9affc5f3b4e7b9ac1a85f918d53bf",
            "360373e7021140fcbf563592c5828f72"
          ]
        },
        "id": "eNVoELNTb6UE",
        "outputId": "2c71a547-1d6d-451f-a7c2-7565561d14b1"
      },
      "source": [
        "X_train, y_train, X_test, y_test = make_dataset()"
      ],
      "execution_count": 7,
      "outputs": [
        {
          "output_type": "display_data",
          "data": {
            "application/vnd.jupyter.widget-view+json": {
              "model_id": "8bf4dbfb4f7b4893a6b3a0066551b0bc",
              "version_minor": 0,
              "version_major": 2
            },
            "text/plain": [
              "HBox(children=(FloatProgress(value=0.0, max=32.0), HTML(value='')))"
            ]
          },
          "metadata": {
            "tags": []
          }
        },
        {
          "output_type": "stream",
          "text": [
            "\n"
          ],
          "name": "stdout"
        },
        {
          "output_type": "display_data",
          "data": {
            "application/vnd.jupyter.widget-view+json": {
              "model_id": "2b033862530e4005bae81965196c4b20",
              "version_minor": 0,
              "version_major": 2
            },
            "text/plain": [
              "HBox(children=(FloatProgress(value=0.0, max=16.0), HTML(value='')))"
            ]
          },
          "metadata": {
            "tags": []
          }
        },
        {
          "output_type": "stream",
          "text": [
            "\n"
          ],
          "name": "stdout"
        }
      ]
    },
    {
      "cell_type": "code",
      "metadata": {
        "colab": {
          "base_uri": "https://localhost:8080/"
        },
        "id": "MDnBTZeydAtF",
        "outputId": "eed3f7f4-2e74-484e-9a6b-7cebe3cf793b"
      },
      "source": [
        "np.array(X_train).shape, np.array(X_test).shape"
      ],
      "execution_count": 8,
      "outputs": [
        {
          "output_type": "execute_result",
          "data": {
            "text/plain": [
              "((70187, 2160), (38912, 2160))"
            ]
          },
          "metadata": {
            "tags": []
          },
          "execution_count": 8
        }
      ]
    },
    {
      "cell_type": "markdown",
      "metadata": {
        "id": "eVqlac5_-Oqc"
      },
      "source": [
        "**TASK 3 (20 points)**: (Feature Extraction) You will use pywt wavelet library to extract features for training and testing data matrices. We will do \"Multilevel 1D Discrete Wavelet Transform\". Daubechies dB6 wavelet is used specifically. Number of level of decompositions (called levels) is chosen to be 4. It is a hyper-parameter which is determined based on nature of signal of interest. It is highly recommended to go through the following paper. It explains how Wavelet Transform is suited for signals localized in time and frequency:\n",
        "\n",
        "'Güler, Inan, and Elif Derya Übeylı. \"ECG beat classifier designed by combined neural network model.\" Pattern recognition 38.2 (2005): 199-208.'\n",
        "\n",
        "Following is a hint on how you will extract features for a signal:"
      ]
    },
    {
      "cell_type": "code",
      "metadata": {
        "id": "J095AGs1OOhI",
        "colab": {
          "base_uri": "https://localhost:8080/"
        },
        "outputId": "fbabbc6e-a3a3-4ae0-84ce-1eebc4f60a00"
      },
      "source": [
        "signal = np.random.random((10000,))\n",
        "signal = scipy.signal.decimate(signal, 2)   # downsampling by 2 to reduce memory usage\n",
        "features = wavedec(signal, 'db6', level=4)\n",
        "print('Note that you get a list of features with shapes:', [_.shape for _ in features])"
      ],
      "execution_count": 9,
      "outputs": [
        {
          "output_type": "stream",
          "text": [
            "Note that you get a list of features with shapes: [(322,), (322,), (634,), (1258,), (2505,)]\n"
          ],
          "name": "stdout"
        }
      ]
    },
    {
      "cell_type": "markdown",
      "metadata": {
        "id": "tr6CBaV7eFE7"
      },
      "source": [
        "The wavedec function calculates the discrete wavelet transform,\n",
        "\n",
        "![wavelet1.jpg](data:image/jpeg;base64,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)"
      ]
    },
    {
      "cell_type": "markdown",
      "metadata": {
        "id": "WoWGOTaeipyH"
      },
      "source": [
        "You have to do zero-padding on these features to make them equal length. Then, stack them along a new axis to finally obtain a 2D matrix ($S \\times 5$) of features per signal.\n",
        "\n",
        "![wavelet2.jpg](data:image/jpeg;base64,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)"
      ]
    },
    {
      "cell_type": "markdown",
      "metadata": {
        "id": "-O9R8251i2Vs"
      },
      "source": [
        "For more details, read the paper: [A novel wavelet sequence based on deep bidirectional LSTM network model for ECG signal classification](https://www.sciencedirect.com/science/article/pii/S0010482518300738?casa_token=qrJ6hAf9tkYAAAAA:7uXqrKY5WqUM6Mjc_qg7wJ4R6QA02BGFXP0o_pOKN09yB8JIXb7067JZWY88rZc8M1G6gkkA)"
      ]
    },
    {
      "cell_type": "code",
      "metadata": {
        "id": "0f1fNzmp-mk7",
        "colab": {
          "base_uri": "https://localhost:8080/",
          "height": 132,
          "referenced_widgets": [
            "1a8bbb5c5a154c27ba85393d4ba08bcb",
            "8e1b8f57478548faae6872c9419eb752",
            "936b261083484d38881d46fd519aad48",
            "6050ab0913fa4ed0ae7a00161aed695d",
            "2f9f84be3dfe47c79cf4bf485812f06d",
            "aafba814c6fc40feb8e40baf4ae9ba50",
            "1a74edae58144cda8c150619e7f926bc",
            "a87ed5352e2b4027a9281e664c7913dd",
            "da1363f53b644e07a07e246ff5e9a049",
            "f451090ecbc749df98e13a48b717adfe",
            "f34937ba3a1049508a8cbe3e71d11873",
            "950e9fdf3c0d4671a2f906a5bf2d9b43",
            "e48f56b04c544fbcbdb0c792448f7cdc",
            "6140a96fc8f74a02b20a999e7ff2305d",
            "664d6a9cdf1d4eb69c82b0f365a1ca33",
            "4030bb9459944814a68ee7b01da14713"
          ]
        },
        "outputId": "7ea09518-6600-4c48-9436-ace6b4a8d153"
      },
      "source": [
        "# CODE HERE\n",
        "def extract_features(X):\n",
        "    '''\n",
        "    Input: X (N x D): Input data matrix\n",
        "    Output: F (N x S x 5): Feature matrix\n",
        "    '''\n",
        "    X = scipy.signal.decimate(X, 2)   # downsampling by 2 to reduce memory usage\n",
        "    N, M = np.array(X).shape\n",
        "    results = []\n",
        "\n",
        "    for j, dat in enumerate(tqdm(X)):\n",
        "        features = wavedec(dat, 'db6', level=4, axis=0)\n",
        "        # print(np.array(features).shape)\n",
        "        for i, feat in enumerate(features):\n",
        "            O = feat.shape[0]\n",
        "            if O != M:\n",
        "                features[i] = np.array(features[i].tolist() + [0 for i in range(M - O)])\n",
        "            # features[i] = np.array(features[i].tolist() + [0 for i in range(N-len(feat))])\n",
        "\n",
        "        features = np.array(features, dtype=float)\n",
        "        # features = features.swapaxes(0,1)\n",
        "        results.append(features)\n",
        "\n",
        "    return np.array(results).swapaxes(1,2)\n",
        "\n",
        "F_train = extract_features(X_train)\n",
        "F_test = extract_features(X_test)\n",
        "print(F_train.shape, F_test.shape)"
      ],
      "execution_count": 11,
      "outputs": [
        {
          "output_type": "display_data",
          "data": {
            "application/vnd.jupyter.widget-view+json": {
              "model_id": "1a8bbb5c5a154c27ba85393d4ba08bcb",
              "version_minor": 0,
              "version_major": 2
            },
            "text/plain": [
              "HBox(children=(FloatProgress(value=0.0, max=70187.0), HTML(value='')))"
            ]
          },
          "metadata": {
            "tags": []
          }
        },
        {
          "output_type": "stream",
          "text": [
            "\n"
          ],
          "name": "stdout"
        },
        {
          "output_type": "display_data",
          "data": {
            "application/vnd.jupyter.widget-view+json": {
              "model_id": "da1363f53b644e07a07e246ff5e9a049",
              "version_minor": 0,
              "version_major": 2
            },
            "text/plain": [
              "HBox(children=(FloatProgress(value=0.0, max=38912.0), HTML(value='')))"
            ]
          },
          "metadata": {
            "tags": []
          }
        },
        {
          "output_type": "stream",
          "text": [
            "\n",
            "(70187, 1080, 5) (38912, 1080, 5)\n"
          ],
          "name": "stdout"
        }
      ]
    },
    {
      "cell_type": "code",
      "metadata": {
        "id": "PfJHqt0Fi1nx"
      },
      "source": [
        "# import pickle\r\n",
        "\r\n",
        "# if os.path.exists('feature.pickle'):\r\n",
        "#     with open('feature.pickle', 'rb') as f:\r\n",
        "#         F_train, F_test = pickle.load(f)\r\n",
        "# else:\r\n",
        "\r\n",
        "#     F_train = extract_features(X_train)\r\n",
        "#     F_test = extract_features(X_test)\r\n",
        "\r\n",
        "#     with open('feature.pickle', 'wb') as f:\r\n",
        "#         pickle.dump([F_train, F_test], f)  \r\n",
        "\r\n",
        "# print(F_train.shape, F_test.shape)      "
      ],
      "execution_count": 12,
      "outputs": []
    },
    {
      "cell_type": "markdown",
      "metadata": {
        "id": "YNeA35Yl4m4n"
      },
      "source": [
        "**TASK 4 (20 points)**: Now, we are going to train a classifier to detect abnormal ECG cycles. We will train a simplified version of the LSTM-based network described in one of the [previously cited papers](https://www.sciencedirect.com/science/article/pii/S0010482518300738?casa_token=qrJ6hAf9tkYAAAAA:7uXqrKY5WqUM6Mjc_qg7wJ4R6QA02BGFXP0o_pOKN09yB8JIXb7067JZWY88rZc8M1G6gkkA). \n",
        "Using Keras, create a single layer Bidirectional LSTM model. Choose number of output units of LSTM equals to 32. Followed by LSTM layer, you should have a dense layer with sigmoid activation and number of output units equals to 1. The model should be trained for few epochs with optimizer as Adam, loss as BCE (Binary Cross Entropy), and the metric used should be accuracy. Report your accuracy on test set.\n",
        "\n",
        "Hint on training command: `model.fit(F_train, y_train, batch_size = ..., epochs=..., verbose = 1)`\n"
      ]
    },
    {
      "cell_type": "code",
      "metadata": {
        "id": "iqT8mP5tnyeH"
      },
      "source": [
        "import tensorflow as tf"
      ],
      "execution_count": 14,
      "outputs": []
    },
    {
      "cell_type": "code",
      "metadata": {
        "id": "MYHvtU2qQnVw"
      },
      "source": [
        "# CODE HERE\n",
        "model = Sequential()\n",
        "model.add(Bidirectional(LSTM(32)))\n",
        "model.add(Dense(1, activation='sigmoid'))\n",
        "\n",
        "loss_fn = tf.keras.losses.BinaryCrossentropy()\n",
        "\n",
        "model.compile(optimizer='adam', loss='binary_crossentropy', metrics=['accuracy'])"
      ],
      "execution_count": 15,
      "outputs": []
    },
    {
      "cell_type": "code",
      "metadata": {
        "colab": {
          "base_uri": "https://localhost:8080/"
        },
        "id": "GTaPKUPZz611",
        "outputId": "cf69729f-e9cb-488a-85e9-584abe9b1f84"
      },
      "source": [
        "model.fit(F_train,np.array(y_train), batch_size=100, epochs=2, verbose=1)"
      ],
      "execution_count": 16,
      "outputs": [
        {
          "output_type": "stream",
          "text": [
            "Epoch 1/2\n",
            "702/702 [==============================] - 77s 61ms/step - loss: 0.5896 - accuracy: 0.6967\n",
            "Epoch 2/2\n",
            "702/702 [==============================] - 43s 61ms/step - loss: 0.4170 - accuracy: 0.7997\n"
          ],
          "name": "stdout"
        },
        {
          "output_type": "execute_result",
          "data": {
            "text/plain": [
              "<tensorflow.python.keras.callbacks.History at 0x7fe7c9d7f450>"
            ]
          },
          "metadata": {
            "tags": []
          },
          "execution_count": 16
        }
      ]
    },
    {
      "cell_type": "code",
      "metadata": {
        "id": "7QyuPuZ7fVrp",
        "colab": {
          "base_uri": "https://localhost:8080/"
        },
        "outputId": "99a4f1c2-7291-4b6a-b798-a3e63319a722"
      },
      "source": [
        "# run this if you wish to print details on the model architecture\n",
        "model.summary()"
      ],
      "execution_count": 17,
      "outputs": [
        {
          "output_type": "stream",
          "text": [
            "Model: \"sequential\"\n",
            "_________________________________________________________________\n",
            "Layer (type)                 Output Shape              Param #   \n",
            "=================================================================\n",
            "bidirectional (Bidirectional (None, 64)                9728      \n",
            "_________________________________________________________________\n",
            "dense (Dense)                (None, 1)                 65        \n",
            "=================================================================\n",
            "Total params: 9,793\n",
            "Trainable params: 9,793\n",
            "Non-trainable params: 0\n",
            "_________________________________________________________________\n"
          ],
          "name": "stdout"
        }
      ]
    },
    {
      "cell_type": "code",
      "metadata": {
        "id": "2smTJQ8xpVgW"
      },
      "source": [
        "y_hat = model.predict(F_test)\r\n",
        "y_hat_conv = np.array([1 if i > 0.5 else 0 for i in y_hat])"
      ],
      "execution_count": 18,
      "outputs": []
    },
    {
      "cell_type": "code",
      "metadata": {
        "colab": {
          "base_uri": "https://localhost:8080/"
        },
        "id": "rVgtmMsa16Vj",
        "outputId": "9cf7e90f-5f06-4981-c550-44353fead5ed"
      },
      "source": [
        "y_hat_conv.shape, np.array(y_test).shape"
      ],
      "execution_count": 19,
      "outputs": [
        {
          "output_type": "execute_result",
          "data": {
            "text/plain": [
              "((38912,), (38912,))"
            ]
          },
          "metadata": {
            "tags": []
          },
          "execution_count": 19
        }
      ]
    },
    {
      "cell_type": "code",
      "metadata": {
        "colab": {
          "base_uri": "https://localhost:8080/"
        },
        "id": "ttn082S71ofi",
        "outputId": "0670bf1c-33d0-4afb-a80d-cf471b3cb5b3"
      },
      "source": [
        "accuracy_score(y_hat_conv, y_test)"
      ],
      "execution_count": 20,
      "outputs": [
        {
          "output_type": "execute_result",
          "data": {
            "text/plain": [
              "0.744397615131579"
            ]
          },
          "metadata": {
            "tags": []
          },
          "execution_count": 20
        }
      ]
    },
    {
      "cell_type": "markdown",
      "metadata": {
        "id": "6iCfwEaBR2B2"
      },
      "source": [
        "You will find that this particular LSTM gives only 67-75% of test accuracy (depending on your implementation), which is close to random for our setup (due to data imbalance). We will move on to a superior model (for our setup) and code 1D CNNs. Note that performance of machine learning system depends on various factors like availability of data, choice of model, data processing, model size, etc."
      ]
    },
    {
      "cell_type": "markdown",
      "metadata": {
        "id": "DBusFyyJACsh"
      },
      "source": [
        "**TASK 5 (20 points)**: (1-D CNNs) Different to LSTM model, we will have 1D CNN layer this time with 32 filters, kernel size of 5 and ReLU activation. You will add a flattening layer just after this (and before dense layer). CNN examples for Keras can easily be found online. Report test accuracy."
      ]
    },
    {
      "cell_type": "code",
      "metadata": {
        "id": "5I6DtgZFDMmn"
      },
      "source": [
        "# CODE HERE\n",
        "# Dense, Flatten, Dropout, Conv1D\n",
        "model = Sequential()\n",
        "model.add(Conv1D(32, (5), activation='relu')) #, input_shape=(F_train.shape)\n",
        "model.add(Flatten())\n",
        "model.add(Dense(1, activation='sigmoid'))\n",
        "\n",
        "model.compile(optimizer='adam', loss='binary_crossentropy', metrics=['accuracy'])"
      ],
      "execution_count": 21,
      "outputs": []
    },
    {
      "cell_type": "code",
      "metadata": {
        "colab": {
          "base_uri": "https://localhost:8080/"
        },
        "id": "1ecEen2U58Jp",
        "outputId": "5639c802-eb3b-4866-f087-a37e399b3ca1"
      },
      "source": [
        "model.fit(F_train,np.array(y_train), batch_size=100, epochs=5, verbose=1)"
      ],
      "execution_count": 22,
      "outputs": [
        {
          "output_type": "stream",
          "text": [
            "Epoch 1/5\n",
            "702/702 [==============================] - 5s 4ms/step - loss: 0.2963 - accuracy: 0.8810\n",
            "Epoch 2/5\n",
            "702/702 [==============================] - 3s 4ms/step - loss: 0.0999 - accuracy: 0.9714\n",
            "Epoch 3/5\n",
            "702/702 [==============================] - 3s 4ms/step - loss: 0.0706 - accuracy: 0.9808\n",
            "Epoch 4/5\n",
            "702/702 [==============================] - 3s 4ms/step - loss: 0.0576 - accuracy: 0.9836\n",
            "Epoch 5/5\n",
            "702/702 [==============================] - 3s 4ms/step - loss: 0.0503 - accuracy: 0.9857\n"
          ],
          "name": "stdout"
        },
        {
          "output_type": "execute_result",
          "data": {
            "text/plain": [
              "<tensorflow.python.keras.callbacks.History at 0x7fe779dd2dd0>"
            ]
          },
          "metadata": {
            "tags": []
          },
          "execution_count": 22
        }
      ]
    },
    {
      "cell_type": "code",
      "metadata": {
        "id": "t49IS9fC62sZ"
      },
      "source": [
        "y_hat = model.predict(F_test)\r\n",
        "y_hat_conv = np.array([1 if i > 0.5 else 0 for i in y_hat])"
      ],
      "execution_count": 23,
      "outputs": []
    },
    {
      "cell_type": "code",
      "metadata": {
        "colab": {
          "base_uri": "https://localhost:8080/"
        },
        "id": "z1v1JyQP62sq",
        "outputId": "d17f2607-77a4-4617-abd5-d9effbece436"
      },
      "source": [
        "y_hat_conv.shape, np.array(y_test).shape"
      ],
      "execution_count": 24,
      "outputs": [
        {
          "output_type": "execute_result",
          "data": {
            "text/plain": [
              "((38912,), (38912,))"
            ]
          },
          "metadata": {
            "tags": []
          },
          "execution_count": 24
        }
      ]
    },
    {
      "cell_type": "code",
      "metadata": {
        "colab": {
          "base_uri": "https://localhost:8080/"
        },
        "id": "UA0j85KU62st",
        "outputId": "55b4e551-5dd9-42f8-cfe2-873eb4373878"
      },
      "source": [
        "accuracy_score(y_hat_conv, y_test)"
      ],
      "execution_count": 25,
      "outputs": [
        {
          "output_type": "execute_result",
          "data": {
            "text/plain": [
              "0.8211091694078947"
            ]
          },
          "metadata": {
            "tags": []
          },
          "execution_count": 25
        }
      ]
    },
    {
      "cell_type": "markdown",
      "metadata": {
        "id": "5qYlI00N3SBV"
      },
      "source": [
        "**TASK 6 (10 points)**: (Deep CNNs) Repeat the previous task by replacing the single convolutional layer with two of them, thereby making the model deeper. Comment on what differences you observe w.r.t. Task 5."
      ]
    },
    {
      "cell_type": "code",
      "metadata": {
        "id": "H2qguHH4wh2r"
      },
      "source": [
        "# CODE HERE\n",
        "model = Sequential()\n",
        "model.add(Conv1D(32, (5), activation='relu'))\n",
        "model.add(Conv1D(16, (5), activation='relu'))\n",
        "model.add(Flatten())\n",
        "model.add(Dense(1, activation='sigmoid'))\n",
        "\n",
        "model.compile(optimizer='adam', loss='binary_crossentropy', metrics=['accuracy'])"
      ],
      "execution_count": 11,
      "outputs": []
    },
    {
      "cell_type": "code",
      "metadata": {
        "colab": {
          "base_uri": "https://localhost:8080/"
        },
        "id": "wHIizdaABDfu",
        "outputId": "61bbf807-20fc-437d-b618-b79429a2cffc"
      },
      "source": [
        "model.fit(F_train,np.array(y_train), batch_size=100, epochs=5, verbose=1)"
      ],
      "execution_count": 12,
      "outputs": [
        {
          "output_type": "stream",
          "text": [
            "Epoch 1/5\n",
            "702/702 [==============================] - 36s 6ms/step - loss: 0.2878 - accuracy: 0.8835\n",
            "Epoch 2/5\n",
            "702/702 [==============================] - 4s 6ms/step - loss: 0.0867 - accuracy: 0.9760\n",
            "Epoch 3/5\n",
            "702/702 [==============================] - 4s 6ms/step - loss: 0.0647 - accuracy: 0.9821\n",
            "Epoch 4/5\n",
            "702/702 [==============================] - 4s 6ms/step - loss: 0.0514 - accuracy: 0.9861\n",
            "Epoch 5/5\n",
            "702/702 [==============================] - 4s 6ms/step - loss: 0.0446 - accuracy: 0.9868\n"
          ],
          "name": "stdout"
        },
        {
          "output_type": "execute_result",
          "data": {
            "text/plain": [
              "<tensorflow.python.keras.callbacks.History at 0x7f9ee155b1d0>"
            ]
          },
          "metadata": {
            "tags": []
          },
          "execution_count": 12
        }
      ]
    },
    {
      "cell_type": "code",
      "metadata": {
        "id": "iZ1nkBY_BDf4"
      },
      "source": [
        "y_hat = model.predict(F_test)\r\n",
        "y_hat_conv = np.array([1 if i > 0.5 else 0 for i in y_hat])"
      ],
      "execution_count": 13,
      "outputs": []
    },
    {
      "cell_type": "code",
      "metadata": {
        "colab": {
          "base_uri": "https://localhost:8080/"
        },
        "id": "EXdLSzsvBDf4",
        "outputId": "7d65d8b7-3c36-46b9-cea9-6fad7cc03855"
      },
      "source": [
        "y_hat_conv.shape, np.array(y_test).shape"
      ],
      "execution_count": 14,
      "outputs": [
        {
          "output_type": "execute_result",
          "data": {
            "text/plain": [
              "((38912,), (38912,))"
            ]
          },
          "metadata": {
            "tags": []
          },
          "execution_count": 14
        }
      ]
    },
    {
      "cell_type": "code",
      "metadata": {
        "colab": {
          "base_uri": "https://localhost:8080/"
        },
        "id": "dn63rBLcBDf5",
        "outputId": "87b935c4-dff4-41d4-f7f4-c408ed9734f8"
      },
      "source": [
        "accuracy_score(y_hat_conv, y_test)"
      ],
      "execution_count": 15,
      "outputs": [
        {
          "output_type": "execute_result",
          "data": {
            "text/plain": [
              "0.8343441611842105"
            ]
          },
          "metadata": {
            "tags": []
          },
          "execution_count": 15
        }
      ]
    },
    {
      "cell_type": "markdown",
      "metadata": {
        "id": "QoG_BJy-OKHa"
      },
      "source": [
        "With CNNs, your training accuracy should be above 95% and testing accuracy should be above 80%."
      ]
    },
    {
      "cell_type": "markdown",
      "metadata": {
        "id": "88rRkDDyKQHL"
      },
      "source": [
        "## Discussion\r\n",
        "Increase in the depth of network resulted in increased complexity of the network allowing for improvement in both training and testset accuracy. "
      ]
    },
    {
      "cell_type": "markdown",
      "metadata": {
        "id": "1jRvKANskdOb"
      },
      "source": [
        "**TASK 7 (BONUS) (+20 points)**:\n",
        "\n",
        "\n",
        "Propose another network architecture using Keras to classify between normal and abnormal (You can use papers like this to find inspiration: https://www.sciencedirect.com/science/article/pii/S0010482518300738?casa_token=qrJ6hAf9tkYAAAAA:7uXqrKY5WqUM6Mjc_qg7wJ4R6QA02BGFXP0o_pOKN09yB8JIXb7067JZWY88rZc8M1G6gkkA)\n",
        "State the reasoning behind your choice and report accuracy on test set.\n",
        "\n",
        "OR\n",
        "\n",
        "Use CNN to classify between the different classes indicated in abnormal = ['L','R','V','/','A','f','F','j','a','E','J','e','S'].\n",
        "Report balanced accuracy score on the test set: https://scikit-learn.org/stable/modules/generated/sklearn.metrics.balanced_accuracy_score.html\n"
      ]
    },
    {
      "cell_type": "markdown",
      "metadata": {
        "id": "UVSZpf9GVX7C"
      },
      "source": [
        "**You are ready to submit in Blackboard!**\n",
        "\n",
        "Please suffix your colab file with `_<jhID>`\n",
        "For\teg: Lab4_LSTM_CNNarrhythmia_myjhID12"
      ]
    },
    {
      "cell_type": "code",
      "metadata": {
        "id": "_OR83F08GC-C"
      },
      "source": [
        "lrelu = LeakyReLU()"
      ],
      "execution_count": 12,
      "outputs": []
    },
    {
      "cell_type": "code",
      "metadata": {
        "id": "TQJ2OvioHLnP"
      },
      "source": [
        "from keras.layers import MaxPooling1D"
      ],
      "execution_count": 13,
      "outputs": []
    },
    {
      "cell_type": "code",
      "metadata": {
        "id": "M1MlkqNJFjyg"
      },
      "source": [
        "# CODE HERE\n",
        "model = Sequential()\n",
        "model.add(Conv1D(32, (3), activation=lrelu))\n",
        "model.add(MaxPooling1D())\n",
        "model.add(Conv1D(16, (3), activation=lrelu))\n",
        "model.add(MaxPooling1D())\n",
        "model.add(Conv1D(8, (3), activation=lrelu))\n",
        "model.add(MaxPooling1D())\n",
        "model.add(Conv1D(4, (3), activation=lrelu))\n",
        "model.add(Flatten())\n",
        "model.add(Dense(1, activation='sigmoid'))\n",
        "\n",
        "model.compile(optimizer='adam', loss='binary_crossentropy', metrics=['accuracy'])"
      ],
      "execution_count": 19,
      "outputs": []
    },
    {
      "cell_type": "code",
      "metadata": {
        "colab": {
          "base_uri": "https://localhost:8080/"
        },
        "id": "TWDtkK0JFjyp",
        "outputId": "5717a4d0-4d5c-4ac6-e167-9a82e629a742"
      },
      "source": [
        "model.fit(F_train,np.array(y_train), batch_size=100, epochs=5, verbose=1)"
      ],
      "execution_count": 20,
      "outputs": [
        {
          "output_type": "stream",
          "text": [
            "Epoch 1/5\n",
            "702/702 [==============================] - 6s 7ms/step - loss: 0.4179 - accuracy: 0.8046\n",
            "Epoch 2/5\n",
            "702/702 [==============================] - 4s 6ms/step - loss: 0.1068 - accuracy: 0.9685\n",
            "Epoch 3/5\n",
            "702/702 [==============================] - 4s 6ms/step - loss: 0.0724 - accuracy: 0.9777\n",
            "Epoch 4/5\n",
            "702/702 [==============================] - 4s 6ms/step - loss: 0.0604 - accuracy: 0.9824\n",
            "Epoch 5/5\n",
            "702/702 [==============================] - 4s 6ms/step - loss: 0.0526 - accuracy: 0.9845\n"
          ],
          "name": "stdout"
        },
        {
          "output_type": "execute_result",
          "data": {
            "text/plain": [
              "<tensorflow.python.keras.callbacks.History at 0x7f6105ddc750>"
            ]
          },
          "metadata": {
            "tags": []
          },
          "execution_count": 20
        }
      ]
    },
    {
      "cell_type": "code",
      "metadata": {
        "id": "YIWSRIzZFjyq"
      },
      "source": [
        "y_hat = model.predict(F_test)\r\n",
        "y_hat_conv = np.array([1 if i > 0.5 else 0 for i in y_hat])"
      ],
      "execution_count": 21,
      "outputs": []
    },
    {
      "cell_type": "code",
      "metadata": {
        "colab": {
          "base_uri": "https://localhost:8080/"
        },
        "id": "AYNSJmLHFjyq",
        "outputId": "fcbbe70f-0457-4745-a6af-3538800b4f37"
      },
      "source": [
        "y_hat_conv.shape, np.array(y_test).shape"
      ],
      "execution_count": 22,
      "outputs": [
        {
          "output_type": "execute_result",
          "data": {
            "text/plain": [
              "((38912,), (38912,))"
            ]
          },
          "metadata": {
            "tags": []
          },
          "execution_count": 22
        }
      ]
    },
    {
      "cell_type": "code",
      "metadata": {
        "colab": {
          "base_uri": "https://localhost:8080/"
        },
        "id": "ScLK12bOFjyq",
        "outputId": "51286892-b093-4697-c6f3-7cc551989839"
      },
      "source": [
        "accuracy_score(y_hat_conv, y_test)"
      ],
      "execution_count": 23,
      "outputs": [
        {
          "output_type": "execute_result",
          "data": {
            "text/plain": [
              "0.844495271381579"
            ]
          },
          "metadata": {
            "tags": []
          },
          "execution_count": 23
        }
      ]
    },
    {
      "cell_type": "markdown",
      "metadata": {
        "id": "omnuFt61I6Lo"
      },
      "source": [
        "## Discussion\r\n",
        "First, the depth of layers was increased to advance the complexity of network. The filter size of the convolutional layers was reduced to increase the resolution of the features being learned by the network. The 1D maxpooling layers were added to address the overfitting issue. Lastly, leaky relu is used only as an experimental purpose, but it is expected that this would not contribute much improvement in performance as the output of the sigmoid does not include negative values"
      ]
    }
  ]
}