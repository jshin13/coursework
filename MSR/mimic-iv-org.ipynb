{
 "metadata": {
  "language_info": {
   "codemirror_mode": {
    "name": "ipython",
    "version": 3
   },
   "file_extension": ".py",
   "mimetype": "text/x-python",
   "name": "python",
   "nbconvert_exporter": "python",
   "pygments_lexer": "ipython3",
   "version": "3.9.5"
  },
  "orig_nbformat": 2,
  "kernelspec": {
   "name": "python395jvsc74a57bd08d87682bd6d7aca5fac03d33e20409c7a60c25cd2495098241918cfb6028ae5c",
   "display_name": "Python 3.9.5 64-bit ('rwe': venv)"
  }
 },
 "nbformat": 4,
 "nbformat_minor": 2,
 "cells": [
  {
   "source": [
    "## Did Azithromycin prevent death by coronary heart disease?\n",
    "\n",
    "Within the past decade, serious attention has been given to the possibility of bacterial vectors as causal factors of atherosclerosis. To date, the greatest amount of information has related to the intracellular organism Chlamydia pneumoniae. This interest has been stimulated by the frequent finding of bacterial antigens and, occasionally, recoverable organisms, within human atherosclerotic plaque. Indirect evidence for and against the benefit of anti-Chlamydia antibiotic agents comes from epidemiologic studies.\n",
    "\n",
    "Anderson JL, Muhlestein JB. Antibiotic trials for coronary heart disease. Tex Heart Inst J. 2004;31(1):33-8. PMID: 15061624"
   ],
   "cell_type": "markdown",
   "metadata": {}
  },
  {
   "cell_type": "code",
   "execution_count": 1,
   "metadata": {},
   "outputs": [],
   "source": [
    "import numpy as np\n",
    "import pandas as pd\n",
    "import matplotlib.pyplot as plt\n",
    "import seaborn as sns\n",
    "\n",
    "import zipfile\n",
    "import gzip\n",
    "import io\n",
    "import warnings\n",
    "warnings.simplefilter('ignore')\n",
    "\n",
    "# import dowhy\n",
    "# from dowhy import CausalModel\n",
    "\n",
    "from src import RWE"
   ]
  },
  {
   "cell_type": "code",
   "execution_count": 2,
   "metadata": {},
   "outputs": [],
   "source": [
    "# %pwd\n",
    "FILEPATH_patients = 'C:/Users/t-jongshin/Desktop/workstation/2021_rwe/api/asset/mimic-iv-1.0/core/patients.csv.gz'\n",
    "\n",
    "FILEPATH_d_diagno = 'C:/Users/t-jongshin/Desktop/workstation/2021_rwe/api/asset/mimic-iv-1.0/hosp/d_icd_diagnoses.csv.gz'\n",
    "FILEPATH_diagnose = 'C:/Users/t-jongshin/Desktop/workstation/2021_rwe/api/asset/mimic-iv-1.0/hosp/diagnoses_icd.csv.gz'\n",
    "\n",
    "FILEPATH_microbio = 'C:/Users/t-jongshin/Desktop/workstation/2021_rwe/api/asset/mimic-iv-1.0/hosp/microbiologyevents.csv.gz'\n",
    "FILEPATH_pharmacy = 'C:/Users/t-jongshin/Desktop/workstation/2021_rwe/api/asset/mimic-iv-1.0/hosp/pharmacy.csv.gz'"
   ]
  },
  {
   "source": [
    "# zf = zipfile.ZipFile(FILEPATH, 'r')\n",
    "# zf.namelist()[3]\n",
    "\n",
    "# with io.BytesIO(zf.read(zf.namelist()[3])) as f:\n",
    "#     df = f.read()"
   ],
   "cell_type": "code",
   "metadata": {},
   "execution_count": 3,
   "outputs": []
  },
  {
   "cell_type": "code",
   "execution_count": 4,
   "metadata": {},
   "outputs": [],
   "source": [
    "# %%timeit -n 1 -r 1\n",
    "\n",
    "with gzip.open(FILEPATH_patients, 'rb') as f:    \n",
    "    dat_patients = pd.read_csv(f)\n",
    "\n",
    "with gzip.open(FILEPATH_diagnose, 'rb') as f:    \n",
    "    dat_diagnose = pd.read_csv(f)\n",
    "\n",
    "# with gzip.open(FILEPATH_microbio, 'rb') as f:    \n",
    "#     dat_microbio = pd.read_csv(f)\n",
    "\n",
    "with gzip.open(FILEPATH_pharmacy, 'rb') as f:    \n",
    "    dat_pharmacy = pd.read_csv(f)"
   ]
  },
  {
   "cell_type": "code",
   "execution_count": 5,
   "metadata": {},
   "outputs": [],
   "source": [
    "with gzip.open(FILEPATH_d_diagno, 'rb') as f:    \n",
    "    dic_diagnose = pd.read_csv(f)"
   ]
  },
  {
   "cell_type": "code",
   "execution_count": 6,
   "metadata": {},
   "outputs": [
    {
     "output_type": "display_data",
     "data": {
      "text/plain": "   subject_id gender  anchor_age  anchor_year anchor_year_group  dod\n0    10000048      F          23         2126       2008 - 2010  NaN",
      "text/html": "<div>\n<style scoped>\n    .dataframe tbody tr th:only-of-type {\n        vertical-align: middle;\n    }\n\n    .dataframe tbody tr th {\n        vertical-align: top;\n    }\n\n    .dataframe thead th {\n        text-align: right;\n    }\n</style>\n<table border=\"1\" class=\"dataframe\">\n  <thead>\n    <tr style=\"text-align: right;\">\n      <th></th>\n      <th>subject_id</th>\n      <th>gender</th>\n      <th>anchor_age</th>\n      <th>anchor_year</th>\n      <th>anchor_year_group</th>\n      <th>dod</th>\n    </tr>\n  </thead>\n  <tbody>\n    <tr>\n      <th>0</th>\n      <td>10000048</td>\n      <td>F</td>\n      <td>23</td>\n      <td>2126</td>\n      <td>2008 - 2010</td>\n      <td>NaN</td>\n    </tr>\n  </tbody>\n</table>\n</div>"
     },
     "metadata": {}
    },
    {
     "output_type": "display_data",
     "data": {
      "text/plain": "   subject_id   hadm_id  seq_num icd_code  icd_version\n0    15734973  20475282        3     2825            9",
      "text/html": "<div>\n<style scoped>\n    .dataframe tbody tr th:only-of-type {\n        vertical-align: middle;\n    }\n\n    .dataframe tbody tr th {\n        vertical-align: top;\n    }\n\n    .dataframe thead th {\n        text-align: right;\n    }\n</style>\n<table border=\"1\" class=\"dataframe\">\n  <thead>\n    <tr style=\"text-align: right;\">\n      <th></th>\n      <th>subject_id</th>\n      <th>hadm_id</th>\n      <th>seq_num</th>\n      <th>icd_code</th>\n      <th>icd_version</th>\n    </tr>\n  </thead>\n  <tbody>\n    <tr>\n      <th>0</th>\n      <td>15734973</td>\n      <td>20475282</td>\n      <td>3</td>\n      <td>2825</td>\n      <td>9</td>\n    </tr>\n  </tbody>\n</table>\n</div>"
     },
     "metadata": {}
    },
    {
     "output_type": "display_data",
     "data": {
      "text/plain": "   subject_id   hadm_id  pharmacy_id       poe_id            starttime  \\\n0    17868682  22726960      2697460  17868682-19  2160-01-07 14:00:00   \n\n              stoptime medication        proc_type        status  \\\n0  2160-01-07 14:00:00        NaN  IV Large Volume  Discontinued   \n\n             entertime  ... basal_rate one_hr_max doses_per_24_hrs duration  \\\n0  2160-01-07 13:06:18  ...        NaN        NaN              NaN      NaN   \n\n  duration_interval expiration_value expiration_unit  expirationdate  \\\n0           Ongoing              NaN  Enter on Label             NaN   \n\n               dispensation  fill_quantity  \n0  Distribution-Floor Stock            NaN  \n\n[1 rows x 27 columns]",
      "text/html": "<div>\n<style scoped>\n    .dataframe tbody tr th:only-of-type {\n        vertical-align: middle;\n    }\n\n    .dataframe tbody tr th {\n        vertical-align: top;\n    }\n\n    .dataframe thead th {\n        text-align: right;\n    }\n</style>\n<table border=\"1\" class=\"dataframe\">\n  <thead>\n    <tr style=\"text-align: right;\">\n      <th></th>\n      <th>subject_id</th>\n      <th>hadm_id</th>\n      <th>pharmacy_id</th>\n      <th>poe_id</th>\n      <th>starttime</th>\n      <th>stoptime</th>\n      <th>medication</th>\n      <th>proc_type</th>\n      <th>status</th>\n      <th>entertime</th>\n      <th>...</th>\n      <th>basal_rate</th>\n      <th>one_hr_max</th>\n      <th>doses_per_24_hrs</th>\n      <th>duration</th>\n      <th>duration_interval</th>\n      <th>expiration_value</th>\n      <th>expiration_unit</th>\n      <th>expirationdate</th>\n      <th>dispensation</th>\n      <th>fill_quantity</th>\n    </tr>\n  </thead>\n  <tbody>\n    <tr>\n      <th>0</th>\n      <td>17868682</td>\n      <td>22726960</td>\n      <td>2697460</td>\n      <td>17868682-19</td>\n      <td>2160-01-07 14:00:00</td>\n      <td>2160-01-07 14:00:00</td>\n      <td>NaN</td>\n      <td>IV Large Volume</td>\n      <td>Discontinued</td>\n      <td>2160-01-07 13:06:18</td>\n      <td>...</td>\n      <td>NaN</td>\n      <td>NaN</td>\n      <td>NaN</td>\n      <td>NaN</td>\n      <td>Ongoing</td>\n      <td>NaN</td>\n      <td>Enter on Label</td>\n      <td>NaN</td>\n      <td>Distribution-Floor Stock</td>\n      <td>NaN</td>\n    </tr>\n  </tbody>\n</table>\n<p>1 rows × 27 columns</p>\n</div>"
     },
     "metadata": {}
    }
   ],
   "source": [
    "display(dat_patients.iloc[0:1,:])\n",
    "display(dat_diagnose.iloc[0:1,:])\n",
    "# display(dat_microbio.iloc[0:1,:])\n",
    "display(dat_pharmacy.iloc[0:1,:])"
   ]
  },
  {
   "source": [
    "## Filter patients by any conditions associated with coronary syndromes"
   ],
   "cell_type": "markdown",
   "metadata": {}
  },
  {
   "cell_type": "code",
   "execution_count": 7,
   "metadata": {},
   "outputs": [],
   "source": [
    "dic_diagnose['long_title'] = dic_diagnose['long_title'].str.lower()"
   ]
  },
  {
   "cell_type": "code",
   "execution_count": 8,
   "metadata": {},
   "outputs": [
    {
     "output_type": "execute_result",
     "data": {
      "text/plain": [
       "       icd_code  icd_version  \\\n",
       "4712       4111            9   \n",
       "4713      41181            9   \n",
       "4719      41400            9   \n",
       "4720      41401            9   \n",
       "4721      41402            9   \n",
       "...         ...          ...   \n",
       "99666     V4581            9   \n",
       "99667     V4582            9   \n",
       "109648     Z951           10   \n",
       "109652     Z955           10   \n",
       "109743    Z9861           10   \n",
       "\n",
       "                                               long_title  \n",
       "4712                       intermediate coronary syndrome  \n",
       "4713    acute coronary occlusion without myocardial in...  \n",
       "4719    coronary atherosclerosis of unspecified type o...  \n",
       "4720    coronary atherosclerosis of native coronary ar...  \n",
       "4721    coronary atherosclerosis of autologous vein by...  \n",
       "...                                                   ...  \n",
       "99666                         aortocoronary bypass status  \n",
       "99667   percutaneous transluminal coronary angioplasty...  \n",
       "109648             presence of aortocoronary bypass graft  \n",
       "109652  presence of coronary angioplasty implant and g...  \n",
       "109743                        coronary angioplasty status  \n",
       "\n",
       "[134 rows x 3 columns]"
      ],
      "text/html": "<div>\n<style scoped>\n    .dataframe tbody tr th:only-of-type {\n        vertical-align: middle;\n    }\n\n    .dataframe tbody tr th {\n        vertical-align: top;\n    }\n\n    .dataframe thead th {\n        text-align: right;\n    }\n</style>\n<table border=\"1\" class=\"dataframe\">\n  <thead>\n    <tr style=\"text-align: right;\">\n      <th></th>\n      <th>icd_code</th>\n      <th>icd_version</th>\n      <th>long_title</th>\n    </tr>\n  </thead>\n  <tbody>\n    <tr>\n      <th>4712</th>\n      <td>4111</td>\n      <td>9</td>\n      <td>intermediate coronary syndrome</td>\n    </tr>\n    <tr>\n      <th>4713</th>\n      <td>41181</td>\n      <td>9</td>\n      <td>acute coronary occlusion without myocardial in...</td>\n    </tr>\n    <tr>\n      <th>4719</th>\n      <td>41400</td>\n      <td>9</td>\n      <td>coronary atherosclerosis of unspecified type o...</td>\n    </tr>\n    <tr>\n      <th>4720</th>\n      <td>41401</td>\n      <td>9</td>\n      <td>coronary atherosclerosis of native coronary ar...</td>\n    </tr>\n    <tr>\n      <th>4721</th>\n      <td>41402</td>\n      <td>9</td>\n      <td>coronary atherosclerosis of autologous vein by...</td>\n    </tr>\n    <tr>\n      <th>...</th>\n      <td>...</td>\n      <td>...</td>\n      <td>...</td>\n    </tr>\n    <tr>\n      <th>99666</th>\n      <td>V4581</td>\n      <td>9</td>\n      <td>aortocoronary bypass status</td>\n    </tr>\n    <tr>\n      <th>99667</th>\n      <td>V4582</td>\n      <td>9</td>\n      <td>percutaneous transluminal coronary angioplasty...</td>\n    </tr>\n    <tr>\n      <th>109648</th>\n      <td>Z951</td>\n      <td>10</td>\n      <td>presence of aortocoronary bypass graft</td>\n    </tr>\n    <tr>\n      <th>109652</th>\n      <td>Z955</td>\n      <td>10</td>\n      <td>presence of coronary angioplasty implant and g...</td>\n    </tr>\n    <tr>\n      <th>109743</th>\n      <td>Z9861</td>\n      <td>10</td>\n      <td>coronary angioplasty status</td>\n    </tr>\n  </tbody>\n</table>\n<p>134 rows × 3 columns</p>\n</div>"
     },
     "metadata": {},
     "execution_count": 8
    }
   ],
   "source": [
    "lst_icd = dic_diagnose[dic_diagnose['long_title'].str.find('coronary') >= 0]\n",
    "lst_icd"
   ]
  },
  {
   "cell_type": "code",
   "execution_count": 9,
   "metadata": {},
   "outputs": [],
   "source": [
    "lst_icd = lst_icd[['icd_code']]"
   ]
  },
  {
   "source": [
    "### Merging list of icd code with the list of patients"
   ],
   "cell_type": "markdown",
   "metadata": {}
  },
  {
   "cell_type": "code",
   "execution_count": 10,
   "metadata": {},
   "outputs": [
    {
     "output_type": "execute_result",
     "data": {
      "text/plain": [
       "       subject_id gender  anchor_age  anchor_year anchor_year_group  \\\n",
       "0        17872922      M          88         2131       2008 - 2010   \n",
       "1        12201410      M          75         2126       2008 - 2010   \n",
       "2        12849817      M          65         2166       2008 - 2010   \n",
       "3        12292383      M          75         2179       2008 - 2010   \n",
       "4        18739672      M          71         2113       2008 - 2010   \n",
       "...           ...    ...         ...          ...               ...   \n",
       "35101    15335760      M          33         2141       2014 - 2016   \n",
       "35102    17176505      M          79         2160       2008 - 2010   \n",
       "35103    18353395      M          73         2140       2017 - 2019   \n",
       "35104    17177034      M          75         2153       2008 - 2010   \n",
       "35105    13511499      M          62         2120       2014 - 2016   \n",
       "\n",
       "              dod  \n",
       "0      2141-03-27  \n",
       "1             NaN  \n",
       "2             NaN  \n",
       "3             NaN  \n",
       "4             NaN  \n",
       "...           ...  \n",
       "35101  2144-08-05  \n",
       "35102         NaN  \n",
       "35103         NaN  \n",
       "35104         NaN  \n",
       "35105         NaN  \n",
       "\n",
       "[35106 rows x 6 columns]"
      ],
      "text/html": "<div>\n<style scoped>\n    .dataframe tbody tr th:only-of-type {\n        vertical-align: middle;\n    }\n\n    .dataframe tbody tr th {\n        vertical-align: top;\n    }\n\n    .dataframe thead th {\n        text-align: right;\n    }\n</style>\n<table border=\"1\" class=\"dataframe\">\n  <thead>\n    <tr style=\"text-align: right;\">\n      <th></th>\n      <th>subject_id</th>\n      <th>gender</th>\n      <th>anchor_age</th>\n      <th>anchor_year</th>\n      <th>anchor_year_group</th>\n      <th>dod</th>\n    </tr>\n  </thead>\n  <tbody>\n    <tr>\n      <th>0</th>\n      <td>17872922</td>\n      <td>M</td>\n      <td>88</td>\n      <td>2131</td>\n      <td>2008 - 2010</td>\n      <td>2141-03-27</td>\n    </tr>\n    <tr>\n      <th>1</th>\n      <td>12201410</td>\n      <td>M</td>\n      <td>75</td>\n      <td>2126</td>\n      <td>2008 - 2010</td>\n      <td>NaN</td>\n    </tr>\n    <tr>\n      <th>2</th>\n      <td>12849817</td>\n      <td>M</td>\n      <td>65</td>\n      <td>2166</td>\n      <td>2008 - 2010</td>\n      <td>NaN</td>\n    </tr>\n    <tr>\n      <th>3</th>\n      <td>12292383</td>\n      <td>M</td>\n      <td>75</td>\n      <td>2179</td>\n      <td>2008 - 2010</td>\n      <td>NaN</td>\n    </tr>\n    <tr>\n      <th>4</th>\n      <td>18739672</td>\n      <td>M</td>\n      <td>71</td>\n      <td>2113</td>\n      <td>2008 - 2010</td>\n      <td>NaN</td>\n    </tr>\n    <tr>\n      <th>...</th>\n      <td>...</td>\n      <td>...</td>\n      <td>...</td>\n      <td>...</td>\n      <td>...</td>\n      <td>...</td>\n    </tr>\n    <tr>\n      <th>35101</th>\n      <td>15335760</td>\n      <td>M</td>\n      <td>33</td>\n      <td>2141</td>\n      <td>2014 - 2016</td>\n      <td>2144-08-05</td>\n    </tr>\n    <tr>\n      <th>35102</th>\n      <td>17176505</td>\n      <td>M</td>\n      <td>79</td>\n      <td>2160</td>\n      <td>2008 - 2010</td>\n      <td>NaN</td>\n    </tr>\n    <tr>\n      <th>35103</th>\n      <td>18353395</td>\n      <td>M</td>\n      <td>73</td>\n      <td>2140</td>\n      <td>2017 - 2019</td>\n      <td>NaN</td>\n    </tr>\n    <tr>\n      <th>35104</th>\n      <td>17177034</td>\n      <td>M</td>\n      <td>75</td>\n      <td>2153</td>\n      <td>2008 - 2010</td>\n      <td>NaN</td>\n    </tr>\n    <tr>\n      <th>35105</th>\n      <td>13511499</td>\n      <td>M</td>\n      <td>62</td>\n      <td>2120</td>\n      <td>2014 - 2016</td>\n      <td>NaN</td>\n    </tr>\n  </tbody>\n</table>\n<p>35106 rows × 6 columns</p>\n</div>"
     },
     "metadata": {},
     "execution_count": 10
    }
   ],
   "source": [
    "temp = pd.merge(dat_diagnose, lst_icd, how='inner', on='icd_code')[['subject_id']].drop_duplicates()\n",
    "dat_patients_disease = pd.merge(temp, dat_patients, on='subject_id')\n",
    "dat_patients_disease"
   ]
  },
  {
   "cell_type": "code",
   "execution_count": 11,
   "metadata": {},
   "outputs": [
    {
     "output_type": "display_data",
     "data": {
      "text/plain": "   subject_id gender  anchor_age  anchor_year anchor_year_group  dod\n1    12201410      M          75         2126       2008 - 2010  NaN\n2    12849817      M          65         2166       2008 - 2010  NaN\n3    12292383      M          75         2179       2008 - 2010  NaN\n4    18739672      M          71         2113       2008 - 2010  NaN\n6    13864194      M          71         2135       2008 - 2010  NaN",
      "text/html": "<div>\n<style scoped>\n    .dataframe tbody tr th:only-of-type {\n        vertical-align: middle;\n    }\n\n    .dataframe tbody tr th {\n        vertical-align: top;\n    }\n\n    .dataframe thead th {\n        text-align: right;\n    }\n</style>\n<table border=\"1\" class=\"dataframe\">\n  <thead>\n    <tr style=\"text-align: right;\">\n      <th></th>\n      <th>subject_id</th>\n      <th>gender</th>\n      <th>anchor_age</th>\n      <th>anchor_year</th>\n      <th>anchor_year_group</th>\n      <th>dod</th>\n    </tr>\n  </thead>\n  <tbody>\n    <tr>\n      <th>1</th>\n      <td>12201410</td>\n      <td>M</td>\n      <td>75</td>\n      <td>2126</td>\n      <td>2008 - 2010</td>\n      <td>NaN</td>\n    </tr>\n    <tr>\n      <th>2</th>\n      <td>12849817</td>\n      <td>M</td>\n      <td>65</td>\n      <td>2166</td>\n      <td>2008 - 2010</td>\n      <td>NaN</td>\n    </tr>\n    <tr>\n      <th>3</th>\n      <td>12292383</td>\n      <td>M</td>\n      <td>75</td>\n      <td>2179</td>\n      <td>2008 - 2010</td>\n      <td>NaN</td>\n    </tr>\n    <tr>\n      <th>4</th>\n      <td>18739672</td>\n      <td>M</td>\n      <td>71</td>\n      <td>2113</td>\n      <td>2008 - 2010</td>\n      <td>NaN</td>\n    </tr>\n    <tr>\n      <th>6</th>\n      <td>13864194</td>\n      <td>M</td>\n      <td>71</td>\n      <td>2135</td>\n      <td>2008 - 2010</td>\n      <td>NaN</td>\n    </tr>\n  </tbody>\n</table>\n</div>"
     },
     "metadata": {}
    },
    {
     "output_type": "display_data",
     "data": {
      "text/plain": "    subject_id gender  anchor_age  anchor_year anchor_year_group         dod\n0     17872922      M          88         2131       2008 - 2010  2141-03-27\n5     14166890      M          64         2161       2008 - 2010  2161-12-17\n11    13976907      F          66         2159       2008 - 2010  2169-02-21\n12    13108883      M          54         2121       2008 - 2010  2124-03-09\n16    16145193      F          60         2157       2008 - 2010  2167-12-28",
      "text/html": "<div>\n<style scoped>\n    .dataframe tbody tr th:only-of-type {\n        vertical-align: middle;\n    }\n\n    .dataframe tbody tr th {\n        vertical-align: top;\n    }\n\n    .dataframe thead th {\n        text-align: right;\n    }\n</style>\n<table border=\"1\" class=\"dataframe\">\n  <thead>\n    <tr style=\"text-align: right;\">\n      <th></th>\n      <th>subject_id</th>\n      <th>gender</th>\n      <th>anchor_age</th>\n      <th>anchor_year</th>\n      <th>anchor_year_group</th>\n      <th>dod</th>\n    </tr>\n  </thead>\n  <tbody>\n    <tr>\n      <th>0</th>\n      <td>17872922</td>\n      <td>M</td>\n      <td>88</td>\n      <td>2131</td>\n      <td>2008 - 2010</td>\n      <td>2141-03-27</td>\n    </tr>\n    <tr>\n      <th>5</th>\n      <td>14166890</td>\n      <td>M</td>\n      <td>64</td>\n      <td>2161</td>\n      <td>2008 - 2010</td>\n      <td>2161-12-17</td>\n    </tr>\n    <tr>\n      <th>11</th>\n      <td>13976907</td>\n      <td>F</td>\n      <td>66</td>\n      <td>2159</td>\n      <td>2008 - 2010</td>\n      <td>2169-02-21</td>\n    </tr>\n    <tr>\n      <th>12</th>\n      <td>13108883</td>\n      <td>M</td>\n      <td>54</td>\n      <td>2121</td>\n      <td>2008 - 2010</td>\n      <td>2124-03-09</td>\n    </tr>\n    <tr>\n      <th>16</th>\n      <td>16145193</td>\n      <td>F</td>\n      <td>60</td>\n      <td>2157</td>\n      <td>2008 - 2010</td>\n      <td>2167-12-28</td>\n    </tr>\n  </tbody>\n</table>\n</div>"
     },
     "metadata": {}
    }
   ],
   "source": [
    "# list of all-cause death with the coronary syndrome associated conditions\n",
    "dat_patients_disease_id = []\n",
    "dat_patients_disease_id.append(dat_patients_disease[dat_patients_disease['dod'].isna()])#[['subject_id']]\n",
    "dat_patients_disease_id.append(dat_patients_disease[~dat_patients_disease['dod'].isna()])#[['subject_id']]\n",
    "display(dat_patients_disease_id[0].head(5))\n",
    "display(dat_patients_disease_id[1].head(5))"
   ]
  },
  {
   "source": [
    "## Filter pharmacy list by any drug analog of Azithromycin"
   ],
   "cell_type": "markdown",
   "metadata": {}
  },
  {
   "source": [
    "# array(['Azithromycin', 'Clarithromycin', 'Erythromycin 0.5% Ophth Oint',\n",
    "#        'Erythromycin', 'Erythromycin Ethylsuccinate Suspension',\n",
    "#        'erythromycin with ethanol', 'Erythromycin Tpoical Gel',\n",
    "#        'erythromycin', 'azithromycin', 'Neo*PO*Azithromycin',\n",
    "#        'Erythromycin opthalmic', 'Erythromycin Ethylsuccinate',\n",
    "#        'clarithromycin', 'Erythromycin ', 'azithromycin PO Susp'],\n",
    "#       dtype=object)"
   ],
   "cell_type": "code",
   "metadata": {},
   "execution_count": 12,
   "outputs": []
  },
  {
   "cell_type": "code",
   "execution_count": 13,
   "metadata": {},
   "outputs": [
    {
     "output_type": "execute_result",
     "data": {
      "text/plain": [
       "array(['Azithromycin', 'Clarithromycin', 'Erythromycin 0.5% Ophth Oint',\n",
       "       'Erythromycin', 'Erythromycin Ethylsuccinate Suspension',\n",
       "       'erythromycin with ethanol', 'Erythromycin Tpoical Gel',\n",
       "       'erythromycin', 'azithromycin', 'Neo*PO*Azithromycin',\n",
       "       'Erythromycin opthalmic', 'Erythromycin Ethylsuccinate',\n",
       "       'clarithromycin', 'Erythromycin ', 'azithromycin PO Susp'],\n",
       "      dtype=object)"
      ]
     },
     "metadata": {},
     "execution_count": 13
    }
   ],
   "source": [
    "# list of drug names containing thromycin\n",
    "search_idx = dat_pharmacy['medication'].str.find('thromycin')\n",
    "dat_pharmacy[search_idx >= 0]['medication'].unique() #NA = -1.0"
   ]
  },
  {
   "cell_type": "code",
   "execution_count": 14,
   "metadata": {},
   "outputs": [
    {
     "output_type": "execute_result",
     "data": {
      "text/plain": [
       "(94887, 27)"
      ],
      "image/png": "[encoded data removed]",
      "text/latex": "$\\displaystyle \\left( 94887, \\  27\\right)$"
     },
     "metadata": {},
     "execution_count": 14
    }
   ],
   "source": [
    "# search results for patients who were prescribed the drugs\n",
    "search_result_pos = dat_pharmacy[search_idx >= 0]\n",
    "search_result_pos.shape"
   ]
  },
  {
   "cell_type": "code",
   "execution_count": 15,
   "metadata": {},
   "outputs": [
    {
     "output_type": "execute_result",
     "data": {
      "text/plain": [
       "     subject_id   hadm_id  pharmacy_id        poe_id            starttime  \\\n",
       "141    12315540  23248664     92297162  12315540-327  2172-12-03 23:00:00   \n",
       "817    17067646  25423329     27908492  17067646-288  2157-09-03 11:00:00   \n",
       "905    17067646  25326346      4146153  17067646-449  2157-09-19 04:00:00   \n",
       "930    17067646  25326346     34910737  17067646-535  2157-09-21 15:00:00   \n",
       "932    17067646  25326346     70146485  17067646-546  2157-09-22 12:00:00   \n",
       "\n",
       "                stoptime      medication     proc_type  \\\n",
       "141  2172-12-04 12:00:00    Azithromycin  IV Piggyback   \n",
       "817  2157-09-16 20:00:00  Clarithromycin     Unit Dose   \n",
       "905  2157-09-21 14:00:00    Azithromycin  IV Piggyback   \n",
       "930  2157-09-21 17:00:00    Azithromycin     Unit Dose   \n",
       "932  2157-09-24 09:00:00    Azithromycin     Unit Dose   \n",
       "\n",
       "                                 status            entertime  ... basal_rate  \\\n",
       "141                        Discontinued  2172-12-03 22:49:47  ...        NaN   \n",
       "817  Discontinued via patient discharge  2157-09-03 10:37:24  ...        NaN   \n",
       "905                        Discontinued  2157-09-19 03:06:37  ...        NaN   \n",
       "930                        Discontinued  2157-09-21 14:49:44  ...        NaN   \n",
       "932                        Discontinued  2157-09-22 11:22:38  ...        NaN   \n",
       "\n",
       "    one_hr_max doses_per_24_hrs duration duration_interval expiration_value  \\\n",
       "141        NaN              1.0      NaN           Ongoing              NaN   \n",
       "817        NaN              2.0      NaN           Ongoing             36.0   \n",
       "905        NaN              1.0      NaN           Ongoing              NaN   \n",
       "930        NaN              1.0      NaN           Ongoing             36.0   \n",
       "932        NaN              1.0      NaN           Ongoing             36.0   \n",
       "\n",
       "    expiration_unit  expirationdate dispensation  fill_quantity  \n",
       "141  Enter on Label             NaN       IV MED            NaN  \n",
       "817           Hours             NaN     OmniCell            NaN  \n",
       "905  Enter on Label             NaN       IV MED            NaN  \n",
       "930           Hours             NaN     OmniCell            NaN  \n",
       "932           Hours             NaN     OmniCell            NaN  \n",
       "\n",
       "[5 rows x 27 columns]"
      ],
      "text/html": "<div>\n<style scoped>\n    .dataframe tbody tr th:only-of-type {\n        vertical-align: middle;\n    }\n\n    .dataframe tbody tr th {\n        vertical-align: top;\n    }\n\n    .dataframe thead th {\n        text-align: right;\n    }\n</style>\n<table border=\"1\" class=\"dataframe\">\n  <thead>\n    <tr style=\"text-align: right;\">\n      <th></th>\n      <th>subject_id</th>\n      <th>hadm_id</th>\n      <th>pharmacy_id</th>\n      <th>poe_id</th>\n      <th>starttime</th>\n      <th>stoptime</th>\n      <th>medication</th>\n      <th>proc_type</th>\n      <th>status</th>\n      <th>entertime</th>\n      <th>...</th>\n      <th>basal_rate</th>\n      <th>one_hr_max</th>\n      <th>doses_per_24_hrs</th>\n      <th>duration</th>\n      <th>duration_interval</th>\n      <th>expiration_value</th>\n      <th>expiration_unit</th>\n      <th>expirationdate</th>\n      <th>dispensation</th>\n      <th>fill_quantity</th>\n    </tr>\n  </thead>\n  <tbody>\n    <tr>\n      <th>141</th>\n      <td>12315540</td>\n      <td>23248664</td>\n      <td>92297162</td>\n      <td>12315540-327</td>\n      <td>2172-12-03 23:00:00</td>\n      <td>2172-12-04 12:00:00</td>\n      <td>Azithromycin</td>\n      <td>IV Piggyback</td>\n      <td>Discontinued</td>\n      <td>2172-12-03 22:49:47</td>\n      <td>...</td>\n      <td>NaN</td>\n      <td>NaN</td>\n      <td>1.0</td>\n      <td>NaN</td>\n      <td>Ongoing</td>\n      <td>NaN</td>\n      <td>Enter on Label</td>\n      <td>NaN</td>\n      <td>IV MED</td>\n      <td>NaN</td>\n    </tr>\n    <tr>\n      <th>817</th>\n      <td>17067646</td>\n      <td>25423329</td>\n      <td>27908492</td>\n      <td>17067646-288</td>\n      <td>2157-09-03 11:00:00</td>\n      <td>2157-09-16 20:00:00</td>\n      <td>Clarithromycin</td>\n      <td>Unit Dose</td>\n      <td>Discontinued via patient discharge</td>\n      <td>2157-09-03 10:37:24</td>\n      <td>...</td>\n      <td>NaN</td>\n      <td>NaN</td>\n      <td>2.0</td>\n      <td>NaN</td>\n      <td>Ongoing</td>\n      <td>36.0</td>\n      <td>Hours</td>\n      <td>NaN</td>\n      <td>OmniCell</td>\n      <td>NaN</td>\n    </tr>\n    <tr>\n      <th>905</th>\n      <td>17067646</td>\n      <td>25326346</td>\n      <td>4146153</td>\n      <td>17067646-449</td>\n      <td>2157-09-19 04:00:00</td>\n      <td>2157-09-21 14:00:00</td>\n      <td>Azithromycin</td>\n      <td>IV Piggyback</td>\n      <td>Discontinued</td>\n      <td>2157-09-19 03:06:37</td>\n      <td>...</td>\n      <td>NaN</td>\n      <td>NaN</td>\n      <td>1.0</td>\n      <td>NaN</td>\n      <td>Ongoing</td>\n      <td>NaN</td>\n      <td>Enter on Label</td>\n      <td>NaN</td>\n      <td>IV MED</td>\n      <td>NaN</td>\n    </tr>\n    <tr>\n      <th>930</th>\n      <td>17067646</td>\n      <td>25326346</td>\n      <td>34910737</td>\n      <td>17067646-535</td>\n      <td>2157-09-21 15:00:00</td>\n      <td>2157-09-21 17:00:00</td>\n      <td>Azithromycin</td>\n      <td>Unit Dose</td>\n      <td>Discontinued</td>\n      <td>2157-09-21 14:49:44</td>\n      <td>...</td>\n      <td>NaN</td>\n      <td>NaN</td>\n      <td>1.0</td>\n      <td>NaN</td>\n      <td>Ongoing</td>\n      <td>36.0</td>\n      <td>Hours</td>\n      <td>NaN</td>\n      <td>OmniCell</td>\n      <td>NaN</td>\n    </tr>\n    <tr>\n      <th>932</th>\n      <td>17067646</td>\n      <td>25326346</td>\n      <td>70146485</td>\n      <td>17067646-546</td>\n      <td>2157-09-22 12:00:00</td>\n      <td>2157-09-24 09:00:00</td>\n      <td>Azithromycin</td>\n      <td>Unit Dose</td>\n      <td>Discontinued</td>\n      <td>2157-09-22 11:22:38</td>\n      <td>...</td>\n      <td>NaN</td>\n      <td>NaN</td>\n      <td>1.0</td>\n      <td>NaN</td>\n      <td>Ongoing</td>\n      <td>36.0</td>\n      <td>Hours</td>\n      <td>NaN</td>\n      <td>OmniCell</td>\n      <td>NaN</td>\n    </tr>\n  </tbody>\n</table>\n<p>5 rows × 27 columns</p>\n</div>"
     },
     "metadata": {},
     "execution_count": 15
    }
   ],
   "source": [
    "search_result_pos.head(5)"
   ]
  },
  {
   "cell_type": "code",
   "execution_count": 16,
   "metadata": {},
   "outputs": [
    {
     "output_type": "execute_result",
     "data": {
      "text/plain": [
       "(13632626, 27)"
      ],
      "image/png": "[encoded data removed]",
      "text/latex": "$\\displaystyle \\left( 13632626, \\  27\\right)$"
     },
     "metadata": {},
     "execution_count": 16
    }
   ],
   "source": [
    "# search results for patients who were NOT prescribed the drugs\n",
    "search_result_neg = dat_pharmacy[search_idx == -1]\n",
    "search_result_neg.shape"
   ]
  },
  {
   "cell_type": "code",
   "execution_count": 17,
   "metadata": {},
   "outputs": [
    {
     "output_type": "execute_result",
     "data": {
      "text/plain": [
       "   subject_id   hadm_id  pharmacy_id       poe_id            starttime  \\\n",
       "1    17868682  22726960      1383959  17868682-20  2160-01-07 15:00:00   \n",
       "2    17868682  22726960     64138666  17868682-23  2160-01-07 15:00:00   \n",
       "3    17868682  22726960     43535627  17868682-28  2160-01-07 15:00:00   \n",
       "4    17868682  22726960     13072826  17868682-29  2160-01-07 15:00:00   \n",
       "5    17868682  22726960     16634804  17868682-30  2160-01-07 10:00:00   \n",
       "\n",
       "              stoptime                   medication  proc_type  \\\n",
       "1  2160-01-08 16:00:00  Pneumococcal Vac Polyvalent  Unit Dose   \n",
       "2  2160-01-08 16:00:00  Sodium Chloride 0.9%  Flush  Unit Dose   \n",
       "3  2160-01-08 14:00:00                  Ondansetron  Unit Dose   \n",
       "4  2160-01-07 16:00:00             Morphine Sulfate  Unit Dose   \n",
       "5  2160-01-07 16:00:00                      Aspirin  Unit Dose   \n",
       "\n",
       "                               status            entertime  ... basal_rate  \\\n",
       "1  Discontinued via patient discharge  2160-01-07 14:25:45  ...        NaN   \n",
       "2  Discontinued via patient discharge  2160-01-07 14:25:45  ...        NaN   \n",
       "3                             Expired  2160-01-07 14:25:45  ...        NaN   \n",
       "4                        Discontinued  2160-01-07 14:25:45  ...        0.0   \n",
       "5                        Discontinued  2160-01-07 14:25:45  ...        NaN   \n",
       "\n",
       "  one_hr_max doses_per_24_hrs duration duration_interval expiration_value  \\\n",
       "1        NaN              NaN      NaN           Ongoing             36.0   \n",
       "2        NaN              NaN      NaN           Ongoing             36.0   \n",
       "3        NaN              1.0      1.0             Doses             36.0   \n",
       "4        NaN              NaN      NaN           Ongoing             36.0   \n",
       "5        NaN              1.0      NaN           Ongoing             36.0   \n",
       "\n",
       "  expiration_unit  expirationdate      dispensation  fill_quantity  \n",
       "1           Hours             NaN          Omnicell            NaN  \n",
       "2           Hours             NaN  Floor Stock Item            NaN  \n",
       "3           Hours             NaN          Omnicell            NaN  \n",
       "4           Hours             NaN          Omnicell            NaN  \n",
       "5           Hours             NaN          Omnicell            NaN  \n",
       "\n",
       "[5 rows x 27 columns]"
      ],
      "text/html": "<div>\n<style scoped>\n    .dataframe tbody tr th:only-of-type {\n        vertical-align: middle;\n    }\n\n    .dataframe tbody tr th {\n        vertical-align: top;\n    }\n\n    .dataframe thead th {\n        text-align: right;\n    }\n</style>\n<table border=\"1\" class=\"dataframe\">\n  <thead>\n    <tr style=\"text-align: right;\">\n      <th></th>\n      <th>subject_id</th>\n      <th>hadm_id</th>\n      <th>pharmacy_id</th>\n      <th>poe_id</th>\n      <th>starttime</th>\n      <th>stoptime</th>\n      <th>medication</th>\n      <th>proc_type</th>\n      <th>status</th>\n      <th>entertime</th>\n      <th>...</th>\n      <th>basal_rate</th>\n      <th>one_hr_max</th>\n      <th>doses_per_24_hrs</th>\n      <th>duration</th>\n      <th>duration_interval</th>\n      <th>expiration_value</th>\n      <th>expiration_unit</th>\n      <th>expirationdate</th>\n      <th>dispensation</th>\n      <th>fill_quantity</th>\n    </tr>\n  </thead>\n  <tbody>\n    <tr>\n      <th>1</th>\n      <td>17868682</td>\n      <td>22726960</td>\n      <td>1383959</td>\n      <td>17868682-20</td>\n      <td>2160-01-07 15:00:00</td>\n      <td>2160-01-08 16:00:00</td>\n      <td>Pneumococcal Vac Polyvalent</td>\n      <td>Unit Dose</td>\n      <td>Discontinued via patient discharge</td>\n      <td>2160-01-07 14:25:45</td>\n      <td>...</td>\n      <td>NaN</td>\n      <td>NaN</td>\n      <td>NaN</td>\n      <td>NaN</td>\n      <td>Ongoing</td>\n      <td>36.0</td>\n      <td>Hours</td>\n      <td>NaN</td>\n      <td>Omnicell</td>\n      <td>NaN</td>\n    </tr>\n    <tr>\n      <th>2</th>\n      <td>17868682</td>\n      <td>22726960</td>\n      <td>64138666</td>\n      <td>17868682-23</td>\n      <td>2160-01-07 15:00:00</td>\n      <td>2160-01-08 16:00:00</td>\n      <td>Sodium Chloride 0.9%  Flush</td>\n      <td>Unit Dose</td>\n      <td>Discontinued via patient discharge</td>\n      <td>2160-01-07 14:25:45</td>\n      <td>...</td>\n      <td>NaN</td>\n      <td>NaN</td>\n      <td>NaN</td>\n      <td>NaN</td>\n      <td>Ongoing</td>\n      <td>36.0</td>\n      <td>Hours</td>\n      <td>NaN</td>\n      <td>Floor Stock Item</td>\n      <td>NaN</td>\n    </tr>\n    <tr>\n      <th>3</th>\n      <td>17868682</td>\n      <td>22726960</td>\n      <td>43535627</td>\n      <td>17868682-28</td>\n      <td>2160-01-07 15:00:00</td>\n      <td>2160-01-08 14:00:00</td>\n      <td>Ondansetron</td>\n      <td>Unit Dose</td>\n      <td>Expired</td>\n      <td>2160-01-07 14:25:45</td>\n      <td>...</td>\n      <td>NaN</td>\n      <td>NaN</td>\n      <td>1.0</td>\n      <td>1.0</td>\n      <td>Doses</td>\n      <td>36.0</td>\n      <td>Hours</td>\n      <td>NaN</td>\n      <td>Omnicell</td>\n      <td>NaN</td>\n    </tr>\n    <tr>\n      <th>4</th>\n      <td>17868682</td>\n      <td>22726960</td>\n      <td>13072826</td>\n      <td>17868682-29</td>\n      <td>2160-01-07 15:00:00</td>\n      <td>2160-01-07 16:00:00</td>\n      <td>Morphine Sulfate</td>\n      <td>Unit Dose</td>\n      <td>Discontinued</td>\n      <td>2160-01-07 14:25:45</td>\n      <td>...</td>\n      <td>0.0</td>\n      <td>NaN</td>\n      <td>NaN</td>\n      <td>NaN</td>\n      <td>Ongoing</td>\n      <td>36.0</td>\n      <td>Hours</td>\n      <td>NaN</td>\n      <td>Omnicell</td>\n      <td>NaN</td>\n    </tr>\n    <tr>\n      <th>5</th>\n      <td>17868682</td>\n      <td>22726960</td>\n      <td>16634804</td>\n      <td>17868682-30</td>\n      <td>2160-01-07 10:00:00</td>\n      <td>2160-01-07 16:00:00</td>\n      <td>Aspirin</td>\n      <td>Unit Dose</td>\n      <td>Discontinued</td>\n      <td>2160-01-07 14:25:45</td>\n      <td>...</td>\n      <td>NaN</td>\n      <td>NaN</td>\n      <td>1.0</td>\n      <td>NaN</td>\n      <td>Ongoing</td>\n      <td>36.0</td>\n      <td>Hours</td>\n      <td>NaN</td>\n      <td>Omnicell</td>\n      <td>NaN</td>\n    </tr>\n  </tbody>\n</table>\n<p>5 rows × 27 columns</p>\n</div>"
     },
     "metadata": {},
     "execution_count": 17
    }
   ],
   "source": [
    "search_result_neg.head(5)"
   ]
  },
  {
   "source": [
    "## Deceased patients who has conditions associated coronary syndrome and also has taken Azithromycin analogs\n",
    "O | T = 1"
   ],
   "cell_type": "markdown",
   "metadata": {}
  },
  {
   "cell_type": "code",
   "execution_count": 20,
   "metadata": {},
   "outputs": [
    {
     "output_type": "execute_result",
     "data": {
      "text/plain": [
       "((9629, 32), (3973,), (2292, 32), (796,))"
      ],
      "image/png": "[encoded data removed]",
      "text/latex": "$\\displaystyle \\left( \\left( 9629, \\  32\\right), \\  \\left( 3973,\\right), \\  \\left( 2292, \\  32\\right), \\  \\left( 796,\\right)\\right)$"
     },
     "metadata": {},
     "execution_count": 20
    }
   ],
   "source": [
    "dod_treated = []\n",
    "dod_treated.append(pd.merge(dat_patients_disease_id[0], search_result_pos, how='inner', on='subject_id').drop_duplicates()) #dod == 0\n",
    "dod_treated.append(pd.merge(dat_patients_disease_id[1], search_result_pos, how='inner', on='subject_id').drop_duplicates()) #dod == 1\n",
    "dod_treated[0].shape, dod_treated[0]['subject_id'].drop_duplicates().shape, dod_treated[1].shape, dod_treated[1]['subject_id'].drop_duplicates().shape"
   ]
  },
  {
   "cell_type": "code",
   "execution_count": 21,
   "metadata": {},
   "outputs": [
    {
     "output_type": "display_data",
     "data": {
      "text/plain": "   subject_id gender  anchor_age  anchor_year anchor_year_group  dod  \\\n0    14267880      M          73         2135       2008 - 2010  NaN   \n1    14267880      M          73         2135       2008 - 2010  NaN   \n2    10669695      F          88         2153       2008 - 2010  NaN   \n3    10669695      F          88         2153       2008 - 2010  NaN   \n4    10669695      F          88         2153       2008 - 2010  NaN   \n\n    hadm_id  pharmacy_id         poe_id            starttime  ... basal_rate  \\\n0  25295827     57526848  14267880-3140  2146-05-29 01:00:00  ...        NaN   \n1  25295827     42983361  14267880-3141  2146-05-30 01:00:00  ...        NaN   \n2  21732489     67565933   10669695-626  2158-10-30 05:00:00  ...        NaN   \n3  23053402     11679826   10669695-736  2159-07-29 17:00:00  ...        NaN   \n4  23053402     82391224   10669695-849  2159-08-01 17:00:00  ...        NaN   \n\n  one_hr_max doses_per_24_hrs duration duration_interval expiration_value  \\\n0        NaN              1.0      1.0             Doses            365.0   \n1        NaN              1.0      4.0             Doses            365.0   \n2        NaN              1.0      NaN           Ongoing             36.0   \n3        NaN              1.0      NaN           Ongoing             36.0   \n4        NaN              1.0      5.0             Doses             36.0   \n\n  expiration_unit expirationdate dispensation fill_quantity  \n0            Days            NaN     Omnicell           NaN  \n1            Days            NaN     Omnicell           NaN  \n2           Hours            NaN     Omnicell           NaN  \n3           Hours            NaN     Omnicell           NaN  \n4           Hours            NaN     Omnicell           NaN  \n\n[5 rows x 32 columns]",
      "text/html": "<div>\n<style scoped>\n    .dataframe tbody tr th:only-of-type {\n        vertical-align: middle;\n    }\n\n    .dataframe tbody tr th {\n        vertical-align: top;\n    }\n\n    .dataframe thead th {\n        text-align: right;\n    }\n</style>\n<table border=\"1\" class=\"dataframe\">\n  <thead>\n    <tr style=\"text-align: right;\">\n      <th></th>\n      <th>subject_id</th>\n      <th>gender</th>\n      <th>anchor_age</th>\n      <th>anchor_year</th>\n      <th>anchor_year_group</th>\n      <th>dod</th>\n      <th>hadm_id</th>\n      <th>pharmacy_id</th>\n      <th>poe_id</th>\n      <th>starttime</th>\n      <th>...</th>\n      <th>basal_rate</th>\n      <th>one_hr_max</th>\n      <th>doses_per_24_hrs</th>\n      <th>duration</th>\n      <th>duration_interval</th>\n      <th>expiration_value</th>\n      <th>expiration_unit</th>\n      <th>expirationdate</th>\n      <th>dispensation</th>\n      <th>fill_quantity</th>\n    </tr>\n  </thead>\n  <tbody>\n    <tr>\n      <th>0</th>\n      <td>14267880</td>\n      <td>M</td>\n      <td>73</td>\n      <td>2135</td>\n      <td>2008 - 2010</td>\n      <td>NaN</td>\n      <td>25295827</td>\n      <td>57526848</td>\n      <td>14267880-3140</td>\n      <td>2146-05-29 01:00:00</td>\n      <td>...</td>\n      <td>NaN</td>\n      <td>NaN</td>\n      <td>1.0</td>\n      <td>1.0</td>\n      <td>Doses</td>\n      <td>365.0</td>\n      <td>Days</td>\n      <td>NaN</td>\n      <td>Omnicell</td>\n      <td>NaN</td>\n    </tr>\n    <tr>\n      <th>1</th>\n      <td>14267880</td>\n      <td>M</td>\n      <td>73</td>\n      <td>2135</td>\n      <td>2008 - 2010</td>\n      <td>NaN</td>\n      <td>25295827</td>\n      <td>42983361</td>\n      <td>14267880-3141</td>\n      <td>2146-05-30 01:00:00</td>\n      <td>...</td>\n      <td>NaN</td>\n      <td>NaN</td>\n      <td>1.0</td>\n      <td>4.0</td>\n      <td>Doses</td>\n      <td>365.0</td>\n      <td>Days</td>\n      <td>NaN</td>\n      <td>Omnicell</td>\n      <td>NaN</td>\n    </tr>\n    <tr>\n      <th>2</th>\n      <td>10669695</td>\n      <td>F</td>\n      <td>88</td>\n      <td>2153</td>\n      <td>2008 - 2010</td>\n      <td>NaN</td>\n      <td>21732489</td>\n      <td>67565933</td>\n      <td>10669695-626</td>\n      <td>2158-10-30 05:00:00</td>\n      <td>...</td>\n      <td>NaN</td>\n      <td>NaN</td>\n      <td>1.0</td>\n      <td>NaN</td>\n      <td>Ongoing</td>\n      <td>36.0</td>\n      <td>Hours</td>\n      <td>NaN</td>\n      <td>Omnicell</td>\n      <td>NaN</td>\n    </tr>\n    <tr>\n      <th>3</th>\n      <td>10669695</td>\n      <td>F</td>\n      <td>88</td>\n      <td>2153</td>\n      <td>2008 - 2010</td>\n      <td>NaN</td>\n      <td>23053402</td>\n      <td>11679826</td>\n      <td>10669695-736</td>\n      <td>2159-07-29 17:00:00</td>\n      <td>...</td>\n      <td>NaN</td>\n      <td>NaN</td>\n      <td>1.0</td>\n      <td>NaN</td>\n      <td>Ongoing</td>\n      <td>36.0</td>\n      <td>Hours</td>\n      <td>NaN</td>\n      <td>Omnicell</td>\n      <td>NaN</td>\n    </tr>\n    <tr>\n      <th>4</th>\n      <td>10669695</td>\n      <td>F</td>\n      <td>88</td>\n      <td>2153</td>\n      <td>2008 - 2010</td>\n      <td>NaN</td>\n      <td>23053402</td>\n      <td>82391224</td>\n      <td>10669695-849</td>\n      <td>2159-08-01 17:00:00</td>\n      <td>...</td>\n      <td>NaN</td>\n      <td>NaN</td>\n      <td>1.0</td>\n      <td>5.0</td>\n      <td>Doses</td>\n      <td>36.0</td>\n      <td>Hours</td>\n      <td>NaN</td>\n      <td>Omnicell</td>\n      <td>NaN</td>\n    </tr>\n  </tbody>\n</table>\n<p>5 rows × 32 columns</p>\n</div>"
     },
     "metadata": {}
    },
    {
     "output_type": "display_data",
     "data": {
      "text/plain": "   subject_id gender  anchor_age  anchor_year anchor_year_group         dod  \\\n0    13976907      F          66         2159       2008 - 2010  2169-02-21   \n1    13976907      F          66         2159       2008 - 2010  2169-02-21   \n2    13976907      F          66         2159       2008 - 2010  2169-02-21   \n3    13976907      F          66         2159       2008 - 2010  2169-02-21   \n4    13976907      F          66         2159       2008 - 2010  2169-02-21   \n\n    hadm_id  pharmacy_id         poe_id            starttime  ... basal_rate  \\\n0  28205831     12986587   13976907-989  2158-12-15 10:00:00  ...        NaN   \n1  28205831     72641268  13976907-1020  2158-12-16 11:00:00  ...        NaN   \n2  28205831     62319538  13976907-1063  2158-12-18 10:00:00  ...        NaN   \n3  21402581     36648906  13976907-3308  2168-05-08 15:00:00  ...        NaN   \n4  25735538     28647822  13976907-4566  2169-02-09 01:00:00  ...        NaN   \n\n  one_hr_max doses_per_24_hrs duration duration_interval expiration_value  \\\n0        NaN              1.0      NaN           Ongoing             36.0   \n1        NaN              1.0      NaN           Ongoing             36.0   \n2        NaN              1.0      NaN           Ongoing             36.0   \n3        NaN              1.0      NaN           Ongoing            365.0   \n4        NaN              1.0      1.0             Doses            365.0   \n\n  expiration_unit expirationdate dispensation fill_quantity  \n0           Hours            NaN     OmniCell           NaN  \n1           Hours            NaN     OmniCell           NaN  \n2           Hours            NaN     OmniCell           NaN  \n3            Days            NaN     Omnicell           NaN  \n4            Days            NaN     Omnicell           NaN  \n\n[5 rows x 32 columns]",
      "text/html": "<div>\n<style scoped>\n    .dataframe tbody tr th:only-of-type {\n        vertical-align: middle;\n    }\n\n    .dataframe tbody tr th {\n        vertical-align: top;\n    }\n\n    .dataframe thead th {\n        text-align: right;\n    }\n</style>\n<table border=\"1\" class=\"dataframe\">\n  <thead>\n    <tr style=\"text-align: right;\">\n      <th></th>\n      <th>subject_id</th>\n      <th>gender</th>\n      <th>anchor_age</th>\n      <th>anchor_year</th>\n      <th>anchor_year_group</th>\n      <th>dod</th>\n      <th>hadm_id</th>\n      <th>pharmacy_id</th>\n      <th>poe_id</th>\n      <th>starttime</th>\n      <th>...</th>\n      <th>basal_rate</th>\n      <th>one_hr_max</th>\n      <th>doses_per_24_hrs</th>\n      <th>duration</th>\n      <th>duration_interval</th>\n      <th>expiration_value</th>\n      <th>expiration_unit</th>\n      <th>expirationdate</th>\n      <th>dispensation</th>\n      <th>fill_quantity</th>\n    </tr>\n  </thead>\n  <tbody>\n    <tr>\n      <th>0</th>\n      <td>13976907</td>\n      <td>F</td>\n      <td>66</td>\n      <td>2159</td>\n      <td>2008 - 2010</td>\n      <td>2169-02-21</td>\n      <td>28205831</td>\n      <td>12986587</td>\n      <td>13976907-989</td>\n      <td>2158-12-15 10:00:00</td>\n      <td>...</td>\n      <td>NaN</td>\n      <td>NaN</td>\n      <td>1.0</td>\n      <td>NaN</td>\n      <td>Ongoing</td>\n      <td>36.0</td>\n      <td>Hours</td>\n      <td>NaN</td>\n      <td>OmniCell</td>\n      <td>NaN</td>\n    </tr>\n    <tr>\n      <th>1</th>\n      <td>13976907</td>\n      <td>F</td>\n      <td>66</td>\n      <td>2159</td>\n      <td>2008 - 2010</td>\n      <td>2169-02-21</td>\n      <td>28205831</td>\n      <td>72641268</td>\n      <td>13976907-1020</td>\n      <td>2158-12-16 11:00:00</td>\n      <td>...</td>\n      <td>NaN</td>\n      <td>NaN</td>\n      <td>1.0</td>\n      <td>NaN</td>\n      <td>Ongoing</td>\n      <td>36.0</td>\n      <td>Hours</td>\n      <td>NaN</td>\n      <td>OmniCell</td>\n      <td>NaN</td>\n    </tr>\n    <tr>\n      <th>2</th>\n      <td>13976907</td>\n      <td>F</td>\n      <td>66</td>\n      <td>2159</td>\n      <td>2008 - 2010</td>\n      <td>2169-02-21</td>\n      <td>28205831</td>\n      <td>62319538</td>\n      <td>13976907-1063</td>\n      <td>2158-12-18 10:00:00</td>\n      <td>...</td>\n      <td>NaN</td>\n      <td>NaN</td>\n      <td>1.0</td>\n      <td>NaN</td>\n      <td>Ongoing</td>\n      <td>36.0</td>\n      <td>Hours</td>\n      <td>NaN</td>\n      <td>OmniCell</td>\n      <td>NaN</td>\n    </tr>\n    <tr>\n      <th>3</th>\n      <td>13976907</td>\n      <td>F</td>\n      <td>66</td>\n      <td>2159</td>\n      <td>2008 - 2010</td>\n      <td>2169-02-21</td>\n      <td>21402581</td>\n      <td>36648906</td>\n      <td>13976907-3308</td>\n      <td>2168-05-08 15:00:00</td>\n      <td>...</td>\n      <td>NaN</td>\n      <td>NaN</td>\n      <td>1.0</td>\n      <td>NaN</td>\n      <td>Ongoing</td>\n      <td>365.0</td>\n      <td>Days</td>\n      <td>NaN</td>\n      <td>Omnicell</td>\n      <td>NaN</td>\n    </tr>\n    <tr>\n      <th>4</th>\n      <td>13976907</td>\n      <td>F</td>\n      <td>66</td>\n      <td>2159</td>\n      <td>2008 - 2010</td>\n      <td>2169-02-21</td>\n      <td>25735538</td>\n      <td>28647822</td>\n      <td>13976907-4566</td>\n      <td>2169-02-09 01:00:00</td>\n      <td>...</td>\n      <td>NaN</td>\n      <td>NaN</td>\n      <td>1.0</td>\n      <td>1.0</td>\n      <td>Doses</td>\n      <td>365.0</td>\n      <td>Days</td>\n      <td>NaN</td>\n      <td>Omnicell</td>\n      <td>NaN</td>\n    </tr>\n  </tbody>\n</table>\n<p>5 rows × 32 columns</p>\n</div>"
     },
     "metadata": {}
    }
   ],
   "source": [
    "display(dod_treated[0].head(5))\n",
    "display(dod_treated[1].head(5))"
   ]
  },
  {
   "cell_type": "code",
   "execution_count": 22,
   "metadata": {},
   "outputs": [
    {
     "output_type": "execute_result",
     "data": {
      "text/plain": [
       "Index(['subject_id', 'gender', 'anchor_age', 'anchor_year',\n",
       "       'anchor_year_group', 'dod', 'hadm_id', 'pharmacy_id', 'poe_id',\n",
       "       'starttime', 'stoptime', 'medication', 'proc_type', 'status',\n",
       "       'entertime', 'verifiedtime', 'route', 'frequency', 'disp_sched',\n",
       "       'infusion_type', 'sliding_scale', 'lockout_interval', 'basal_rate',\n",
       "       'one_hr_max', 'doses_per_24_hrs', 'duration', 'duration_interval',\n",
       "       'expiration_value', 'expiration_unit', 'expirationdate', 'dispensation',\n",
       "       'fill_quantity'],\n",
       "      dtype='object')"
      ]
     },
     "metadata": {},
     "execution_count": 22
    }
   ],
   "source": [
    "dod_treated[0].columns "
   ]
  },
  {
   "source": [
    "## Deceased patients who has conditions associated coronary syndrome and has NOT taken Azithromycin analogs\n",
    "O | T = 0"
   ],
   "cell_type": "markdown",
   "metadata": {}
  },
  {
   "cell_type": "code",
   "execution_count": 24,
   "metadata": {},
   "outputs": [
    {
     "output_type": "execute_result",
     "data": {
      "text/plain": [
       "((5928164, 27), (97054,), (4199192, 27), (75562,))"
      ],
      "image/png": "[encoded data removed]",
      "text/latex": "$\\displaystyle \\left( \\left( 5928164, \\  27\\right), \\  \\left( 97054,\\right), \\  \\left( 4199192, \\  27\\right), \\  \\left( 75562,\\right)\\right)$"
     },
     "metadata": {},
     "execution_count": 24
    }
   ],
   "source": [
    "dod_not_treated = []\n",
    "\n",
    "for i in range(2):\n",
    "    dod_not_treated.append(pd.merge(dat_patients_disease_id[i], search_result_pos, how='outer', on='subject_id', indicator=True).drop_duplicates())\n",
    "    dod_not_treated_idx = dod_not_treated[i][dod_not_treated[i]['_merge']!='both'][['subject_id']].drop_duplicates()#.iloc[:,:-1]\n",
    "\n",
    "    dod_not_treated[i] = pd.merge(dod_not_treated_idx, dat_pharmacy, how='inner', on='subject_id').drop_duplicates()\n",
    "\n",
    "dod_not_treated[0].shape, dod_not_treated[0]['subject_id'].drop_duplicates().shape, dod_not_treated[1].shape, dod_not_treated[1]['subject_id'].drop_duplicates().shape"
   ]
  },
  {
   "cell_type": "code",
   "execution_count": 25,
   "metadata": {},
   "outputs": [
    {
     "output_type": "display_data",
     "data": {
      "text/plain": "   subject_id   hadm_id  pharmacy_id        poe_id            starttime  \\\n0    12201410  20381641     44752634  12201410-176  2126-08-12 16:00:00   \n1    12201410  20381641     44610849  12201410-148  2126-08-12 18:00:00   \n2    12201410  20381641     74650754  12201410-152  2126-08-12 10:00:00   \n3    12201410  20381641     83563801  12201410-153  2126-08-12 10:00:00   \n4    12201410  20381641       868580  12201410-154  2126-08-12 10:00:00   \n\n              stoptime               medication  proc_type  \\\n0  2126-08-13 15:00:00     Miconazole Powder 2%  Unit Dose   \n1  2126-08-13 15:00:00  Influenza Virus Vaccine  Unit Dose   \n2  2126-08-13 15:00:00                  Aspirin  Unit Dose   \n3  2126-08-13 15:00:00             Atorvastatin  Unit Dose   \n4  2126-08-13 15:00:00  Fludrocortisone Acetate  Unit Dose   \n\n                               status            entertime  ... basal_rate  \\\n0  Discontinued via patient discharge  2126-08-12 15:36:40  ...        NaN   \n1  Discontinued via patient discharge  2126-08-12 17:31:41  ...        NaN   \n2  Discontinued via patient discharge  2126-08-12 17:31:41  ...        NaN   \n3  Discontinued via patient discharge  2126-08-12 17:31:41  ...        NaN   \n4  Discontinued via patient discharge  2126-08-12 17:31:41  ...        NaN   \n\n  one_hr_max doses_per_24_hrs duration duration_interval expiration_value  \\\n0        NaN              NaN      NaN           Ongoing             36.0   \n1        NaN              NaN      NaN           Ongoing             36.0   \n2        NaN              1.0      NaN           Ongoing             36.0   \n3        NaN              1.0      NaN           Ongoing             36.0   \n4        NaN              1.0      NaN           Ongoing             36.0   \n\n  expiration_unit  expirationdate dispensation  fill_quantity  \n0           Hours             NaN    Bulk Item            NaN  \n1           Hours             NaN     OmniCell            NaN  \n2           Hours             NaN     OmniCell            NaN  \n3           Hours             NaN     OmniCell            NaN  \n4           Hours             NaN     OmniCell            NaN  \n\n[5 rows x 27 columns]",
      "text/html": "<div>\n<style scoped>\n    .dataframe tbody tr th:only-of-type {\n        vertical-align: middle;\n    }\n\n    .dataframe tbody tr th {\n        vertical-align: top;\n    }\n\n    .dataframe thead th {\n        text-align: right;\n    }\n</style>\n<table border=\"1\" class=\"dataframe\">\n  <thead>\n    <tr style=\"text-align: right;\">\n      <th></th>\n      <th>subject_id</th>\n      <th>hadm_id</th>\n      <th>pharmacy_id</th>\n      <th>poe_id</th>\n      <th>starttime</th>\n      <th>stoptime</th>\n      <th>medication</th>\n      <th>proc_type</th>\n      <th>status</th>\n      <th>entertime</th>\n      <th>...</th>\n      <th>basal_rate</th>\n      <th>one_hr_max</th>\n      <th>doses_per_24_hrs</th>\n      <th>duration</th>\n      <th>duration_interval</th>\n      <th>expiration_value</th>\n      <th>expiration_unit</th>\n      <th>expirationdate</th>\n      <th>dispensation</th>\n      <th>fill_quantity</th>\n    </tr>\n  </thead>\n  <tbody>\n    <tr>\n      <th>0</th>\n      <td>12201410</td>\n      <td>20381641</td>\n      <td>44752634</td>\n      <td>12201410-176</td>\n      <td>2126-08-12 16:00:00</td>\n      <td>2126-08-13 15:00:00</td>\n      <td>Miconazole Powder 2%</td>\n      <td>Unit Dose</td>\n      <td>Discontinued via patient discharge</td>\n      <td>2126-08-12 15:36:40</td>\n      <td>...</td>\n      <td>NaN</td>\n      <td>NaN</td>\n      <td>NaN</td>\n      <td>NaN</td>\n      <td>Ongoing</td>\n      <td>36.0</td>\n      <td>Hours</td>\n      <td>NaN</td>\n      <td>Bulk Item</td>\n      <td>NaN</td>\n    </tr>\n    <tr>\n      <th>1</th>\n      <td>12201410</td>\n      <td>20381641</td>\n      <td>44610849</td>\n      <td>12201410-148</td>\n      <td>2126-08-12 18:00:00</td>\n      <td>2126-08-13 15:00:00</td>\n      <td>Influenza Virus Vaccine</td>\n      <td>Unit Dose</td>\n      <td>Discontinued via patient discharge</td>\n      <td>2126-08-12 17:31:41</td>\n      <td>...</td>\n      <td>NaN</td>\n      <td>NaN</td>\n      <td>NaN</td>\n      <td>NaN</td>\n      <td>Ongoing</td>\n      <td>36.0</td>\n      <td>Hours</td>\n      <td>NaN</td>\n      <td>OmniCell</td>\n      <td>NaN</td>\n    </tr>\n    <tr>\n      <th>2</th>\n      <td>12201410</td>\n      <td>20381641</td>\n      <td>74650754</td>\n      <td>12201410-152</td>\n      <td>2126-08-12 10:00:00</td>\n      <td>2126-08-13 15:00:00</td>\n      <td>Aspirin</td>\n      <td>Unit Dose</td>\n      <td>Discontinued via patient discharge</td>\n      <td>2126-08-12 17:31:41</td>\n      <td>...</td>\n      <td>NaN</td>\n      <td>NaN</td>\n      <td>1.0</td>\n      <td>NaN</td>\n      <td>Ongoing</td>\n      <td>36.0</td>\n      <td>Hours</td>\n      <td>NaN</td>\n      <td>OmniCell</td>\n      <td>NaN</td>\n    </tr>\n    <tr>\n      <th>3</th>\n      <td>12201410</td>\n      <td>20381641</td>\n      <td>83563801</td>\n      <td>12201410-153</td>\n      <td>2126-08-12 10:00:00</td>\n      <td>2126-08-13 15:00:00</td>\n      <td>Atorvastatin</td>\n      <td>Unit Dose</td>\n      <td>Discontinued via patient discharge</td>\n      <td>2126-08-12 17:31:41</td>\n      <td>...</td>\n      <td>NaN</td>\n      <td>NaN</td>\n      <td>1.0</td>\n      <td>NaN</td>\n      <td>Ongoing</td>\n      <td>36.0</td>\n      <td>Hours</td>\n      <td>NaN</td>\n      <td>OmniCell</td>\n      <td>NaN</td>\n    </tr>\n    <tr>\n      <th>4</th>\n      <td>12201410</td>\n      <td>20381641</td>\n      <td>868580</td>\n      <td>12201410-154</td>\n      <td>2126-08-12 10:00:00</td>\n      <td>2126-08-13 15:00:00</td>\n      <td>Fludrocortisone Acetate</td>\n      <td>Unit Dose</td>\n      <td>Discontinued via patient discharge</td>\n      <td>2126-08-12 17:31:41</td>\n      <td>...</td>\n      <td>NaN</td>\n      <td>NaN</td>\n      <td>1.0</td>\n      <td>NaN</td>\n      <td>Ongoing</td>\n      <td>36.0</td>\n      <td>Hours</td>\n      <td>NaN</td>\n      <td>OmniCell</td>\n      <td>NaN</td>\n    </tr>\n  </tbody>\n</table>\n<p>5 rows × 27 columns</p>\n</div>"
     },
     "metadata": {}
    },
    {
     "output_type": "display_data",
     "data": {
      "text/plain": "   subject_id   hadm_id  pharmacy_id        poe_id            starttime  \\\n0    17872922  27151133     54888785  17872922-767  2131-12-09 16:00:00   \n1    17872922  27151133     71056155  17872922-769  2131-12-09 16:00:00   \n2    17872922  27151133     32844426  17872922-775  2131-12-09 16:00:00   \n3    17872922  27151133     65683902  17872922-776  2131-12-09 16:00:00   \n4    17872922  27151133     97717632  17872922-776  2131-12-09 16:00:00   \n\n              stoptime                   medication        proc_type  \\\n0  2131-12-10 14:00:00      Influenza Virus Vaccine        Unit Dose   \n1  2131-12-10 14:00:00  Sodium Chloride 0.9%  Flush        Unit Dose   \n2  2131-12-10 06:00:00                          NaN  IV Large Volume   \n3  2131-12-10 14:00:00             Morphine Sulfate        Unit Dose   \n4  2131-12-10 14:00:00             Morphine Sulfate        Unit Dose   \n\n                               status            entertime  ... basal_rate  \\\n0  Discontinued via patient discharge  2131-12-09 15:09:50  ...        NaN   \n1  Discontinued via patient discharge  2131-12-09 15:09:50  ...        NaN   \n2                        Discontinued  2131-12-09 15:09:50  ...        NaN   \n3  Discontinued via patient discharge  2131-12-09 15:09:50  ...        0.0   \n4  Discontinued via patient discharge  2131-12-09 15:09:50  ...        0.0   \n\n  one_hr_max doses_per_24_hrs duration duration_interval expiration_value  \\\n0        NaN              NaN      NaN           Ongoing             36.0   \n1        NaN              NaN      NaN           Ongoing             36.0   \n2        NaN              NaN      NaN           Ongoing              NaN   \n3        NaN              NaN      NaN           Ongoing             36.0   \n4        NaN              NaN      NaN           Ongoing             36.0   \n\n  expiration_unit  expirationdate              dispensation  fill_quantity  \n0           Hours             NaN                  OmniCell            NaN  \n1           Hours             NaN          Floor Stock Item            NaN  \n2  Enter on Label             NaN  Distribution-Floor Stock            NaN  \n3           Hours             NaN                  OmniCell            NaN  \n4           Hours             NaN                  OmniCell            NaN  \n\n[5 rows x 27 columns]",
      "text/html": "<div>\n<style scoped>\n    .dataframe tbody tr th:only-of-type {\n        vertical-align: middle;\n    }\n\n    .dataframe tbody tr th {\n        vertical-align: top;\n    }\n\n    .dataframe thead th {\n        text-align: right;\n    }\n</style>\n<table border=\"1\" class=\"dataframe\">\n  <thead>\n    <tr style=\"text-align: right;\">\n      <th></th>\n      <th>subject_id</th>\n      <th>hadm_id</th>\n      <th>pharmacy_id</th>\n      <th>poe_id</th>\n      <th>starttime</th>\n      <th>stoptime</th>\n      <th>medication</th>\n      <th>proc_type</th>\n      <th>status</th>\n      <th>entertime</th>\n      <th>...</th>\n      <th>basal_rate</th>\n      <th>one_hr_max</th>\n      <th>doses_per_24_hrs</th>\n      <th>duration</th>\n      <th>duration_interval</th>\n      <th>expiration_value</th>\n      <th>expiration_unit</th>\n      <th>expirationdate</th>\n      <th>dispensation</th>\n      <th>fill_quantity</th>\n    </tr>\n  </thead>\n  <tbody>\n    <tr>\n      <th>0</th>\n      <td>17872922</td>\n      <td>27151133</td>\n      <td>54888785</td>\n      <td>17872922-767</td>\n      <td>2131-12-09 16:00:00</td>\n      <td>2131-12-10 14:00:00</td>\n      <td>Influenza Virus Vaccine</td>\n      <td>Unit Dose</td>\n      <td>Discontinued via patient discharge</td>\n      <td>2131-12-09 15:09:50</td>\n      <td>...</td>\n      <td>NaN</td>\n      <td>NaN</td>\n      <td>NaN</td>\n      <td>NaN</td>\n      <td>Ongoing</td>\n      <td>36.0</td>\n      <td>Hours</td>\n      <td>NaN</td>\n      <td>OmniCell</td>\n      <td>NaN</td>\n    </tr>\n    <tr>\n      <th>1</th>\n      <td>17872922</td>\n      <td>27151133</td>\n      <td>71056155</td>\n      <td>17872922-769</td>\n      <td>2131-12-09 16:00:00</td>\n      <td>2131-12-10 14:00:00</td>\n      <td>Sodium Chloride 0.9%  Flush</td>\n      <td>Unit Dose</td>\n      <td>Discontinued via patient discharge</td>\n      <td>2131-12-09 15:09:50</td>\n      <td>...</td>\n      <td>NaN</td>\n      <td>NaN</td>\n      <td>NaN</td>\n      <td>NaN</td>\n      <td>Ongoing</td>\n      <td>36.0</td>\n      <td>Hours</td>\n      <td>NaN</td>\n      <td>Floor Stock Item</td>\n      <td>NaN</td>\n    </tr>\n    <tr>\n      <th>2</th>\n      <td>17872922</td>\n      <td>27151133</td>\n      <td>32844426</td>\n      <td>17872922-775</td>\n      <td>2131-12-09 16:00:00</td>\n      <td>2131-12-10 06:00:00</td>\n      <td>NaN</td>\n      <td>IV Large Volume</td>\n      <td>Discontinued</td>\n      <td>2131-12-09 15:09:50</td>\n      <td>...</td>\n      <td>NaN</td>\n      <td>NaN</td>\n      <td>NaN</td>\n      <td>NaN</td>\n      <td>Ongoing</td>\n      <td>NaN</td>\n      <td>Enter on Label</td>\n      <td>NaN</td>\n      <td>Distribution-Floor Stock</td>\n      <td>NaN</td>\n    </tr>\n    <tr>\n      <th>3</th>\n      <td>17872922</td>\n      <td>27151133</td>\n      <td>65683902</td>\n      <td>17872922-776</td>\n      <td>2131-12-09 16:00:00</td>\n      <td>2131-12-10 14:00:00</td>\n      <td>Morphine Sulfate</td>\n      <td>Unit Dose</td>\n      <td>Discontinued via patient discharge</td>\n      <td>2131-12-09 15:09:50</td>\n      <td>...</td>\n      <td>0.0</td>\n      <td>NaN</td>\n      <td>NaN</td>\n      <td>NaN</td>\n      <td>Ongoing</td>\n      <td>36.0</td>\n      <td>Hours</td>\n      <td>NaN</td>\n      <td>OmniCell</td>\n      <td>NaN</td>\n    </tr>\n    <tr>\n      <th>4</th>\n      <td>17872922</td>\n      <td>27151133</td>\n      <td>97717632</td>\n      <td>17872922-776</td>\n      <td>2131-12-09 16:00:00</td>\n      <td>2131-12-10 14:00:00</td>\n      <td>Morphine Sulfate</td>\n      <td>Unit Dose</td>\n      <td>Discontinued via patient discharge</td>\n      <td>2131-12-09 15:09:50</td>\n      <td>...</td>\n      <td>0.0</td>\n      <td>NaN</td>\n      <td>NaN</td>\n      <td>NaN</td>\n      <td>Ongoing</td>\n      <td>36.0</td>\n      <td>Hours</td>\n      <td>NaN</td>\n      <td>OmniCell</td>\n      <td>NaN</td>\n    </tr>\n  </tbody>\n</table>\n<p>5 rows × 27 columns</p>\n</div>"
     },
     "metadata": {}
    }
   ],
   "source": [
    "display(dod_not_treated[0].head(5))\n",
    "display(dod_not_treated[1].head(5))"
   ]
  },
  {
   "cell_type": "code",
   "execution_count": 26,
   "metadata": {},
   "outputs": [],
   "source": [
    "# making sure there is no overlap\n",
    "dod_overlap = pd.merge(dod_treated[0][['subject_id']].drop_duplicates(), dod_not_treated[0][['subject_id']].drop_duplicates(), how='inner', on='subject_id')"
   ]
  },
  {
   "cell_type": "code",
   "execution_count": 27,
   "metadata": {},
   "outputs": [
    {
     "output_type": "execute_result",
     "data": {
      "text/plain": [
       "(0, 1)"
      ],
      "image/png": "[encoded data removed]",
      "text/latex": "$\\displaystyle \\left( 0, \\  1\\right)$"
     },
     "metadata": {},
     "execution_count": 27
    }
   ],
   "source": [
    "dod_overlap.shape"
   ]
  },
  {
   "cell_type": "code",
   "execution_count": 28,
   "metadata": {},
   "outputs": [
    {
     "output_type": "display_data",
     "data": {
      "text/plain": "0       Azithromycin\n1       Azithromycin\n2       Azithromycin\n3       Azithromycin\n4       Azithromycin\n            ...     \n9624    Erythromycin\n9625    Azithromycin\n9626    Azithromycin\n9627    Azithromycin\n9628    Azithromycin\nName: medication, Length: 9629, dtype: object"
     },
     "metadata": {}
    },
    {
     "output_type": "display_data",
     "data": {
      "text/plain": "0                                       Miconazole Powder 2%\n1                                    Influenza Virus Vaccine\n2                                                    Aspirin\n3                                               Atorvastatin\n4                                    Fludrocortisone Acetate\n                                 ...                        \n5928159                                 Sucrose Solution 24%\n5928160                         Erythromycin 0.5% Ophth Oint\n5928161    Phytonadione (Vitamin K1) (for L&D to NBN orde...\n5928162                                  Hepatitis B Vaccine\n5928163                                          Glucose Gel\nName: medication, Length: 5928164, dtype: object"
     },
     "metadata": {}
    }
   ],
   "source": [
    "display(dod_treated[0]['medication'])\n",
    "display(dod_not_treated[0]['medication'])"
   ]
  },
  {
   "cell_type": "code",
   "execution_count": 29,
   "metadata": {},
   "outputs": [],
   "source": [
    "# _,b,c = np.intersect1d(dod_treated[0].columns, dod_not_treated[0].columns, return_indices=True)"
   ]
  },
  {
   "cell_type": "code",
   "execution_count": 30,
   "metadata": {},
   "outputs": [],
   "source": [
    "# dod_treated[0].columns[[i for i in range(32) if i not in b]]"
   ]
  },
  {
   "source": [
    "### Binarize treatment and outcome"
   ],
   "cell_type": "markdown",
   "metadata": {}
  },
  {
   "cell_type": "code",
   "execution_count": 31,
   "metadata": {},
   "outputs": [],
   "source": [
    "for i in range(2): #dod\n",
    "    for j in range(2): #med\n",
    "        if j == 1:\n",
    "            dod_treated[i]['dod'] = i\n",
    "            dod_treated[i]['medication'] = j\n",
    "        else:\n",
    "            dod_not_treated[i]['dod'] = i\n",
    "            dod_not_treated[i]['medication'] = j"
   ]
  },
  {
   "cell_type": "code",
   "execution_count": 32,
   "metadata": {},
   "outputs": [
    {
     "output_type": "display_data",
     "data": {
      "text/plain": "   subject_id gender  anchor_age  anchor_year anchor_year_group  dod  \\\n0    13976907      F          66         2159       2008 - 2010    1   \n1    13976907      F          66         2159       2008 - 2010    1   \n2    13976907      F          66         2159       2008 - 2010    1   \n3    13976907      F          66         2159       2008 - 2010    1   \n4    13976907      F          66         2159       2008 - 2010    1   \n\n    hadm_id  pharmacy_id         poe_id            starttime  ... basal_rate  \\\n0  28205831     12986587   13976907-989  2158-12-15 10:00:00  ...        NaN   \n1  28205831     72641268  13976907-1020  2158-12-16 11:00:00  ...        NaN   \n2  28205831     62319538  13976907-1063  2158-12-18 10:00:00  ...        NaN   \n3  21402581     36648906  13976907-3308  2168-05-08 15:00:00  ...        NaN   \n4  25735538     28647822  13976907-4566  2169-02-09 01:00:00  ...        NaN   \n\n   one_hr_max doses_per_24_hrs duration duration_interval expiration_value  \\\n0         NaN              1.0      NaN           Ongoing             36.0   \n1         NaN              1.0      NaN           Ongoing             36.0   \n2         NaN              1.0      NaN           Ongoing             36.0   \n3         NaN              1.0      NaN           Ongoing            365.0   \n4         NaN              1.0      1.0             Doses            365.0   \n\n  expiration_unit expirationdate dispensation fill_quantity  \n0           Hours            NaN     OmniCell           NaN  \n1           Hours            NaN     OmniCell           NaN  \n2           Hours            NaN     OmniCell           NaN  \n3            Days            NaN     Omnicell           NaN  \n4            Days            NaN     Omnicell           NaN  \n\n[5 rows x 32 columns]",
      "text/html": "<div>\n<style scoped>\n    .dataframe tbody tr th:only-of-type {\n        vertical-align: middle;\n    }\n\n    .dataframe tbody tr th {\n        vertical-align: top;\n    }\n\n    .dataframe thead th {\n        text-align: right;\n    }\n</style>\n<table border=\"1\" class=\"dataframe\">\n  <thead>\n    <tr style=\"text-align: right;\">\n      <th></th>\n      <th>subject_id</th>\n      <th>gender</th>\n      <th>anchor_age</th>\n      <th>anchor_year</th>\n      <th>anchor_year_group</th>\n      <th>dod</th>\n      <th>hadm_id</th>\n      <th>pharmacy_id</th>\n      <th>poe_id</th>\n      <th>starttime</th>\n      <th>...</th>\n      <th>basal_rate</th>\n      <th>one_hr_max</th>\n      <th>doses_per_24_hrs</th>\n      <th>duration</th>\n      <th>duration_interval</th>\n      <th>expiration_value</th>\n      <th>expiration_unit</th>\n      <th>expirationdate</th>\n      <th>dispensation</th>\n      <th>fill_quantity</th>\n    </tr>\n  </thead>\n  <tbody>\n    <tr>\n      <th>0</th>\n      <td>13976907</td>\n      <td>F</td>\n      <td>66</td>\n      <td>2159</td>\n      <td>2008 - 2010</td>\n      <td>1</td>\n      <td>28205831</td>\n      <td>12986587</td>\n      <td>13976907-989</td>\n      <td>2158-12-15 10:00:00</td>\n      <td>...</td>\n      <td>NaN</td>\n      <td>NaN</td>\n      <td>1.0</td>\n      <td>NaN</td>\n      <td>Ongoing</td>\n      <td>36.0</td>\n      <td>Hours</td>\n      <td>NaN</td>\n      <td>OmniCell</td>\n      <td>NaN</td>\n    </tr>\n    <tr>\n      <th>1</th>\n      <td>13976907</td>\n      <td>F</td>\n      <td>66</td>\n      <td>2159</td>\n      <td>2008 - 2010</td>\n      <td>1</td>\n      <td>28205831</td>\n      <td>72641268</td>\n      <td>13976907-1020</td>\n      <td>2158-12-16 11:00:00</td>\n      <td>...</td>\n      <td>NaN</td>\n      <td>NaN</td>\n      <td>1.0</td>\n      <td>NaN</td>\n      <td>Ongoing</td>\n      <td>36.0</td>\n      <td>Hours</td>\n      <td>NaN</td>\n      <td>OmniCell</td>\n      <td>NaN</td>\n    </tr>\n    <tr>\n      <th>2</th>\n      <td>13976907</td>\n      <td>F</td>\n      <td>66</td>\n      <td>2159</td>\n      <td>2008 - 2010</td>\n      <td>1</td>\n      <td>28205831</td>\n      <td>62319538</td>\n      <td>13976907-1063</td>\n      <td>2158-12-18 10:00:00</td>\n      <td>...</td>\n      <td>NaN</td>\n      <td>NaN</td>\n      <td>1.0</td>\n      <td>NaN</td>\n      <td>Ongoing</td>\n      <td>36.0</td>\n      <td>Hours</td>\n      <td>NaN</td>\n      <td>OmniCell</td>\n      <td>NaN</td>\n    </tr>\n    <tr>\n      <th>3</th>\n      <td>13976907</td>\n      <td>F</td>\n      <td>66</td>\n      <td>2159</td>\n      <td>2008 - 2010</td>\n      <td>1</td>\n      <td>21402581</td>\n      <td>36648906</td>\n      <td>13976907-3308</td>\n      <td>2168-05-08 15:00:00</td>\n      <td>...</td>\n      <td>NaN</td>\n      <td>NaN</td>\n      <td>1.0</td>\n      <td>NaN</td>\n      <td>Ongoing</td>\n      <td>365.0</td>\n      <td>Days</td>\n      <td>NaN</td>\n      <td>Omnicell</td>\n      <td>NaN</td>\n    </tr>\n    <tr>\n      <th>4</th>\n      <td>13976907</td>\n      <td>F</td>\n      <td>66</td>\n      <td>2159</td>\n      <td>2008 - 2010</td>\n      <td>1</td>\n      <td>25735538</td>\n      <td>28647822</td>\n      <td>13976907-4566</td>\n      <td>2169-02-09 01:00:00</td>\n      <td>...</td>\n      <td>NaN</td>\n      <td>NaN</td>\n      <td>1.0</td>\n      <td>1.0</td>\n      <td>Doses</td>\n      <td>365.0</td>\n      <td>Days</td>\n      <td>NaN</td>\n      <td>Omnicell</td>\n      <td>NaN</td>\n    </tr>\n  </tbody>\n</table>\n<p>5 rows × 32 columns</p>\n</div>"
     },
     "metadata": {}
    },
    {
     "output_type": "display_data",
     "data": {
      "text/plain": "   subject_id   hadm_id  pharmacy_id        poe_id            starttime  \\\n0    12201410  20381641     44752634  12201410-176  2126-08-12 16:00:00   \n1    12201410  20381641     44610849  12201410-148  2126-08-12 18:00:00   \n2    12201410  20381641     74650754  12201410-152  2126-08-12 10:00:00   \n3    12201410  20381641     83563801  12201410-153  2126-08-12 10:00:00   \n4    12201410  20381641       868580  12201410-154  2126-08-12 10:00:00   \n\n              stoptime  medication  proc_type  \\\n0  2126-08-13 15:00:00           0  Unit Dose   \n1  2126-08-13 15:00:00           0  Unit Dose   \n2  2126-08-13 15:00:00           0  Unit Dose   \n3  2126-08-13 15:00:00           0  Unit Dose   \n4  2126-08-13 15:00:00           0  Unit Dose   \n\n                               status            entertime  ... one_hr_max  \\\n0  Discontinued via patient discharge  2126-08-12 15:36:40  ...        NaN   \n1  Discontinued via patient discharge  2126-08-12 17:31:41  ...        NaN   \n2  Discontinued via patient discharge  2126-08-12 17:31:41  ...        NaN   \n3  Discontinued via patient discharge  2126-08-12 17:31:41  ...        NaN   \n4  Discontinued via patient discharge  2126-08-12 17:31:41  ...        NaN   \n\n  doses_per_24_hrs duration duration_interval expiration_value  \\\n0              NaN      NaN           Ongoing             36.0   \n1              NaN      NaN           Ongoing             36.0   \n2              1.0      NaN           Ongoing             36.0   \n3              1.0      NaN           Ongoing             36.0   \n4              1.0      NaN           Ongoing             36.0   \n\n  expiration_unit expirationdate  dispensation fill_quantity  dod  \n0           Hours            NaN     Bulk Item           NaN    0  \n1           Hours            NaN      OmniCell           NaN    0  \n2           Hours            NaN      OmniCell           NaN    0  \n3           Hours            NaN      OmniCell           NaN    0  \n4           Hours            NaN      OmniCell           NaN    0  \n\n[5 rows x 28 columns]",
      "text/html": "<div>\n<style scoped>\n    .dataframe tbody tr th:only-of-type {\n        vertical-align: middle;\n    }\n\n    .dataframe tbody tr th {\n        vertical-align: top;\n    }\n\n    .dataframe thead th {\n        text-align: right;\n    }\n</style>\n<table border=\"1\" class=\"dataframe\">\n  <thead>\n    <tr style=\"text-align: right;\">\n      <th></th>\n      <th>subject_id</th>\n      <th>hadm_id</th>\n      <th>pharmacy_id</th>\n      <th>poe_id</th>\n      <th>starttime</th>\n      <th>stoptime</th>\n      <th>medication</th>\n      <th>proc_type</th>\n      <th>status</th>\n      <th>entertime</th>\n      <th>...</th>\n      <th>one_hr_max</th>\n      <th>doses_per_24_hrs</th>\n      <th>duration</th>\n      <th>duration_interval</th>\n      <th>expiration_value</th>\n      <th>expiration_unit</th>\n      <th>expirationdate</th>\n      <th>dispensation</th>\n      <th>fill_quantity</th>\n      <th>dod</th>\n    </tr>\n  </thead>\n  <tbody>\n    <tr>\n      <th>0</th>\n      <td>12201410</td>\n      <td>20381641</td>\n      <td>44752634</td>\n      <td>12201410-176</td>\n      <td>2126-08-12 16:00:00</td>\n      <td>2126-08-13 15:00:00</td>\n      <td>0</td>\n      <td>Unit Dose</td>\n      <td>Discontinued via patient discharge</td>\n      <td>2126-08-12 15:36:40</td>\n      <td>...</td>\n      <td>NaN</td>\n      <td>NaN</td>\n      <td>NaN</td>\n      <td>Ongoing</td>\n      <td>36.0</td>\n      <td>Hours</td>\n      <td>NaN</td>\n      <td>Bulk Item</td>\n      <td>NaN</td>\n      <td>0</td>\n    </tr>\n    <tr>\n      <th>1</th>\n      <td>12201410</td>\n      <td>20381641</td>\n      <td>44610849</td>\n      <td>12201410-148</td>\n      <td>2126-08-12 18:00:00</td>\n      <td>2126-08-13 15:00:00</td>\n      <td>0</td>\n      <td>Unit Dose</td>\n      <td>Discontinued via patient discharge</td>\n      <td>2126-08-12 17:31:41</td>\n      <td>...</td>\n      <td>NaN</td>\n      <td>NaN</td>\n      <td>NaN</td>\n      <td>Ongoing</td>\n      <td>36.0</td>\n      <td>Hours</td>\n      <td>NaN</td>\n      <td>OmniCell</td>\n      <td>NaN</td>\n      <td>0</td>\n    </tr>\n    <tr>\n      <th>2</th>\n      <td>12201410</td>\n      <td>20381641</td>\n      <td>74650754</td>\n      <td>12201410-152</td>\n      <td>2126-08-12 10:00:00</td>\n      <td>2126-08-13 15:00:00</td>\n      <td>0</td>\n      <td>Unit Dose</td>\n      <td>Discontinued via patient discharge</td>\n      <td>2126-08-12 17:31:41</td>\n      <td>...</td>\n      <td>NaN</td>\n      <td>1.0</td>\n      <td>NaN</td>\n      <td>Ongoing</td>\n      <td>36.0</td>\n      <td>Hours</td>\n      <td>NaN</td>\n      <td>OmniCell</td>\n      <td>NaN</td>\n      <td>0</td>\n    </tr>\n    <tr>\n      <th>3</th>\n      <td>12201410</td>\n      <td>20381641</td>\n      <td>83563801</td>\n      <td>12201410-153</td>\n      <td>2126-08-12 10:00:00</td>\n      <td>2126-08-13 15:00:00</td>\n      <td>0</td>\n      <td>Unit Dose</td>\n      <td>Discontinued via patient discharge</td>\n      <td>2126-08-12 17:31:41</td>\n      <td>...</td>\n      <td>NaN</td>\n      <td>1.0</td>\n      <td>NaN</td>\n      <td>Ongoing</td>\n      <td>36.0</td>\n      <td>Hours</td>\n      <td>NaN</td>\n      <td>OmniCell</td>\n      <td>NaN</td>\n      <td>0</td>\n    </tr>\n    <tr>\n      <th>4</th>\n      <td>12201410</td>\n      <td>20381641</td>\n      <td>868580</td>\n      <td>12201410-154</td>\n      <td>2126-08-12 10:00:00</td>\n      <td>2126-08-13 15:00:00</td>\n      <td>0</td>\n      <td>Unit Dose</td>\n      <td>Discontinued via patient discharge</td>\n      <td>2126-08-12 17:31:41</td>\n      <td>...</td>\n      <td>NaN</td>\n      <td>1.0</td>\n      <td>NaN</td>\n      <td>Ongoing</td>\n      <td>36.0</td>\n      <td>Hours</td>\n      <td>NaN</td>\n      <td>OmniCell</td>\n      <td>NaN</td>\n      <td>0</td>\n    </tr>\n  </tbody>\n</table>\n<p>5 rows × 28 columns</p>\n</div>"
     },
     "metadata": {}
    }
   ],
   "source": [
    "display(dod_treated[1].head(5))\n",
    "display(dod_not_treated[0].head(5))"
   ]
  },
  {
   "cell_type": "code",
   "execution_count": 33,
   "metadata": {},
   "outputs": [
    {
     "output_type": "execute_result",
     "data": {
      "text/plain": [
       "Index(['subject_id', 'gender', 'anchor_age', 'anchor_year',\n",
       "       'anchor_year_group', 'dod', 'hadm_id', 'pharmacy_id', 'poe_id',\n",
       "       'starttime', 'stoptime', 'medication', 'proc_type', 'status',\n",
       "       'entertime', 'verifiedtime', 'route', 'frequency', 'disp_sched',\n",
       "       'infusion_type', 'sliding_scale', 'lockout_interval', 'basal_rate',\n",
       "       'one_hr_max', 'doses_per_24_hrs', 'duration', 'duration_interval',\n",
       "       'expiration_value', 'expiration_unit', 'expirationdate', 'dispensation',\n",
       "       'fill_quantity'],\n",
       "      dtype='object')"
      ]
     },
     "metadata": {},
     "execution_count": 33
    }
   ],
   "source": [
    "dod_treated[0].columns"
   ]
  },
  {
   "source": [
    "### Combine four dataframes into one master micro data"
   ],
   "cell_type": "markdown",
   "metadata": {}
  },
  {
   "cell_type": "code",
   "execution_count": 34,
   "metadata": {},
   "outputs": [],
   "source": [
    "microdf = pd.concat([dod_treated[0], dod_treated[1]])\n",
    "microdf = pd.concat([microdf, dod_not_treated[0]])\n",
    "microdf = pd.concat([microdf, dod_not_treated[1]])"
   ]
  },
  {
   "cell_type": "code",
   "execution_count": 35,
   "metadata": {},
   "outputs": [],
   "source": [
    "microdf[['medication']] = microdf[['medication']].astype(bool)"
   ]
  },
  {
   "cell_type": "code",
   "execution_count": 36,
   "metadata": {},
   "outputs": [
    {
     "output_type": "execute_result",
     "data": {
      "text/plain": [
       "0           True\n",
       "1           True\n",
       "2           True\n",
       "3           True\n",
       "4           True\n",
       "           ...  \n",
       "4199187    False\n",
       "4199188    False\n",
       "4199189    False\n",
       "4199190    False\n",
       "4199191    False\n",
       "Name: medication, Length: 10139277, dtype: bool"
      ]
     },
     "metadata": {},
     "execution_count": 36
    }
   ],
   "source": [
    "microdf['medication']"
   ]
  },
  {
   "cell_type": "code",
   "execution_count": 37,
   "metadata": {},
   "outputs": [],
   "source": [
    "# stop"
   ]
  },
  {
   "cell_type": "code",
   "execution_count": 100,
   "metadata": {},
   "outputs": [],
   "source": [
    "tempdf = microdf.sample(50000)"
   ]
  },
  {
   "cell_type": "code",
   "execution_count": 101,
   "metadata": {},
   "outputs": [],
   "source": [
    "# tempdf = tempdf[['gender', 'dod', 'medication']].reset_index(drop=True)\n",
    "tempdf = tempdf.reset_index(drop=True)"
   ]
  },
  {
   "cell_type": "code",
   "execution_count": 102,
   "metadata": {},
   "outputs": [
    {
     "output_type": "execute_result",
     "data": {
      "text/plain": [
       "       subject_id gender  anchor_age  anchor_year anchor_year_group  dod  \\\n",
       "0        16286648    NaN         NaN          NaN               NaN    1   \n",
       "1        11151938    NaN         NaN          NaN               NaN    0   \n",
       "2        15790932    NaN         NaN          NaN               NaN    0   \n",
       "3        15374189    NaN         NaN          NaN               NaN    0   \n",
       "4        19894790    NaN         NaN          NaN               NaN    0   \n",
       "...           ...    ...         ...          ...               ...  ...   \n",
       "49995    16151467    NaN         NaN          NaN               NaN    0   \n",
       "49996    15251725    NaN         NaN          NaN               NaN    1   \n",
       "49997    14028368    NaN         NaN          NaN               NaN    1   \n",
       "49998    11535886    NaN         NaN          NaN               NaN    1   \n",
       "49999    18606791    NaN         NaN          NaN               NaN    0   \n",
       "\n",
       "        hadm_id  pharmacy_id         poe_id            starttime  ...  \\\n",
       "0      27089181     23079391   16286648-282  2186-02-17 10:00:00  ...   \n",
       "1      25334129      6825142  11151938-1344  2158-10-16 20:00:00  ...   \n",
       "2      21167646     94749511    15790932-92  2113-04-17 17:00:00  ...   \n",
       "3      20817438     11866162    15374189-22  2164-05-11 10:00:00  ...   \n",
       "4      27933693     65909495   19894790-406  2140-09-11 14:00:00  ...   \n",
       "...         ...          ...            ...                  ...  ...   \n",
       "49995  26232518      3034750   16151467-451  2178-10-23 01:00:00  ...   \n",
       "49996  29931688     75746209    15251725-32  2110-07-22 07:00:00  ...   \n",
       "49997  28525642     97162754   14028368-329  2146-03-08 00:00:00  ...   \n",
       "49998  24504360     12918930   11535886-845  2177-03-02 22:00:00  ...   \n",
       "49999  25093615     28670700    18606791-32  2139-08-28 09:00:00  ...   \n",
       "\n",
       "      basal_rate  one_hr_max doses_per_24_hrs duration duration_interval  \\\n",
       "0            NaN         NaN              1.0      NaN           Ongoing   \n",
       "1            NaN         NaN              2.0      NaN           Ongoing   \n",
       "2            0.0         NaN              NaN      NaN           Ongoing   \n",
       "3            NaN         NaN              1.0      NaN           Ongoing   \n",
       "4            NaN         NaN              0.0      NaN           Ongoing   \n",
       "...          ...         ...              ...      ...               ...   \n",
       "49995        NaN         NaN              NaN      NaN           Ongoing   \n",
       "49996        NaN         NaN              1.0      1.0             Doses   \n",
       "49997        NaN         NaN              1.0      NaN           Ongoing   \n",
       "49998        NaN         NaN              1.0      NaN           Ongoing   \n",
       "49999        NaN         NaN              NaN      NaN           Ongoing   \n",
       "\n",
       "      expiration_value expiration_unit expirationdate dispensation  \\\n",
       "0                365.0            Days            NaN     Omnicell   \n",
       "1                 36.0           Hours            NaN     Omnicell   \n",
       "2                 36.0           Hours            NaN     OmniCell   \n",
       "3                 36.0           Hours            NaN     Omnicell   \n",
       "4                 36.0           Hours            NaN     Omnicell   \n",
       "...                ...             ...            ...          ...   \n",
       "49995             36.0           Hours            NaN     Omnicell   \n",
       "49996              NaN  Enter on Label            NaN     OmniCell   \n",
       "49997            365.0            Days            NaN     Omnicell   \n",
       "49998            365.0            Days            NaN     Omnicell   \n",
       "49999             36.0           Hours            NaN     OmniCell   \n",
       "\n",
       "      fill_quantity  \n",
       "0               NaN  \n",
       "1               NaN  \n",
       "2               NaN  \n",
       "3               NaN  \n",
       "4               NaN  \n",
       "...             ...  \n",
       "49995           NaN  \n",
       "49996           NaN  \n",
       "49997           NaN  \n",
       "49998           NaN  \n",
       "49999           NaN  \n",
       "\n",
       "[50000 rows x 32 columns]"
      ],
      "text/html": "<div>\n<style scoped>\n    .dataframe tbody tr th:only-of-type {\n        vertical-align: middle;\n    }\n\n    .dataframe tbody tr th {\n        vertical-align: top;\n    }\n\n    .dataframe thead th {\n        text-align: right;\n    }\n</style>\n<table border=\"1\" class=\"dataframe\">\n  <thead>\n    <tr style=\"text-align: right;\">\n      <th></th>\n      <th>subject_id</th>\n      <th>gender</th>\n      <th>anchor_age</th>\n      <th>anchor_year</th>\n      <th>anchor_year_group</th>\n      <th>dod</th>\n      <th>hadm_id</th>\n      <th>pharmacy_id</th>\n      <th>poe_id</th>\n      <th>starttime</th>\n      <th>...</th>\n      <th>basal_rate</th>\n      <th>one_hr_max</th>\n      <th>doses_per_24_hrs</th>\n      <th>duration</th>\n      <th>duration_interval</th>\n      <th>expiration_value</th>\n      <th>expiration_unit</th>\n      <th>expirationdate</th>\n      <th>dispensation</th>\n      <th>fill_quantity</th>\n    </tr>\n  </thead>\n  <tbody>\n    <tr>\n      <th>0</th>\n      <td>16286648</td>\n      <td>NaN</td>\n      <td>NaN</td>\n      <td>NaN</td>\n      <td>NaN</td>\n      <td>1</td>\n      <td>27089181</td>\n      <td>23079391</td>\n      <td>16286648-282</td>\n      <td>2186-02-17 10:00:00</td>\n      <td>...</td>\n      <td>NaN</td>\n      <td>NaN</td>\n      <td>1.0</td>\n      <td>NaN</td>\n      <td>Ongoing</td>\n      <td>365.0</td>\n      <td>Days</td>\n      <td>NaN</td>\n      <td>Omnicell</td>\n      <td>NaN</td>\n    </tr>\n    <tr>\n      <th>1</th>\n      <td>11151938</td>\n      <td>NaN</td>\n      <td>NaN</td>\n      <td>NaN</td>\n      <td>NaN</td>\n      <td>0</td>\n      <td>25334129</td>\n      <td>6825142</td>\n      <td>11151938-1344</td>\n      <td>2158-10-16 20:00:00</td>\n      <td>...</td>\n      <td>NaN</td>\n      <td>NaN</td>\n      <td>2.0</td>\n      <td>NaN</td>\n      <td>Ongoing</td>\n      <td>36.0</td>\n      <td>Hours</td>\n      <td>NaN</td>\n      <td>Omnicell</td>\n      <td>NaN</td>\n    </tr>\n    <tr>\n      <th>2</th>\n      <td>15790932</td>\n      <td>NaN</td>\n      <td>NaN</td>\n      <td>NaN</td>\n      <td>NaN</td>\n      <td>0</td>\n      <td>21167646</td>\n      <td>94749511</td>\n      <td>15790932-92</td>\n      <td>2113-04-17 17:00:00</td>\n      <td>...</td>\n      <td>0.0</td>\n      <td>NaN</td>\n      <td>NaN</td>\n      <td>NaN</td>\n      <td>Ongoing</td>\n      <td>36.0</td>\n      <td>Hours</td>\n      <td>NaN</td>\n      <td>OmniCell</td>\n      <td>NaN</td>\n    </tr>\n    <tr>\n      <th>3</th>\n      <td>15374189</td>\n      <td>NaN</td>\n      <td>NaN</td>\n      <td>NaN</td>\n      <td>NaN</td>\n      <td>0</td>\n      <td>20817438</td>\n      <td>11866162</td>\n      <td>15374189-22</td>\n      <td>2164-05-11 10:00:00</td>\n      <td>...</td>\n      <td>NaN</td>\n      <td>NaN</td>\n      <td>1.0</td>\n      <td>NaN</td>\n      <td>Ongoing</td>\n      <td>36.0</td>\n      <td>Hours</td>\n      <td>NaN</td>\n      <td>Omnicell</td>\n      <td>NaN</td>\n    </tr>\n    <tr>\n      <th>4</th>\n      <td>19894790</td>\n      <td>NaN</td>\n      <td>NaN</td>\n      <td>NaN</td>\n      <td>NaN</td>\n      <td>0</td>\n      <td>27933693</td>\n      <td>65909495</td>\n      <td>19894790-406</td>\n      <td>2140-09-11 14:00:00</td>\n      <td>...</td>\n      <td>NaN</td>\n      <td>NaN</td>\n      <td>0.0</td>\n      <td>NaN</td>\n      <td>Ongoing</td>\n      <td>36.0</td>\n      <td>Hours</td>\n      <td>NaN</td>\n      <td>Omnicell</td>\n      <td>NaN</td>\n    </tr>\n    <tr>\n      <th>...</th>\n      <td>...</td>\n      <td>...</td>\n      <td>...</td>\n      <td>...</td>\n      <td>...</td>\n      <td>...</td>\n      <td>...</td>\n      <td>...</td>\n      <td>...</td>\n      <td>...</td>\n      <td>...</td>\n      <td>...</td>\n      <td>...</td>\n      <td>...</td>\n      <td>...</td>\n      <td>...</td>\n      <td>...</td>\n      <td>...</td>\n      <td>...</td>\n      <td>...</td>\n      <td>...</td>\n    </tr>\n    <tr>\n      <th>49995</th>\n      <td>16151467</td>\n      <td>NaN</td>\n      <td>NaN</td>\n      <td>NaN</td>\n      <td>NaN</td>\n      <td>0</td>\n      <td>26232518</td>\n      <td>3034750</td>\n      <td>16151467-451</td>\n      <td>2178-10-23 01:00:00</td>\n      <td>...</td>\n      <td>NaN</td>\n      <td>NaN</td>\n      <td>NaN</td>\n      <td>NaN</td>\n      <td>Ongoing</td>\n      <td>36.0</td>\n      <td>Hours</td>\n      <td>NaN</td>\n      <td>Omnicell</td>\n      <td>NaN</td>\n    </tr>\n    <tr>\n      <th>49996</th>\n      <td>15251725</td>\n      <td>NaN</td>\n      <td>NaN</td>\n      <td>NaN</td>\n      <td>NaN</td>\n      <td>1</td>\n      <td>29931688</td>\n      <td>75746209</td>\n      <td>15251725-32</td>\n      <td>2110-07-22 07:00:00</td>\n      <td>...</td>\n      <td>NaN</td>\n      <td>NaN</td>\n      <td>1.0</td>\n      <td>1.0</td>\n      <td>Doses</td>\n      <td>NaN</td>\n      <td>Enter on Label</td>\n      <td>NaN</td>\n      <td>OmniCell</td>\n      <td>NaN</td>\n    </tr>\n    <tr>\n      <th>49997</th>\n      <td>14028368</td>\n      <td>NaN</td>\n      <td>NaN</td>\n      <td>NaN</td>\n      <td>NaN</td>\n      <td>1</td>\n      <td>28525642</td>\n      <td>97162754</td>\n      <td>14028368-329</td>\n      <td>2146-03-08 00:00:00</td>\n      <td>...</td>\n      <td>NaN</td>\n      <td>NaN</td>\n      <td>1.0</td>\n      <td>NaN</td>\n      <td>Ongoing</td>\n      <td>365.0</td>\n      <td>Days</td>\n      <td>NaN</td>\n      <td>Omnicell</td>\n      <td>NaN</td>\n    </tr>\n    <tr>\n      <th>49998</th>\n      <td>11535886</td>\n      <td>NaN</td>\n      <td>NaN</td>\n      <td>NaN</td>\n      <td>NaN</td>\n      <td>1</td>\n      <td>24504360</td>\n      <td>12918930</td>\n      <td>11535886-845</td>\n      <td>2177-03-02 22:00:00</td>\n      <td>...</td>\n      <td>NaN</td>\n      <td>NaN</td>\n      <td>1.0</td>\n      <td>NaN</td>\n      <td>Ongoing</td>\n      <td>365.0</td>\n      <td>Days</td>\n      <td>NaN</td>\n      <td>Omnicell</td>\n      <td>NaN</td>\n    </tr>\n    <tr>\n      <th>49999</th>\n      <td>18606791</td>\n      <td>NaN</td>\n      <td>NaN</td>\n      <td>NaN</td>\n      <td>NaN</td>\n      <td>0</td>\n      <td>25093615</td>\n      <td>28670700</td>\n      <td>18606791-32</td>\n      <td>2139-08-28 09:00:00</td>\n      <td>...</td>\n      <td>NaN</td>\n      <td>NaN</td>\n      <td>NaN</td>\n      <td>NaN</td>\n      <td>Ongoing</td>\n      <td>36.0</td>\n      <td>Hours</td>\n      <td>NaN</td>\n      <td>OmniCell</td>\n      <td>NaN</td>\n    </tr>\n  </tbody>\n</table>\n<p>50000 rows × 32 columns</p>\n</div>"
     },
     "metadata": {},
     "execution_count": 102
    }
   ],
   "source": [
    "tempdf"
   ]
  },
  {
   "cell_type": "code",
   "execution_count": 83,
   "metadata": {},
   "outputs": [],
   "source": [
    "# dag = {D [outcome,pos=\"1.400,1.621\"],\n",
    "# E [exposure,pos=\"-2.200,1.597\"],\n",
    "# E -> D\n",
    "# }"
   ]
  },
  {
   "cell_type": "code",
   "execution_count": 84,
   "metadata": {},
   "outputs": [],
   "source": [
    "# 'digraph {         treatment[label=\"Program Signup in month i\"];         pre_spends;         post_spends;         Z->treatment;         U[label=\"Unobserved Confounders\"];         pre_spends -> treatment;         treatment->post_spends;         signup_month->post_spends; signup_month->pre_spends;         signup_month->treatment;         U->treatment; U->pre_spends; U->post_spends;         }'"
   ]
  },
  {
   "cell_type": "code",
   "execution_count": 103,
   "metadata": {},
   "outputs": [],
   "source": [
    "SW = RWE.rwe_inference.showWhy(df=tempdf, treatment='medication', outcome='dod', common_causes='gender', graph=None)"
   ]
  },
  {
   "cell_type": "code",
   "execution_count": 104,
   "metadata": {},
   "outputs": [
    {
     "output_type": "stream",
     "name": "stdout",
     "text": [
      "Estimand type: nonparametric-ate\n\n### Estimand : 1\nEstimand name: backdoor\nEstimand expression:\n      d                               \n─────────────(Expectation(dod|gender))\nd[medication]                         \nEstimand assumption 1, Unconfoundedness: If U→{medication} and U→dod then P(dod|medication,gender,U) = P(dod|medication,gender)\n\n### Estimand : 2\nEstimand name: iv\nNo such variable found!\n\n### Estimand : 3\nEstimand name: frontdoor\nNo such variable found!\n\n"
     ]
    }
   ],
   "source": [
    "SW.dowhy_identify()"
   ]
  },
  {
   "cell_type": "code",
   "execution_count": 105,
   "metadata": {},
   "outputs": [
    {
     "output_type": "stream",
     "name": "stdout",
     "text": [
      "*** Causal Estimate ***\n\n## Identified estimand\nEstimand type: nonparametric-ate\n\n### Estimand : 1\nEstimand name: backdoor\nEstimand expression:\n      d                               \n─────────────(Expectation(dod|gender))\nd[medication]                         \nEstimand assumption 1, Unconfoundedness: If U→{medication} and U→dod then P(dod|medication,gender,U) = P(dod|medication,gender)\n\n## Realized estimand\nb: dod~medication+gender\nTarget units: att\n\n## Estimate\nMean value: 0.18333333333333332\n\n"
     ]
    }
   ],
   "source": [
    "SW.dowhy_estimate('psm', 'att')"
   ]
  },
  {
   "cell_type": "code",
   "execution_count": 107,
   "metadata": {},
   "outputs": [
    {
     "output_type": "stream",
     "name": "stdout",
     "text": [
      "binary_flip binary_flip\n",
      "Refute: Add a Random Common Cause\n",
      "Estimated effect:0.18333333333333332\n",
      "New effect:-0.6333333333333333\n",
      "\n",
      "Refute: Add an Unobserved Common Cause\n",
      "Estimated effect:0.18333333333333332\n",
      "New effect:0.36427320490367776\n",
      "\n",
      "Refute: Use a Placebo Treatment\n",
      "Estimated effect:0.18333333333333332\n",
      "New effect:0.4\n",
      "p value:0.0\n",
      "\n",
      "Refute: Use a subset of data\n",
      "Estimated effect:0.18333333333333332\n",
      "New effect:0.20026481297583582\n",
      "p value:0.010035980100274105\n",
      "\n"
     ]
    }
   ],
   "source": [
    "SW.dowhy_refute(linear=False)"
   ]
  },
  {
   "cell_type": "code",
   "execution_count": null,
   "metadata": {},
   "outputs": [],
   "source": []
  }
 ]
}