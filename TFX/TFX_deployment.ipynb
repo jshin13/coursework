{
 "cells": [
  {
   "cell_type": "markdown",
   "metadata": {},
   "source": [
    "## ML pipeline deployment using TFX\n",
    "To simulate a real world application of ML solution, I'm deploying a model using TFX"
   ]
  },
  {
   "cell_type": "markdown",
   "metadata": {},
   "source": [
    "According to Google: *“A TFX pipeline is a sequence of components that implement an ML pipeline which is specifically designed for scalable, high-performance machine learning tasks. That includes modeling, training, serving inference, and managing deployments to online, native mobile, and JavaScript targets.”*"
   ]
  },
  {
   "cell_type": "code",
   "execution_count": 1,
   "metadata": {},
   "outputs": [],
   "source": [
    "import pandas as pd"
   ]
  },
  {
   "cell_type": "code",
   "execution_count": 2,
   "metadata": {},
   "outputs": [
    {
     "name": "stdout",
     "output_type": "stream",
     "text": [
      "Tensorflow version: 2.8.0\n",
      "TFX version: 1.7.1\n"
     ]
    }
   ],
   "source": [
    "import tensorflow as tf\n",
    "print(f'Tensorflow version: {tf.__version__}')\n",
    "\n",
    "from tfx import v1 as tfx\n",
    "print(f'TFX version: {tfx.__version__}')"
   ]
  },
  {
   "cell_type": "code",
   "execution_count": 3,
   "metadata": {},
   "outputs": [],
   "source": [
    "import os\n",
    "\n",
    "PIPELINE_NAME = \"penguin-simple\"\n",
    "\n",
    "# Output directory to store artifacts generated from the pipeline.\n",
    "PIPELINE_ROOT = os.path.join('pipelines', PIPELINE_NAME)\n",
    "# Path to a SQLite DB file to use as an MLMD storage.\n",
    "METADATA_PATH = os.path.join('metadata', PIPELINE_NAME, 'metadata.db')\n",
    "# Output directory where created models from the pipeline will be exported.\n",
    "SERVING_MODEL_DIR = os.path.join('serving_model', PIPELINE_NAME)\n",
    "\n",
    "from absl import logging\n",
    "logging.set_verbosity(logging.INFO)  # Set default logging level."
   ]
  },
  {
   "cell_type": "code",
   "execution_count": 4,
   "metadata": {},
   "outputs": [
    {
     "data": {
      "text/plain": [
       "('C:\\\\Users\\\\jongm\\\\AppData\\\\Local\\\\Temp\\\\tfx-data43ty87jb\\\\data.csv',\n",
       " <http.client.HTTPMessage at 0x14fd879a070>)"
      ]
     },
     "execution_count": 4,
     "metadata": {},
     "output_type": "execute_result"
    }
   ],
   "source": [
    "import urllib.request\n",
    "import tempfile\n",
    "\n",
    "DATA_ROOT = tempfile.mkdtemp(prefix='tfx-data')  # Create a temporary directory.\n",
    "_data_url = 'https://raw.githubusercontent.com/tensorflow/tfx/master/tfx/examples/penguin/data/labelled/penguins_processed.csv'\n",
    "_data_filepath = os.path.join(DATA_ROOT, \"data.csv\")\n",
    "urllib.request.urlretrieve(_data_url, _data_filepath)"
   ]
  },
  {
   "cell_type": "markdown",
   "metadata": {},
   "source": [
    "### Data"
   ]
  },
  {
   "cell_type": "code",
   "execution_count": 5,
   "metadata": {},
   "outputs": [
    {
     "data": {
      "text/html": [
       "<div>\n",
       "<style scoped>\n",
       "    .dataframe tbody tr th:only-of-type {\n",
       "        vertical-align: middle;\n",
       "    }\n",
       "\n",
       "    .dataframe tbody tr th {\n",
       "        vertical-align: top;\n",
       "    }\n",
       "\n",
       "    .dataframe thead th {\n",
       "        text-align: right;\n",
       "    }\n",
       "</style>\n",
       "<table border=\"1\" class=\"dataframe\">\n",
       "  <thead>\n",
       "    <tr style=\"text-align: right;\">\n",
       "      <th></th>\n",
       "      <th>species</th>\n",
       "      <th>culmen_length_mm</th>\n",
       "      <th>culmen_depth_mm</th>\n",
       "      <th>flipper_length_mm</th>\n",
       "      <th>body_mass_g</th>\n",
       "    </tr>\n",
       "  </thead>\n",
       "  <tbody>\n",
       "    <tr>\n",
       "      <th>0</th>\n",
       "      <td>0</td>\n",
       "      <td>0.254545</td>\n",
       "      <td>0.666667</td>\n",
       "      <td>0.152542</td>\n",
       "      <td>0.291667</td>\n",
       "    </tr>\n",
       "    <tr>\n",
       "      <th>1</th>\n",
       "      <td>0</td>\n",
       "      <td>0.269091</td>\n",
       "      <td>0.511905</td>\n",
       "      <td>0.237288</td>\n",
       "      <td>0.305556</td>\n",
       "    </tr>\n",
       "    <tr>\n",
       "      <th>2</th>\n",
       "      <td>0</td>\n",
       "      <td>0.298182</td>\n",
       "      <td>0.583333</td>\n",
       "      <td>0.389831</td>\n",
       "      <td>0.152778</td>\n",
       "    </tr>\n",
       "    <tr>\n",
       "      <th>3</th>\n",
       "      <td>0</td>\n",
       "      <td>0.167273</td>\n",
       "      <td>0.738095</td>\n",
       "      <td>0.355932</td>\n",
       "      <td>0.208333</td>\n",
       "    </tr>\n",
       "    <tr>\n",
       "      <th>4</th>\n",
       "      <td>0</td>\n",
       "      <td>0.261818</td>\n",
       "      <td>0.892857</td>\n",
       "      <td>0.305085</td>\n",
       "      <td>0.263889</td>\n",
       "    </tr>\n",
       "  </tbody>\n",
       "</table>\n",
       "</div>"
      ],
      "text/plain": [
       "   species  culmen_length_mm  culmen_depth_mm  flipper_length_mm  body_mass_g\n",
       "0        0          0.254545         0.666667           0.152542     0.291667\n",
       "1        0          0.269091         0.511905           0.237288     0.305556\n",
       "2        0          0.298182         0.583333           0.389831     0.152778\n",
       "3        0          0.167273         0.738095           0.355932     0.208333\n",
       "4        0          0.261818         0.892857           0.305085     0.263889"
      ]
     },
     "execution_count": 5,
     "metadata": {},
     "output_type": "execute_result"
    }
   ],
   "source": [
    "pd.read_csv(_data_filepath).head()"
   ]
  },
  {
   "cell_type": "code",
   "execution_count": 16,
   "metadata": {},
   "outputs": [
    {
     "name": "stderr",
     "output_type": "stream",
     "text": [
      "WARNING:absl:InteractiveContext pipeline_root argument not provided: using temporary directory C:\\Users\\jongm\\AppData\\Local\\Temp\\tfx-interactive-2022-04-24T23_39_50.932119-95rjunaj as root for pipeline outputs.\n",
      "WARNING:absl:InteractiveContext metadata_connection_config not provided: using SQLite ML Metadata database at C:\\Users\\jongm\\AppData\\Local\\Temp\\tfx-interactive-2022-04-24T23_39_50.932119-95rjunaj\\metadata.sqlite.\n",
      "INFO:absl:Running driver for CsvExampleGen\n",
      "INFO:absl:MetadataStore with DB connection initialized\n",
      "INFO:absl:select span and version = (0, None)\n",
      "INFO:absl:latest span and version = (0, None)\n",
      "INFO:absl:Running executor for CsvExampleGen\n",
      "INFO:absl:Generating examples.\n",
      "WARNING:apache_beam.runners.interactive.interactive_environment:Dependencies required for Interactive Beam PCollection visualization are not available, please use: `pip install apache-beam[interactive]` to install necessary dependencies to enable all data visualization features.\n"
     ]
    },
    {
     "data": {
      "application/javascript": "\n        if (typeof window.interactive_beam_jquery == 'undefined') {\n          var jqueryScript = document.createElement('script');\n          jqueryScript.src = 'https://code.jquery.com/jquery-3.4.1.slim.min.js';\n          jqueryScript.type = 'text/javascript';\n          jqueryScript.onload = function() {\n            var datatableScript = document.createElement('script');\n            datatableScript.src = 'https://cdn.datatables.net/1.10.20/js/jquery.dataTables.min.js';\n            datatableScript.type = 'text/javascript';\n            datatableScript.onload = function() {\n              window.interactive_beam_jquery = jQuery.noConflict(true);\n              window.interactive_beam_jquery(document).ready(function($){\n                \n              });\n            }\n            document.head.appendChild(datatableScript);\n          };\n          document.head.appendChild(jqueryScript);\n        } else {\n          window.interactive_beam_jquery(document).ready(function($){\n            \n          });\n        }"
     },
     "metadata": {},
     "output_type": "display_data"
    },
    {
     "name": "stderr",
     "output_type": "stream",
     "text": [
      "INFO:absl:Processing input csv data C:\\Users\\jongm\\AppData\\Local\\Temp\\tfx-data43ty87jb\\data.csv\\* to TFExample.\n"
     ]
    },
    {
     "ename": "RuntimeError",
     "evalue": "Split pattern C:\\Users\\jongm\\AppData\\Local\\Temp\\tfx-data43ty87jb\\data.csv\\* does not match any files.",
     "output_type": "error",
     "traceback": [
      "\u001b[1;31m---------------------------------------------------------------------------\u001b[0m",
      "\u001b[1;31mRuntimeError\u001b[0m                              Traceback (most recent call last)",
      "\u001b[1;32mc:\\Users\\jongm\\Desktop\\temp_workspace\\global\\code_bucket\\ML\\TFX_deployment.ipynb Cell 9'\u001b[0m in \u001b[0;36m<cell line: 6>\u001b[1;34m()\u001b[0m\n\u001b[0;32m      <a href='vscode-notebook-cell:/c%3A/Users/jongm/Desktop/temp_workspace/global/code_bucket/ML/TFX_deployment.ipynb#ch0000018?line=2'>3</a>\u001b[0m context \u001b[39m=\u001b[39m InteractiveContext()\n\u001b[0;32m      <a href='vscode-notebook-cell:/c%3A/Users/jongm/Desktop/temp_workspace/global/code_bucket/ML/TFX_deployment.ipynb#ch0000018?line=4'>5</a>\u001b[0m example_gen \u001b[39m=\u001b[39m tfx\u001b[39m.\u001b[39mcomponents\u001b[39m.\u001b[39mCsvExampleGen(input_base\u001b[39m=\u001b[39m_data_filepath)\n\u001b[1;32m----> <a href='vscode-notebook-cell:/c%3A/Users/jongm/Desktop/temp_workspace/global/code_bucket/ML/TFX_deployment.ipynb#ch0000018?line=5'>6</a>\u001b[0m context\u001b[39m.\u001b[39;49mrun(example_gen, enable_cache\u001b[39m=\u001b[39;49m\u001b[39mTrue\u001b[39;49;00m)\n",
      "File \u001b[1;32mC:\\ProgramData\\Anaconda3\\envs\\main\\lib\\site-packages\\tfx\\orchestration\\experimental\\interactive\\interactive_context.py:63\u001b[0m, in \u001b[0;36mrequires_ipython.<locals>.run_if_ipython\u001b[1;34m(*args, **kwargs)\u001b[0m\n\u001b[0;32m     <a href='file:///c%3A/ProgramData/Anaconda3/envs/main/lib/site-packages/tfx/orchestration/experimental/interactive/interactive_context.py?line=58'>59</a>\u001b[0m \u001b[39m\"\"\"Invokes `fn` if called from IPython, otherwise just emits a warning.\"\"\"\u001b[39;00m\n\u001b[0;32m     <a href='file:///c%3A/ProgramData/Anaconda3/envs/main/lib/site-packages/tfx/orchestration/experimental/interactive/interactive_context.py?line=59'>60</a>\u001b[0m \u001b[39mif\u001b[39;00m \u001b[39mgetattr\u001b[39m(builtins, \u001b[39m'\u001b[39m\u001b[39m__IPYTHON__\u001b[39m\u001b[39m'\u001b[39m, \u001b[39mNone\u001b[39;00m):\n\u001b[0;32m     <a href='file:///c%3A/ProgramData/Anaconda3/envs/main/lib/site-packages/tfx/orchestration/experimental/interactive/interactive_context.py?line=60'>61</a>\u001b[0m   \u001b[39m# __IPYTHON__ variable is set by IPython, see\u001b[39;00m\n\u001b[0;32m     <a href='file:///c%3A/ProgramData/Anaconda3/envs/main/lib/site-packages/tfx/orchestration/experimental/interactive/interactive_context.py?line=61'>62</a>\u001b[0m   \u001b[39m# https://ipython.org/ipython-doc/rel-0.10.2/html/interactive/reference.html#embedding-ipython.\u001b[39;00m\n\u001b[1;32m---> <a href='file:///c%3A/ProgramData/Anaconda3/envs/main/lib/site-packages/tfx/orchestration/experimental/interactive/interactive_context.py?line=62'>63</a>\u001b[0m   \u001b[39mreturn\u001b[39;00m fn(\u001b[39m*\u001b[39;49margs, \u001b[39m*\u001b[39;49m\u001b[39m*\u001b[39;49mkwargs)\n\u001b[0;32m     <a href='file:///c%3A/ProgramData/Anaconda3/envs/main/lib/site-packages/tfx/orchestration/experimental/interactive/interactive_context.py?line=63'>64</a>\u001b[0m \u001b[39melse\u001b[39;00m:\n\u001b[0;32m     <a href='file:///c%3A/ProgramData/Anaconda3/envs/main/lib/site-packages/tfx/orchestration/experimental/interactive/interactive_context.py?line=64'>65</a>\u001b[0m   absl\u001b[39m.\u001b[39mlogging\u001b[39m.\u001b[39mwarning(\n\u001b[0;32m     <a href='file:///c%3A/ProgramData/Anaconda3/envs/main/lib/site-packages/tfx/orchestration/experimental/interactive/interactive_context.py?line=65'>66</a>\u001b[0m       \u001b[39m'\u001b[39m\u001b[39mMethod \u001b[39m\u001b[39m\"\u001b[39m\u001b[39m%s\u001b[39;00m\u001b[39m\"\u001b[39m\u001b[39m is a no-op when invoked outside of IPython.\u001b[39m\u001b[39m'\u001b[39m,\n\u001b[0;32m     <a href='file:///c%3A/ProgramData/Anaconda3/envs/main/lib/site-packages/tfx/orchestration/experimental/interactive/interactive_context.py?line=66'>67</a>\u001b[0m       fn\u001b[39m.\u001b[39m\u001b[39m__name__\u001b[39m)\n",
      "File \u001b[1;32mC:\\ProgramData\\Anaconda3\\envs\\main\\lib\\site-packages\\tfx\\orchestration\\experimental\\interactive\\interactive_context.py:183\u001b[0m, in \u001b[0;36mInteractiveContext.run\u001b[1;34m(self, component, enable_cache, beam_pipeline_args)\u001b[0m\n\u001b[0;32m    <a href='file:///c%3A/ProgramData/Anaconda3/envs/main/lib/site-packages/tfx/orchestration/experimental/interactive/interactive_context.py?line=178'>179</a>\u001b[0m   runner_label \u001b[39m=\u001b[39m \u001b[39m'\u001b[39m\u001b[39minteractivecontext\u001b[39m\u001b[39m'\u001b[39m\n\u001b[0;32m    <a href='file:///c%3A/ProgramData/Anaconda3/envs/main/lib/site-packages/tfx/orchestration/experimental/interactive/interactive_context.py?line=179'>180</a>\u001b[0m \u001b[39mwith\u001b[39;00m telemetry_utils\u001b[39m.\u001b[39mscoped_labels({\n\u001b[0;32m    <a href='file:///c%3A/ProgramData/Anaconda3/envs/main/lib/site-packages/tfx/orchestration/experimental/interactive/interactive_context.py?line=180'>181</a>\u001b[0m     telemetry_utils\u001b[39m.\u001b[39mLABEL_TFX_RUNNER: runner_label,\n\u001b[0;32m    <a href='file:///c%3A/ProgramData/Anaconda3/envs/main/lib/site-packages/tfx/orchestration/experimental/interactive/interactive_context.py?line=181'>182</a>\u001b[0m }):\n\u001b[1;32m--> <a href='file:///c%3A/ProgramData/Anaconda3/envs/main/lib/site-packages/tfx/orchestration/experimental/interactive/interactive_context.py?line=182'>183</a>\u001b[0m   execution_id \u001b[39m=\u001b[39m launcher\u001b[39m.\u001b[39;49mlaunch()\u001b[39m.\u001b[39mexecution_id\n\u001b[0;32m    <a href='file:///c%3A/ProgramData/Anaconda3/envs/main/lib/site-packages/tfx/orchestration/experimental/interactive/interactive_context.py?line=184'>185</a>\u001b[0m \u001b[39mreturn\u001b[39;00m execution_result\u001b[39m.\u001b[39mExecutionResult(\n\u001b[0;32m    <a href='file:///c%3A/ProgramData/Anaconda3/envs/main/lib/site-packages/tfx/orchestration/experimental/interactive/interactive_context.py?line=185'>186</a>\u001b[0m     component\u001b[39m=\u001b[39mcomponent, execution_id\u001b[39m=\u001b[39mexecution_id)\n",
      "File \u001b[1;32mC:\\ProgramData\\Anaconda3\\envs\\main\\lib\\site-packages\\tfx\\orchestration\\launcher\\base_component_launcher.py:200\u001b[0m, in \u001b[0;36mBaseComponentLauncher.launch\u001b[1;34m(self)\u001b[0m\n\u001b[0;32m    <a href='file:///c%3A/ProgramData/Anaconda3/envs/main/lib/site-packages/tfx/orchestration/launcher/base_component_launcher.py?line=194'>195</a>\u001b[0m   absl\u001b[39m.\u001b[39mlogging\u001b[39m.\u001b[39minfo(\u001b[39m'\u001b[39m\u001b[39mRunning executor for \u001b[39m\u001b[39m%s\u001b[39;00m\u001b[39m'\u001b[39m,\n\u001b[0;32m    <a href='file:///c%3A/ProgramData/Anaconda3/envs/main/lib/site-packages/tfx/orchestration/launcher/base_component_launcher.py?line=195'>196</a>\u001b[0m                     \u001b[39mself\u001b[39m\u001b[39m.\u001b[39m_component_info\u001b[39m.\u001b[39mcomponent_id)\n\u001b[0;32m    <a href='file:///c%3A/ProgramData/Anaconda3/envs/main/lib/site-packages/tfx/orchestration/launcher/base_component_launcher.py?line=196'>197</a>\u001b[0m   \u001b[39m# Make a deep copy for input_dict and exec_properties, because they should\u001b[39;00m\n\u001b[0;32m    <a href='file:///c%3A/ProgramData/Anaconda3/envs/main/lib/site-packages/tfx/orchestration/launcher/base_component_launcher.py?line=197'>198</a>\u001b[0m   \u001b[39m# be immutable in this context.\u001b[39;00m\n\u001b[0;32m    <a href='file:///c%3A/ProgramData/Anaconda3/envs/main/lib/site-packages/tfx/orchestration/launcher/base_component_launcher.py?line=198'>199</a>\u001b[0m   \u001b[39m# output_dict can still be changed, specifically properties.\u001b[39;00m\n\u001b[1;32m--> <a href='file:///c%3A/ProgramData/Anaconda3/envs/main/lib/site-packages/tfx/orchestration/launcher/base_component_launcher.py?line=199'>200</a>\u001b[0m   \u001b[39mself\u001b[39;49m\u001b[39m.\u001b[39;49m_run_executor(execution_decision\u001b[39m.\u001b[39;49mexecution_id,\n\u001b[0;32m    <a href='file:///c%3A/ProgramData/Anaconda3/envs/main/lib/site-packages/tfx/orchestration/launcher/base_component_launcher.py?line=200'>201</a>\u001b[0m                      copy\u001b[39m.\u001b[39;49mdeepcopy(execution_decision\u001b[39m.\u001b[39;49minput_dict),\n\u001b[0;32m    <a href='file:///c%3A/ProgramData/Anaconda3/envs/main/lib/site-packages/tfx/orchestration/launcher/base_component_launcher.py?line=201'>202</a>\u001b[0m                      execution_decision\u001b[39m.\u001b[39;49moutput_dict,\n\u001b[0;32m    <a href='file:///c%3A/ProgramData/Anaconda3/envs/main/lib/site-packages/tfx/orchestration/launcher/base_component_launcher.py?line=202'>203</a>\u001b[0m                      copy\u001b[39m.\u001b[39;49mdeepcopy(execution_decision\u001b[39m.\u001b[39;49mexec_properties))\n\u001b[0;32m    <a href='file:///c%3A/ProgramData/Anaconda3/envs/main/lib/site-packages/tfx/orchestration/launcher/base_component_launcher.py?line=204'>205</a>\u001b[0m absl\u001b[39m.\u001b[39mlogging\u001b[39m.\u001b[39minfo(\u001b[39m'\u001b[39m\u001b[39mRunning publisher for \u001b[39m\u001b[39m%s\u001b[39;00m\u001b[39m'\u001b[39m,\n\u001b[0;32m    <a href='file:///c%3A/ProgramData/Anaconda3/envs/main/lib/site-packages/tfx/orchestration/launcher/base_component_launcher.py?line=205'>206</a>\u001b[0m                   \u001b[39mself\u001b[39m\u001b[39m.\u001b[39m_component_info\u001b[39m.\u001b[39mcomponent_id)\n\u001b[0;32m    <a href='file:///c%3A/ProgramData/Anaconda3/envs/main/lib/site-packages/tfx/orchestration/launcher/base_component_launcher.py?line=206'>207</a>\u001b[0m \u001b[39mself\u001b[39m\u001b[39m.\u001b[39m_run_publisher(output_dict\u001b[39m=\u001b[39mexecution_decision\u001b[39m.\u001b[39moutput_dict)\n",
      "File \u001b[1;32mC:\\ProgramData\\Anaconda3\\envs\\main\\lib\\site-packages\\tfx\\orchestration\\launcher\\in_process_component_launcher.py:73\u001b[0m, in \u001b[0;36mInProcessComponentLauncher._run_executor\u001b[1;34m(self, execution_id, input_dict, output_dict, exec_properties)\u001b[0m\n\u001b[0;32m     <a href='file:///c%3A/ProgramData/Anaconda3/envs/main/lib/site-packages/tfx/orchestration/launcher/in_process_component_launcher.py?line=66'>67</a>\u001b[0m executor \u001b[39m=\u001b[39m executor_class_spec\u001b[39m.\u001b[39mexecutor_class(\n\u001b[0;32m     <a href='file:///c%3A/ProgramData/Anaconda3/envs/main/lib/site-packages/tfx/orchestration/launcher/in_process_component_launcher.py?line=67'>68</a>\u001b[0m     executor_context)  \u001b[39m# type: ignore\u001b[39;00m\n\u001b[0;32m     <a href='file:///c%3A/ProgramData/Anaconda3/envs/main/lib/site-packages/tfx/orchestration/launcher/in_process_component_launcher.py?line=69'>70</a>\u001b[0m \u001b[39m# Make a deep copy for input_dict and exec_properties, because they should\u001b[39;00m\n\u001b[0;32m     <a href='file:///c%3A/ProgramData/Anaconda3/envs/main/lib/site-packages/tfx/orchestration/launcher/in_process_component_launcher.py?line=70'>71</a>\u001b[0m \u001b[39m# be immutable in this context.\u001b[39;00m\n\u001b[0;32m     <a href='file:///c%3A/ProgramData/Anaconda3/envs/main/lib/site-packages/tfx/orchestration/launcher/in_process_component_launcher.py?line=71'>72</a>\u001b[0m \u001b[39m# output_dict can still be changed, specifically properties.\u001b[39;00m\n\u001b[1;32m---> <a href='file:///c%3A/ProgramData/Anaconda3/envs/main/lib/site-packages/tfx/orchestration/launcher/in_process_component_launcher.py?line=72'>73</a>\u001b[0m executor\u001b[39m.\u001b[39;49mDo(\n\u001b[0;32m     <a href='file:///c%3A/ProgramData/Anaconda3/envs/main/lib/site-packages/tfx/orchestration/launcher/in_process_component_launcher.py?line=73'>74</a>\u001b[0m     copy\u001b[39m.\u001b[39;49mdeepcopy(input_dict), output_dict, copy\u001b[39m.\u001b[39;49mdeepcopy(exec_properties))\n",
      "File \u001b[1;32mC:\\ProgramData\\Anaconda3\\envs\\main\\lib\\site-packages\\tfx\\components\\example_gen\\base_example_gen_executor.py:274\u001b[0m, in \u001b[0;36mBaseExampleGenExecutor.Do\u001b[1;34m(self, input_dict, output_dict, exec_properties)\u001b[0m\n\u001b[0;32m    <a href='file:///c%3A/ProgramData/Anaconda3/envs/main/lib/site-packages/tfx/components/example_gen/base_example_gen_executor.py?line=271'>272</a>\u001b[0m logging\u001b[39m.\u001b[39minfo(\u001b[39m'\u001b[39m\u001b[39mGenerating examples.\u001b[39m\u001b[39m'\u001b[39m)\n\u001b[0;32m    <a href='file:///c%3A/ProgramData/Anaconda3/envs/main/lib/site-packages/tfx/components/example_gen/base_example_gen_executor.py?line=272'>273</a>\u001b[0m \u001b[39mwith\u001b[39;00m \u001b[39mself\u001b[39m\u001b[39m.\u001b[39m_make_beam_pipeline() \u001b[39mas\u001b[39;00m pipeline:\n\u001b[1;32m--> <a href='file:///c%3A/ProgramData/Anaconda3/envs/main/lib/site-packages/tfx/components/example_gen/base_example_gen_executor.py?line=273'>274</a>\u001b[0m   example_splits \u001b[39m=\u001b[39m \u001b[39mself\u001b[39;49m\u001b[39m.\u001b[39;49mGenerateExamplesByBeam(pipeline, exec_properties)\n\u001b[0;32m    <a href='file:///c%3A/ProgramData/Anaconda3/envs/main/lib/site-packages/tfx/components/example_gen/base_example_gen_executor.py?line=275'>276</a>\u001b[0m   \u001b[39m# pylint: disable=expression-not-assigned, no-value-for-parameter\u001b[39;00m\n\u001b[0;32m    <a href='file:///c%3A/ProgramData/Anaconda3/envs/main/lib/site-packages/tfx/components/example_gen/base_example_gen_executor.py?line=276'>277</a>\u001b[0m   \u001b[39mfor\u001b[39;00m split_name, example_split \u001b[39min\u001b[39;00m example_splits\u001b[39m.\u001b[39mitems():\n",
      "File \u001b[1;32mC:\\ProgramData\\Anaconda3\\envs\\main\\lib\\site-packages\\tfx\\components\\example_gen\\base_example_gen_executor.py:196\u001b[0m, in \u001b[0;36mBaseExampleGenExecutor.GenerateExamplesByBeam\u001b[1;34m(self, pipeline, exec_properties)\u001b[0m\n\u001b[0;32m    <a href='file:///c%3A/ProgramData/Anaconda3/envs/main/lib/site-packages/tfx/components/example_gen/base_example_gen_executor.py?line=192'>193</a>\u001b[0m     total_buckets \u001b[39m+\u001b[39m\u001b[39m=\u001b[39m split\u001b[39m.\u001b[39mhash_buckets\n\u001b[0;32m    <a href='file:///c%3A/ProgramData/Anaconda3/envs/main/lib/site-packages/tfx/components/example_gen/base_example_gen_executor.py?line=193'>194</a>\u001b[0m     buckets\u001b[39m.\u001b[39mappend(total_buckets)\n\u001b[0;32m    <a href='file:///c%3A/ProgramData/Anaconda3/envs/main/lib/site-packages/tfx/components/example_gen/base_example_gen_executor.py?line=194'>195</a>\u001b[0m   example_splits \u001b[39m=\u001b[39m (\n\u001b[1;32m--> <a href='file:///c%3A/ProgramData/Anaconda3/envs/main/lib/site-packages/tfx/components/example_gen/base_example_gen_executor.py?line=195'>196</a>\u001b[0m       pipeline\n\u001b[0;32m    <a href='file:///c%3A/ProgramData/Anaconda3/envs/main/lib/site-packages/tfx/components/example_gen/base_example_gen_executor.py?line=196'>197</a>\u001b[0m       \u001b[39m|\u001b[39;49m \u001b[39m'\u001b[39;49m\u001b[39mInputToRecord\u001b[39;49m\u001b[39m'\u001b[39;49m \u001b[39m>>\u001b[39;49m\n\u001b[0;32m    <a href='file:///c%3A/ProgramData/Anaconda3/envs/main/lib/site-packages/tfx/components/example_gen/base_example_gen_executor.py?line=197'>198</a>\u001b[0m       \u001b[39m# pylint: disable=no-value-for-parameter\u001b[39;49;00m\n\u001b[0;32m    <a href='file:///c%3A/ProgramData/Anaconda3/envs/main/lib/site-packages/tfx/components/example_gen/base_example_gen_executor.py?line=198'>199</a>\u001b[0m       input_to_record(exec_properties, input_config\u001b[39m.\u001b[39;49msplits[\u001b[39m0\u001b[39;49m]\u001b[39m.\u001b[39;49mpattern)\n\u001b[0;32m    <a href='file:///c%3A/ProgramData/Anaconda3/envs/main/lib/site-packages/tfx/components/example_gen/base_example_gen_executor.py?line=199'>200</a>\u001b[0m       \u001b[39m|\u001b[39m \u001b[39m'\u001b[39m\u001b[39mSplitData\u001b[39m\u001b[39m'\u001b[39m \u001b[39m>>\u001b[39m beam\u001b[39m.\u001b[39mPartition(_PartitionFn, \u001b[39mlen\u001b[39m(buckets), buckets,\n\u001b[0;32m    <a href='file:///c%3A/ProgramData/Anaconda3/envs/main/lib/site-packages/tfx/components/example_gen/base_example_gen_executor.py?line=200'>201</a>\u001b[0m                                       output_config\u001b[39m.\u001b[39msplit_config))\n\u001b[0;32m    <a href='file:///c%3A/ProgramData/Anaconda3/envs/main/lib/site-packages/tfx/components/example_gen/base_example_gen_executor.py?line=201'>202</a>\u001b[0m \u001b[39melse\u001b[39;00m:\n\u001b[0;32m    <a href='file:///c%3A/ProgramData/Anaconda3/envs/main/lib/site-packages/tfx/components/example_gen/base_example_gen_executor.py?line=202'>203</a>\u001b[0m   \u001b[39m# Use input splits.\u001b[39;00m\n\u001b[0;32m    <a href='file:///c%3A/ProgramData/Anaconda3/envs/main/lib/site-packages/tfx/components/example_gen/base_example_gen_executor.py?line=203'>204</a>\u001b[0m   \u001b[39mfor\u001b[39;00m split \u001b[39min\u001b[39;00m input_config\u001b[39m.\u001b[39msplits:\n",
      "File \u001b[1;32mC:\\ProgramData\\Anaconda3\\envs\\main\\lib\\site-packages\\apache_beam\\transforms\\ptransform.py:1092\u001b[0m, in \u001b[0;36m_NamedPTransform.__ror__\u001b[1;34m(self, pvalueish, _unused)\u001b[0m\n\u001b[0;32m   <a href='file:///c%3A/ProgramData/Anaconda3/envs/main/lib/site-packages/apache_beam/transforms/ptransform.py?line=1090'>1091</a>\u001b[0m \u001b[39mdef\u001b[39;00m \u001b[39m__ror__\u001b[39m(\u001b[39mself\u001b[39m, pvalueish, _unused\u001b[39m=\u001b[39m\u001b[39mNone\u001b[39;00m):\n\u001b[1;32m-> <a href='file:///c%3A/ProgramData/Anaconda3/envs/main/lib/site-packages/apache_beam/transforms/ptransform.py?line=1091'>1092</a>\u001b[0m   \u001b[39mreturn\u001b[39;00m \u001b[39mself\u001b[39;49m\u001b[39m.\u001b[39;49mtransform\u001b[39m.\u001b[39;49m\u001b[39m__ror__\u001b[39;49m(pvalueish, \u001b[39mself\u001b[39;49m\u001b[39m.\u001b[39;49mlabel)\n",
      "File \u001b[1;32mC:\\ProgramData\\Anaconda3\\envs\\main\\lib\\site-packages\\apache_beam\\transforms\\ptransform.py:614\u001b[0m, in \u001b[0;36mPTransform.__ror__\u001b[1;34m(self, left, label)\u001b[0m\n\u001b[0;32m    <a href='file:///c%3A/ProgramData/Anaconda3/envs/main/lib/site-packages/apache_beam/transforms/ptransform.py?line=611'>612</a>\u001b[0m pvalueish \u001b[39m=\u001b[39m _SetInputPValues()\u001b[39m.\u001b[39mvisit(pvalueish, replacements)\n\u001b[0;32m    <a href='file:///c%3A/ProgramData/Anaconda3/envs/main/lib/site-packages/apache_beam/transforms/ptransform.py?line=612'>613</a>\u001b[0m \u001b[39mself\u001b[39m\u001b[39m.\u001b[39mpipeline \u001b[39m=\u001b[39m p\n\u001b[1;32m--> <a href='file:///c%3A/ProgramData/Anaconda3/envs/main/lib/site-packages/apache_beam/transforms/ptransform.py?line=613'>614</a>\u001b[0m result \u001b[39m=\u001b[39m p\u001b[39m.\u001b[39;49mapply(\u001b[39mself\u001b[39;49m, pvalueish, label)\n\u001b[0;32m    <a href='file:///c%3A/ProgramData/Anaconda3/envs/main/lib/site-packages/apache_beam/transforms/ptransform.py?line=614'>615</a>\u001b[0m \u001b[39mif\u001b[39;00m deferred:\n\u001b[0;32m    <a href='file:///c%3A/ProgramData/Anaconda3/envs/main/lib/site-packages/apache_beam/transforms/ptransform.py?line=615'>616</a>\u001b[0m   \u001b[39mreturn\u001b[39;00m result\n",
      "File \u001b[1;32mC:\\ProgramData\\Anaconda3\\envs\\main\\lib\\site-packages\\apache_beam\\pipeline.py:662\u001b[0m, in \u001b[0;36mPipeline.apply\u001b[1;34m(self, transform, pvalueish, label)\u001b[0m\n\u001b[0;32m    <a href='file:///c%3A/ProgramData/Anaconda3/envs/main/lib/site-packages/apache_beam/pipeline.py?line=659'>660</a>\u001b[0m \u001b[39mtry\u001b[39;00m:\n\u001b[0;32m    <a href='file:///c%3A/ProgramData/Anaconda3/envs/main/lib/site-packages/apache_beam/pipeline.py?line=660'>661</a>\u001b[0m   old_label, transform\u001b[39m.\u001b[39mlabel \u001b[39m=\u001b[39m transform\u001b[39m.\u001b[39mlabel, label\n\u001b[1;32m--> <a href='file:///c%3A/ProgramData/Anaconda3/envs/main/lib/site-packages/apache_beam/pipeline.py?line=661'>662</a>\u001b[0m   \u001b[39mreturn\u001b[39;00m \u001b[39mself\u001b[39;49m\u001b[39m.\u001b[39;49mapply(transform, pvalueish)\n\u001b[0;32m    <a href='file:///c%3A/ProgramData/Anaconda3/envs/main/lib/site-packages/apache_beam/pipeline.py?line=662'>663</a>\u001b[0m \u001b[39mfinally\u001b[39;00m:\n\u001b[0;32m    <a href='file:///c%3A/ProgramData/Anaconda3/envs/main/lib/site-packages/apache_beam/pipeline.py?line=663'>664</a>\u001b[0m   transform\u001b[39m.\u001b[39mlabel \u001b[39m=\u001b[39m old_label\n",
      "File \u001b[1;32mC:\\ProgramData\\Anaconda3\\envs\\main\\lib\\site-packages\\apache_beam\\pipeline.py:708\u001b[0m, in \u001b[0;36mPipeline.apply\u001b[1;34m(self, transform, pvalueish, label)\u001b[0m\n\u001b[0;32m    <a href='file:///c%3A/ProgramData/Anaconda3/envs/main/lib/site-packages/apache_beam/pipeline.py?line=704'>705</a>\u001b[0m \u001b[39mif\u001b[39;00m type_options\u001b[39m.\u001b[39mpipeline_type_check:\n\u001b[0;32m    <a href='file:///c%3A/ProgramData/Anaconda3/envs/main/lib/site-packages/apache_beam/pipeline.py?line=705'>706</a>\u001b[0m   transform\u001b[39m.\u001b[39mtype_check_inputs(pvalueish)\n\u001b[1;32m--> <a href='file:///c%3A/ProgramData/Anaconda3/envs/main/lib/site-packages/apache_beam/pipeline.py?line=707'>708</a>\u001b[0m pvalueish_result \u001b[39m=\u001b[39m \u001b[39mself\u001b[39;49m\u001b[39m.\u001b[39;49mrunner\u001b[39m.\u001b[39;49mapply(transform, pvalueish, \u001b[39mself\u001b[39;49m\u001b[39m.\u001b[39;49m_options)\n\u001b[0;32m    <a href='file:///c%3A/ProgramData/Anaconda3/envs/main/lib/site-packages/apache_beam/pipeline.py?line=709'>710</a>\u001b[0m \u001b[39mif\u001b[39;00m type_options \u001b[39mis\u001b[39;00m \u001b[39mnot\u001b[39;00m \u001b[39mNone\u001b[39;00m \u001b[39mand\u001b[39;00m type_options\u001b[39m.\u001b[39mpipeline_type_check:\n\u001b[0;32m    <a href='file:///c%3A/ProgramData/Anaconda3/envs/main/lib/site-packages/apache_beam/pipeline.py?line=710'>711</a>\u001b[0m   transform\u001b[39m.\u001b[39mtype_check_outputs(pvalueish_result)\n",
      "File \u001b[1;32mC:\\ProgramData\\Anaconda3\\envs\\main\\lib\\site-packages\\apache_beam\\runners\\runner.py:185\u001b[0m, in \u001b[0;36mPipelineRunner.apply\u001b[1;34m(self, transform, input, options)\u001b[0m\n\u001b[0;32m    <a href='file:///c%3A/ProgramData/Anaconda3/envs/main/lib/site-packages/apache_beam/runners/runner.py?line=182'>183</a>\u001b[0m   m \u001b[39m=\u001b[39m \u001b[39mgetattr\u001b[39m(\u001b[39mself\u001b[39m, \u001b[39m'\u001b[39m\u001b[39mapply_\u001b[39m\u001b[39m%s\u001b[39;00m\u001b[39m'\u001b[39m \u001b[39m%\u001b[39m \u001b[39mcls\u001b[39m\u001b[39m.\u001b[39m\u001b[39m__name__\u001b[39m, \u001b[39mNone\u001b[39;00m)\n\u001b[0;32m    <a href='file:///c%3A/ProgramData/Anaconda3/envs/main/lib/site-packages/apache_beam/runners/runner.py?line=183'>184</a>\u001b[0m   \u001b[39mif\u001b[39;00m m:\n\u001b[1;32m--> <a href='file:///c%3A/ProgramData/Anaconda3/envs/main/lib/site-packages/apache_beam/runners/runner.py?line=184'>185</a>\u001b[0m     \u001b[39mreturn\u001b[39;00m m(transform, \u001b[39minput\u001b[39;49m, options)\n\u001b[0;32m    <a href='file:///c%3A/ProgramData/Anaconda3/envs/main/lib/site-packages/apache_beam/runners/runner.py?line=185'>186</a>\u001b[0m \u001b[39mraise\u001b[39;00m \u001b[39mNotImplementedError\u001b[39;00m(\n\u001b[0;32m    <a href='file:///c%3A/ProgramData/Anaconda3/envs/main/lib/site-packages/apache_beam/runners/runner.py?line=186'>187</a>\u001b[0m     \u001b[39m'\u001b[39m\u001b[39mExecution of [\u001b[39m\u001b[39m%s\u001b[39;00m\u001b[39m] not implemented in runner \u001b[39m\u001b[39m%s\u001b[39;00m\u001b[39m.\u001b[39m\u001b[39m'\u001b[39m \u001b[39m%\u001b[39m (transform, \u001b[39mself\u001b[39m))\n",
      "File \u001b[1;32mC:\\ProgramData\\Anaconda3\\envs\\main\\lib\\site-packages\\apache_beam\\runners\\runner.py:215\u001b[0m, in \u001b[0;36mPipelineRunner.apply_PTransform\u001b[1;34m(self, transform, input, options)\u001b[0m\n\u001b[0;32m    <a href='file:///c%3A/ProgramData/Anaconda3/envs/main/lib/site-packages/apache_beam/runners/runner.py?line=212'>213</a>\u001b[0m \u001b[39mdef\u001b[39;00m \u001b[39mapply_PTransform\u001b[39m(\u001b[39mself\u001b[39m, transform, \u001b[39minput\u001b[39m, options):\n\u001b[0;32m    <a href='file:///c%3A/ProgramData/Anaconda3/envs/main/lib/site-packages/apache_beam/runners/runner.py?line=213'>214</a>\u001b[0m   \u001b[39m# The base case of apply is to call the transform's expand.\u001b[39;00m\n\u001b[1;32m--> <a href='file:///c%3A/ProgramData/Anaconda3/envs/main/lib/site-packages/apache_beam/runners/runner.py?line=214'>215</a>\u001b[0m   \u001b[39mreturn\u001b[39;00m transform\u001b[39m.\u001b[39;49mexpand(\u001b[39minput\u001b[39;49m)\n",
      "File \u001b[1;32mC:\\ProgramData\\Anaconda3\\envs\\main\\lib\\site-packages\\tfx\\components\\example_gen\\csv_example_gen\\executor.py:183\u001b[0m, in \u001b[0;36m_CsvToExample.expand\u001b[1;34m(self, pipeline)\u001b[0m\n\u001b[0;32m    <a href='file:///c%3A/ProgramData/Anaconda3/envs/main/lib/site-packages/tfx/components/example_gen/csv_example_gen/executor.py?line=180'>181</a>\u001b[0m csv_files \u001b[39m=\u001b[39m fileio\u001b[39m.\u001b[39mglob(\u001b[39mself\u001b[39m\u001b[39m.\u001b[39m_csv_pattern)\n\u001b[0;32m    <a href='file:///c%3A/ProgramData/Anaconda3/envs/main/lib/site-packages/tfx/components/example_gen/csv_example_gen/executor.py?line=181'>182</a>\u001b[0m \u001b[39mif\u001b[39;00m \u001b[39mnot\u001b[39;00m csv_files:\n\u001b[1;32m--> <a href='file:///c%3A/ProgramData/Anaconda3/envs/main/lib/site-packages/tfx/components/example_gen/csv_example_gen/executor.py?line=182'>183</a>\u001b[0m   \u001b[39mraise\u001b[39;00m \u001b[39mRuntimeError\u001b[39;00m(\u001b[39m'\u001b[39m\u001b[39mSplit pattern \u001b[39m\u001b[39m{}\u001b[39;00m\u001b[39m does not match any files.\u001b[39m\u001b[39m'\u001b[39m\u001b[39m.\u001b[39mformat(\n\u001b[0;32m    <a href='file:///c%3A/ProgramData/Anaconda3/envs/main/lib/site-packages/tfx/components/example_gen/csv_example_gen/executor.py?line=183'>184</a>\u001b[0m       \u001b[39mself\u001b[39m\u001b[39m.\u001b[39m_csv_pattern))\n\u001b[0;32m    <a href='file:///c%3A/ProgramData/Anaconda3/envs/main/lib/site-packages/tfx/components/example_gen/csv_example_gen/executor.py?line=185'>186</a>\u001b[0m column_names \u001b[39m=\u001b[39m io_utils\u001b[39m.\u001b[39mload_csv_column_names(csv_files[\u001b[39m0\u001b[39m])\n\u001b[0;32m    <a href='file:///c%3A/ProgramData/Anaconda3/envs/main/lib/site-packages/tfx/components/example_gen/csv_example_gen/executor.py?line=186'>187</a>\u001b[0m \u001b[39mfor\u001b[39;00m csv_file \u001b[39min\u001b[39;00m csv_files[\u001b[39m1\u001b[39m:]:\n",
      "\u001b[1;31mRuntimeError\u001b[0m: Split pattern C:\\Users\\jongm\\AppData\\Local\\Temp\\tfx-data43ty87jb\\data.csv\\* does not match any files."
     ]
    }
   ],
   "source": [
    "from tfx.orchestration.experimental.interactive.interactive_context import InteractiveContext\n",
    "\n",
    "context = InteractiveContext()\n",
    "\n",
    "example_gen = tfx.components.CsvExampleGen(input_base=_data_filepath)\n",
    "context.run(example_gen, enable_cache=True)"
   ]
  },
  {
   "cell_type": "code",
   "execution_count": 12,
   "metadata": {},
   "outputs": [
    {
     "ename": "ImportError",
     "evalue": "cannot import name 'dsl_utils' from 'tfx.utils' (C:\\ProgramData\\Anaconda3\\envs\\main\\lib\\site-packages\\tfx\\utils\\__init__.py)",
     "output_type": "error",
     "traceback": [
      "\u001b[1;31m---------------------------------------------------------------------------\u001b[0m",
      "\u001b[1;31mImportError\u001b[0m                               Traceback (most recent call last)",
      "\u001b[1;32mc:\\Users\\jongm\\Desktop\\temp_workspace\\global\\code_bucket\\ML\\TFX_deployment.ipynb Cell 9'\u001b[0m in \u001b[0;36m<cell line: 2>\u001b[1;34m()\u001b[0m\n\u001b[0;32m      <a href='vscode-notebook-cell:/c%3A/Users/jongm/Desktop/temp_workspace/global/code_bucket/ML/TFX_deployment.ipynb#ch0000016?line=0'>1</a>\u001b[0m \u001b[39mfrom\u001b[39;00m \u001b[39mtfx\u001b[39;00m\u001b[39m.\u001b[39;00m\u001b[39mcomponents\u001b[39;00m \u001b[39mimport\u001b[39;00m CsvExampleGen\n\u001b[1;32m----> <a href='vscode-notebook-cell:/c%3A/Users/jongm/Desktop/temp_workspace/global/code_bucket/ML/TFX_deployment.ipynb#ch0000016?line=1'>2</a>\u001b[0m \u001b[39mfrom\u001b[39;00m \u001b[39mtfx\u001b[39;00m\u001b[39m.\u001b[39;00m\u001b[39mutils\u001b[39;00m \u001b[39mimport\u001b[39;00m dsl_utils\n\u001b[0;32m      <a href='vscode-notebook-cell:/c%3A/Users/jongm/Desktop/temp_workspace/global/code_bucket/ML/TFX_deployment.ipynb#ch0000016?line=2'>3</a>\u001b[0m \u001b[39mfrom\u001b[39;00m \u001b[39mtfx\u001b[39;00m\u001b[39m.\u001b[39;00m\u001b[39mproto\u001b[39;00m \u001b[39mimport\u001b[39;00m example_gen_pb2\n\u001b[0;32m      <a href='vscode-notebook-cell:/c%3A/Users/jongm/Desktop/temp_workspace/global/code_bucket/ML/TFX_deployment.ipynb#ch0000016?line=4'>5</a>\u001b[0m output \u001b[39m=\u001b[39m example_gen_pb2\u001b[39m.\u001b[39mOutput(\n\u001b[0;32m      <a href='vscode-notebook-cell:/c%3A/Users/jongm/Desktop/temp_workspace/global/code_bucket/ML/TFX_deployment.ipynb#ch0000016?line=5'>6</a>\u001b[0m     split_config\u001b[39m=\u001b[39mexample_gen_pb2\u001b[39m.\u001b[39mSplitConfig(splits\u001b[39m=\u001b[39m[\n\u001b[0;32m      <a href='vscode-notebook-cell:/c%3A/Users/jongm/Desktop/temp_workspace/global/code_bucket/ML/TFX_deployment.ipynb#ch0000016?line=6'>7</a>\u001b[0m         example_gen_pb2\u001b[39m.\u001b[39mSplitConfig\u001b[39m.\u001b[39mSplit(name\u001b[39m=\u001b[39m\u001b[39m'\u001b[39m\u001b[39mtrain\u001b[39m\u001b[39m'\u001b[39m, hash_buckets\u001b[39m=\u001b[39m\u001b[39m8\u001b[39m),\n\u001b[1;32m   (...)\u001b[0m\n\u001b[0;32m     <a href='vscode-notebook-cell:/c%3A/Users/jongm/Desktop/temp_workspace/global/code_bucket/ML/TFX_deployment.ipynb#ch0000016?line=9'>10</a>\u001b[0m     ])\n\u001b[0;32m     <a href='vscode-notebook-cell:/c%3A/Users/jongm/Desktop/temp_workspace/global/code_bucket/ML/TFX_deployment.ipynb#ch0000016?line=10'>11</a>\u001b[0m )\n",
      "\u001b[1;31mImportError\u001b[0m: cannot import name 'dsl_utils' from 'tfx.utils' (C:\\ProgramData\\Anaconda3\\envs\\main\\lib\\site-packages\\tfx\\utils\\__init__.py)"
     ]
    }
   ],
   "source": [
    "from tfx.components import CsvExampleGen\n",
    "from tfx.utils import dsl_utils\n",
    "from tfx.proto import example_gen_pb2\n",
    "\n",
    "output = example_gen_pb2.Output(\n",
    "    split_config=example_gen_pb2.SplitConfig(splits=[\n",
    "        example_gen_pb2.SplitConfig.Split(name='train', hash_buckets=8),\n",
    "        example_gen_pb2.SplitConfig.Split(name='eval', hash_buckets=1),\n",
    "        example_gen_pb2.SplitConfig.Split(name='test', hash_buckets=1)\n",
    "    ])\n",
    ")\n",
    "\n",
    "examples = dsl_utils.external_input('data')\n",
    "example_gen = CsvExampleGen(input=examples, output_config=output)\n",
    "\n",
    "context.run(example_gen)"
   ]
  },
  {
   "cell_type": "code",
   "execution_count": 10,
   "metadata": {},
   "outputs": [
    {
     "data": {
      "text/plain": [
       "split_config {\n",
       "  splits {\n",
       "    name: \"train\"\n",
       "    hash_buckets: 8\n",
       "  }\n",
       "  splits {\n",
       "    name: \"eval\"\n",
       "    hash_buckets: 1\n",
       "  }\n",
       "  splits {\n",
       "    name: \"test\"\n",
       "    hash_buckets: 1\n",
       "  }\n",
       "}"
      ]
     },
     "execution_count": 10,
     "metadata": {},
     "output_type": "execute_result"
    }
   ],
   "source": [
    "output"
   ]
  },
  {
   "cell_type": "markdown",
   "metadata": {},
   "source": [
    "### Data Ingestion"
   ]
  },
  {
   "cell_type": "markdown",
   "metadata": {},
   "source": [
    "### Data Validation"
   ]
  },
  {
   "cell_type": "markdown",
   "metadata": {},
   "source": [
    "### Feature Engineering"
   ]
  },
  {
   "cell_type": "markdown",
   "metadata": {},
   "source": [
    "### Train Model"
   ]
  },
  {
   "cell_type": "markdown",
   "metadata": {},
   "source": [
    "### Validate Model"
   ]
  },
  {
   "cell_type": "markdown",
   "metadata": {},
   "source": [
    "### Push If Good"
   ]
  },
  {
   "cell_type": "markdown",
   "metadata": {},
   "source": [
    "### Serve Model"
   ]
  },
  {
   "cell_type": "code",
   "execution_count": null,
   "metadata": {},
   "outputs": [],
   "source": []
  }
 ],
 "metadata": {
  "interpreter": {
   "hash": "1ff857018db1273839ebdbc7b378c5b002cdeab4731f2fffc7c44484774be790"
  },
  "kernelspec": {
   "display_name": "Python 3",
   "language": "python",
   "name": "python3"
  },
  "language_info": {
   "codemirror_mode": {
    "name": "ipython",
    "version": 3
   },
   "file_extension": ".py",
   "mimetype": "text/x-python",
   "name": "python",
   "nbconvert_exporter": "python",
   "pygments_lexer": "ipython3",
   "version": "3.8.13"
  }
 },
 "nbformat": 4,
 "nbformat_minor": 2
}
