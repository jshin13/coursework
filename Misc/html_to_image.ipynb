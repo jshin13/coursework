{
 "cells": [
  {
   "cell_type": "markdown",
   "metadata": {},
   "source": [
    "#### Convenient barcode generator\n",
    "There was a request to mass generate barcodes in certain sequence. Also each barcode image needs to have corresponding id on the right side of the image. The following script makes a REST API calls to `cognex`, then modifies the iamge to meet the need."
   ]
  },
  {
   "cell_type": "code",
   "execution_count": 62,
   "metadata": {},
   "outputs": [],
   "source": [
    "import numpy as np\n",
    "import requests\n",
    "from PIL import Image, ImageDraw, ImageFont"
   ]
  },
  {
   "cell_type": "code",
   "execution_count": 98,
   "metadata": {},
   "outputs": [],
   "source": [
    "idx = np.arange(1010,1650,10)"
   ]
  },
  {
   "cell_type": "markdown",
   "metadata": {},
   "source": [
    "#### Original image load"
   ]
  },
  {
   "cell_type": "code",
   "execution_count": 99,
   "metadata": {},
   "outputs": [],
   "source": [
    "for i in idx:\n",
    "    r = requests.get(f\"https://www.cognex.com/api/Sitecore/Barcode/Get?data={i}&code=BCL_CODE128&width=300&imageType=JPG&foreColor=%23000000&backColor=%23FFFFFF&rotation=RotateNoneFlipNone\").content\n",
    "    with open(f'imgs/{i}.jpg', 'wb') as handler:\n",
    "        handler.write(r)"
   ]
  },
  {
   "cell_type": "code",
   "execution_count": 55,
   "metadata": {},
   "outputs": [
    {
     "data": {
      "text/plain": [
       "(500, 150)"
      ]
     },
     "execution_count": 55,
     "metadata": {},
     "output_type": "execute_result"
    }
   ],
   "source": [
    "new_im.size"
   ]
  },
  {
   "cell_type": "markdown",
   "metadata": {},
   "source": [
    "#### Final output"
   ]
  },
  {
   "cell_type": "code",
   "execution_count": 106,
   "metadata": {},
   "outputs": [],
   "source": [
    "factor = 0.9\n",
    "newsize = (int(170*factor),int(45*factor))\n",
    "\n",
    "for i,j,files in os.walk('imgs'):\n",
    "    for f in files:\n",
    "        im = Image.open(os.path.join(i,f))\n",
    "        \n",
    "        new_im = Image.new(im.mode, size = (im.size[0]+110, im.size[1]-20), color='white')\n",
    "        if int(f.split('.')[0]) < 1640:\n",
    "            new_im.paste(im, (0,0))\n",
    "        \n",
    "        font = ImageFont.truetype(r'C:\\Windows\\Fonts\\arial.ttf', 50) \n",
    "\n",
    "        if int(f.split('.')[0]) < 1640:\n",
    "            imm = ImageDraw.Draw(new_im)\n",
    "            imm.text((290,35), f\"{f.split('.')[0]}\", font=font, fill=(0,0,0))\n",
    "\n",
    "        new_im = new_im.resize(newsize)\n",
    "        new_im.save(os.path.join('convert',f))"
   ]
  }
 ],
 "metadata": {
  "kernelspec": {
   "display_name": "Python 3.8.13 ('main')",
   "language": "python",
   "name": "python3"
  },
  "language_info": {
   "codemirror_mode": {
    "name": "ipython",
    "version": 3
   },
   "file_extension": ".py",
   "mimetype": "text/x-python",
   "name": "python",
   "nbconvert_exporter": "python",
   "pygments_lexer": "ipython3",
   "version": "3.8.13"
  },
  "orig_nbformat": 4,
  "vscode": {
   "interpreter": {
    "hash": "5b3e9ff110fca189b640152dbca1582818d88c9c2a9ef25df7a407523fb4d550"
   }
  }
 },
 "nbformat": 4,
 "nbformat_minor": 2
}
