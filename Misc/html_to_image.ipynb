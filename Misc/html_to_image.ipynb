{
 "cells": [
  {
   "cell_type": "code",
   "execution_count": 20,
   "metadata": {},
   "outputs": [],
   "source": [
    "import numpy as np\n",
    "import requests\n",
    "from PIL import Image, ImageDraw"
   ]
  },
  {
   "cell_type": "code",
   "execution_count": 4,
   "metadata": {},
   "outputs": [],
   "source": [
    "idx = np.arange(1010,1640,10)"
   ]
  },
  {
   "cell_type": "code",
   "execution_count": 9,
   "metadata": {},
   "outputs": [],
   "source": [
    "for i in idx:\n",
    "    r = requests.get(f\"https://www.cognex.com/api/Sitecore/Barcode/Get?data={i}&code=BCL_CODE128&width=300&imageType=JPG&foreColor=%23000000&backColor=%23FFFFFF&rotation=RotateNoneFlipNone\").content\n",
    "    with open(f'imgs/{i}.jpg', 'wb') as handler:\n",
    "        handler.write(r)"
   ]
  },
  {
   "cell_type": "code",
   "execution_count": 35,
   "metadata": {},
   "outputs": [],
   "source": [
    "with Image.open('imgs/1600.jpg') as im:\n",
    "    new_im = Image.new(im.mode, size = (im.size[0]*2, im.size[1]+100))\n",
    "\n",
    "    new_im.putdata(im.getdata())\n",
    "\n",
    "    new_im.save('out.jpg')"
   ]
  },
  {
   "cell_type": "code",
   "execution_count": 27,
   "metadata": {},
   "outputs": [],
   "source": [
    "newsize = (170,60)\n",
    "\n",
    "for i,j,files in os.walk('imgs'):\n",
    "    for f in files:\n",
    "        im = Image.open(os.path.join(i,f))\n",
    "        im = im.resize(newsize)\n",
    "        imm = ImageDraw.Draw(im)\n",
    "        imm.text((150,40), f\"{i}\", fill=(255, 0, 0))\n",
    "        # im.show()\n",
    "        im.save(os.path.join('convert',f))"
   ]
  },
  {
   "cell_type": "code",
   "execution_count": null,
   "metadata": {},
   "outputs": [],
   "source": [
    "\n",
    "f\"<img src='https://www.cognex.com/api/Sitecore/Barcode/Get?data={i}&code=BCL_CODE128&width=300&imageType=JPG&foreColor=%23000000&backColor=%23FFFFFF&rotation=RotateNoneFlipNone' width=170 height=60/>\"\n",
    "\n"
   ]
  }
 ],
 "metadata": {
  "kernelspec": {
   "display_name": "Python 3.8.13 ('main')",
   "language": "python",
   "name": "python3"
  },
  "language_info": {
   "codemirror_mode": {
    "name": "ipython",
    "version": 3
   },
   "file_extension": ".py",
   "mimetype": "text/x-python",
   "name": "python",
   "nbconvert_exporter": "python",
   "pygments_lexer": "ipython3",
   "version": "3.8.13"
  },
  "orig_nbformat": 4,
  "vscode": {
   "interpreter": {
    "hash": "5b3e9ff110fca189b640152dbca1582818d88c9c2a9ef25df7a407523fb4d550"
   }
  }
 },
 "nbformat": 4,
 "nbformat_minor": 2
}
